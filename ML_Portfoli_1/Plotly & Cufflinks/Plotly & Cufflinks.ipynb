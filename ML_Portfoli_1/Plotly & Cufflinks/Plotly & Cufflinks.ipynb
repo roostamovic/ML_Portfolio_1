{
 "cells": [
  {
   "cell_type": "code",
   "execution_count": 6,
   "metadata": {},
   "outputs": [],
   "source": [
    "# START\n",
    "# This is Plotly and Cufflinks Project\n",
    "# Let's begin with importing libraires\n",
    "import numpy as np\n",
    "import pandas as pd"
   ]
  },
  {
   "cell_type": "code",
   "execution_count": 4,
   "metadata": {},
   "outputs": [],
   "source": [
    "import matplotlib.pyplot as plt\n",
    "import seaborn as sns"
   ]
  },
  {
   "cell_type": "code",
   "execution_count": 5,
   "metadata": {},
   "outputs": [],
   "source": [
    "%matplotlib inline"
   ]
  },
  {
   "cell_type": "code",
   "execution_count": 16,
   "metadata": {},
   "outputs": [],
   "source": [
    "import cufflinks as cf"
   ]
  },
  {
   "cell_type": "code",
   "execution_count": 17,
   "metadata": {},
   "outputs": [],
   "source": [
    "from plotly.offline import download_plotlyjs,init_notebook_mode,plot,iplot"
   ]
  },
  {
   "cell_type": "code",
   "execution_count": 18,
   "metadata": {},
   "outputs": [
    {
     "data": {
      "text/html": [
       "        <script type=\"text/javascript\">\n",
       "        window.PlotlyConfig = {MathJaxConfig: 'local'};\n",
       "        if (window.MathJax) {MathJax.Hub.Config({SVG: {font: \"STIX-Web\"}});}\n",
       "        if (typeof require !== 'undefined') {\n",
       "        require.undef(\"plotly\");\n",
       "        requirejs.config({\n",
       "            paths: {\n",
       "                'plotly': ['https://cdn.plot.ly/plotly-latest.min']\n",
       "            }\n",
       "        });\n",
       "        require(['plotly'], function(Plotly) {\n",
       "            window._Plotly = Plotly;\n",
       "        });\n",
       "        }\n",
       "        </script>\n",
       "        "
      ]
     },
     "metadata": {},
     "output_type": "display_data"
    }
   ],
   "source": [
    "init_notebook_mode(connected=True)"
   ]
  },
  {
   "cell_type": "code",
   "execution_count": 19,
   "metadata": {},
   "outputs": [
    {
     "data": {
      "text/html": [
       "        <script type=\"text/javascript\">\n",
       "        window.PlotlyConfig = {MathJaxConfig: 'local'};\n",
       "        if (window.MathJax) {MathJax.Hub.Config({SVG: {font: \"STIX-Web\"}});}\n",
       "        if (typeof require !== 'undefined') {\n",
       "        require.undef(\"plotly\");\n",
       "        requirejs.config({\n",
       "            paths: {\n",
       "                'plotly': ['https://cdn.plot.ly/plotly-latest.min']\n",
       "            }\n",
       "        });\n",
       "        require(['plotly'], function(Plotly) {\n",
       "            window._Plotly = Plotly;\n",
       "        });\n",
       "        }\n",
       "        </script>\n",
       "        "
      ]
     },
     "metadata": {},
     "output_type": "display_data"
    }
   ],
   "source": [
    "cf.go_offline()"
   ]
  },
  {
   "cell_type": "code",
   "execution_count": 11,
   "metadata": {},
   "outputs": [],
   "source": [
    "# Libraries have been imported\n",
    "# I need two DataFrame\n",
    "# Let's create the first df\n",
    "df1 = pd.DataFrame(np.random.randn(100,4),columns='A B C D'.split())"
   ]
  },
  {
   "cell_type": "code",
   "execution_count": 10,
   "metadata": {},
   "outputs": [
    {
     "data": {
      "text/html": [
       "<div>\n",
       "<style scoped>\n",
       "    .dataframe tbody tr th:only-of-type {\n",
       "        vertical-align: middle;\n",
       "    }\n",
       "\n",
       "    .dataframe tbody tr th {\n",
       "        vertical-align: top;\n",
       "    }\n",
       "\n",
       "    .dataframe thead th {\n",
       "        text-align: right;\n",
       "    }\n",
       "</style>\n",
       "<table border=\"1\" class=\"dataframe\">\n",
       "  <thead>\n",
       "    <tr style=\"text-align: right;\">\n",
       "      <th></th>\n",
       "      <th>A</th>\n",
       "      <th>B</th>\n",
       "      <th>C</th>\n",
       "      <th>D</th>\n",
       "    </tr>\n",
       "  </thead>\n",
       "  <tbody>\n",
       "    <tr>\n",
       "      <th>0</th>\n",
       "      <td>1.065503</td>\n",
       "      <td>-2.476152</td>\n",
       "      <td>0.167027</td>\n",
       "      <td>-1.624041</td>\n",
       "    </tr>\n",
       "    <tr>\n",
       "      <th>1</th>\n",
       "      <td>-0.942570</td>\n",
       "      <td>-1.026177</td>\n",
       "      <td>-1.748710</td>\n",
       "      <td>0.747560</td>\n",
       "    </tr>\n",
       "    <tr>\n",
       "      <th>2</th>\n",
       "      <td>0.231051</td>\n",
       "      <td>-0.824254</td>\n",
       "      <td>0.028307</td>\n",
       "      <td>1.430453</td>\n",
       "    </tr>\n",
       "    <tr>\n",
       "      <th>3</th>\n",
       "      <td>-0.437260</td>\n",
       "      <td>0.145861</td>\n",
       "      <td>0.732521</td>\n",
       "      <td>-0.636906</td>\n",
       "    </tr>\n",
       "    <tr>\n",
       "      <th>4</th>\n",
       "      <td>0.113485</td>\n",
       "      <td>-1.182008</td>\n",
       "      <td>-1.579151</td>\n",
       "      <td>0.974519</td>\n",
       "    </tr>\n",
       "  </tbody>\n",
       "</table>\n",
       "</div>"
      ],
      "text/plain": [
       "          A         B         C         D\n",
       "0  1.065503 -2.476152  0.167027 -1.624041\n",
       "1 -0.942570 -1.026177 -1.748710  0.747560\n",
       "2  0.231051 -0.824254  0.028307  1.430453\n",
       "3 -0.437260  0.145861  0.732521 -0.636906\n",
       "4  0.113485 -1.182008 -1.579151  0.974519"
      ]
     },
     "execution_count": 10,
     "metadata": {},
     "output_type": "execute_result"
    }
   ],
   "source": [
    "# I created my df1\n",
    "# Check its head\n",
    "df1.head()"
   ]
  },
  {
   "cell_type": "code",
   "execution_count": 12,
   "metadata": {},
   "outputs": [],
   "source": [
    "# Let's create the second one\n",
    "df2 = pd.DataFrame({'Category':['A','B','C'],'Value':[32,44,50]})"
   ]
  },
  {
   "cell_type": "code",
   "execution_count": 13,
   "metadata": {},
   "outputs": [
    {
     "data": {
      "text/html": [
       "<div>\n",
       "<style scoped>\n",
       "    .dataframe tbody tr th:only-of-type {\n",
       "        vertical-align: middle;\n",
       "    }\n",
       "\n",
       "    .dataframe tbody tr th {\n",
       "        vertical-align: top;\n",
       "    }\n",
       "\n",
       "    .dataframe thead th {\n",
       "        text-align: right;\n",
       "    }\n",
       "</style>\n",
       "<table border=\"1\" class=\"dataframe\">\n",
       "  <thead>\n",
       "    <tr style=\"text-align: right;\">\n",
       "      <th></th>\n",
       "      <th>Category</th>\n",
       "      <th>Value</th>\n",
       "    </tr>\n",
       "  </thead>\n",
       "  <tbody>\n",
       "    <tr>\n",
       "      <th>0</th>\n",
       "      <td>A</td>\n",
       "      <td>32</td>\n",
       "    </tr>\n",
       "    <tr>\n",
       "      <th>1</th>\n",
       "      <td>B</td>\n",
       "      <td>44</td>\n",
       "    </tr>\n",
       "    <tr>\n",
       "      <th>2</th>\n",
       "      <td>C</td>\n",
       "      <td>50</td>\n",
       "    </tr>\n",
       "  </tbody>\n",
       "</table>\n",
       "</div>"
      ],
      "text/plain": [
       "  Category  Value\n",
       "0        A     32\n",
       "1        B     44\n",
       "2        C     50"
      ]
     },
     "execution_count": 13,
     "metadata": {},
     "output_type": "execute_result"
    }
   ],
   "source": [
    "# Check it also\n",
    "df2"
   ]
  },
  {
   "cell_type": "code",
   "execution_count": 20,
   "metadata": {},
   "outputs": [
    {
     "data": {
      "text/plain": [
       "<matplotlib.axes._subplots.AxesSubplot at 0x2785361d3c8>"
      ]
     },
     "execution_count": 20,
     "metadata": {},
     "output_type": "execute_result"
    },
    {
     "data": {
      "image/png": "[encoded data removed]",
      "text/plain": [
       "<Figure size 432x288 with 1 Axes>"
      ]
     },
     "metadata": {
      "needs_background": "light"
     },
     "output_type": "display_data"
    }
   ],
   "source": [
    "# Now I will make df1's plot using matplotlib\n",
    "df1.plot()"
   ]
  },
  {
   "cell_type": "code",
   "execution_count": 21,
   "metadata": {},
   "outputs": [
    {
     "data": {
      "application/vnd.plotly.v1+json": {
       "config": {
        "linkText": "Export to plot.ly",
        "plotlyServerURL": "https://plot.ly",
        "showLink": true
       },
       "data": [
        {
         "line": {
          "color": "rgba(255, 153, 51, 1.0)",
          "dash": "solid",
          "shape": "linear",
          "width": 1.3
         },
         "mode": "lines",
         "name": "A",
         "text": "",
         "type": "scatter",
         "x": [
          0,
          1,
          2,
          3,
          4,
          5,
          6,
          7,
          8,
          9,
          10,
          11,
          12,
          13,
          14,
          15,
          16,
          17,
          18,
          19,
          20,
          21,
          22,
          23,
          24,
          25,
          26,
          27,
          28,
          29,
          30,
          31,
          32,
          33,
          34,
          35,
          36,
          37,
          38,
          39,
          40,
          41,
          42,
          43,
          44,
          45,
          46,
          47,
          48,
          49,
          50,
          51,
          52,
          53,
          54,
          55,
          56,
          57,
          58,
          59,
          60,
          61,
          62,
          63,
          64,
          65,
          66,
          67,
          68,
          69,
          70,
          71,
          72,
          73,
          74,
          75,
          76,
          77,
          78,
          79,
          80,
          81,
          82,
          83,
          84,
          85,
          86,
          87,
          88,
          89,
          90,
          91,
          92,
          93,
          94,
          95,
          96,
          97,
          98,
          99
         ],
         "y": [
          0.9143199744490959,
          -0.6646337852370073,
          -0.14147521428869275,
          -1.5332881680412882,
          -1.095065469170004,
          1.677545617427011,
          1.730306742135822,
          0.3093380042070924,
          1.998060812676102,
          0.2103320482242863,
          -0.36356967714317556,
          1.0009522053146767,
          0.069031037048522,
          -1.4132717659293934,
          1.4342602513904974,
          0.8667006663131418,
          -1.0896509582121268,
          1.3185707666281514,
          0.20761718693952874,
          0.03055838903094499,
          -1.3019172354325668,
          0.4190207620229179,
          0.21463294842463157,
          0.09415542101933022,
          1.102150756931986,
          0.08058368310676578,
          -0.31050578091790093,
          0.7280257375312584,
          -0.7333481572330972,
          0.7111147715815395,
          -0.4534409552547134,
          -0.8493772470868383,
          -2.3618289209284056,
          -1.0355419986958943,
          0.2209044604729675,
          -0.3097002156986558,
          -0.5008454017984665,
          -1.725024685517588,
          -0.19105729905583005,
          -1.3917398712550997,
          -1.373493523702723,
          -0.7176943975375174,
          -0.910332404713052,
          -0.45750099928699495,
          0.236834377371843,
          -1.15271654366376,
          -0.3053263890214957,
          -0.7228191803601534,
          0.22380614257506143,
          -0.893109542297301,
          1.731068296261119,
          -0.8905500303106749,
          -0.43770584584543254,
          1.8228947096849963,
          0.19474734000545416,
          -2.2678586134597416,
          0.7415931835889042,
          -0.45194179738729906,
          0.3167107937975542,
          -0.33618888669222596,
          -0.40957852624382124,
          -0.21251080743656847,
          -0.6478327795201284,
          -0.2506330234581966,
          -0.2388108275357814,
          -0.46447261046488947,
          2.1274922284409015,
          -0.6624602143894611,
          -1.1013961877761724,
          -0.10962658841460418,
          -1.939924292062804,
          -2.922615773741819,
          0.33732369348397273,
          -0.8879693301653936,
          -0.14203014646171108,
          1.8459848092411675,
          0.5451264788261765,
          1.5161798792278758,
          -0.060903470222706466,
          -0.5042434120396577,
          0.24087301804518244,
          1.3184761215231695,
          -0.5311236458104367,
          0.16904327084218684,
          0.21497691222184062,
          -0.04976420464178433,
          -1.2351738292265402,
          -0.09703656247737708,
          -0.813348632878989,
          1.6254085445113675,
          0.2712263240648343,
          -0.9212781749948205,
          -0.5547997988204424,
          -2.13583941926714,
          0.8471102598607632,
          -0.8076097650549745,
          -0.08764701901324923,
          0.19439248949118276,
          -0.6406087430595749,
          -0.38706169745440083
         ]
        },
        {
         "line": {
          "color": "rgba(55, 128, 191, 1.0)",
          "dash": "solid",
          "shape": "linear",
          "width": 1.3
         },
         "mode": "lines",
         "name": "B",
         "text": "",
         "type": "scatter",
         "x": [
          0,
          1,
          2,
          3,
          4,
          5,
          6,
          7,
          8,
          9,
          10,
          11,
          12,
          13,
          14,
          15,
          16,
          17,
          18,
          19,
          20,
          21,
          22,
          23,
          24,
          25,
          26,
          27,
          28,
          29,
          30,
          31,
          32,
          33,
          34,
          35,
          36,
          37,
          38,
          39,
          40,
          41,
          42,
          43,
          44,
          45,
          46,
          47,
          48,
          49,
          50,
          51,
          52,
          53,
          54,
          55,
          56,
          57,
          58,
          59,
          60,
          61,
          62,
          63,
          64,
          65,
          66,
          67,
          68,
          69,
          70,
          71,
          72,
          73,
          74,
          75,
          76,
          77,
          78,
          79,
          80,
          81,
          82,
          83,
          84,
          85,
          86,
          87,
          88,
          89,
          90,
          91,
          92,
          93,
          94,
          95,
          96,
          97,
          98,
          99
         ],
         "y": [
          -0.23939171593754066,
          1.1268411197192545,
          -1.3494357537123602,
          0.5790826278722518,
          -1.6485814860907217,
          -0.4527541104712093,
          1.003828728995732,
          2.4629808609275012,
          0.6481780198900731,
          0.8480004503529042,
          1.238274215824042,
          -1.5838329847047354,
          -1.112201772192512,
          -0.6024867614407695,
          0.8466419247834434,
          -0.9474768899447823,
          1.0164109375425812,
          0.7224996995791487,
          0.25526188409336287,
          -1.5944985447538833,
          1.2968499367294102,
          -0.6723930339014411,
          -0.01213068819246885,
          0.6227938934447875,
          0.5717022548249712,
          -0.014316792233143808,
          -1.0732103781329587,
          -0.8404810595395262,
          0.2336645366300528,
          0.4237291846096155,
          0.5999749812286985,
          1.6961952085118364,
          1.3471744408747899,
          -1.715648466013637,
          0.4600380064996352,
          1.6419150181459605,
          -0.9271759841966386,
          -1.2516473416661413,
          -1.3294348622170946,
          0.8959213927790316,
          -0.27533466214676466,
          -0.3126409180581469,
          -0.8317404737419754,
          1.5151023043356646,
          -0.6930803909206489,
          1.6523456021129082,
          1.578504660014399,
          -1.1664446833089916,
          -0.2971964754077405,
          0.4233156613856403,
          1.0288194448150627,
          0.28008396358724136,
          0.22395234888135715,
          -0.3595187644393644,
          -1.1128104757420167,
          0.2108557560623746,
          0.1730937703058691,
          -1.002813095857646,
          0.20443542821529617,
          -0.32360061868395795,
          -0.0049437503027825675,
          0.4926040526827179,
          -0.5413153600807233,
          0.5515721860289516,
          0.06040691278399967,
          -0.5472611575382201,
          0.3537214971536513,
          -1.2925223260945184,
          1.145071151118041,
          0.8930190003011235,
          0.3057895085475132,
          0.9317756573748759,
          -0.8888065487082335,
          -0.3934432175083188,
          -0.9939768245988979,
          0.3232829919486774,
          1.2214603832060258,
          1.2765046821598975,
          -0.1463325608537506,
          -0.9427533371257731,
          1.837623200388388,
          1.5274179871015077,
          -0.0360770137244279,
          -1.6323538127223398,
          2.353835729461377,
          -0.686303546670052,
          -0.2992019090265777,
          1.5943515851668304,
          2.202635036939589,
          -1.6742492772523072,
          -0.21031818763509,
          -0.8942974774765501,
          -0.31333360209211436,
          1.2511633577495769,
          -0.4532794052811933,
          -0.6713720923060141,
          -0.5342440383728624,
          -0.2513050584914812,
          -0.3440675829544576,
          0.15205058633631194
         ]
        },
        {
         "line": {
          "color": "rgba(50, 171, 96, 1.0)",
          "dash": "solid",
          "shape": "linear",
          "width": 1.3
         },
         "mode": "lines",
         "name": "C",
         "text": "",
         "type": "scatter",
         "x": [
          0,
          1,
          2,
          3,
          4,
          5,
          6,
          7,
          8,
          9,
          10,
          11,
          12,
          13,
          14,
          15,
          16,
          17,
          18,
          19,
          20,
          21,
          22,
          23,
          24,
          25,
          26,
          27,
          28,
          29,
          30,
          31,
          32,
          33,
          34,
          35,
          36,
          37,
          38,
          39,
          40,
          41,
          42,
          43,
          44,
          45,
          46,
          47,
          48,
          49,
          50,
          51,
          52,
          53,
          54,
          55,
          56,
          57,
          58,
          59,
          60,
          61,
          62,
          63,
          64,
          65,
          66,
          67,
          68,
          69,
          70,
          71,
          72,
          73,
          74,
          75,
          76,
          77,
          78,
          79,
          80,
          81,
          82,
          83,
          84,
          85,
          86,
          87,
          88,
          89,
          90,
          91,
          92,
          93,
          94,
          95,
          96,
          97,
          98,
          99
         ],
         "y": [
          0.08354900100561062,
          -1.1762581996119275,
          -1.2435112806675224,
          -1.887059240471436,
          0.7006286834815346,
          -1.9061106352891495,
          0.6291674616560248,
          1.9220280665934857,
          -0.786657577449106,
          0.21571696956647404,
          -2.3702209562160577,
          1.4736987526697354,
          1.9161205056930215,
          1.690217786783108,
          0.1439954287878712,
          -1.1242189560113145,
          0.6702282899323526,
          1.2354219426553452,
          -0.9041671473751495,
          0.5053921303645501,
          0.563585753843907,
          -0.7163857574214749,
          -0.31684732357771744,
          -0.6574388083538694,
          0.0893833354938422,
          -0.2826361660677943,
          -1.9987806201855272,
          -0.37674863584402596,
          -1.3060881065004344,
          -0.3027517335000185,
          0.5825576898045317,
          0.8336854041069438,
          -1.370201704557367,
          -0.9373461444876827,
          0.17459245291773834,
          -0.22463100775576927,
          1.0330145021293278,
          -0.09850966891247348,
          0.7241657584014993,
          0.955186621118631,
          0.30608394582456233,
          1.5290937481818527,
          1.8098797470602352,
          0.8004831296061153,
          -0.2049005448699173,
          -2.3947821795849777,
          -0.07853752764328854,
          -0.6262274431054563,
          0.340714345684504,
          2.488129484040648,
          -0.18717925397624124,
          1.7328852501534606,
          1.1791971840719817,
          0.5486183290215052,
          -0.5410032152697309,
          -1.0643380160389941,
          -0.09407993866674372,
          0.9707824657472518,
          0.17816660236085075,
          -0.5634385253507159,
          -0.23691031630929846,
          -0.09235744792732545,
          -1.014727424442866,
          1.2769322679573092,
          0.39528235325115546,
          0.5205175784522462,
          1.1273391744260934,
          -0.5193440530245592,
          0.3900684693755273,
          -0.08611140806629622,
          0.15689162023394052,
          -0.8835587758698809,
          -0.46014232276791744,
          0.14931404219831243,
          0.8491332074223944,
          0.26582503410631325,
          -0.683164247655124,
          2.614893977763737,
          -0.010015216452615229,
          0.5244924291444624,
          0.6261192572466824,
          1.1801381930457862,
          0.038182877979043586,
          -1.8737503117824383,
          -1.3928968411490805,
          0.14142517351328868,
          -1.126885241350718,
          -0.10089736521314253,
          -0.9560526698814561,
          0.6142824511208461,
          0.06367871376318736,
          0.8280087228360533,
          0.02747396446917433,
          -1.1406863737395154,
          -0.6416004832788077,
          1.8184649586581034,
          1.0195667145616782,
          0.7310713563273256,
          0.377044567827439,
          -1.5530084890071545
         ]
        },
        {
         "line": {
          "color": "rgba(128, 0, 128, 1.0)",
          "dash": "solid",
          "shape": "linear",
          "width": 1.3
         },
         "mode": "lines",
         "name": "D",
         "text": "",
         "type": "scatter",
         "x": [
          0,
          1,
          2,
          3,
          4,
          5,
          6,
          7,
          8,
          9,
          10,
          11,
          12,
          13,
          14,
          15,
          16,
          17,
          18,
          19,
          20,
          21,
          22,
          23,
          24,
          25,
          26,
          27,
          28,
          29,
          30,
          31,
          32,
          33,
          34,
          35,
          36,
          37,
          38,
          39,
          40,
          41,
          42,
          43,
          44,
          45,
          46,
          47,
          48,
          49,
          50,
          51,
          52,
          53,
          54,
          55,
          56,
          57,
          58,
          59,
          60,
          61,
          62,
          63,
          64,
          65,
          66,
          67,
          68,
          69,
          70,
          71,
          72,
          73,
          74,
          75,
          76,
          77,
          78,
          79,
          80,
          81,
          82,
          83,
          84,
          85,
          86,
          87,
          88,
          89,
          90,
          91,
          92,
          93,
          94,
          95,
          96,
          97,
          98,
          99
         ],
         "y": [
          1.422135659899816,
          -1.1498108111912997,
          1.0861764712918605,
          -1.1825999353003134,
          0.11291167561684437,
          -1.0403773845489095,
          -0.025311303993222997,
          -0.9472951140262564,
          -2.085462277032858,
          0.009440383763292946,
          1.541228845833113,
          1.2630573123308124,
          0.3384971276271273,
          0.5434655243051836,
          0.7308717669481943,
          -0.6242234349148293,
          1.0228550323490002,
          -0.5438852964735581,
          2.4160027779367375,
          3.272135005557643,
          -0.3568567890795237,
          0.15994644094538,
          -0.6987012157543981,
          1.119745589140762,
          1.9851435250178515,
          1.1393344005681445,
          -0.6696083799239421,
          -1.298623781345975,
          0.07535612656465497,
          0.12709289220993064,
          -0.7212795864169899,
          0.3952199747769614,
          1.1658279999083134,
          -0.4420981198456275,
          -0.2745229175409915,
          0.89942215949408,
          1.118380948719663,
          0.3877599766932124,
          -0.8087028166311288,
          1.487499229658045,
          1.5519149728740191,
          1.3694731873864372,
          1.601986147955227,
          -0.13506288444037565,
          -1.369375767137172,
          -0.21817419631025753,
          -1.0155003638394315,
          1.6066215420516388,
          0.45389069140254856,
          0.6902455540039308,
          0.7995790582998156,
          -2.3599156821347345,
          0.5293063314819895,
          -1.4610251333831956,
          1.3026442181984443,
          -0.8046014329971493,
          0.29243953047445476,
          0.841577786899802,
          0.3065013963290962,
          0.3772090998384718,
          0.26389718721088246,
          1.1213771584945638,
          -0.0697361329895187,
          1.9323489663601012,
          -0.37382569573594654,
          -0.14877895184285853,
          -0.32863546868738913,
          1.0510335931310077,
          1.547170980473415,
          0.05312708727660292,
          0.3904807269355301,
          0.7833833984916323,
          -0.9637414518257233,
          0.7958980874871708,
          1.3480148914094672,
          1.4117346038562641,
          0.18124988767705952,
          -0.5430602873278603,
          -1.5411723805123168,
          -0.32688513528921603,
          0.30380344321727615,
          -0.16493219681876425,
          -1.8370869260684919,
          0.5594449739751,
          -2.2846734450711814,
          -1.7171167755417092,
          1.403981871325172,
          -1.6008085255609552,
          -0.6031396996916586,
          1.2052437927666695,
          1.3674086396322755,
          -1.4283473858637892,
          -0.6545275752649825,
          1.1897801403354284,
          0.8072969646783367,
          0.9630428264620265,
          -0.2747773610557366,
          0.26035190527981555,
          0.44676722055910995,
          2.3965236116694966
         ]
        }
       ],
       "layout": {
        "legend": {
         "bgcolor": "#F5F6F9",
         "font": {
          "color": "#4D5663"
         }
        },
        "paper_bgcolor": "#F5F6F9",
        "plot_bgcolor": "#F5F6F9",
        "template": {
         "data": {
          "bar": [
           {
            "error_x": {
             "color": "#2a3f5f"
            },
            "error_y": {
             "color": "#2a3f5f"
            },
            "marker": {
             "line": {
              "color": "#E5ECF6",
              "width": 0.5
             }
            },
            "type": "bar"
           }
          ],
          "barpolar": [
           {
            "marker": {
             "line": {
              "color": "#E5ECF6",
              "width": 0.5
             }
            },
            "type": "barpolar"
           }
          ],
          "carpet": [
           {
            "aaxis": {
             "endlinecolor": "#2a3f5f",
             "gridcolor": "white",
             "linecolor": "white",
             "minorgridcolor": "white",
             "startlinecolor": "#2a3f5f"
            },
            "baxis": {
             "endlinecolor": "#2a3f5f",
             "gridcolor": "white",
             "linecolor": "white",
             "minorgridcolor": "white",
             "startlinecolor": "#2a3f5f"
            },
            "type": "carpet"
           }
          ],
          "choropleth": [
           {
            "colorbar": {
             "outlinewidth": 0,
             "ticks": ""
            },
            "type": "choropleth"
           }
          ],
          "contour": [
           {
            "colorbar": {
             "outlinewidth": 0,
             "ticks": ""
            },
            "colorscale": [
             [
              0,
              "#0d0887"
             ],
             [
              0.1111111111111111,
              "#46039f"
             ],
             [
              0.2222222222222222,
              "#7201a8"
             ],
             [
              0.3333333333333333,
              "#9c179e"
             ],
             [
              0.4444444444444444,
              "#bd3786"
             ],
             [
              0.5555555555555556,
              "#d8576b"
             ],
             [
              0.6666666666666666,
              "#ed7953"
             ],
             [
              0.7777777777777778,
              "#fb9f3a"
             ],
             [
              0.8888888888888888,
              "#fdca26"
             ],
             [
              1,
              "#f0f921"
             ]
            ],
            "type": "contour"
           }
          ],
          "contourcarpet": [
           {
            "colorbar": {
             "outlinewidth": 0,
             "ticks": ""
            },
            "type": "contourcarpet"
           }
          ],
          "heatmap": [
           {
            "colorbar": {
             "outlinewidth": 0,
             "ticks": ""
            },
            "colorscale": [
             [
              0,
              "#0d0887"
             ],
             [
              0.1111111111111111,
              "#46039f"
             ],
             [
              0.2222222222222222,
              "#7201a8"
             ],
             [
              0.3333333333333333,
              "#9c179e"
             ],
             [
              0.4444444444444444,
              "#bd3786"
             ],
             [
              0.5555555555555556,
              "#d8576b"
             ],
             [
              0.6666666666666666,
              "#ed7953"
             ],
             [
              0.7777777777777778,
              "#fb9f3a"
             ],
             [
              0.8888888888888888,
              "#fdca26"
             ],
             [
              1,
              "#f0f921"
             ]
            ],
            "type": "heatmap"
           }
          ],
          "heatmapgl": [
           {
            "colorbar": {
             "outlinewidth": 0,
             "ticks": ""
            },
            "colorscale": [
             [
              0,
              "#0d0887"
             ],
             [
              0.1111111111111111,
              "#46039f"
             ],
             [
              0.2222222222222222,
              "#7201a8"
             ],
             [
              0.3333333333333333,
              "#9c179e"
             ],
             [
              0.4444444444444444,
              "#bd3786"
             ],
             [
              0.5555555555555556,
              "#d8576b"
             ],
             [
              0.6666666666666666,
              "#ed7953"
             ],
             [
              0.7777777777777778,
              "#fb9f3a"
             ],
             [
              0.8888888888888888,
              "#fdca26"
             ],
             [
              1,
              "#f0f921"
             ]
            ],
            "type": "heatmapgl"
           }
          ],
          "histogram": [
           {
            "marker": {
             "colorbar": {
              "outlinewidth": 0,
              "ticks": ""
             }
            },
            "type": "histogram"
           }
          ],
          "histogram2d": [
           {
            "colorbar": {
             "outlinewidth": 0,
             "ticks": ""
            },
            "colorscale": [
             [
              0,
              "#0d0887"
             ],
             [
              0.1111111111111111,
              "#46039f"
             ],
             [
              0.2222222222222222,
              "#7201a8"
             ],
             [
              0.3333333333333333,
              "#9c179e"
             ],
             [
              0.4444444444444444,
              "#bd3786"
             ],
             [
              0.5555555555555556,
              "#d8576b"
             ],
             [
              0.6666666666666666,
              "#ed7953"
             ],
             [
              0.7777777777777778,
              "#fb9f3a"
             ],
             [
              0.8888888888888888,
              "#fdca26"
             ],
             [
              1,
              "#f0f921"
             ]
            ],
            "type": "histogram2d"
           }
          ],
          "histogram2dcontour": [
           {
            "colorbar": {
             "outlinewidth": 0,
             "ticks": ""
            },
            "colorscale": [
             [
              0,
              "#0d0887"
             ],
             [
              0.1111111111111111,
              "#46039f"
             ],
             [
              0.2222222222222222,
              "#7201a8"
             ],
             [
              0.3333333333333333,
              "#9c179e"
             ],
             [
              0.4444444444444444,
              "#bd3786"
             ],
             [
              0.5555555555555556,
              "#d8576b"
             ],
             [
              0.6666666666666666,
              "#ed7953"
             ],
             [
              0.7777777777777778,
              "#fb9f3a"
             ],
             [
              0.8888888888888888,
              "#fdca26"
             ],
             [
              1,
              "#f0f921"
             ]
            ],
            "type": "histogram2dcontour"
           }
          ],
          "mesh3d": [
           {
            "colorbar": {
             "outlinewidth": 0,
             "ticks": ""
            },
            "type": "mesh3d"
           }
          ],
          "parcoords": [
           {
            "line": {
             "colorbar": {
              "outlinewidth": 0,
              "ticks": ""
             }
            },
            "type": "parcoords"
           }
          ],
          "pie": [
           {
            "automargin": true,
            "type": "pie"
           }
          ],
          "scatter": [
           {
            "marker": {
             "colorbar": {
              "outlinewidth": 0,
              "ticks": ""
             }
            },
            "type": "scatter"
           }
          ],
          "scatter3d": [
           {
            "line": {
             "colorbar": {
              "outlinewidth": 0,
              "ticks": ""
             }
            },
            "marker": {
             "colorbar": {
              "outlinewidth": 0,
              "ticks": ""
             }
            },
            "type": "scatter3d"
           }
          ],
          "scattercarpet": [
           {
            "marker": {
             "colorbar": {
              "outlinewidth": 0,
              "ticks": ""
             }
            },
            "type": "scattercarpet"
           }
          ],
          "scattergeo": [
           {
            "marker": {
             "colorbar": {
              "outlinewidth": 0,
              "ticks": ""
             }
            },
            "type": "scattergeo"
           }
          ],
          "scattergl": [
           {
            "marker": {
             "colorbar": {
              "outlinewidth": 0,
              "ticks": ""
             }
            },
            "type": "scattergl"
           }
          ],
          "scattermapbox": [
           {
            "marker": {
             "colorbar": {
              "outlinewidth": 0,
              "ticks": ""
             }
            },
            "type": "scattermapbox"
           }
          ],
          "scatterpolar": [
           {
            "marker": {
             "colorbar": {
              "outlinewidth": 0,
              "ticks": ""
             }
            },
            "type": "scatterpolar"
           }
          ],
          "scatterpolargl": [
           {
            "marker": {
             "colorbar": {
              "outlinewidth": 0,
              "ticks": ""
             }
            },
            "type": "scatterpolargl"
           }
          ],
          "scatterternary": [
           {
            "marker": {
             "colorbar": {
              "outlinewidth": 0,
              "ticks": ""
             }
            },
            "type": "scatterternary"
           }
          ],
          "surface": [
           {
            "colorbar": {
             "outlinewidth": 0,
             "ticks": ""
            },
            "colorscale": [
             [
              0,
              "#0d0887"
             ],
             [
              0.1111111111111111,
              "#46039f"
             ],
             [
              0.2222222222222222,
              "#7201a8"
             ],
             [
              0.3333333333333333,
              "#9c179e"
             ],
             [
              0.4444444444444444,
              "#bd3786"
             ],
             [
              0.5555555555555556,
              "#d8576b"
             ],
             [
              0.6666666666666666,
              "#ed7953"
             ],
             [
              0.7777777777777778,
              "#fb9f3a"
             ],
             [
              0.8888888888888888,
              "#fdca26"
             ],
             [
              1,
              "#f0f921"
             ]
            ],
            "type": "surface"
           }
          ],
          "table": [
           {
            "cells": {
             "fill": {
              "color": "#EBF0F8"
             },
             "line": {
              "color": "white"
             }
            },
            "header": {
             "fill": {
              "color": "#C8D4E3"
             },
             "line": {
              "color": "white"
             }
            },
            "type": "table"
           }
          ]
         },
         "layout": {
          "annotationdefaults": {
           "arrowcolor": "#2a3f5f",
           "arrowhead": 0,
           "arrowwidth": 1
          },
          "coloraxis": {
           "colorbar": {
            "outlinewidth": 0,
            "ticks": ""
           }
          },
          "colorscale": {
           "diverging": [
            [
             0,
             "#8e0152"
            ],
            [
             0.1,
             "#c51b7d"
            ],
            [
             0.2,
             "#de77ae"
            ],
            [
             0.3,
             "#f1b6da"
            ],
            [
             0.4,
             "#fde0ef"
            ],
            [
             0.5,
             "#f7f7f7"
            ],
            [
             0.6,
             "#e6f5d0"
            ],
            [
             0.7,
             "#b8e186"
            ],
            [
             0.8,
             "#7fbc41"
            ],
            [
             0.9,
             "#4d9221"
            ],
            [
             1,
             "#276419"
            ]
           ],
           "sequential": [
            [
             0,
             "#0d0887"
            ],
            [
             0.1111111111111111,
             "#46039f"
            ],
            [
             0.2222222222222222,
             "#7201a8"
            ],
            [
             0.3333333333333333,
             "#9c179e"
            ],
            [
             0.4444444444444444,
             "#bd3786"
            ],
            [
             0.5555555555555556,
             "#d8576b"
            ],
            [
             0.6666666666666666,
             "#ed7953"
            ],
            [
             0.7777777777777778,
             "#fb9f3a"
            ],
            [
             0.8888888888888888,
             "#fdca26"
            ],
            [
             1,
             "#f0f921"
            ]
           ],
           "sequentialminus": [
            [
             0,
             "#0d0887"
            ],
            [
             0.1111111111111111,
             "#46039f"
            ],
            [
             0.2222222222222222,
             "#7201a8"
            ],
            [
             0.3333333333333333,
             "#9c179e"
            ],
            [
             0.4444444444444444,
             "#bd3786"
            ],
            [
             0.5555555555555556,
             "#d8576b"
            ],
            [
             0.6666666666666666,
             "#ed7953"
            ],
            [
             0.7777777777777778,
             "#fb9f3a"
            ],
            [
             0.8888888888888888,
             "#fdca26"
            ],
            [
             1,
             "#f0f921"
            ]
           ]
          },
          "colorway": [
           "#636efa",
           "#EF553B",
           "#00cc96",
           "#ab63fa",
           "#FFA15A",
           "#19d3f3",
           "#FF6692",
           "#B6E880",
           "#FF97FF",
           "#FECB52"
          ],
          "font": {
           "color": "#2a3f5f"
          },
          "geo": {
           "bgcolor": "white",
           "lakecolor": "white",
           "landcolor": "#E5ECF6",
           "showlakes": true,
           "showland": true,
           "subunitcolor": "white"
          },
          "hoverlabel": {
           "align": "left"
          },
          "hovermode": "closest",
          "mapbox": {
           "style": "light"
          },
          "paper_bgcolor": "white",
          "plot_bgcolor": "#E5ECF6",
          "polar": {
           "angularaxis": {
            "gridcolor": "white",
            "linecolor": "white",
            "ticks": ""
           },
           "bgcolor": "#E5ECF6",
           "radialaxis": {
            "gridcolor": "white",
            "linecolor": "white",
            "ticks": ""
           }
          },
          "scene": {
           "xaxis": {
            "backgroundcolor": "#E5ECF6",
            "gridcolor": "white",
            "gridwidth": 2,
            "linecolor": "white",
            "showbackground": true,
            "ticks": "",
            "zerolinecolor": "white"
           },
           "yaxis": {
            "backgroundcolor": "#E5ECF6",
            "gridcolor": "white",
            "gridwidth": 2,
            "linecolor": "white",
            "showbackground": true,
            "ticks": "",
            "zerolinecolor": "white"
           },
           "zaxis": {
            "backgroundcolor": "#E5ECF6",
            "gridcolor": "white",
            "gridwidth": 2,
            "linecolor": "white",
            "showbackground": true,
            "ticks": "",
            "zerolinecolor": "white"
           }
          },
          "shapedefaults": {
           "line": {
            "color": "#2a3f5f"
           }
          },
          "ternary": {
           "aaxis": {
            "gridcolor": "white",
            "linecolor": "white",
            "ticks": ""
           },
           "baxis": {
            "gridcolor": "white",
            "linecolor": "white",
            "ticks": ""
           },
           "bgcolor": "#E5ECF6",
           "caxis": {
            "gridcolor": "white",
            "linecolor": "white",
            "ticks": ""
           }
          },
          "title": {
           "x": 0.05
          },
          "xaxis": {
           "automargin": true,
           "gridcolor": "white",
           "linecolor": "white",
           "ticks": "",
           "title": {
            "standoff": 15
           },
           "zerolinecolor": "white",
           "zerolinewidth": 2
          },
          "yaxis": {
           "automargin": true,
           "gridcolor": "white",
           "linecolor": "white",
           "ticks": "",
           "title": {
            "standoff": 15
           },
           "zerolinecolor": "white",
           "zerolinewidth": 2
          }
         }
        },
        "title": {
         "font": {
          "color": "#4D5663"
         }
        },
        "xaxis": {
         "gridcolor": "#E1E5ED",
         "showgrid": true,
         "tickfont": {
          "color": "#4D5663"
         },
         "title": {
          "font": {
           "color": "#4D5663"
          },
          "text": ""
         },
         "zerolinecolor": "#E1E5ED"
        },
        "yaxis": {
         "gridcolor": "#E1E5ED",
         "showgrid": true,
         "tickfont": {
          "color": "#4D5663"
         },
         "title": {
          "font": {
           "color": "#4D5663"
          },
          "text": ""
         },
         "zerolinecolor": "#E1E5ED"
        }
       }
      },
      "text/html": [
       "<div>\n",
       "        \n",
       "        \n",
       "            <div id=\"14e14830-a681-4b2d-807a-34beb27f3540\" class=\"plotly-graph-div\" style=\"height:525px; width:100%;\"></div>\n",
       "            <script type=\"text/javascript\">\n",
       "                require([\"plotly\"], function(Plotly) {\n",
       "                    window.PLOTLYENV=window.PLOTLYENV || {};\n",
       "                    window.PLOTLYENV.BASE_URL='https://plot.ly';\n",
       "                    \n",
       "                if (document.getElementById(\"14e14830-a681-4b2d-807a-34beb27f3540\")) {\n",
       "                    Plotly.newPlot(\n",
       "                        '14e14830-a681-4b2d-807a-34beb27f3540',\n",
       "                        [{\"line\": {\"color\": \"rgba(255, 153, 51, 1.0)\", \"dash\": \"solid\", \"shape\": \"linear\", \"width\": 1.3}, \"mode\": \"lines\", \"name\": \"A\", \"text\": \"\", \"type\": \"scatter\", \"x\": [0, 1, 2, 3, 4, 5, 6, 7, 8, 9, 10, 11, 12, 13, 14, 15, 16, 17, 18, 19, 20, 21, 22, 23, 24, 25, 26, 27, 28, 29, 30, 31, 32, 33, 34, 35, 36, 37, 38, 39, 40, 41, 42, 43, 44, 45, 46, 47, 48, 49, 50, 51, 52, 53, 54, 55, 56, 57, 58, 59, 60, 61, 62, 63, 64, 65, 66, 67, 68, 69, 70, 71, 72, 73, 74, 75, 76, 77, 78, 79, 80, 81, 82, 83, 84, 85, 86, 87, 88, 89, 90, 91, 92, 93, 94, 95, 96, 97, 98, 99], \"y\": [0.9143199744490959, -0.6646337852370073, -0.14147521428869275, -1.5332881680412882, -1.095065469170004, 1.677545617427011, 1.730306742135822, 0.3093380042070924, 1.998060812676102, 0.2103320482242863, -0.36356967714317556, 1.0009522053146767, 0.069031037048522, -1.4132717659293934, 1.4342602513904974, 0.8667006663131418, -1.0896509582121268, 1.3185707666281514, 0.20761718693952874, 0.03055838903094499, -1.3019172354325668, 0.4190207620229179, 0.21463294842463157, 0.09415542101933022, 1.102150756931986, 0.08058368310676578, -0.31050578091790093, 0.7280257375312584, -0.7333481572330972, 0.7111147715815395, -0.4534409552547134, -0.8493772470868383, -2.3618289209284056, -1.0355419986958943, 0.2209044604729675, -0.3097002156986558, -0.5008454017984665, -1.725024685517588, -0.19105729905583005, -1.3917398712550997, -1.373493523702723, -0.7176943975375174, -0.910332404713052, -0.45750099928699495, 0.236834377371843, -1.15271654366376, -0.3053263890214957, -0.7228191803601534, 0.22380614257506143, -0.893109542297301, 1.731068296261119, -0.8905500303106749, -0.43770584584543254, 1.8228947096849963, 0.19474734000545416, -2.2678586134597416, 0.7415931835889042, -0.45194179738729906, 0.3167107937975542, -0.33618888669222596, -0.40957852624382124, -0.21251080743656847, -0.6478327795201284, -0.2506330234581966, -0.2388108275357814, -0.46447261046488947, 2.1274922284409015, -0.6624602143894611, -1.1013961877761724, -0.10962658841460418, -1.939924292062804, -2.922615773741819, 0.33732369348397273, -0.8879693301653936, -0.14203014646171108, 1.8459848092411675, 0.5451264788261765, 1.5161798792278758, -0.060903470222706466, -0.5042434120396577, 0.24087301804518244, 1.3184761215231695, -0.5311236458104367, 0.16904327084218684, 0.21497691222184062, -0.04976420464178433, -1.2351738292265402, -0.09703656247737708, -0.813348632878989, 1.6254085445113675, 0.2712263240648343, -0.9212781749948205, -0.5547997988204424, -2.13583941926714, 0.8471102598607632, -0.8076097650549745, -0.08764701901324923, 0.19439248949118276, -0.6406087430595749, -0.38706169745440083]}, {\"line\": {\"color\": \"rgba(55, 128, 191, 1.0)\", \"dash\": \"solid\", \"shape\": \"linear\", \"width\": 1.3}, \"mode\": \"lines\", \"name\": \"B\", \"text\": \"\", \"type\": \"scatter\", \"x\": [0, 1, 2, 3, 4, 5, 6, 7, 8, 9, 10, 11, 12, 13, 14, 15, 16, 17, 18, 19, 20, 21, 22, 23, 24, 25, 26, 27, 28, 29, 30, 31, 32, 33, 34, 35, 36, 37, 38, 39, 40, 41, 42, 43, 44, 45, 46, 47, 48, 49, 50, 51, 52, 53, 54, 55, 56, 57, 58, 59, 60, 61, 62, 63, 64, 65, 66, 67, 68, 69, 70, 71, 72, 73, 74, 75, 76, 77, 78, 79, 80, 81, 82, 83, 84, 85, 86, 87, 88, 89, 90, 91, 92, 93, 94, 95, 96, 97, 98, 99], \"y\": [-0.23939171593754066, 1.1268411197192545, -1.3494357537123602, 0.5790826278722518, -1.6485814860907217, -0.4527541104712093, 1.003828728995732, 2.4629808609275012, 0.6481780198900731, 0.8480004503529042, 1.238274215824042, -1.5838329847047354, -1.112201772192512, -0.6024867614407695, 0.8466419247834434, -0.9474768899447823, 1.0164109375425812, 0.7224996995791487, 0.25526188409336287, -1.5944985447538833, 1.2968499367294102, -0.6723930339014411, -0.01213068819246885, 0.6227938934447875, 0.5717022548249712, -0.014316792233143808, -1.0732103781329587, -0.8404810595395262, 0.2336645366300528, 0.4237291846096155, 0.5999749812286985, 1.6961952085118364, 1.3471744408747899, -1.715648466013637, 0.4600380064996352, 1.6419150181459605, -0.9271759841966386, -1.2516473416661413, -1.3294348622170946, 0.8959213927790316, -0.27533466214676466, -0.3126409180581469, -0.8317404737419754, 1.5151023043356646, -0.6930803909206489, 1.6523456021129082, 1.578504660014399, -1.1664446833089916, -0.2971964754077405, 0.4233156613856403, 1.0288194448150627, 0.28008396358724136, 0.22395234888135715, -0.3595187644393644, -1.1128104757420167, 0.2108557560623746, 0.1730937703058691, -1.002813095857646, 0.20443542821529617, -0.32360061868395795, -0.0049437503027825675, 0.4926040526827179, -0.5413153600807233, 0.5515721860289516, 0.06040691278399967, -0.5472611575382201, 0.3537214971536513, -1.2925223260945184, 1.145071151118041, 0.8930190003011235, 0.3057895085475132, 0.9317756573748759, -0.8888065487082335, -0.3934432175083188, -0.9939768245988979, 0.3232829919486774, 1.2214603832060258, 1.2765046821598975, -0.1463325608537506, -0.9427533371257731, 1.837623200388388, 1.5274179871015077, -0.0360770137244279, -1.6323538127223398, 2.353835729461377, -0.686303546670052, -0.2992019090265777, 1.5943515851668304, 2.202635036939589, -1.6742492772523072, -0.21031818763509, -0.8942974774765501, -0.31333360209211436, 1.2511633577495769, -0.4532794052811933, -0.6713720923060141, -0.5342440383728624, -0.2513050584914812, -0.3440675829544576, 0.15205058633631194]}, {\"line\": {\"color\": \"rgba(50, 171, 96, 1.0)\", \"dash\": \"solid\", \"shape\": \"linear\", \"width\": 1.3}, \"mode\": \"lines\", \"name\": \"C\", \"text\": \"\", \"type\": \"scatter\", \"x\": [0, 1, 2, 3, 4, 5, 6, 7, 8, 9, 10, 11, 12, 13, 14, 15, 16, 17, 18, 19, 20, 21, 22, 23, 24, 25, 26, 27, 28, 29, 30, 31, 32, 33, 34, 35, 36, 37, 38, 39, 40, 41, 42, 43, 44, 45, 46, 47, 48, 49, 50, 51, 52, 53, 54, 55, 56, 57, 58, 59, 60, 61, 62, 63, 64, 65, 66, 67, 68, 69, 70, 71, 72, 73, 74, 75, 76, 77, 78, 79, 80, 81, 82, 83, 84, 85, 86, 87, 88, 89, 90, 91, 92, 93, 94, 95, 96, 97, 98, 99], \"y\": [0.08354900100561062, -1.1762581996119275, -1.2435112806675224, -1.887059240471436, 0.7006286834815346, -1.9061106352891495, 0.6291674616560248, 1.9220280665934857, -0.786657577449106, 0.21571696956647404, -2.3702209562160577, 1.4736987526697354, 1.9161205056930215, 1.690217786783108, 0.1439954287878712, -1.1242189560113145, 0.6702282899323526, 1.2354219426553452, -0.9041671473751495, 0.5053921303645501, 0.563585753843907, -0.7163857574214749, -0.31684732357771744, -0.6574388083538694, 0.0893833354938422, -0.2826361660677943, -1.9987806201855272, -0.37674863584402596, -1.3060881065004344, -0.3027517335000185, 0.5825576898045317, 0.8336854041069438, -1.370201704557367, -0.9373461444876827, 0.17459245291773834, -0.22463100775576927, 1.0330145021293278, -0.09850966891247348, 0.7241657584014993, 0.955186621118631, 0.30608394582456233, 1.5290937481818527, 1.8098797470602352, 0.8004831296061153, -0.2049005448699173, -2.3947821795849777, -0.07853752764328854, -0.6262274431054563, 0.340714345684504, 2.488129484040648, -0.18717925397624124, 1.7328852501534606, 1.1791971840719817, 0.5486183290215052, -0.5410032152697309, -1.0643380160389941, -0.09407993866674372, 0.9707824657472518, 0.17816660236085075, -0.5634385253507159, -0.23691031630929846, -0.09235744792732545, -1.014727424442866, 1.2769322679573092, 0.39528235325115546, 0.5205175784522462, 1.1273391744260934, -0.5193440530245592, 0.3900684693755273, -0.08611140806629622, 0.15689162023394052, -0.8835587758698809, -0.46014232276791744, 0.14931404219831243, 0.8491332074223944, 0.26582503410631325, -0.683164247655124, 2.614893977763737, -0.010015216452615229, 0.5244924291444624, 0.6261192572466824, 1.1801381930457862, 0.038182877979043586, -1.8737503117824383, -1.3928968411490805, 0.14142517351328868, -1.126885241350718, -0.10089736521314253, -0.9560526698814561, 0.6142824511208461, 0.06367871376318736, 0.8280087228360533, 0.02747396446917433, -1.1406863737395154, -0.6416004832788077, 1.8184649586581034, 1.0195667145616782, 0.7310713563273256, 0.377044567827439, -1.5530084890071545]}, {\"line\": {\"color\": \"rgba(128, 0, 128, 1.0)\", \"dash\": \"solid\", \"shape\": \"linear\", \"width\": 1.3}, \"mode\": \"lines\", \"name\": \"D\", \"text\": \"\", \"type\": \"scatter\", \"x\": [0, 1, 2, 3, 4, 5, 6, 7, 8, 9, 10, 11, 12, 13, 14, 15, 16, 17, 18, 19, 20, 21, 22, 23, 24, 25, 26, 27, 28, 29, 30, 31, 32, 33, 34, 35, 36, 37, 38, 39, 40, 41, 42, 43, 44, 45, 46, 47, 48, 49, 50, 51, 52, 53, 54, 55, 56, 57, 58, 59, 60, 61, 62, 63, 64, 65, 66, 67, 68, 69, 70, 71, 72, 73, 74, 75, 76, 77, 78, 79, 80, 81, 82, 83, 84, 85, 86, 87, 88, 89, 90, 91, 92, 93, 94, 95, 96, 97, 98, 99], \"y\": [1.422135659899816, -1.1498108111912997, 1.0861764712918605, -1.1825999353003134, 0.11291167561684437, -1.0403773845489095, -0.025311303993222997, -0.9472951140262564, -2.085462277032858, 0.009440383763292946, 1.541228845833113, 1.2630573123308124, 0.3384971276271273, 0.5434655243051836, 0.7308717669481943, -0.6242234349148293, 1.0228550323490002, -0.5438852964735581, 2.4160027779367375, 3.272135005557643, -0.3568567890795237, 0.15994644094538, -0.6987012157543981, 1.119745589140762, 1.9851435250178515, 1.1393344005681445, -0.6696083799239421, -1.298623781345975, 0.07535612656465497, 0.12709289220993064, -0.7212795864169899, 0.3952199747769614, 1.1658279999083134, -0.4420981198456275, -0.2745229175409915, 0.89942215949408, 1.118380948719663, 0.3877599766932124, -0.8087028166311288, 1.487499229658045, 1.5519149728740191, 1.3694731873864372, 1.601986147955227, -0.13506288444037565, -1.369375767137172, -0.21817419631025753, -1.0155003638394315, 1.6066215420516388, 0.45389069140254856, 0.6902455540039308, 0.7995790582998156, -2.3599156821347345, 0.5293063314819895, -1.4610251333831956, 1.3026442181984443, -0.8046014329971493, 0.29243953047445476, 0.841577786899802, 0.3065013963290962, 0.3772090998384718, 0.26389718721088246, 1.1213771584945638, -0.0697361329895187, 1.9323489663601012, -0.37382569573594654, -0.14877895184285853, -0.32863546868738913, 1.0510335931310077, 1.547170980473415, 0.05312708727660292, 0.3904807269355301, 0.7833833984916323, -0.9637414518257233, 0.7958980874871708, 1.3480148914094672, 1.4117346038562641, 0.18124988767705952, -0.5430602873278603, -1.5411723805123168, -0.32688513528921603, 0.30380344321727615, -0.16493219681876425, -1.8370869260684919, 0.5594449739751, -2.2846734450711814, -1.7171167755417092, 1.403981871325172, -1.6008085255609552, -0.6031396996916586, 1.2052437927666695, 1.3674086396322755, -1.4283473858637892, -0.6545275752649825, 1.1897801403354284, 0.8072969646783367, 0.9630428264620265, -0.2747773610557366, 0.26035190527981555, 0.44676722055910995, 2.3965236116694966]}],\n",
       "                        {\"legend\": {\"bgcolor\": \"#F5F6F9\", \"font\": {\"color\": \"#4D5663\"}}, \"paper_bgcolor\": \"#F5F6F9\", \"plot_bgcolor\": \"#F5F6F9\", \"template\": {\"data\": {\"bar\": [{\"error_x\": {\"color\": \"#2a3f5f\"}, \"error_y\": {\"color\": \"#2a3f5f\"}, \"marker\": {\"line\": {\"color\": \"#E5ECF6\", \"width\": 0.5}}, \"type\": \"bar\"}], \"barpolar\": [{\"marker\": {\"line\": {\"color\": \"#E5ECF6\", \"width\": 0.5}}, \"type\": \"barpolar\"}], \"carpet\": [{\"aaxis\": {\"endlinecolor\": \"#2a3f5f\", \"gridcolor\": \"white\", \"linecolor\": \"white\", \"minorgridcolor\": \"white\", \"startlinecolor\": \"#2a3f5f\"}, \"baxis\": {\"endlinecolor\": \"#2a3f5f\", \"gridcolor\": \"white\", \"linecolor\": \"white\", \"minorgridcolor\": \"white\", \"startlinecolor\": \"#2a3f5f\"}, \"type\": \"carpet\"}], \"choropleth\": [{\"colorbar\": {\"outlinewidth\": 0, \"ticks\": \"\"}, \"type\": \"choropleth\"}], \"contour\": [{\"colorbar\": {\"outlinewidth\": 0, \"ticks\": \"\"}, \"colorscale\": [[0.0, \"#0d0887\"], [0.1111111111111111, \"#46039f\"], [0.2222222222222222, \"#7201a8\"], [0.3333333333333333, \"#9c179e\"], [0.4444444444444444, \"#bd3786\"], [0.5555555555555556, \"#d8576b\"], [0.6666666666666666, \"#ed7953\"], [0.7777777777777778, \"#fb9f3a\"], [0.8888888888888888, \"#fdca26\"], [1.0, \"#f0f921\"]], \"type\": \"contour\"}], \"contourcarpet\": [{\"colorbar\": {\"outlinewidth\": 0, \"ticks\": \"\"}, \"type\": \"contourcarpet\"}], \"heatmap\": [{\"colorbar\": {\"outlinewidth\": 0, \"ticks\": \"\"}, \"colorscale\": [[0.0, \"#0d0887\"], [0.1111111111111111, \"#46039f\"], [0.2222222222222222, \"#7201a8\"], [0.3333333333333333, \"#9c179e\"], [0.4444444444444444, \"#bd3786\"], [0.5555555555555556, \"#d8576b\"], [0.6666666666666666, \"#ed7953\"], [0.7777777777777778, \"#fb9f3a\"], [0.8888888888888888, \"#fdca26\"], [1.0, \"#f0f921\"]], \"type\": \"heatmap\"}], \"heatmapgl\": [{\"colorbar\": {\"outlinewidth\": 0, \"ticks\": \"\"}, \"colorscale\": [[0.0, \"#0d0887\"], [0.1111111111111111, \"#46039f\"], [0.2222222222222222, \"#7201a8\"], [0.3333333333333333, \"#9c179e\"], [0.4444444444444444, \"#bd3786\"], [0.5555555555555556, \"#d8576b\"], [0.6666666666666666, \"#ed7953\"], [0.7777777777777778, \"#fb9f3a\"], [0.8888888888888888, \"#fdca26\"], [1.0, \"#f0f921\"]], \"type\": \"heatmapgl\"}], \"histogram\": [{\"marker\": {\"colorbar\": {\"outlinewidth\": 0, \"ticks\": \"\"}}, \"type\": \"histogram\"}], \"histogram2d\": [{\"colorbar\": {\"outlinewidth\": 0, \"ticks\": \"\"}, \"colorscale\": [[0.0, \"#0d0887\"], [0.1111111111111111, \"#46039f\"], [0.2222222222222222, \"#7201a8\"], [0.3333333333333333, \"#9c179e\"], [0.4444444444444444, \"#bd3786\"], [0.5555555555555556, \"#d8576b\"], [0.6666666666666666, \"#ed7953\"], [0.7777777777777778, \"#fb9f3a\"], [0.8888888888888888, \"#fdca26\"], [1.0, \"#f0f921\"]], \"type\": \"histogram2d\"}], \"histogram2dcontour\": [{\"colorbar\": {\"outlinewidth\": 0, \"ticks\": \"\"}, \"colorscale\": [[0.0, \"#0d0887\"], [0.1111111111111111, \"#46039f\"], [0.2222222222222222, \"#7201a8\"], [0.3333333333333333, \"#9c179e\"], [0.4444444444444444, \"#bd3786\"], [0.5555555555555556, \"#d8576b\"], [0.6666666666666666, \"#ed7953\"], [0.7777777777777778, \"#fb9f3a\"], [0.8888888888888888, \"#fdca26\"], [1.0, \"#f0f921\"]], \"type\": \"histogram2dcontour\"}], \"mesh3d\": [{\"colorbar\": {\"outlinewidth\": 0, \"ticks\": \"\"}, \"type\": \"mesh3d\"}], \"parcoords\": [{\"line\": {\"colorbar\": {\"outlinewidth\": 0, \"ticks\": \"\"}}, \"type\": \"parcoords\"}], \"pie\": [{\"automargin\": true, \"type\": \"pie\"}], \"scatter\": [{\"marker\": {\"colorbar\": {\"outlinewidth\": 0, \"ticks\": \"\"}}, \"type\": \"scatter\"}], \"scatter3d\": [{\"line\": {\"colorbar\": {\"outlinewidth\": 0, \"ticks\": \"\"}}, \"marker\": {\"colorbar\": {\"outlinewidth\": 0, \"ticks\": \"\"}}, \"type\": \"scatter3d\"}], \"scattercarpet\": [{\"marker\": {\"colorbar\": {\"outlinewidth\": 0, \"ticks\": \"\"}}, \"type\": \"scattercarpet\"}], \"scattergeo\": [{\"marker\": {\"colorbar\": {\"outlinewidth\": 0, \"ticks\": \"\"}}, \"type\": \"scattergeo\"}], \"scattergl\": [{\"marker\": {\"colorbar\": {\"outlinewidth\": 0, \"ticks\": \"\"}}, \"type\": \"scattergl\"}], \"scattermapbox\": [{\"marker\": {\"colorbar\": {\"outlinewidth\": 0, \"ticks\": \"\"}}, \"type\": \"scattermapbox\"}], \"scatterpolar\": [{\"marker\": {\"colorbar\": {\"outlinewidth\": 0, \"ticks\": \"\"}}, \"type\": \"scatterpolar\"}], \"scatterpolargl\": [{\"marker\": {\"colorbar\": {\"outlinewidth\": 0, \"ticks\": \"\"}}, \"type\": \"scatterpolargl\"}], \"scatterternary\": [{\"marker\": {\"colorbar\": {\"outlinewidth\": 0, \"ticks\": \"\"}}, \"type\": \"scatterternary\"}], \"surface\": [{\"colorbar\": {\"outlinewidth\": 0, \"ticks\": \"\"}, \"colorscale\": [[0.0, \"#0d0887\"], [0.1111111111111111, \"#46039f\"], [0.2222222222222222, \"#7201a8\"], [0.3333333333333333, \"#9c179e\"], [0.4444444444444444, \"#bd3786\"], [0.5555555555555556, \"#d8576b\"], [0.6666666666666666, \"#ed7953\"], [0.7777777777777778, \"#fb9f3a\"], [0.8888888888888888, \"#fdca26\"], [1.0, \"#f0f921\"]], \"type\": \"surface\"}], \"table\": [{\"cells\": {\"fill\": {\"color\": \"#EBF0F8\"}, \"line\": {\"color\": \"white\"}}, \"header\": {\"fill\": {\"color\": \"#C8D4E3\"}, \"line\": {\"color\": \"white\"}}, \"type\": \"table\"}]}, \"layout\": {\"annotationdefaults\": {\"arrowcolor\": \"#2a3f5f\", \"arrowhead\": 0, \"arrowwidth\": 1}, \"coloraxis\": {\"colorbar\": {\"outlinewidth\": 0, \"ticks\": \"\"}}, \"colorscale\": {\"diverging\": [[0, \"#8e0152\"], [0.1, \"#c51b7d\"], [0.2, \"#de77ae\"], [0.3, \"#f1b6da\"], [0.4, \"#fde0ef\"], [0.5, \"#f7f7f7\"], [0.6, \"#e6f5d0\"], [0.7, \"#b8e186\"], [0.8, \"#7fbc41\"], [0.9, \"#4d9221\"], [1, \"#276419\"]], \"sequential\": [[0.0, \"#0d0887\"], [0.1111111111111111, \"#46039f\"], [0.2222222222222222, \"#7201a8\"], [0.3333333333333333, \"#9c179e\"], [0.4444444444444444, \"#bd3786\"], [0.5555555555555556, \"#d8576b\"], [0.6666666666666666, \"#ed7953\"], [0.7777777777777778, \"#fb9f3a\"], [0.8888888888888888, \"#fdca26\"], [1.0, \"#f0f921\"]], \"sequentialminus\": [[0.0, \"#0d0887\"], [0.1111111111111111, \"#46039f\"], [0.2222222222222222, \"#7201a8\"], [0.3333333333333333, \"#9c179e\"], [0.4444444444444444, \"#bd3786\"], [0.5555555555555556, \"#d8576b\"], [0.6666666666666666, \"#ed7953\"], [0.7777777777777778, \"#fb9f3a\"], [0.8888888888888888, \"#fdca26\"], [1.0, \"#f0f921\"]]}, \"colorway\": [\"#636efa\", \"#EF553B\", \"#00cc96\", \"#ab63fa\", \"#FFA15A\", \"#19d3f3\", \"#FF6692\", \"#B6E880\", \"#FF97FF\", \"#FECB52\"], \"font\": {\"color\": \"#2a3f5f\"}, \"geo\": {\"bgcolor\": \"white\", \"lakecolor\": \"white\", \"landcolor\": \"#E5ECF6\", \"showlakes\": true, \"showland\": true, \"subunitcolor\": \"white\"}, \"hoverlabel\": {\"align\": \"left\"}, \"hovermode\": \"closest\", \"mapbox\": {\"style\": \"light\"}, \"paper_bgcolor\": \"white\", \"plot_bgcolor\": \"#E5ECF6\", \"polar\": {\"angularaxis\": {\"gridcolor\": \"white\", \"linecolor\": \"white\", \"ticks\": \"\"}, \"bgcolor\": \"#E5ECF6\", \"radialaxis\": {\"gridcolor\": \"white\", \"linecolor\": \"white\", \"ticks\": \"\"}}, \"scene\": {\"xaxis\": {\"backgroundcolor\": \"#E5ECF6\", \"gridcolor\": \"white\", \"gridwidth\": 2, \"linecolor\": \"white\", \"showbackground\": true, \"ticks\": \"\", \"zerolinecolor\": \"white\"}, \"yaxis\": {\"backgroundcolor\": \"#E5ECF6\", \"gridcolor\": \"white\", \"gridwidth\": 2, \"linecolor\": \"white\", \"showbackground\": true, \"ticks\": \"\", \"zerolinecolor\": \"white\"}, \"zaxis\": {\"backgroundcolor\": \"#E5ECF6\", \"gridcolor\": \"white\", \"gridwidth\": 2, \"linecolor\": \"white\", \"showbackground\": true, \"ticks\": \"\", \"zerolinecolor\": \"white\"}}, \"shapedefaults\": {\"line\": {\"color\": \"#2a3f5f\"}}, \"ternary\": {\"aaxis\": {\"gridcolor\": \"white\", \"linecolor\": \"white\", \"ticks\": \"\"}, \"baxis\": {\"gridcolor\": \"white\", \"linecolor\": \"white\", \"ticks\": \"\"}, \"bgcolor\": \"#E5ECF6\", \"caxis\": {\"gridcolor\": \"white\", \"linecolor\": \"white\", \"ticks\": \"\"}}, \"title\": {\"x\": 0.05}, \"xaxis\": {\"automargin\": true, \"gridcolor\": \"white\", \"linecolor\": \"white\", \"ticks\": \"\", \"title\": {\"standoff\": 15}, \"zerolinecolor\": \"white\", \"zerolinewidth\": 2}, \"yaxis\": {\"automargin\": true, \"gridcolor\": \"white\", \"linecolor\": \"white\", \"ticks\": \"\", \"title\": {\"standoff\": 15}, \"zerolinecolor\": \"white\", \"zerolinewidth\": 2}}}, \"title\": {\"font\": {\"color\": \"#4D5663\"}}, \"xaxis\": {\"gridcolor\": \"#E1E5ED\", \"showgrid\": true, \"tickfont\": {\"color\": \"#4D5663\"}, \"title\": {\"font\": {\"color\": \"#4D5663\"}, \"text\": \"\"}, \"zerolinecolor\": \"#E1E5ED\"}, \"yaxis\": {\"gridcolor\": \"#E1E5ED\", \"showgrid\": true, \"tickfont\": {\"color\": \"#4D5663\"}, \"title\": {\"font\": {\"color\": \"#4D5663\"}, \"text\": \"\"}, \"zerolinecolor\": \"#E1E5ED\"}},\n",
       "                        {\"showLink\": true, \"linkText\": \"Export to plot.ly\", \"plotlyServerURL\": \"https://plot.ly\", \"responsive\": true}\n",
       "                    ).then(function(){\n",
       "                            \n",
       "var gd = document.getElementById('14e14830-a681-4b2d-807a-34beb27f3540');\n",
       "var x = new MutationObserver(function (mutations, observer) {{\n",
       "        var display = window.getComputedStyle(gd).display;\n",
       "        if (!display || display === 'none') {{\n",
       "            console.log([gd, 'removed!']);\n",
       "            Plotly.purge(gd);\n",
       "            observer.disconnect();\n",
       "        }}\n",
       "}});\n",
       "\n",
       "// Listen for the removal of the full notebook cells\n",
       "var notebookContainer = gd.closest('#notebook-container');\n",
       "if (notebookContainer) {{\n",
       "    x.observe(notebookContainer, {childList: true});\n",
       "}}\n",
       "\n",
       "// Listen for the clearing of the current output cell\n",
       "var outputEl = gd.closest('.output');\n",
       "if (outputEl) {{\n",
       "    x.observe(outputEl, {childList: true});\n",
       "}}\n",
       "\n",
       "                        })\n",
       "                };\n",
       "                });\n",
       "            </script>\n",
       "        </div>"
      ]
     },
     "metadata": {},
     "output_type": "display_data"
    }
   ],
   "source": [
    "# It's very simple graph, isn't it\n",
    "# Now I will create a plot that is hoverable and prettier using plotly\n",
    "df1.iplot()"
   ]
  },
  {
   "cell_type": "code",
   "execution_count": 22,
   "metadata": {},
   "outputs": [],
   "source": [
    "# I can say that this plot is very fantastic"
   ]
  },
  {
   "cell_type": "code",
   "execution_count": 23,
   "metadata": {},
   "outputs": [
    {
     "data": {
      "text/plain": [
       "<matplotlib.axes._subplots.AxesSubplot at 0x27853da4788>"
      ]
     },
     "execution_count": 23,
     "metadata": {},
     "output_type": "execute_result"
    },
    {
     "data": {
      "image/png": "[encoded data removed]",
      "text/plain": [
       "<Figure size 432x288 with 1 Axes>"
      ]
     },
     "metadata": {
      "needs_background": "light"
     },
     "output_type": "display_data"
    }
   ],
   "source": [
    "# I do what I did with df1 to df2\n",
    "df2.plot()"
   ]
  },
  {
   "cell_type": "code",
   "execution_count": 24,
   "metadata": {},
   "outputs": [
    {
     "data": {
      "application/vnd.plotly.v1+json": {
       "config": {
        "linkText": "Export to plot.ly",
        "plotlyServerURL": "https://plot.ly",
        "showLink": true
       },
       "data": [
        {
         "line": {
          "color": "rgba(255, 153, 51, 1.0)",
          "dash": "solid",
          "shape": "linear",
          "width": 1.3
         },
         "mode": "lines",
         "name": "D",
         "text": "",
         "type": "scatter",
         "x": [
          0.9143199744490959,
          -0.6646337852370073,
          -0.14147521428869275,
          -1.5332881680412882,
          -1.095065469170004,
          1.677545617427011,
          1.730306742135822,
          0.3093380042070924,
          1.998060812676102,
          0.2103320482242863,
          -0.36356967714317556,
          1.0009522053146767,
          0.069031037048522,
          -1.4132717659293934,
          1.4342602513904974,
          0.8667006663131418,
          -1.0896509582121268,
          1.3185707666281514,
          0.20761718693952874,
          0.03055838903094499,
          -1.3019172354325668,
          0.4190207620229179,
          0.21463294842463157,
          0.09415542101933022,
          1.102150756931986,
          0.08058368310676578,
          -0.31050578091790093,
          0.7280257375312584,
          -0.7333481572330972,
          0.7111147715815395,
          -0.4534409552547134,
          -0.8493772470868383,
          -2.3618289209284056,
          -1.0355419986958943,
          0.2209044604729675,
          -0.3097002156986558,
          -0.5008454017984665,
          -1.725024685517588,
          -0.19105729905583005,
          -1.3917398712550997,
          -1.373493523702723,
          -0.7176943975375174,
          -0.910332404713052,
          -0.45750099928699495,
          0.236834377371843,
          -1.15271654366376,
          -0.3053263890214957,
          -0.7228191803601534,
          0.22380614257506143,
          -0.893109542297301,
          1.731068296261119,
          -0.8905500303106749,
          -0.43770584584543254,
          1.8228947096849963,
          0.19474734000545416,
          -2.2678586134597416,
          0.7415931835889042,
          -0.45194179738729906,
          0.3167107937975542,
          -0.33618888669222596,
          -0.40957852624382124,
          -0.21251080743656847,
          -0.6478327795201284,
          -0.2506330234581966,
          -0.2388108275357814,
          -0.46447261046488947,
          2.1274922284409015,
          -0.6624602143894611,
          -1.1013961877761724,
          -0.10962658841460418,
          -1.939924292062804,
          -2.922615773741819,
          0.33732369348397273,
          -0.8879693301653936,
          -0.14203014646171108,
          1.8459848092411675,
          0.5451264788261765,
          1.5161798792278758,
          -0.060903470222706466,
          -0.5042434120396577,
          0.24087301804518244,
          1.3184761215231695,
          -0.5311236458104367,
          0.16904327084218684,
          0.21497691222184062,
          -0.04976420464178433,
          -1.2351738292265402,
          -0.09703656247737708,
          -0.813348632878989,
          1.6254085445113675,
          0.2712263240648343,
          -0.9212781749948205,
          -0.5547997988204424,
          -2.13583941926714,
          0.8471102598607632,
          -0.8076097650549745,
          -0.08764701901324923,
          0.19439248949118276,
          -0.6406087430595749,
          -0.38706169745440083
         ],
         "y": [
          1.422135659899816,
          -1.1498108111912997,
          1.0861764712918605,
          -1.1825999353003134,
          0.11291167561684437,
          -1.0403773845489095,
          -0.025311303993222997,
          -0.9472951140262564,
          -2.085462277032858,
          0.009440383763292946,
          1.541228845833113,
          1.2630573123308124,
          0.3384971276271273,
          0.5434655243051836,
          0.7308717669481943,
          -0.6242234349148293,
          1.0228550323490002,
          -0.5438852964735581,
          2.4160027779367375,
          3.272135005557643,
          -0.3568567890795237,
          0.15994644094538,
          -0.6987012157543981,
          1.119745589140762,
          1.9851435250178515,
          1.1393344005681445,
          -0.6696083799239421,
          -1.298623781345975,
          0.07535612656465497,
          0.12709289220993064,
          -0.7212795864169899,
          0.3952199747769614,
          1.1658279999083134,
          -0.4420981198456275,
          -0.2745229175409915,
          0.89942215949408,
          1.118380948719663,
          0.3877599766932124,
          -0.8087028166311288,
          1.487499229658045,
          1.5519149728740191,
          1.3694731873864372,
          1.601986147955227,
          -0.13506288444037565,
          -1.369375767137172,
          -0.21817419631025753,
          -1.0155003638394315,
          1.6066215420516388,
          0.45389069140254856,
          0.6902455540039308,
          0.7995790582998156,
          -2.3599156821347345,
          0.5293063314819895,
          -1.4610251333831956,
          1.3026442181984443,
          -0.8046014329971493,
          0.29243953047445476,
          0.841577786899802,
          0.3065013963290962,
          0.3772090998384718,
          0.26389718721088246,
          1.1213771584945638,
          -0.0697361329895187,
          1.9323489663601012,
          -0.37382569573594654,
          -0.14877895184285853,
          -0.32863546868738913,
          1.0510335931310077,
          1.547170980473415,
          0.05312708727660292,
          0.3904807269355301,
          0.7833833984916323,
          -0.9637414518257233,
          0.7958980874871708,
          1.3480148914094672,
          1.4117346038562641,
          0.18124988767705952,
          -0.5430602873278603,
          -1.5411723805123168,
          -0.32688513528921603,
          0.30380344321727615,
          -0.16493219681876425,
          -1.8370869260684919,
          0.5594449739751,
          -2.2846734450711814,
          -1.7171167755417092,
          1.403981871325172,
          -1.6008085255609552,
          -0.6031396996916586,
          1.2052437927666695,
          1.3674086396322755,
          -1.4283473858637892,
          -0.6545275752649825,
          1.1897801403354284,
          0.8072969646783367,
          0.9630428264620265,
          -0.2747773610557366,
          0.26035190527981555,
          0.44676722055910995,
          2.3965236116694966
         ]
        }
       ],
       "layout": {
        "legend": {
         "bgcolor": "#F5F6F9",
         "font": {
          "color": "#4D5663"
         }
        },
        "paper_bgcolor": "#F5F6F9",
        "plot_bgcolor": "#F5F6F9",
        "template": {
         "data": {
          "bar": [
           {
            "error_x": {
             "color": "#2a3f5f"
            },
            "error_y": {
             "color": "#2a3f5f"
            },
            "marker": {
             "line": {
              "color": "#E5ECF6",
              "width": 0.5
             }
            },
            "type": "bar"
           }
          ],
          "barpolar": [
           {
            "marker": {
             "line": {
              "color": "#E5ECF6",
              "width": 0.5
             }
            },
            "type": "barpolar"
           }
          ],
          "carpet": [
           {
            "aaxis": {
             "endlinecolor": "#2a3f5f",
             "gridcolor": "white",
             "linecolor": "white",
             "minorgridcolor": "white",
             "startlinecolor": "#2a3f5f"
            },
            "baxis": {
             "endlinecolor": "#2a3f5f",
             "gridcolor": "white",
             "linecolor": "white",
             "minorgridcolor": "white",
             "startlinecolor": "#2a3f5f"
            },
            "type": "carpet"
           }
          ],
          "choropleth": [
           {
            "colorbar": {
             "outlinewidth": 0,
             "ticks": ""
            },
            "type": "choropleth"
           }
          ],
          "contour": [
           {
            "colorbar": {
             "outlinewidth": 0,
             "ticks": ""
            },
            "colorscale": [
             [
              0,
              "#0d0887"
             ],
             [
              0.1111111111111111,
              "#46039f"
             ],
             [
              0.2222222222222222,
              "#7201a8"
             ],
             [
              0.3333333333333333,
              "#9c179e"
             ],
             [
              0.4444444444444444,
              "#bd3786"
             ],
             [
              0.5555555555555556,
              "#d8576b"
             ],
             [
              0.6666666666666666,
              "#ed7953"
             ],
             [
              0.7777777777777778,
              "#fb9f3a"
             ],
             [
              0.8888888888888888,
              "#fdca26"
             ],
             [
              1,
              "#f0f921"
             ]
            ],
            "type": "contour"
           }
          ],
          "contourcarpet": [
           {
            "colorbar": {
             "outlinewidth": 0,
             "ticks": ""
            },
            "type": "contourcarpet"
           }
          ],
          "heatmap": [
           {
            "colorbar": {
             "outlinewidth": 0,
             "ticks": ""
            },
            "colorscale": [
             [
              0,
              "#0d0887"
             ],
             [
              0.1111111111111111,
              "#46039f"
             ],
             [
              0.2222222222222222,
              "#7201a8"
             ],
             [
              0.3333333333333333,
              "#9c179e"
             ],
             [
              0.4444444444444444,
              "#bd3786"
             ],
             [
              0.5555555555555556,
              "#d8576b"
             ],
             [
              0.6666666666666666,
              "#ed7953"
             ],
             [
              0.7777777777777778,
              "#fb9f3a"
             ],
             [
              0.8888888888888888,
              "#fdca26"
             ],
             [
              1,
              "#f0f921"
             ]
            ],
            "type": "heatmap"
           }
          ],
          "heatmapgl": [
           {
            "colorbar": {
             "outlinewidth": 0,
             "ticks": ""
            },
            "colorscale": [
             [
              0,
              "#0d0887"
             ],
             [
              0.1111111111111111,
              "#46039f"
             ],
             [
              0.2222222222222222,
              "#7201a8"
             ],
             [
              0.3333333333333333,
              "#9c179e"
             ],
             [
              0.4444444444444444,
              "#bd3786"
             ],
             [
              0.5555555555555556,
              "#d8576b"
             ],
             [
              0.6666666666666666,
              "#ed7953"
             ],
             [
              0.7777777777777778,
              "#fb9f3a"
             ],
             [
              0.8888888888888888,
              "#fdca26"
             ],
             [
              1,
              "#f0f921"
             ]
            ],
            "type": "heatmapgl"
           }
          ],
          "histogram": [
           {
            "marker": {
             "colorbar": {
              "outlinewidth": 0,
              "ticks": ""
             }
            },
            "type": "histogram"
           }
          ],
          "histogram2d": [
           {
            "colorbar": {
             "outlinewidth": 0,
             "ticks": ""
            },
            "colorscale": [
             [
              0,
              "#0d0887"
             ],
             [
              0.1111111111111111,
              "#46039f"
             ],
             [
              0.2222222222222222,
              "#7201a8"
             ],
             [
              0.3333333333333333,
              "#9c179e"
             ],
             [
              0.4444444444444444,
              "#bd3786"
             ],
             [
              0.5555555555555556,
              "#d8576b"
             ],
             [
              0.6666666666666666,
              "#ed7953"
             ],
             [
              0.7777777777777778,
              "#fb9f3a"
             ],
             [
              0.8888888888888888,
              "#fdca26"
             ],
             [
              1,
              "#f0f921"
             ]
            ],
            "type": "histogram2d"
           }
          ],
          "histogram2dcontour": [
           {
            "colorbar": {
             "outlinewidth": 0,
             "ticks": ""
            },
            "colorscale": [
             [
              0,
              "#0d0887"
             ],
             [
              0.1111111111111111,
              "#46039f"
             ],
             [
              0.2222222222222222,
              "#7201a8"
             ],
             [
              0.3333333333333333,
              "#9c179e"
             ],
             [
              0.4444444444444444,
              "#bd3786"
             ],
             [
              0.5555555555555556,
              "#d8576b"
             ],
             [
              0.6666666666666666,
              "#ed7953"
             ],
             [
              0.7777777777777778,
              "#fb9f3a"
             ],
             [
              0.8888888888888888,
              "#fdca26"
             ],
             [
              1,
              "#f0f921"
             ]
            ],
            "type": "histogram2dcontour"
           }
          ],
          "mesh3d": [
           {
            "colorbar": {
             "outlinewidth": 0,
             "ticks": ""
            },
            "type": "mesh3d"
           }
          ],
          "parcoords": [
           {
            "line": {
             "colorbar": {
              "outlinewidth": 0,
              "ticks": ""
             }
            },
            "type": "parcoords"
           }
          ],
          "pie": [
           {
            "automargin": true,
            "type": "pie"
           }
          ],
          "scatter": [
           {
            "marker": {
             "colorbar": {
              "outlinewidth": 0,
              "ticks": ""
             }
            },
            "type": "scatter"
           }
          ],
          "scatter3d": [
           {
            "line": {
             "colorbar": {
              "outlinewidth": 0,
              "ticks": ""
             }
            },
            "marker": {
             "colorbar": {
              "outlinewidth": 0,
              "ticks": ""
             }
            },
            "type": "scatter3d"
           }
          ],
          "scattercarpet": [
           {
            "marker": {
             "colorbar": {
              "outlinewidth": 0,
              "ticks": ""
             }
            },
            "type": "scattercarpet"
           }
          ],
          "scattergeo": [
           {
            "marker": {
             "colorbar": {
              "outlinewidth": 0,
              "ticks": ""
             }
            },
            "type": "scattergeo"
           }
          ],
          "scattergl": [
           {
            "marker": {
             "colorbar": {
              "outlinewidth": 0,
              "ticks": ""
             }
            },
            "type": "scattergl"
           }
          ],
          "scattermapbox": [
           {
            "marker": {
             "colorbar": {
              "outlinewidth": 0,
              "ticks": ""
             }
            },
            "type": "scattermapbox"
           }
          ],
          "scatterpolar": [
           {
            "marker": {
             "colorbar": {
              "outlinewidth": 0,
              "ticks": ""
             }
            },
            "type": "scatterpolar"
           }
          ],
          "scatterpolargl": [
           {
            "marker": {
             "colorbar": {
              "outlinewidth": 0,
              "ticks": ""
             }
            },
            "type": "scatterpolargl"
           }
          ],
          "scatterternary": [
           {
            "marker": {
             "colorbar": {
              "outlinewidth": 0,
              "ticks": ""
             }
            },
            "type": "scatterternary"
           }
          ],
          "surface": [
           {
            "colorbar": {
             "outlinewidth": 0,
             "ticks": ""
            },
            "colorscale": [
             [
              0,
              "#0d0887"
             ],
             [
              0.1111111111111111,
              "#46039f"
             ],
             [
              0.2222222222222222,
              "#7201a8"
             ],
             [
              0.3333333333333333,
              "#9c179e"
             ],
             [
              0.4444444444444444,
              "#bd3786"
             ],
             [
              0.5555555555555556,
              "#d8576b"
             ],
             [
              0.6666666666666666,
              "#ed7953"
             ],
             [
              0.7777777777777778,
              "#fb9f3a"
             ],
             [
              0.8888888888888888,
              "#fdca26"
             ],
             [
              1,
              "#f0f921"
             ]
            ],
            "type": "surface"
           }
          ],
          "table": [
           {
            "cells": {
             "fill": {
              "color": "#EBF0F8"
             },
             "line": {
              "color": "white"
             }
            },
            "header": {
             "fill": {
              "color": "#C8D4E3"
             },
             "line": {
              "color": "white"
             }
            },
            "type": "table"
           }
          ]
         },
         "layout": {
          "annotationdefaults": {
           "arrowcolor": "#2a3f5f",
           "arrowhead": 0,
           "arrowwidth": 1
          },
          "coloraxis": {
           "colorbar": {
            "outlinewidth": 0,
            "ticks": ""
           }
          },
          "colorscale": {
           "diverging": [
            [
             0,
             "#8e0152"
            ],
            [
             0.1,
             "#c51b7d"
            ],
            [
             0.2,
             "#de77ae"
            ],
            [
             0.3,
             "#f1b6da"
            ],
            [
             0.4,
             "#fde0ef"
            ],
            [
             0.5,
             "#f7f7f7"
            ],
            [
             0.6,
             "#e6f5d0"
            ],
            [
             0.7,
             "#b8e186"
            ],
            [
             0.8,
             "#7fbc41"
            ],
            [
             0.9,
             "#4d9221"
            ],
            [
             1,
             "#276419"
            ]
           ],
           "sequential": [
            [
             0,
             "#0d0887"
            ],
            [
             0.1111111111111111,
             "#46039f"
            ],
            [
             0.2222222222222222,
             "#7201a8"
            ],
            [
             0.3333333333333333,
             "#9c179e"
            ],
            [
             0.4444444444444444,
             "#bd3786"
            ],
            [
             0.5555555555555556,
             "#d8576b"
            ],
            [
             0.6666666666666666,
             "#ed7953"
            ],
            [
             0.7777777777777778,
             "#fb9f3a"
            ],
            [
             0.8888888888888888,
             "#fdca26"
            ],
            [
             1,
             "#f0f921"
            ]
           ],
           "sequentialminus": [
            [
             0,
             "#0d0887"
            ],
            [
             0.1111111111111111,
             "#46039f"
            ],
            [
             0.2222222222222222,
             "#7201a8"
            ],
            [
             0.3333333333333333,
             "#9c179e"
            ],
            [
             0.4444444444444444,
             "#bd3786"
            ],
            [
             0.5555555555555556,
             "#d8576b"
            ],
            [
             0.6666666666666666,
             "#ed7953"
            ],
            [
             0.7777777777777778,
             "#fb9f3a"
            ],
            [
             0.8888888888888888,
             "#fdca26"
            ],
            [
             1,
             "#f0f921"
            ]
           ]
          },
          "colorway": [
           "#636efa",
           "#EF553B",
           "#00cc96",
           "#ab63fa",
           "#FFA15A",
           "#19d3f3",
           "#FF6692",
           "#B6E880",
           "#FF97FF",
           "#FECB52"
          ],
          "font": {
           "color": "#2a3f5f"
          },
          "geo": {
           "bgcolor": "white",
           "lakecolor": "white",
           "landcolor": "#E5ECF6",
           "showlakes": true,
           "showland": true,
           "subunitcolor": "white"
          },
          "hoverlabel": {
           "align": "left"
          },
          "hovermode": "closest",
          "mapbox": {
           "style": "light"
          },
          "paper_bgcolor": "white",
          "plot_bgcolor": "#E5ECF6",
          "polar": {
           "angularaxis": {
            "gridcolor": "white",
            "linecolor": "white",
            "ticks": ""
           },
           "bgcolor": "#E5ECF6",
           "radialaxis": {
            "gridcolor": "white",
            "linecolor": "white",
            "ticks": ""
           }
          },
          "scene": {
           "xaxis": {
            "backgroundcolor": "#E5ECF6",
            "gridcolor": "white",
            "gridwidth": 2,
            "linecolor": "white",
            "showbackground": true,
            "ticks": "",
            "zerolinecolor": "white"
           },
           "yaxis": {
            "backgroundcolor": "#E5ECF6",
            "gridcolor": "white",
            "gridwidth": 2,
            "linecolor": "white",
            "showbackground": true,
            "ticks": "",
            "zerolinecolor": "white"
           },
           "zaxis": {
            "backgroundcolor": "#E5ECF6",
            "gridcolor": "white",
            "gridwidth": 2,
            "linecolor": "white",
            "showbackground": true,
            "ticks": "",
            "zerolinecolor": "white"
           }
          },
          "shapedefaults": {
           "line": {
            "color": "#2a3f5f"
           }
          },
          "ternary": {
           "aaxis": {
            "gridcolor": "white",
            "linecolor": "white",
            "ticks": ""
           },
           "baxis": {
            "gridcolor": "white",
            "linecolor": "white",
            "ticks": ""
           },
           "bgcolor": "#E5ECF6",
           "caxis": {
            "gridcolor": "white",
            "linecolor": "white",
            "ticks": ""
           }
          },
          "title": {
           "x": 0.05
          },
          "xaxis": {
           "automargin": true,
           "gridcolor": "white",
           "linecolor": "white",
           "ticks": "",
           "title": {
            "standoff": 15
           },
           "zerolinecolor": "white",
           "zerolinewidth": 2
          },
          "yaxis": {
           "automargin": true,
           "gridcolor": "white",
           "linecolor": "white",
           "ticks": "",
           "title": {
            "standoff": 15
           },
           "zerolinecolor": "white",
           "zerolinewidth": 2
          }
         }
        },
        "title": {
         "font": {
          "color": "#4D5663"
         }
        },
        "xaxis": {
         "gridcolor": "#E1E5ED",
         "showgrid": true,
         "tickfont": {
          "color": "#4D5663"
         },
         "title": {
          "font": {
           "color": "#4D5663"
          },
          "text": ""
         },
         "zerolinecolor": "#E1E5ED"
        },
        "yaxis": {
         "gridcolor": "#E1E5ED",
         "showgrid": true,
         "tickfont": {
          "color": "#4D5663"
         },
         "title": {
          "font": {
           "color": "#4D5663"
          },
          "text": ""
         },
         "zerolinecolor": "#E1E5ED"
        }
       }
      },
      "text/html": [
       "<div>\n",
       "        \n",
       "        \n",
       "            <div id=\"e288143e-a218-4c33-b721-0b31c51fd607\" class=\"plotly-graph-div\" style=\"height:525px; width:100%;\"></div>\n",
       "            <script type=\"text/javascript\">\n",
       "                require([\"plotly\"], function(Plotly) {\n",
       "                    window.PLOTLYENV=window.PLOTLYENV || {};\n",
       "                    window.PLOTLYENV.BASE_URL='https://plot.ly';\n",
       "                    \n",
       "                if (document.getElementById(\"e288143e-a218-4c33-b721-0b31c51fd607\")) {\n",
       "                    Plotly.newPlot(\n",
       "                        'e288143e-a218-4c33-b721-0b31c51fd607',\n",
       "                        [{\"line\": {\"color\": \"rgba(255, 153, 51, 1.0)\", \"dash\": \"solid\", \"shape\": \"linear\", \"width\": 1.3}, \"mode\": \"lines\", \"name\": \"D\", \"text\": \"\", \"type\": \"scatter\", \"x\": [0.9143199744490959, -0.6646337852370073, -0.14147521428869275, -1.5332881680412882, -1.095065469170004, 1.677545617427011, 1.730306742135822, 0.3093380042070924, 1.998060812676102, 0.2103320482242863, -0.36356967714317556, 1.0009522053146767, 0.069031037048522, -1.4132717659293934, 1.4342602513904974, 0.8667006663131418, -1.0896509582121268, 1.3185707666281514, 0.20761718693952874, 0.03055838903094499, -1.3019172354325668, 0.4190207620229179, 0.21463294842463157, 0.09415542101933022, 1.102150756931986, 0.08058368310676578, -0.31050578091790093, 0.7280257375312584, -0.7333481572330972, 0.7111147715815395, -0.4534409552547134, -0.8493772470868383, -2.3618289209284056, -1.0355419986958943, 0.2209044604729675, -0.3097002156986558, -0.5008454017984665, -1.725024685517588, -0.19105729905583005, -1.3917398712550997, -1.373493523702723, -0.7176943975375174, -0.910332404713052, -0.45750099928699495, 0.236834377371843, -1.15271654366376, -0.3053263890214957, -0.7228191803601534, 0.22380614257506143, -0.893109542297301, 1.731068296261119, -0.8905500303106749, -0.43770584584543254, 1.8228947096849963, 0.19474734000545416, -2.2678586134597416, 0.7415931835889042, -0.45194179738729906, 0.3167107937975542, -0.33618888669222596, -0.40957852624382124, -0.21251080743656847, -0.6478327795201284, -0.2506330234581966, -0.2388108275357814, -0.46447261046488947, 2.1274922284409015, -0.6624602143894611, -1.1013961877761724, -0.10962658841460418, -1.939924292062804, -2.922615773741819, 0.33732369348397273, -0.8879693301653936, -0.14203014646171108, 1.8459848092411675, 0.5451264788261765, 1.5161798792278758, -0.060903470222706466, -0.5042434120396577, 0.24087301804518244, 1.3184761215231695, -0.5311236458104367, 0.16904327084218684, 0.21497691222184062, -0.04976420464178433, -1.2351738292265402, -0.09703656247737708, -0.813348632878989, 1.6254085445113675, 0.2712263240648343, -0.9212781749948205, -0.5547997988204424, -2.13583941926714, 0.8471102598607632, -0.8076097650549745, -0.08764701901324923, 0.19439248949118276, -0.6406087430595749, -0.38706169745440083], \"y\": [1.422135659899816, -1.1498108111912997, 1.0861764712918605, -1.1825999353003134, 0.11291167561684437, -1.0403773845489095, -0.025311303993222997, -0.9472951140262564, -2.085462277032858, 0.009440383763292946, 1.541228845833113, 1.2630573123308124, 0.3384971276271273, 0.5434655243051836, 0.7308717669481943, -0.6242234349148293, 1.0228550323490002, -0.5438852964735581, 2.4160027779367375, 3.272135005557643, -0.3568567890795237, 0.15994644094538, -0.6987012157543981, 1.119745589140762, 1.9851435250178515, 1.1393344005681445, -0.6696083799239421, -1.298623781345975, 0.07535612656465497, 0.12709289220993064, -0.7212795864169899, 0.3952199747769614, 1.1658279999083134, -0.4420981198456275, -0.2745229175409915, 0.89942215949408, 1.118380948719663, 0.3877599766932124, -0.8087028166311288, 1.487499229658045, 1.5519149728740191, 1.3694731873864372, 1.601986147955227, -0.13506288444037565, -1.369375767137172, -0.21817419631025753, -1.0155003638394315, 1.6066215420516388, 0.45389069140254856, 0.6902455540039308, 0.7995790582998156, -2.3599156821347345, 0.5293063314819895, -1.4610251333831956, 1.3026442181984443, -0.8046014329971493, 0.29243953047445476, 0.841577786899802, 0.3065013963290962, 0.3772090998384718, 0.26389718721088246, 1.1213771584945638, -0.0697361329895187, 1.9323489663601012, -0.37382569573594654, -0.14877895184285853, -0.32863546868738913, 1.0510335931310077, 1.547170980473415, 0.05312708727660292, 0.3904807269355301, 0.7833833984916323, -0.9637414518257233, 0.7958980874871708, 1.3480148914094672, 1.4117346038562641, 0.18124988767705952, -0.5430602873278603, -1.5411723805123168, -0.32688513528921603, 0.30380344321727615, -0.16493219681876425, -1.8370869260684919, 0.5594449739751, -2.2846734450711814, -1.7171167755417092, 1.403981871325172, -1.6008085255609552, -0.6031396996916586, 1.2052437927666695, 1.3674086396322755, -1.4283473858637892, -0.6545275752649825, 1.1897801403354284, 0.8072969646783367, 0.9630428264620265, -0.2747773610557366, 0.26035190527981555, 0.44676722055910995, 2.3965236116694966]}],\n",
       "                        {\"legend\": {\"bgcolor\": \"#F5F6F9\", \"font\": {\"color\": \"#4D5663\"}}, \"paper_bgcolor\": \"#F5F6F9\", \"plot_bgcolor\": \"#F5F6F9\", \"template\": {\"data\": {\"bar\": [{\"error_x\": {\"color\": \"#2a3f5f\"}, \"error_y\": {\"color\": \"#2a3f5f\"}, \"marker\": {\"line\": {\"color\": \"#E5ECF6\", \"width\": 0.5}}, \"type\": \"bar\"}], \"barpolar\": [{\"marker\": {\"line\": {\"color\": \"#E5ECF6\", \"width\": 0.5}}, \"type\": \"barpolar\"}], \"carpet\": [{\"aaxis\": {\"endlinecolor\": \"#2a3f5f\", \"gridcolor\": \"white\", \"linecolor\": \"white\", \"minorgridcolor\": \"white\", \"startlinecolor\": \"#2a3f5f\"}, \"baxis\": {\"endlinecolor\": \"#2a3f5f\", \"gridcolor\": \"white\", \"linecolor\": \"white\", \"minorgridcolor\": \"white\", \"startlinecolor\": \"#2a3f5f\"}, \"type\": \"carpet\"}], \"choropleth\": [{\"colorbar\": {\"outlinewidth\": 0, \"ticks\": \"\"}, \"type\": \"choropleth\"}], \"contour\": [{\"colorbar\": {\"outlinewidth\": 0, \"ticks\": \"\"}, \"colorscale\": [[0.0, \"#0d0887\"], [0.1111111111111111, \"#46039f\"], [0.2222222222222222, \"#7201a8\"], [0.3333333333333333, \"#9c179e\"], [0.4444444444444444, \"#bd3786\"], [0.5555555555555556, \"#d8576b\"], [0.6666666666666666, \"#ed7953\"], [0.7777777777777778, \"#fb9f3a\"], [0.8888888888888888, \"#fdca26\"], [1.0, \"#f0f921\"]], \"type\": \"contour\"}], \"contourcarpet\": [{\"colorbar\": {\"outlinewidth\": 0, \"ticks\": \"\"}, \"type\": \"contourcarpet\"}], \"heatmap\": [{\"colorbar\": {\"outlinewidth\": 0, \"ticks\": \"\"}, \"colorscale\": [[0.0, \"#0d0887\"], [0.1111111111111111, \"#46039f\"], [0.2222222222222222, \"#7201a8\"], [0.3333333333333333, \"#9c179e\"], [0.4444444444444444, \"#bd3786\"], [0.5555555555555556, \"#d8576b\"], [0.6666666666666666, \"#ed7953\"], [0.7777777777777778, \"#fb9f3a\"], [0.8888888888888888, \"#fdca26\"], [1.0, \"#f0f921\"]], \"type\": \"heatmap\"}], \"heatmapgl\": [{\"colorbar\": {\"outlinewidth\": 0, \"ticks\": \"\"}, \"colorscale\": [[0.0, \"#0d0887\"], [0.1111111111111111, \"#46039f\"], [0.2222222222222222, \"#7201a8\"], [0.3333333333333333, \"#9c179e\"], [0.4444444444444444, \"#bd3786\"], [0.5555555555555556, \"#d8576b\"], [0.6666666666666666, \"#ed7953\"], [0.7777777777777778, \"#fb9f3a\"], [0.8888888888888888, \"#fdca26\"], [1.0, \"#f0f921\"]], \"type\": \"heatmapgl\"}], \"histogram\": [{\"marker\": {\"colorbar\": {\"outlinewidth\": 0, \"ticks\": \"\"}}, \"type\": \"histogram\"}], \"histogram2d\": [{\"colorbar\": {\"outlinewidth\": 0, \"ticks\": \"\"}, \"colorscale\": [[0.0, \"#0d0887\"], [0.1111111111111111, \"#46039f\"], [0.2222222222222222, \"#7201a8\"], [0.3333333333333333, \"#9c179e\"], [0.4444444444444444, \"#bd3786\"], [0.5555555555555556, \"#d8576b\"], [0.6666666666666666, \"#ed7953\"], [0.7777777777777778, \"#fb9f3a\"], [0.8888888888888888, \"#fdca26\"], [1.0, \"#f0f921\"]], \"type\": \"histogram2d\"}], \"histogram2dcontour\": [{\"colorbar\": {\"outlinewidth\": 0, \"ticks\": \"\"}, \"colorscale\": [[0.0, \"#0d0887\"], [0.1111111111111111, \"#46039f\"], [0.2222222222222222, \"#7201a8\"], [0.3333333333333333, \"#9c179e\"], [0.4444444444444444, \"#bd3786\"], [0.5555555555555556, \"#d8576b\"], [0.6666666666666666, \"#ed7953\"], [0.7777777777777778, \"#fb9f3a\"], [0.8888888888888888, \"#fdca26\"], [1.0, \"#f0f921\"]], \"type\": \"histogram2dcontour\"}], \"mesh3d\": [{\"colorbar\": {\"outlinewidth\": 0, \"ticks\": \"\"}, \"type\": \"mesh3d\"}], \"parcoords\": [{\"line\": {\"colorbar\": {\"outlinewidth\": 0, \"ticks\": \"\"}}, \"type\": \"parcoords\"}], \"pie\": [{\"automargin\": true, \"type\": \"pie\"}], \"scatter\": [{\"marker\": {\"colorbar\": {\"outlinewidth\": 0, \"ticks\": \"\"}}, \"type\": \"scatter\"}], \"scatter3d\": [{\"line\": {\"colorbar\": {\"outlinewidth\": 0, \"ticks\": \"\"}}, \"marker\": {\"colorbar\": {\"outlinewidth\": 0, \"ticks\": \"\"}}, \"type\": \"scatter3d\"}], \"scattercarpet\": [{\"marker\": {\"colorbar\": {\"outlinewidth\": 0, \"ticks\": \"\"}}, \"type\": \"scattercarpet\"}], \"scattergeo\": [{\"marker\": {\"colorbar\": {\"outlinewidth\": 0, \"ticks\": \"\"}}, \"type\": \"scattergeo\"}], \"scattergl\": [{\"marker\": {\"colorbar\": {\"outlinewidth\": 0, \"ticks\": \"\"}}, \"type\": \"scattergl\"}], \"scattermapbox\": [{\"marker\": {\"colorbar\": {\"outlinewidth\": 0, \"ticks\": \"\"}}, \"type\": \"scattermapbox\"}], \"scatterpolar\": [{\"marker\": {\"colorbar\": {\"outlinewidth\": 0, \"ticks\": \"\"}}, \"type\": \"scatterpolar\"}], \"scatterpolargl\": [{\"marker\": {\"colorbar\": {\"outlinewidth\": 0, \"ticks\": \"\"}}, \"type\": \"scatterpolargl\"}], \"scatterternary\": [{\"marker\": {\"colorbar\": {\"outlinewidth\": 0, \"ticks\": \"\"}}, \"type\": \"scatterternary\"}], \"surface\": [{\"colorbar\": {\"outlinewidth\": 0, \"ticks\": \"\"}, \"colorscale\": [[0.0, \"#0d0887\"], [0.1111111111111111, \"#46039f\"], [0.2222222222222222, \"#7201a8\"], [0.3333333333333333, \"#9c179e\"], [0.4444444444444444, \"#bd3786\"], [0.5555555555555556, \"#d8576b\"], [0.6666666666666666, \"#ed7953\"], [0.7777777777777778, \"#fb9f3a\"], [0.8888888888888888, \"#fdca26\"], [1.0, \"#f0f921\"]], \"type\": \"surface\"}], \"table\": [{\"cells\": {\"fill\": {\"color\": \"#EBF0F8\"}, \"line\": {\"color\": \"white\"}}, \"header\": {\"fill\": {\"color\": \"#C8D4E3\"}, \"line\": {\"color\": \"white\"}}, \"type\": \"table\"}]}, \"layout\": {\"annotationdefaults\": {\"arrowcolor\": \"#2a3f5f\", \"arrowhead\": 0, \"arrowwidth\": 1}, \"coloraxis\": {\"colorbar\": {\"outlinewidth\": 0, \"ticks\": \"\"}}, \"colorscale\": {\"diverging\": [[0, \"#8e0152\"], [0.1, \"#c51b7d\"], [0.2, \"#de77ae\"], [0.3, \"#f1b6da\"], [0.4, \"#fde0ef\"], [0.5, \"#f7f7f7\"], [0.6, \"#e6f5d0\"], [0.7, \"#b8e186\"], [0.8, \"#7fbc41\"], [0.9, \"#4d9221\"], [1, \"#276419\"]], \"sequential\": [[0.0, \"#0d0887\"], [0.1111111111111111, \"#46039f\"], [0.2222222222222222, \"#7201a8\"], [0.3333333333333333, \"#9c179e\"], [0.4444444444444444, \"#bd3786\"], [0.5555555555555556, \"#d8576b\"], [0.6666666666666666, \"#ed7953\"], [0.7777777777777778, \"#fb9f3a\"], [0.8888888888888888, \"#fdca26\"], [1.0, \"#f0f921\"]], \"sequentialminus\": [[0.0, \"#0d0887\"], [0.1111111111111111, \"#46039f\"], [0.2222222222222222, \"#7201a8\"], [0.3333333333333333, \"#9c179e\"], [0.4444444444444444, \"#bd3786\"], [0.5555555555555556, \"#d8576b\"], [0.6666666666666666, \"#ed7953\"], [0.7777777777777778, \"#fb9f3a\"], [0.8888888888888888, \"#fdca26\"], [1.0, \"#f0f921\"]]}, \"colorway\": [\"#636efa\", \"#EF553B\", \"#00cc96\", \"#ab63fa\", \"#FFA15A\", \"#19d3f3\", \"#FF6692\", \"#B6E880\", \"#FF97FF\", \"#FECB52\"], \"font\": {\"color\": \"#2a3f5f\"}, \"geo\": {\"bgcolor\": \"white\", \"lakecolor\": \"white\", \"landcolor\": \"#E5ECF6\", \"showlakes\": true, \"showland\": true, \"subunitcolor\": \"white\"}, \"hoverlabel\": {\"align\": \"left\"}, \"hovermode\": \"closest\", \"mapbox\": {\"style\": \"light\"}, \"paper_bgcolor\": \"white\", \"plot_bgcolor\": \"#E5ECF6\", \"polar\": {\"angularaxis\": {\"gridcolor\": \"white\", \"linecolor\": \"white\", \"ticks\": \"\"}, \"bgcolor\": \"#E5ECF6\", \"radialaxis\": {\"gridcolor\": \"white\", \"linecolor\": \"white\", \"ticks\": \"\"}}, \"scene\": {\"xaxis\": {\"backgroundcolor\": \"#E5ECF6\", \"gridcolor\": \"white\", \"gridwidth\": 2, \"linecolor\": \"white\", \"showbackground\": true, \"ticks\": \"\", \"zerolinecolor\": \"white\"}, \"yaxis\": {\"backgroundcolor\": \"#E5ECF6\", \"gridcolor\": \"white\", \"gridwidth\": 2, \"linecolor\": \"white\", \"showbackground\": true, \"ticks\": \"\", \"zerolinecolor\": \"white\"}, \"zaxis\": {\"backgroundcolor\": \"#E5ECF6\", \"gridcolor\": \"white\", \"gridwidth\": 2, \"linecolor\": \"white\", \"showbackground\": true, \"ticks\": \"\", \"zerolinecolor\": \"white\"}}, \"shapedefaults\": {\"line\": {\"color\": \"#2a3f5f\"}}, \"ternary\": {\"aaxis\": {\"gridcolor\": \"white\", \"linecolor\": \"white\", \"ticks\": \"\"}, \"baxis\": {\"gridcolor\": \"white\", \"linecolor\": \"white\", \"ticks\": \"\"}, \"bgcolor\": \"#E5ECF6\", \"caxis\": {\"gridcolor\": \"white\", \"linecolor\": \"white\", \"ticks\": \"\"}}, \"title\": {\"x\": 0.05}, \"xaxis\": {\"automargin\": true, \"gridcolor\": \"white\", \"linecolor\": \"white\", \"ticks\": \"\", \"title\": {\"standoff\": 15}, \"zerolinecolor\": \"white\", \"zerolinewidth\": 2}, \"yaxis\": {\"automargin\": true, \"gridcolor\": \"white\", \"linecolor\": \"white\", \"ticks\": \"\", \"title\": {\"standoff\": 15}, \"zerolinecolor\": \"white\", \"zerolinewidth\": 2}}}, \"title\": {\"font\": {\"color\": \"#4D5663\"}}, \"xaxis\": {\"gridcolor\": \"#E1E5ED\", \"showgrid\": true, \"tickfont\": {\"color\": \"#4D5663\"}, \"title\": {\"font\": {\"color\": \"#4D5663\"}, \"text\": \"\"}, \"zerolinecolor\": \"#E1E5ED\"}, \"yaxis\": {\"gridcolor\": \"#E1E5ED\", \"showgrid\": true, \"tickfont\": {\"color\": \"#4D5663\"}, \"title\": {\"font\": {\"color\": \"#4D5663\"}, \"text\": \"\"}, \"zerolinecolor\": \"#E1E5ED\"}},\n",
       "                        {\"showLink\": true, \"linkText\": \"Export to plot.ly\", \"plotlyServerURL\": \"https://plot.ly\", \"responsive\": true}\n",
       "                    ).then(function(){\n",
       "                            \n",
       "var gd = document.getElementById('e288143e-a218-4c33-b721-0b31c51fd607');\n",
       "var x = new MutationObserver(function (mutations, observer) {{\n",
       "        var display = window.getComputedStyle(gd).display;\n",
       "        if (!display || display === 'none') {{\n",
       "            console.log([gd, 'removed!']);\n",
       "            Plotly.purge(gd);\n",
       "            observer.disconnect();\n",
       "        }}\n",
       "}});\n",
       "\n",
       "// Listen for the removal of the full notebook cells\n",
       "var notebookContainer = gd.closest('#notebook-container');\n",
       "if (notebookContainer) {{\n",
       "    x.observe(notebookContainer, {childList: true});\n",
       "}}\n",
       "\n",
       "// Listen for the clearing of the current output cell\n",
       "var outputEl = gd.closest('.output');\n",
       "if (outputEl) {{\n",
       "    x.observe(outputEl, {childList: true});\n",
       "}}\n",
       "\n",
       "                        })\n",
       "                };\n",
       "                });\n",
       "            </script>\n",
       "        </div>"
      ]
     },
     "metadata": {},
     "output_type": "display_data"
    }
   ],
   "source": [
    "# Let this iplot will be scatter\n",
    "df1.iplot(kind='scatter',x='A',y='D')"
   ]
  },
  {
   "cell_type": "code",
   "execution_count": 25,
   "metadata": {},
   "outputs": [
    {
     "data": {
      "application/vnd.plotly.v1+json": {
       "config": {
        "linkText": "Export to plot.ly",
        "plotlyServerURL": "https://plot.ly",
        "showLink": true
       },
       "data": [
        {
         "line": {
          "color": "rgba(255, 153, 51, 1.0)",
          "dash": "solid",
          "shape": "linear",
          "width": 1.3
         },
         "marker": {
          "size": 20,
          "symbol": "circle"
         },
         "mode": "markers",
         "name": "D",
         "text": "",
         "type": "scatter",
         "x": [
          0.9143199744490959,
          -0.6646337852370073,
          -0.14147521428869275,
          -1.5332881680412882,
          -1.095065469170004,
          1.677545617427011,
          1.730306742135822,
          0.3093380042070924,
          1.998060812676102,
          0.2103320482242863,
          -0.36356967714317556,
          1.0009522053146767,
          0.069031037048522,
          -1.4132717659293934,
          1.4342602513904974,
          0.8667006663131418,
          -1.0896509582121268,
          1.3185707666281514,
          0.20761718693952874,
          0.03055838903094499,
          -1.3019172354325668,
          0.4190207620229179,
          0.21463294842463157,
          0.09415542101933022,
          1.102150756931986,
          0.08058368310676578,
          -0.31050578091790093,
          0.7280257375312584,
          -0.7333481572330972,
          0.7111147715815395,
          -0.4534409552547134,
          -0.8493772470868383,
          -2.3618289209284056,
          -1.0355419986958943,
          0.2209044604729675,
          -0.3097002156986558,
          -0.5008454017984665,
          -1.725024685517588,
          -0.19105729905583005,
          -1.3917398712550997,
          -1.373493523702723,
          -0.7176943975375174,
          -0.910332404713052,
          -0.45750099928699495,
          0.236834377371843,
          -1.15271654366376,
          -0.3053263890214957,
          -0.7228191803601534,
          0.22380614257506143,
          -0.893109542297301,
          1.731068296261119,
          -0.8905500303106749,
          -0.43770584584543254,
          1.8228947096849963,
          0.19474734000545416,
          -2.2678586134597416,
          0.7415931835889042,
          -0.45194179738729906,
          0.3167107937975542,
          -0.33618888669222596,
          -0.40957852624382124,
          -0.21251080743656847,
          -0.6478327795201284,
          -0.2506330234581966,
          -0.2388108275357814,
          -0.46447261046488947,
          2.1274922284409015,
          -0.6624602143894611,
          -1.1013961877761724,
          -0.10962658841460418,
          -1.939924292062804,
          -2.922615773741819,
          0.33732369348397273,
          -0.8879693301653936,
          -0.14203014646171108,
          1.8459848092411675,
          0.5451264788261765,
          1.5161798792278758,
          -0.060903470222706466,
          -0.5042434120396577,
          0.24087301804518244,
          1.3184761215231695,
          -0.5311236458104367,
          0.16904327084218684,
          0.21497691222184062,
          -0.04976420464178433,
          -1.2351738292265402,
          -0.09703656247737708,
          -0.813348632878989,
          1.6254085445113675,
          0.2712263240648343,
          -0.9212781749948205,
          -0.5547997988204424,
          -2.13583941926714,
          0.8471102598607632,
          -0.8076097650549745,
          -0.08764701901324923,
          0.19439248949118276,
          -0.6406087430595749,
          -0.38706169745440083
         ],
         "y": [
          1.422135659899816,
          -1.1498108111912997,
          1.0861764712918605,
          -1.1825999353003134,
          0.11291167561684437,
          -1.0403773845489095,
          -0.025311303993222997,
          -0.9472951140262564,
          -2.085462277032858,
          0.009440383763292946,
          1.541228845833113,
          1.2630573123308124,
          0.3384971276271273,
          0.5434655243051836,
          0.7308717669481943,
          -0.6242234349148293,
          1.0228550323490002,
          -0.5438852964735581,
          2.4160027779367375,
          3.272135005557643,
          -0.3568567890795237,
          0.15994644094538,
          -0.6987012157543981,
          1.119745589140762,
          1.9851435250178515,
          1.1393344005681445,
          -0.6696083799239421,
          -1.298623781345975,
          0.07535612656465497,
          0.12709289220993064,
          -0.7212795864169899,
          0.3952199747769614,
          1.1658279999083134,
          -0.4420981198456275,
          -0.2745229175409915,
          0.89942215949408,
          1.118380948719663,
          0.3877599766932124,
          -0.8087028166311288,
          1.487499229658045,
          1.5519149728740191,
          1.3694731873864372,
          1.601986147955227,
          -0.13506288444037565,
          -1.369375767137172,
          -0.21817419631025753,
          -1.0155003638394315,
          1.6066215420516388,
          0.45389069140254856,
          0.6902455540039308,
          0.7995790582998156,
          -2.3599156821347345,
          0.5293063314819895,
          -1.4610251333831956,
          1.3026442181984443,
          -0.8046014329971493,
          0.29243953047445476,
          0.841577786899802,
          0.3065013963290962,
          0.3772090998384718,
          0.26389718721088246,
          1.1213771584945638,
          -0.0697361329895187,
          1.9323489663601012,
          -0.37382569573594654,
          -0.14877895184285853,
          -0.32863546868738913,
          1.0510335931310077,
          1.547170980473415,
          0.05312708727660292,
          0.3904807269355301,
          0.7833833984916323,
          -0.9637414518257233,
          0.7958980874871708,
          1.3480148914094672,
          1.4117346038562641,
          0.18124988767705952,
          -0.5430602873278603,
          -1.5411723805123168,
          -0.32688513528921603,
          0.30380344321727615,
          -0.16493219681876425,
          -1.8370869260684919,
          0.5594449739751,
          -2.2846734450711814,
          -1.7171167755417092,
          1.403981871325172,
          -1.6008085255609552,
          -0.6031396996916586,
          1.2052437927666695,
          1.3674086396322755,
          -1.4283473858637892,
          -0.6545275752649825,
          1.1897801403354284,
          0.8072969646783367,
          0.9630428264620265,
          -0.2747773610557366,
          0.26035190527981555,
          0.44676722055910995,
          2.3965236116694966
         ]
        }
       ],
       "layout": {
        "legend": {
         "bgcolor": "#F5F6F9",
         "font": {
          "color": "#4D5663"
         }
        },
        "paper_bgcolor": "#F5F6F9",
        "plot_bgcolor": "#F5F6F9",
        "template": {
         "data": {
          "bar": [
           {
            "error_x": {
             "color": "#2a3f5f"
            },
            "error_y": {
             "color": "#2a3f5f"
            },
            "marker": {
             "line": {
              "color": "#E5ECF6",
              "width": 0.5
             }
            },
            "type": "bar"
           }
          ],
          "barpolar": [
           {
            "marker": {
             "line": {
              "color": "#E5ECF6",
              "width": 0.5
             }
            },
            "type": "barpolar"
           }
          ],
          "carpet": [
           {
            "aaxis": {
             "endlinecolor": "#2a3f5f",
             "gridcolor": "white",
             "linecolor": "white",
             "minorgridcolor": "white",
             "startlinecolor": "#2a3f5f"
            },
            "baxis": {
             "endlinecolor": "#2a3f5f",
             "gridcolor": "white",
             "linecolor": "white",
             "minorgridcolor": "white",
             "startlinecolor": "#2a3f5f"
            },
            "type": "carpet"
           }
          ],
          "choropleth": [
           {
            "colorbar": {
             "outlinewidth": 0,
             "ticks": ""
            },
            "type": "choropleth"
           }
          ],
          "contour": [
           {
            "colorbar": {
             "outlinewidth": 0,
             "ticks": ""
            },
            "colorscale": [
             [
              0,
              "#0d0887"
             ],
             [
              0.1111111111111111,
              "#46039f"
             ],
             [
              0.2222222222222222,
              "#7201a8"
             ],
             [
              0.3333333333333333,
              "#9c179e"
             ],
             [
              0.4444444444444444,
              "#bd3786"
             ],
             [
              0.5555555555555556,
              "#d8576b"
             ],
             [
              0.6666666666666666,
              "#ed7953"
             ],
             [
              0.7777777777777778,
              "#fb9f3a"
             ],
             [
              0.8888888888888888,
              "#fdca26"
             ],
             [
              1,
              "#f0f921"
             ]
            ],
            "type": "contour"
           }
          ],
          "contourcarpet": [
           {
            "colorbar": {
             "outlinewidth": 0,
             "ticks": ""
            },
            "type": "contourcarpet"
           }
          ],
          "heatmap": [
           {
            "colorbar": {
             "outlinewidth": 0,
             "ticks": ""
            },
            "colorscale": [
             [
              0,
              "#0d0887"
             ],
             [
              0.1111111111111111,
              "#46039f"
             ],
             [
              0.2222222222222222,
              "#7201a8"
             ],
             [
              0.3333333333333333,
              "#9c179e"
             ],
             [
              0.4444444444444444,
              "#bd3786"
             ],
             [
              0.5555555555555556,
              "#d8576b"
             ],
             [
              0.6666666666666666,
              "#ed7953"
             ],
             [
              0.7777777777777778,
              "#fb9f3a"
             ],
             [
              0.8888888888888888,
              "#fdca26"
             ],
             [
              1,
              "#f0f921"
             ]
            ],
            "type": "heatmap"
           }
          ],
          "heatmapgl": [
           {
            "colorbar": {
             "outlinewidth": 0,
             "ticks": ""
            },
            "colorscale": [
             [
              0,
              "#0d0887"
             ],
             [
              0.1111111111111111,
              "#46039f"
             ],
             [
              0.2222222222222222,
              "#7201a8"
             ],
             [
              0.3333333333333333,
              "#9c179e"
             ],
             [
              0.4444444444444444,
              "#bd3786"
             ],
             [
              0.5555555555555556,
              "#d8576b"
             ],
             [
              0.6666666666666666,
              "#ed7953"
             ],
             [
              0.7777777777777778,
              "#fb9f3a"
             ],
             [
              0.8888888888888888,
              "#fdca26"
             ],
             [
              1,
              "#f0f921"
             ]
            ],
            "type": "heatmapgl"
           }
          ],
          "histogram": [
           {
            "marker": {
             "colorbar": {
              "outlinewidth": 0,
              "ticks": ""
             }
            },
            "type": "histogram"
           }
          ],
          "histogram2d": [
           {
            "colorbar": {
             "outlinewidth": 0,
             "ticks": ""
            },
            "colorscale": [
             [
              0,
              "#0d0887"
             ],
             [
              0.1111111111111111,
              "#46039f"
             ],
             [
              0.2222222222222222,
              "#7201a8"
             ],
             [
              0.3333333333333333,
              "#9c179e"
             ],
             [
              0.4444444444444444,
              "#bd3786"
             ],
             [
              0.5555555555555556,
              "#d8576b"
             ],
             [
              0.6666666666666666,
              "#ed7953"
             ],
             [
              0.7777777777777778,
              "#fb9f3a"
             ],
             [
              0.8888888888888888,
              "#fdca26"
             ],
             [
              1,
              "#f0f921"
             ]
            ],
            "type": "histogram2d"
           }
          ],
          "histogram2dcontour": [
           {
            "colorbar": {
             "outlinewidth": 0,
             "ticks": ""
            },
            "colorscale": [
             [
              0,
              "#0d0887"
             ],
             [
              0.1111111111111111,
              "#46039f"
             ],
             [
              0.2222222222222222,
              "#7201a8"
             ],
             [
              0.3333333333333333,
              "#9c179e"
             ],
             [
              0.4444444444444444,
              "#bd3786"
             ],
             [
              0.5555555555555556,
              "#d8576b"
             ],
             [
              0.6666666666666666,
              "#ed7953"
             ],
             [
              0.7777777777777778,
              "#fb9f3a"
             ],
             [
              0.8888888888888888,
              "#fdca26"
             ],
             [
              1,
              "#f0f921"
             ]
            ],
            "type": "histogram2dcontour"
           }
          ],
          "mesh3d": [
           {
            "colorbar": {
             "outlinewidth": 0,
             "ticks": ""
            },
            "type": "mesh3d"
           }
          ],
          "parcoords": [
           {
            "line": {
             "colorbar": {
              "outlinewidth": 0,
              "ticks": ""
             }
            },
            "type": "parcoords"
           }
          ],
          "pie": [
           {
            "automargin": true,
            "type": "pie"
           }
          ],
          "scatter": [
           {
            "marker": {
             "colorbar": {
              "outlinewidth": 0,
              "ticks": ""
             }
            },
            "type": "scatter"
           }
          ],
          "scatter3d": [
           {
            "line": {
             "colorbar": {
              "outlinewidth": 0,
              "ticks": ""
             }
            },
            "marker": {
             "colorbar": {
              "outlinewidth": 0,
              "ticks": ""
             }
            },
            "type": "scatter3d"
           }
          ],
          "scattercarpet": [
           {
            "marker": {
             "colorbar": {
              "outlinewidth": 0,
              "ticks": ""
             }
            },
            "type": "scattercarpet"
           }
          ],
          "scattergeo": [
           {
            "marker": {
             "colorbar": {
              "outlinewidth": 0,
              "ticks": ""
             }
            },
            "type": "scattergeo"
           }
          ],
          "scattergl": [
           {
            "marker": {
             "colorbar": {
              "outlinewidth": 0,
              "ticks": ""
             }
            },
            "type": "scattergl"
           }
          ],
          "scattermapbox": [
           {
            "marker": {
             "colorbar": {
              "outlinewidth": 0,
              "ticks": ""
             }
            },
            "type": "scattermapbox"
           }
          ],
          "scatterpolar": [
           {
            "marker": {
             "colorbar": {
              "outlinewidth": 0,
              "ticks": ""
             }
            },
            "type": "scatterpolar"
           }
          ],
          "scatterpolargl": [
           {
            "marker": {
             "colorbar": {
              "outlinewidth": 0,
              "ticks": ""
             }
            },
            "type": "scatterpolargl"
           }
          ],
          "scatterternary": [
           {
            "marker": {
             "colorbar": {
              "outlinewidth": 0,
              "ticks": ""
             }
            },
            "type": "scatterternary"
           }
          ],
          "surface": [
           {
            "colorbar": {
             "outlinewidth": 0,
             "ticks": ""
            },
            "colorscale": [
             [
              0,
              "#0d0887"
             ],
             [
              0.1111111111111111,
              "#46039f"
             ],
             [
              0.2222222222222222,
              "#7201a8"
             ],
             [
              0.3333333333333333,
              "#9c179e"
             ],
             [
              0.4444444444444444,
              "#bd3786"
             ],
             [
              0.5555555555555556,
              "#d8576b"
             ],
             [
              0.6666666666666666,
              "#ed7953"
             ],
             [
              0.7777777777777778,
              "#fb9f3a"
             ],
             [
              0.8888888888888888,
              "#fdca26"
             ],
             [
              1,
              "#f0f921"
             ]
            ],
            "type": "surface"
           }
          ],
          "table": [
           {
            "cells": {
             "fill": {
              "color": "#EBF0F8"
             },
             "line": {
              "color": "white"
             }
            },
            "header": {
             "fill": {
              "color": "#C8D4E3"
             },
             "line": {
              "color": "white"
             }
            },
            "type": "table"
           }
          ]
         },
         "layout": {
          "annotationdefaults": {
           "arrowcolor": "#2a3f5f",
           "arrowhead": 0,
           "arrowwidth": 1
          },
          "coloraxis": {
           "colorbar": {
            "outlinewidth": 0,
            "ticks": ""
           }
          },
          "colorscale": {
           "diverging": [
            [
             0,
             "#8e0152"
            ],
            [
             0.1,
             "#c51b7d"
            ],
            [
             0.2,
             "#de77ae"
            ],
            [
             0.3,
             "#f1b6da"
            ],
            [
             0.4,
             "#fde0ef"
            ],
            [
             0.5,
             "#f7f7f7"
            ],
            [
             0.6,
             "#e6f5d0"
            ],
            [
             0.7,
             "#b8e186"
            ],
            [
             0.8,
             "#7fbc41"
            ],
            [
             0.9,
             "#4d9221"
            ],
            [
             1,
             "#276419"
            ]
           ],
           "sequential": [
            [
             0,
             "#0d0887"
            ],
            [
             0.1111111111111111,
             "#46039f"
            ],
            [
             0.2222222222222222,
             "#7201a8"
            ],
            [
             0.3333333333333333,
             "#9c179e"
            ],
            [
             0.4444444444444444,
             "#bd3786"
            ],
            [
             0.5555555555555556,
             "#d8576b"
            ],
            [
             0.6666666666666666,
             "#ed7953"
            ],
            [
             0.7777777777777778,
             "#fb9f3a"
            ],
            [
             0.8888888888888888,
             "#fdca26"
            ],
            [
             1,
             "#f0f921"
            ]
           ],
           "sequentialminus": [
            [
             0,
             "#0d0887"
            ],
            [
             0.1111111111111111,
             "#46039f"
            ],
            [
             0.2222222222222222,
             "#7201a8"
            ],
            [
             0.3333333333333333,
             "#9c179e"
            ],
            [
             0.4444444444444444,
             "#bd3786"
            ],
            [
             0.5555555555555556,
             "#d8576b"
            ],
            [
             0.6666666666666666,
             "#ed7953"
            ],
            [
             0.7777777777777778,
             "#fb9f3a"
            ],
            [
             0.8888888888888888,
             "#fdca26"
            ],
            [
             1,
             "#f0f921"
            ]
           ]
          },
          "colorway": [
           "#636efa",
           "#EF553B",
           "#00cc96",
           "#ab63fa",
           "#FFA15A",
           "#19d3f3",
           "#FF6692",
           "#B6E880",
           "#FF97FF",
           "#FECB52"
          ],
          "font": {
           "color": "#2a3f5f"
          },
          "geo": {
           "bgcolor": "white",
           "lakecolor": "white",
           "landcolor": "#E5ECF6",
           "showlakes": true,
           "showland": true,
           "subunitcolor": "white"
          },
          "hoverlabel": {
           "align": "left"
          },
          "hovermode": "closest",
          "mapbox": {
           "style": "light"
          },
          "paper_bgcolor": "white",
          "plot_bgcolor": "#E5ECF6",
          "polar": {
           "angularaxis": {
            "gridcolor": "white",
            "linecolor": "white",
            "ticks": ""
           },
           "bgcolor": "#E5ECF6",
           "radialaxis": {
            "gridcolor": "white",
            "linecolor": "white",
            "ticks": ""
           }
          },
          "scene": {
           "xaxis": {
            "backgroundcolor": "#E5ECF6",
            "gridcolor": "white",
            "gridwidth": 2,
            "linecolor": "white",
            "showbackground": true,
            "ticks": "",
            "zerolinecolor": "white"
           },
           "yaxis": {
            "backgroundcolor": "#E5ECF6",
            "gridcolor": "white",
            "gridwidth": 2,
            "linecolor": "white",
            "showbackground": true,
            "ticks": "",
            "zerolinecolor": "white"
           },
           "zaxis": {
            "backgroundcolor": "#E5ECF6",
            "gridcolor": "white",
            "gridwidth": 2,
            "linecolor": "white",
            "showbackground": true,
            "ticks": "",
            "zerolinecolor": "white"
           }
          },
          "shapedefaults": {
           "line": {
            "color": "#2a3f5f"
           }
          },
          "ternary": {
           "aaxis": {
            "gridcolor": "white",
            "linecolor": "white",
            "ticks": ""
           },
           "baxis": {
            "gridcolor": "white",
            "linecolor": "white",
            "ticks": ""
           },
           "bgcolor": "#E5ECF6",
           "caxis": {
            "gridcolor": "white",
            "linecolor": "white",
            "ticks": ""
           }
          },
          "title": {
           "x": 0.05
          },
          "xaxis": {
           "automargin": true,
           "gridcolor": "white",
           "linecolor": "white",
           "ticks": "",
           "title": {
            "standoff": 15
           },
           "zerolinecolor": "white",
           "zerolinewidth": 2
          },
          "yaxis": {
           "automargin": true,
           "gridcolor": "white",
           "linecolor": "white",
           "ticks": "",
           "title": {
            "standoff": 15
           },
           "zerolinecolor": "white",
           "zerolinewidth": 2
          }
         }
        },
        "title": {
         "font": {
          "color": "#4D5663"
         }
        },
        "xaxis": {
         "gridcolor": "#E1E5ED",
         "showgrid": true,
         "tickfont": {
          "color": "#4D5663"
         },
         "title": {
          "font": {
           "color": "#4D5663"
          },
          "text": ""
         },
         "zerolinecolor": "#E1E5ED"
        },
        "yaxis": {
         "gridcolor": "#E1E5ED",
         "showgrid": true,
         "tickfont": {
          "color": "#4D5663"
         },
         "title": {
          "font": {
           "color": "#4D5663"
          },
          "text": ""
         },
         "zerolinecolor": "#E1E5ED"
        }
       }
      },
      "text/html": [
       "<div>\n",
       "        \n",
       "        \n",
       "            <div id=\"5c3128e7-333a-43d3-86db-f12a3af9c0f3\" class=\"plotly-graph-div\" style=\"height:525px; width:100%;\"></div>\n",
       "            <script type=\"text/javascript\">\n",
       "                require([\"plotly\"], function(Plotly) {\n",
       "                    window.PLOTLYENV=window.PLOTLYENV || {};\n",
       "                    window.PLOTLYENV.BASE_URL='https://plot.ly';\n",
       "                    \n",
       "                if (document.getElementById(\"5c3128e7-333a-43d3-86db-f12a3af9c0f3\")) {\n",
       "                    Plotly.newPlot(\n",
       "                        '5c3128e7-333a-43d3-86db-f12a3af9c0f3',\n",
       "                        [{\"line\": {\"color\": \"rgba(255, 153, 51, 1.0)\", \"dash\": \"solid\", \"shape\": \"linear\", \"width\": 1.3}, \"marker\": {\"size\": 20, \"symbol\": \"circle\"}, \"mode\": \"markers\", \"name\": \"D\", \"text\": \"\", \"type\": \"scatter\", \"x\": [0.9143199744490959, -0.6646337852370073, -0.14147521428869275, -1.5332881680412882, -1.095065469170004, 1.677545617427011, 1.730306742135822, 0.3093380042070924, 1.998060812676102, 0.2103320482242863, -0.36356967714317556, 1.0009522053146767, 0.069031037048522, -1.4132717659293934, 1.4342602513904974, 0.8667006663131418, -1.0896509582121268, 1.3185707666281514, 0.20761718693952874, 0.03055838903094499, -1.3019172354325668, 0.4190207620229179, 0.21463294842463157, 0.09415542101933022, 1.102150756931986, 0.08058368310676578, -0.31050578091790093, 0.7280257375312584, -0.7333481572330972, 0.7111147715815395, -0.4534409552547134, -0.8493772470868383, -2.3618289209284056, -1.0355419986958943, 0.2209044604729675, -0.3097002156986558, -0.5008454017984665, -1.725024685517588, -0.19105729905583005, -1.3917398712550997, -1.373493523702723, -0.7176943975375174, -0.910332404713052, -0.45750099928699495, 0.236834377371843, -1.15271654366376, -0.3053263890214957, -0.7228191803601534, 0.22380614257506143, -0.893109542297301, 1.731068296261119, -0.8905500303106749, -0.43770584584543254, 1.8228947096849963, 0.19474734000545416, -2.2678586134597416, 0.7415931835889042, -0.45194179738729906, 0.3167107937975542, -0.33618888669222596, -0.40957852624382124, -0.21251080743656847, -0.6478327795201284, -0.2506330234581966, -0.2388108275357814, -0.46447261046488947, 2.1274922284409015, -0.6624602143894611, -1.1013961877761724, -0.10962658841460418, -1.939924292062804, -2.922615773741819, 0.33732369348397273, -0.8879693301653936, -0.14203014646171108, 1.8459848092411675, 0.5451264788261765, 1.5161798792278758, -0.060903470222706466, -0.5042434120396577, 0.24087301804518244, 1.3184761215231695, -0.5311236458104367, 0.16904327084218684, 0.21497691222184062, -0.04976420464178433, -1.2351738292265402, -0.09703656247737708, -0.813348632878989, 1.6254085445113675, 0.2712263240648343, -0.9212781749948205, -0.5547997988204424, -2.13583941926714, 0.8471102598607632, -0.8076097650549745, -0.08764701901324923, 0.19439248949118276, -0.6406087430595749, -0.38706169745440083], \"y\": [1.422135659899816, -1.1498108111912997, 1.0861764712918605, -1.1825999353003134, 0.11291167561684437, -1.0403773845489095, -0.025311303993222997, -0.9472951140262564, -2.085462277032858, 0.009440383763292946, 1.541228845833113, 1.2630573123308124, 0.3384971276271273, 0.5434655243051836, 0.7308717669481943, -0.6242234349148293, 1.0228550323490002, -0.5438852964735581, 2.4160027779367375, 3.272135005557643, -0.3568567890795237, 0.15994644094538, -0.6987012157543981, 1.119745589140762, 1.9851435250178515, 1.1393344005681445, -0.6696083799239421, -1.298623781345975, 0.07535612656465497, 0.12709289220993064, -0.7212795864169899, 0.3952199747769614, 1.1658279999083134, -0.4420981198456275, -0.2745229175409915, 0.89942215949408, 1.118380948719663, 0.3877599766932124, -0.8087028166311288, 1.487499229658045, 1.5519149728740191, 1.3694731873864372, 1.601986147955227, -0.13506288444037565, -1.369375767137172, -0.21817419631025753, -1.0155003638394315, 1.6066215420516388, 0.45389069140254856, 0.6902455540039308, 0.7995790582998156, -2.3599156821347345, 0.5293063314819895, -1.4610251333831956, 1.3026442181984443, -0.8046014329971493, 0.29243953047445476, 0.841577786899802, 0.3065013963290962, 0.3772090998384718, 0.26389718721088246, 1.1213771584945638, -0.0697361329895187, 1.9323489663601012, -0.37382569573594654, -0.14877895184285853, -0.32863546868738913, 1.0510335931310077, 1.547170980473415, 0.05312708727660292, 0.3904807269355301, 0.7833833984916323, -0.9637414518257233, 0.7958980874871708, 1.3480148914094672, 1.4117346038562641, 0.18124988767705952, -0.5430602873278603, -1.5411723805123168, -0.32688513528921603, 0.30380344321727615, -0.16493219681876425, -1.8370869260684919, 0.5594449739751, -2.2846734450711814, -1.7171167755417092, 1.403981871325172, -1.6008085255609552, -0.6031396996916586, 1.2052437927666695, 1.3674086396322755, -1.4283473858637892, -0.6545275752649825, 1.1897801403354284, 0.8072969646783367, 0.9630428264620265, -0.2747773610557366, 0.26035190527981555, 0.44676722055910995, 2.3965236116694966]}],\n",
       "                        {\"legend\": {\"bgcolor\": \"#F5F6F9\", \"font\": {\"color\": \"#4D5663\"}}, \"paper_bgcolor\": \"#F5F6F9\", \"plot_bgcolor\": \"#F5F6F9\", \"template\": {\"data\": {\"bar\": [{\"error_x\": {\"color\": \"#2a3f5f\"}, \"error_y\": {\"color\": \"#2a3f5f\"}, \"marker\": {\"line\": {\"color\": \"#E5ECF6\", \"width\": 0.5}}, \"type\": \"bar\"}], \"barpolar\": [{\"marker\": {\"line\": {\"color\": \"#E5ECF6\", \"width\": 0.5}}, \"type\": \"barpolar\"}], \"carpet\": [{\"aaxis\": {\"endlinecolor\": \"#2a3f5f\", \"gridcolor\": \"white\", \"linecolor\": \"white\", \"minorgridcolor\": \"white\", \"startlinecolor\": \"#2a3f5f\"}, \"baxis\": {\"endlinecolor\": \"#2a3f5f\", \"gridcolor\": \"white\", \"linecolor\": \"white\", \"minorgridcolor\": \"white\", \"startlinecolor\": \"#2a3f5f\"}, \"type\": \"carpet\"}], \"choropleth\": [{\"colorbar\": {\"outlinewidth\": 0, \"ticks\": \"\"}, \"type\": \"choropleth\"}], \"contour\": [{\"colorbar\": {\"outlinewidth\": 0, \"ticks\": \"\"}, \"colorscale\": [[0.0, \"#0d0887\"], [0.1111111111111111, \"#46039f\"], [0.2222222222222222, \"#7201a8\"], [0.3333333333333333, \"#9c179e\"], [0.4444444444444444, \"#bd3786\"], [0.5555555555555556, \"#d8576b\"], [0.6666666666666666, \"#ed7953\"], [0.7777777777777778, \"#fb9f3a\"], [0.8888888888888888, \"#fdca26\"], [1.0, \"#f0f921\"]], \"type\": \"contour\"}], \"contourcarpet\": [{\"colorbar\": {\"outlinewidth\": 0, \"ticks\": \"\"}, \"type\": \"contourcarpet\"}], \"heatmap\": [{\"colorbar\": {\"outlinewidth\": 0, \"ticks\": \"\"}, \"colorscale\": [[0.0, \"#0d0887\"], [0.1111111111111111, \"#46039f\"], [0.2222222222222222, \"#7201a8\"], [0.3333333333333333, \"#9c179e\"], [0.4444444444444444, \"#bd3786\"], [0.5555555555555556, \"#d8576b\"], [0.6666666666666666, \"#ed7953\"], [0.7777777777777778, \"#fb9f3a\"], [0.8888888888888888, \"#fdca26\"], [1.0, \"#f0f921\"]], \"type\": \"heatmap\"}], \"heatmapgl\": [{\"colorbar\": {\"outlinewidth\": 0, \"ticks\": \"\"}, \"colorscale\": [[0.0, \"#0d0887\"], [0.1111111111111111, \"#46039f\"], [0.2222222222222222, \"#7201a8\"], [0.3333333333333333, \"#9c179e\"], [0.4444444444444444, \"#bd3786\"], [0.5555555555555556, \"#d8576b\"], [0.6666666666666666, \"#ed7953\"], [0.7777777777777778, \"#fb9f3a\"], [0.8888888888888888, \"#fdca26\"], [1.0, \"#f0f921\"]], \"type\": \"heatmapgl\"}], \"histogram\": [{\"marker\": {\"colorbar\": {\"outlinewidth\": 0, \"ticks\": \"\"}}, \"type\": \"histogram\"}], \"histogram2d\": [{\"colorbar\": {\"outlinewidth\": 0, \"ticks\": \"\"}, \"colorscale\": [[0.0, \"#0d0887\"], [0.1111111111111111, \"#46039f\"], [0.2222222222222222, \"#7201a8\"], [0.3333333333333333, \"#9c179e\"], [0.4444444444444444, \"#bd3786\"], [0.5555555555555556, \"#d8576b\"], [0.6666666666666666, \"#ed7953\"], [0.7777777777777778, \"#fb9f3a\"], [0.8888888888888888, \"#fdca26\"], [1.0, \"#f0f921\"]], \"type\": \"histogram2d\"}], \"histogram2dcontour\": [{\"colorbar\": {\"outlinewidth\": 0, \"ticks\": \"\"}, \"colorscale\": [[0.0, \"#0d0887\"], [0.1111111111111111, \"#46039f\"], [0.2222222222222222, \"#7201a8\"], [0.3333333333333333, \"#9c179e\"], [0.4444444444444444, \"#bd3786\"], [0.5555555555555556, \"#d8576b\"], [0.6666666666666666, \"#ed7953\"], [0.7777777777777778, \"#fb9f3a\"], [0.8888888888888888, \"#fdca26\"], [1.0, \"#f0f921\"]], \"type\": \"histogram2dcontour\"}], \"mesh3d\": [{\"colorbar\": {\"outlinewidth\": 0, \"ticks\": \"\"}, \"type\": \"mesh3d\"}], \"parcoords\": [{\"line\": {\"colorbar\": {\"outlinewidth\": 0, \"ticks\": \"\"}}, \"type\": \"parcoords\"}], \"pie\": [{\"automargin\": true, \"type\": \"pie\"}], \"scatter\": [{\"marker\": {\"colorbar\": {\"outlinewidth\": 0, \"ticks\": \"\"}}, \"type\": \"scatter\"}], \"scatter3d\": [{\"line\": {\"colorbar\": {\"outlinewidth\": 0, \"ticks\": \"\"}}, \"marker\": {\"colorbar\": {\"outlinewidth\": 0, \"ticks\": \"\"}}, \"type\": \"scatter3d\"}], \"scattercarpet\": [{\"marker\": {\"colorbar\": {\"outlinewidth\": 0, \"ticks\": \"\"}}, \"type\": \"scattercarpet\"}], \"scattergeo\": [{\"marker\": {\"colorbar\": {\"outlinewidth\": 0, \"ticks\": \"\"}}, \"type\": \"scattergeo\"}], \"scattergl\": [{\"marker\": {\"colorbar\": {\"outlinewidth\": 0, \"ticks\": \"\"}}, \"type\": \"scattergl\"}], \"scattermapbox\": [{\"marker\": {\"colorbar\": {\"outlinewidth\": 0, \"ticks\": \"\"}}, \"type\": \"scattermapbox\"}], \"scatterpolar\": [{\"marker\": {\"colorbar\": {\"outlinewidth\": 0, \"ticks\": \"\"}}, \"type\": \"scatterpolar\"}], \"scatterpolargl\": [{\"marker\": {\"colorbar\": {\"outlinewidth\": 0, \"ticks\": \"\"}}, \"type\": \"scatterpolargl\"}], \"scatterternary\": [{\"marker\": {\"colorbar\": {\"outlinewidth\": 0, \"ticks\": \"\"}}, \"type\": \"scatterternary\"}], \"surface\": [{\"colorbar\": {\"outlinewidth\": 0, \"ticks\": \"\"}, \"colorscale\": [[0.0, \"#0d0887\"], [0.1111111111111111, \"#46039f\"], [0.2222222222222222, \"#7201a8\"], [0.3333333333333333, \"#9c179e\"], [0.4444444444444444, \"#bd3786\"], [0.5555555555555556, \"#d8576b\"], [0.6666666666666666, \"#ed7953\"], [0.7777777777777778, \"#fb9f3a\"], [0.8888888888888888, \"#fdca26\"], [1.0, \"#f0f921\"]], \"type\": \"surface\"}], \"table\": [{\"cells\": {\"fill\": {\"color\": \"#EBF0F8\"}, \"line\": {\"color\": \"white\"}}, \"header\": {\"fill\": {\"color\": \"#C8D4E3\"}, \"line\": {\"color\": \"white\"}}, \"type\": \"table\"}]}, \"layout\": {\"annotationdefaults\": {\"arrowcolor\": \"#2a3f5f\", \"arrowhead\": 0, \"arrowwidth\": 1}, \"coloraxis\": {\"colorbar\": {\"outlinewidth\": 0, \"ticks\": \"\"}}, \"colorscale\": {\"diverging\": [[0, \"#8e0152\"], [0.1, \"#c51b7d\"], [0.2, \"#de77ae\"], [0.3, \"#f1b6da\"], [0.4, \"#fde0ef\"], [0.5, \"#f7f7f7\"], [0.6, \"#e6f5d0\"], [0.7, \"#b8e186\"], [0.8, \"#7fbc41\"], [0.9, \"#4d9221\"], [1, \"#276419\"]], \"sequential\": [[0.0, \"#0d0887\"], [0.1111111111111111, \"#46039f\"], [0.2222222222222222, \"#7201a8\"], [0.3333333333333333, \"#9c179e\"], [0.4444444444444444, \"#bd3786\"], [0.5555555555555556, \"#d8576b\"], [0.6666666666666666, \"#ed7953\"], [0.7777777777777778, \"#fb9f3a\"], [0.8888888888888888, \"#fdca26\"], [1.0, \"#f0f921\"]], \"sequentialminus\": [[0.0, \"#0d0887\"], [0.1111111111111111, \"#46039f\"], [0.2222222222222222, \"#7201a8\"], [0.3333333333333333, \"#9c179e\"], [0.4444444444444444, \"#bd3786\"], [0.5555555555555556, \"#d8576b\"], [0.6666666666666666, \"#ed7953\"], [0.7777777777777778, \"#fb9f3a\"], [0.8888888888888888, \"#fdca26\"], [1.0, \"#f0f921\"]]}, \"colorway\": [\"#636efa\", \"#EF553B\", \"#00cc96\", \"#ab63fa\", \"#FFA15A\", \"#19d3f3\", \"#FF6692\", \"#B6E880\", \"#FF97FF\", \"#FECB52\"], \"font\": {\"color\": \"#2a3f5f\"}, \"geo\": {\"bgcolor\": \"white\", \"lakecolor\": \"white\", \"landcolor\": \"#E5ECF6\", \"showlakes\": true, \"showland\": true, \"subunitcolor\": \"white\"}, \"hoverlabel\": {\"align\": \"left\"}, \"hovermode\": \"closest\", \"mapbox\": {\"style\": \"light\"}, \"paper_bgcolor\": \"white\", \"plot_bgcolor\": \"#E5ECF6\", \"polar\": {\"angularaxis\": {\"gridcolor\": \"white\", \"linecolor\": \"white\", \"ticks\": \"\"}, \"bgcolor\": \"#E5ECF6\", \"radialaxis\": {\"gridcolor\": \"white\", \"linecolor\": \"white\", \"ticks\": \"\"}}, \"scene\": {\"xaxis\": {\"backgroundcolor\": \"#E5ECF6\", \"gridcolor\": \"white\", \"gridwidth\": 2, \"linecolor\": \"white\", \"showbackground\": true, \"ticks\": \"\", \"zerolinecolor\": \"white\"}, \"yaxis\": {\"backgroundcolor\": \"#E5ECF6\", \"gridcolor\": \"white\", \"gridwidth\": 2, \"linecolor\": \"white\", \"showbackground\": true, \"ticks\": \"\", \"zerolinecolor\": \"white\"}, \"zaxis\": {\"backgroundcolor\": \"#E5ECF6\", \"gridcolor\": \"white\", \"gridwidth\": 2, \"linecolor\": \"white\", \"showbackground\": true, \"ticks\": \"\", \"zerolinecolor\": \"white\"}}, \"shapedefaults\": {\"line\": {\"color\": \"#2a3f5f\"}}, \"ternary\": {\"aaxis\": {\"gridcolor\": \"white\", \"linecolor\": \"white\", \"ticks\": \"\"}, \"baxis\": {\"gridcolor\": \"white\", \"linecolor\": \"white\", \"ticks\": \"\"}, \"bgcolor\": \"#E5ECF6\", \"caxis\": {\"gridcolor\": \"white\", \"linecolor\": \"white\", \"ticks\": \"\"}}, \"title\": {\"x\": 0.05}, \"xaxis\": {\"automargin\": true, \"gridcolor\": \"white\", \"linecolor\": \"white\", \"ticks\": \"\", \"title\": {\"standoff\": 15}, \"zerolinecolor\": \"white\", \"zerolinewidth\": 2}, \"yaxis\": {\"automargin\": true, \"gridcolor\": \"white\", \"linecolor\": \"white\", \"ticks\": \"\", \"title\": {\"standoff\": 15}, \"zerolinecolor\": \"white\", \"zerolinewidth\": 2}}}, \"title\": {\"font\": {\"color\": \"#4D5663\"}}, \"xaxis\": {\"gridcolor\": \"#E1E5ED\", \"showgrid\": true, \"tickfont\": {\"color\": \"#4D5663\"}, \"title\": {\"font\": {\"color\": \"#4D5663\"}, \"text\": \"\"}, \"zerolinecolor\": \"#E1E5ED\"}, \"yaxis\": {\"gridcolor\": \"#E1E5ED\", \"showgrid\": true, \"tickfont\": {\"color\": \"#4D5663\"}, \"title\": {\"font\": {\"color\": \"#4D5663\"}, \"text\": \"\"}, \"zerolinecolor\": \"#E1E5ED\"}},\n",
       "                        {\"showLink\": true, \"linkText\": \"Export to plot.ly\", \"plotlyServerURL\": \"https://plot.ly\", \"responsive\": true}\n",
       "                    ).then(function(){\n",
       "                            \n",
       "var gd = document.getElementById('5c3128e7-333a-43d3-86db-f12a3af9c0f3');\n",
       "var x = new MutationObserver(function (mutations, observer) {{\n",
       "        var display = window.getComputedStyle(gd).display;\n",
       "        if (!display || display === 'none') {{\n",
       "            console.log([gd, 'removed!']);\n",
       "            Plotly.purge(gd);\n",
       "            observer.disconnect();\n",
       "        }}\n",
       "}});\n",
       "\n",
       "// Listen for the removal of the full notebook cells\n",
       "var notebookContainer = gd.closest('#notebook-container');\n",
       "if (notebookContainer) {{\n",
       "    x.observe(notebookContainer, {childList: true});\n",
       "}}\n",
       "\n",
       "// Listen for the clearing of the current output cell\n",
       "var outputEl = gd.closest('.output');\n",
       "if (outputEl) {{\n",
       "    x.observe(outputEl, {childList: true});\n",
       "}}\n",
       "\n",
       "                        })\n",
       "                };\n",
       "                });\n",
       "            </script>\n",
       "        </div>"
      ]
     },
     "metadata": {},
     "output_type": "display_data"
    }
   ],
   "source": [
    "# I will make scatter iplot with df1 but it differs from df2\n",
    "df1.iplot(kind='scatter',x='A',y='D',mode='markers',size=20)"
   ]
  },
  {
   "cell_type": "code",
   "execution_count": 26,
   "metadata": {},
   "outputs": [
    {
     "data": {
      "application/vnd.plotly.v1+json": {
       "config": {
        "linkText": "Export to plot.ly",
        "plotlyServerURL": "https://plot.ly",
        "showLink": true
       },
       "data": [
        {
         "marker": {
          "color": "rgba(255, 153, 51, 0.6)",
          "line": {
           "color": "rgba(255, 153, 51, 1.0)",
           "width": 1
          }
         },
         "name": "Value",
         "orientation": "v",
         "text": "",
         "type": "bar",
         "x": [
          "A",
          "B",
          "C"
         ],
         "y": [
          32,
          44,
          50
         ]
        }
       ],
       "layout": {
        "legend": {
         "bgcolor": "#F5F6F9",
         "font": {
          "color": "#4D5663"
         }
        },
        "paper_bgcolor": "#F5F6F9",
        "plot_bgcolor": "#F5F6F9",
        "template": {
         "data": {
          "bar": [
           {
            "error_x": {
             "color": "#2a3f5f"
            },
            "error_y": {
             "color": "#2a3f5f"
            },
            "marker": {
             "line": {
              "color": "#E5ECF6",
              "width": 0.5
             }
            },
            "type": "bar"
           }
          ],
          "barpolar": [
           {
            "marker": {
             "line": {
              "color": "#E5ECF6",
              "width": 0.5
             }
            },
            "type": "barpolar"
           }
          ],
          "carpet": [
           {
            "aaxis": {
             "endlinecolor": "#2a3f5f",
             "gridcolor": "white",
             "linecolor": "white",
             "minorgridcolor": "white",
             "startlinecolor": "#2a3f5f"
            },
            "baxis": {
             "endlinecolor": "#2a3f5f",
             "gridcolor": "white",
             "linecolor": "white",
             "minorgridcolor": "white",
             "startlinecolor": "#2a3f5f"
            },
            "type": "carpet"
           }
          ],
          "choropleth": [
           {
            "colorbar": {
             "outlinewidth": 0,
             "ticks": ""
            },
            "type": "choropleth"
           }
          ],
          "contour": [
           {
            "colorbar": {
             "outlinewidth": 0,
             "ticks": ""
            },
            "colorscale": [
             [
              0,
              "#0d0887"
             ],
             [
              0.1111111111111111,
              "#46039f"
             ],
             [
              0.2222222222222222,
              "#7201a8"
             ],
             [
              0.3333333333333333,
              "#9c179e"
             ],
             [
              0.4444444444444444,
              "#bd3786"
             ],
             [
              0.5555555555555556,
              "#d8576b"
             ],
             [
              0.6666666666666666,
              "#ed7953"
             ],
             [
              0.7777777777777778,
              "#fb9f3a"
             ],
             [
              0.8888888888888888,
              "#fdca26"
             ],
             [
              1,
              "#f0f921"
             ]
            ],
            "type": "contour"
           }
          ],
          "contourcarpet": [
           {
            "colorbar": {
             "outlinewidth": 0,
             "ticks": ""
            },
            "type": "contourcarpet"
           }
          ],
          "heatmap": [
           {
            "colorbar": {
             "outlinewidth": 0,
             "ticks": ""
            },
            "colorscale": [
             [
              0,
              "#0d0887"
             ],
             [
              0.1111111111111111,
              "#46039f"
             ],
             [
              0.2222222222222222,
              "#7201a8"
             ],
             [
              0.3333333333333333,
              "#9c179e"
             ],
             [
              0.4444444444444444,
              "#bd3786"
             ],
             [
              0.5555555555555556,
              "#d8576b"
             ],
             [
              0.6666666666666666,
              "#ed7953"
             ],
             [
              0.7777777777777778,
              "#fb9f3a"
             ],
             [
              0.8888888888888888,
              "#fdca26"
             ],
             [
              1,
              "#f0f921"
             ]
            ],
            "type": "heatmap"
           }
          ],
          "heatmapgl": [
           {
            "colorbar": {
             "outlinewidth": 0,
             "ticks": ""
            },
            "colorscale": [
             [
              0,
              "#0d0887"
             ],
             [
              0.1111111111111111,
              "#46039f"
             ],
             [
              0.2222222222222222,
              "#7201a8"
             ],
             [
              0.3333333333333333,
              "#9c179e"
             ],
             [
              0.4444444444444444,
              "#bd3786"
             ],
             [
              0.5555555555555556,
              "#d8576b"
             ],
             [
              0.6666666666666666,
              "#ed7953"
             ],
             [
              0.7777777777777778,
              "#fb9f3a"
             ],
             [
              0.8888888888888888,
              "#fdca26"
             ],
             [
              1,
              "#f0f921"
             ]
            ],
            "type": "heatmapgl"
           }
          ],
          "histogram": [
           {
            "marker": {
             "colorbar": {
              "outlinewidth": 0,
              "ticks": ""
             }
            },
            "type": "histogram"
           }
          ],
          "histogram2d": [
           {
            "colorbar": {
             "outlinewidth": 0,
             "ticks": ""
            },
            "colorscale": [
             [
              0,
              "#0d0887"
             ],
             [
              0.1111111111111111,
              "#46039f"
             ],
             [
              0.2222222222222222,
              "#7201a8"
             ],
             [
              0.3333333333333333,
              "#9c179e"
             ],
             [
              0.4444444444444444,
              "#bd3786"
             ],
             [
              0.5555555555555556,
              "#d8576b"
             ],
             [
              0.6666666666666666,
              "#ed7953"
             ],
             [
              0.7777777777777778,
              "#fb9f3a"
             ],
             [
              0.8888888888888888,
              "#fdca26"
             ],
             [
              1,
              "#f0f921"
             ]
            ],
            "type": "histogram2d"
           }
          ],
          "histogram2dcontour": [
           {
            "colorbar": {
             "outlinewidth": 0,
             "ticks": ""
            },
            "colorscale": [
             [
              0,
              "#0d0887"
             ],
             [
              0.1111111111111111,
              "#46039f"
             ],
             [
              0.2222222222222222,
              "#7201a8"
             ],
             [
              0.3333333333333333,
              "#9c179e"
             ],
             [
              0.4444444444444444,
              "#bd3786"
             ],
             [
              0.5555555555555556,
              "#d8576b"
             ],
             [
              0.6666666666666666,
              "#ed7953"
             ],
             [
              0.7777777777777778,
              "#fb9f3a"
             ],
             [
              0.8888888888888888,
              "#fdca26"
             ],
             [
              1,
              "#f0f921"
             ]
            ],
            "type": "histogram2dcontour"
           }
          ],
          "mesh3d": [
           {
            "colorbar": {
             "outlinewidth": 0,
             "ticks": ""
            },
            "type": "mesh3d"
           }
          ],
          "parcoords": [
           {
            "line": {
             "colorbar": {
              "outlinewidth": 0,
              "ticks": ""
             }
            },
            "type": "parcoords"
           }
          ],
          "pie": [
           {
            "automargin": true,
            "type": "pie"
           }
          ],
          "scatter": [
           {
            "marker": {
             "colorbar": {
              "outlinewidth": 0,
              "ticks": ""
             }
            },
            "type": "scatter"
           }
          ],
          "scatter3d": [
           {
            "line": {
             "colorbar": {
              "outlinewidth": 0,
              "ticks": ""
             }
            },
            "marker": {
             "colorbar": {
              "outlinewidth": 0,
              "ticks": ""
             }
            },
            "type": "scatter3d"
           }
          ],
          "scattercarpet": [
           {
            "marker": {
             "colorbar": {
              "outlinewidth": 0,
              "ticks": ""
             }
            },
            "type": "scattercarpet"
           }
          ],
          "scattergeo": [
           {
            "marker": {
             "colorbar": {
              "outlinewidth": 0,
              "ticks": ""
             }
            },
            "type": "scattergeo"
           }
          ],
          "scattergl": [
           {
            "marker": {
             "colorbar": {
              "outlinewidth": 0,
              "ticks": ""
             }
            },
            "type": "scattergl"
           }
          ],
          "scattermapbox": [
           {
            "marker": {
             "colorbar": {
              "outlinewidth": 0,
              "ticks": ""
             }
            },
            "type": "scattermapbox"
           }
          ],
          "scatterpolar": [
           {
            "marker": {
             "colorbar": {
              "outlinewidth": 0,
              "ticks": ""
             }
            },
            "type": "scatterpolar"
           }
          ],
          "scatterpolargl": [
           {
            "marker": {
             "colorbar": {
              "outlinewidth": 0,
              "ticks": ""
             }
            },
            "type": "scatterpolargl"
           }
          ],
          "scatterternary": [
           {
            "marker": {
             "colorbar": {
              "outlinewidth": 0,
              "ticks": ""
             }
            },
            "type": "scatterternary"
           }
          ],
          "surface": [
           {
            "colorbar": {
             "outlinewidth": 0,
             "ticks": ""
            },
            "colorscale": [
             [
              0,
              "#0d0887"
             ],
             [
              0.1111111111111111,
              "#46039f"
             ],
             [
              0.2222222222222222,
              "#7201a8"
             ],
             [
              0.3333333333333333,
              "#9c179e"
             ],
             [
              0.4444444444444444,
              "#bd3786"
             ],
             [
              0.5555555555555556,
              "#d8576b"
             ],
             [
              0.6666666666666666,
              "#ed7953"
             ],
             [
              0.7777777777777778,
              "#fb9f3a"
             ],
             [
              0.8888888888888888,
              "#fdca26"
             ],
             [
              1,
              "#f0f921"
             ]
            ],
            "type": "surface"
           }
          ],
          "table": [
           {
            "cells": {
             "fill": {
              "color": "#EBF0F8"
             },
             "line": {
              "color": "white"
             }
            },
            "header": {
             "fill": {
              "color": "#C8D4E3"
             },
             "line": {
              "color": "white"
             }
            },
            "type": "table"
           }
          ]
         },
         "layout": {
          "annotationdefaults": {
           "arrowcolor": "#2a3f5f",
           "arrowhead": 0,
           "arrowwidth": 1
          },
          "coloraxis": {
           "colorbar": {
            "outlinewidth": 0,
            "ticks": ""
           }
          },
          "colorscale": {
           "diverging": [
            [
             0,
             "#8e0152"
            ],
            [
             0.1,
             "#c51b7d"
            ],
            [
             0.2,
             "#de77ae"
            ],
            [
             0.3,
             "#f1b6da"
            ],
            [
             0.4,
             "#fde0ef"
            ],
            [
             0.5,
             "#f7f7f7"
            ],
            [
             0.6,
             "#e6f5d0"
            ],
            [
             0.7,
             "#b8e186"
            ],
            [
             0.8,
             "#7fbc41"
            ],
            [
             0.9,
             "#4d9221"
            ],
            [
             1,
             "#276419"
            ]
           ],
           "sequential": [
            [
             0,
             "#0d0887"
            ],
            [
             0.1111111111111111,
             "#46039f"
            ],
            [
             0.2222222222222222,
             "#7201a8"
            ],
            [
             0.3333333333333333,
             "#9c179e"
            ],
            [
             0.4444444444444444,
             "#bd3786"
            ],
            [
             0.5555555555555556,
             "#d8576b"
            ],
            [
             0.6666666666666666,
             "#ed7953"
            ],
            [
             0.7777777777777778,
             "#fb9f3a"
            ],
            [
             0.8888888888888888,
             "#fdca26"
            ],
            [
             1,
             "#f0f921"
            ]
           ],
           "sequentialminus": [
            [
             0,
             "#0d0887"
            ],
            [
             0.1111111111111111,
             "#46039f"
            ],
            [
             0.2222222222222222,
             "#7201a8"
            ],
            [
             0.3333333333333333,
             "#9c179e"
            ],
            [
             0.4444444444444444,
             "#bd3786"
            ],
            [
             0.5555555555555556,
             "#d8576b"
            ],
            [
             0.6666666666666666,
             "#ed7953"
            ],
            [
             0.7777777777777778,
             "#fb9f3a"
            ],
            [
             0.8888888888888888,
             "#fdca26"
            ],
            [
             1,
             "#f0f921"
            ]
           ]
          },
          "colorway": [
           "#636efa",
           "#EF553B",
           "#00cc96",
           "#ab63fa",
           "#FFA15A",
           "#19d3f3",
           "#FF6692",
           "#B6E880",
           "#FF97FF",
           "#FECB52"
          ],
          "font": {
           "color": "#2a3f5f"
          },
          "geo": {
           "bgcolor": "white",
           "lakecolor": "white",
           "landcolor": "#E5ECF6",
           "showlakes": true,
           "showland": true,
           "subunitcolor": "white"
          },
          "hoverlabel": {
           "align": "left"
          },
          "hovermode": "closest",
          "mapbox": {
           "style": "light"
          },
          "paper_bgcolor": "white",
          "plot_bgcolor": "#E5ECF6",
          "polar": {
           "angularaxis": {
            "gridcolor": "white",
            "linecolor": "white",
            "ticks": ""
           },
           "bgcolor": "#E5ECF6",
           "radialaxis": {
            "gridcolor": "white",
            "linecolor": "white",
            "ticks": ""
           }
          },
          "scene": {
           "xaxis": {
            "backgroundcolor": "#E5ECF6",
            "gridcolor": "white",
            "gridwidth": 2,
            "linecolor": "white",
            "showbackground": true,
            "ticks": "",
            "zerolinecolor": "white"
           },
           "yaxis": {
            "backgroundcolor": "#E5ECF6",
            "gridcolor": "white",
            "gridwidth": 2,
            "linecolor": "white",
            "showbackground": true,
            "ticks": "",
            "zerolinecolor": "white"
           },
           "zaxis": {
            "backgroundcolor": "#E5ECF6",
            "gridcolor": "white",
            "gridwidth": 2,
            "linecolor": "white",
            "showbackground": true,
            "ticks": "",
            "zerolinecolor": "white"
           }
          },
          "shapedefaults": {
           "line": {
            "color": "#2a3f5f"
           }
          },
          "ternary": {
           "aaxis": {
            "gridcolor": "white",
            "linecolor": "white",
            "ticks": ""
           },
           "baxis": {
            "gridcolor": "white",
            "linecolor": "white",
            "ticks": ""
           },
           "bgcolor": "#E5ECF6",
           "caxis": {
            "gridcolor": "white",
            "linecolor": "white",
            "ticks": ""
           }
          },
          "title": {
           "x": 0.05
          },
          "xaxis": {
           "automargin": true,
           "gridcolor": "white",
           "linecolor": "white",
           "ticks": "",
           "title": {
            "standoff": 15
           },
           "zerolinecolor": "white",
           "zerolinewidth": 2
          },
          "yaxis": {
           "automargin": true,
           "gridcolor": "white",
           "linecolor": "white",
           "ticks": "",
           "title": {
            "standoff": 15
           },
           "zerolinecolor": "white",
           "zerolinewidth": 2
          }
         }
        },
        "title": {
         "font": {
          "color": "#4D5663"
         }
        },
        "xaxis": {
         "gridcolor": "#E1E5ED",
         "showgrid": true,
         "tickfont": {
          "color": "#4D5663"
         },
         "title": {
          "font": {
           "color": "#4D5663"
          },
          "text": ""
         },
         "zerolinecolor": "#E1E5ED"
        },
        "yaxis": {
         "gridcolor": "#E1E5ED",
         "showgrid": true,
         "tickfont": {
          "color": "#4D5663"
         },
         "title": {
          "font": {
           "color": "#4D5663"
          },
          "text": ""
         },
         "zerolinecolor": "#E1E5ED"
        }
       }
      },
      "text/html": [
       "<div>\n",
       "        \n",
       "        \n",
       "            <div id=\"92b2267d-e0ff-454a-9a9e-503157e0f414\" class=\"plotly-graph-div\" style=\"height:525px; width:100%;\"></div>\n",
       "            <script type=\"text/javascript\">\n",
       "                require([\"plotly\"], function(Plotly) {\n",
       "                    window.PLOTLYENV=window.PLOTLYENV || {};\n",
       "                    window.PLOTLYENV.BASE_URL='https://plot.ly';\n",
       "                    \n",
       "                if (document.getElementById(\"92b2267d-e0ff-454a-9a9e-503157e0f414\")) {\n",
       "                    Plotly.newPlot(\n",
       "                        '92b2267d-e0ff-454a-9a9e-503157e0f414',\n",
       "                        [{\"marker\": {\"color\": \"rgba(255, 153, 51, 0.6)\", \"line\": {\"color\": \"rgba(255, 153, 51, 1.0)\", \"width\": 1}}, \"name\": \"Value\", \"orientation\": \"v\", \"text\": \"\", \"type\": \"bar\", \"x\": [\"A\", \"B\", \"C\"], \"y\": [32, 44, 50]}],\n",
       "                        {\"legend\": {\"bgcolor\": \"#F5F6F9\", \"font\": {\"color\": \"#4D5663\"}}, \"paper_bgcolor\": \"#F5F6F9\", \"plot_bgcolor\": \"#F5F6F9\", \"template\": {\"data\": {\"bar\": [{\"error_x\": {\"color\": \"#2a3f5f\"}, \"error_y\": {\"color\": \"#2a3f5f\"}, \"marker\": {\"line\": {\"color\": \"#E5ECF6\", \"width\": 0.5}}, \"type\": \"bar\"}], \"barpolar\": [{\"marker\": {\"line\": {\"color\": \"#E5ECF6\", \"width\": 0.5}}, \"type\": \"barpolar\"}], \"carpet\": [{\"aaxis\": {\"endlinecolor\": \"#2a3f5f\", \"gridcolor\": \"white\", \"linecolor\": \"white\", \"minorgridcolor\": \"white\", \"startlinecolor\": \"#2a3f5f\"}, \"baxis\": {\"endlinecolor\": \"#2a3f5f\", \"gridcolor\": \"white\", \"linecolor\": \"white\", \"minorgridcolor\": \"white\", \"startlinecolor\": \"#2a3f5f\"}, \"type\": \"carpet\"}], \"choropleth\": [{\"colorbar\": {\"outlinewidth\": 0, \"ticks\": \"\"}, \"type\": \"choropleth\"}], \"contour\": [{\"colorbar\": {\"outlinewidth\": 0, \"ticks\": \"\"}, \"colorscale\": [[0.0, \"#0d0887\"], [0.1111111111111111, \"#46039f\"], [0.2222222222222222, \"#7201a8\"], [0.3333333333333333, \"#9c179e\"], [0.4444444444444444, \"#bd3786\"], [0.5555555555555556, \"#d8576b\"], [0.6666666666666666, \"#ed7953\"], [0.7777777777777778, \"#fb9f3a\"], [0.8888888888888888, \"#fdca26\"], [1.0, \"#f0f921\"]], \"type\": \"contour\"}], \"contourcarpet\": [{\"colorbar\": {\"outlinewidth\": 0, \"ticks\": \"\"}, \"type\": \"contourcarpet\"}], \"heatmap\": [{\"colorbar\": {\"outlinewidth\": 0, \"ticks\": \"\"}, \"colorscale\": [[0.0, \"#0d0887\"], [0.1111111111111111, \"#46039f\"], [0.2222222222222222, \"#7201a8\"], [0.3333333333333333, \"#9c179e\"], [0.4444444444444444, \"#bd3786\"], [0.5555555555555556, \"#d8576b\"], [0.6666666666666666, \"#ed7953\"], [0.7777777777777778, \"#fb9f3a\"], [0.8888888888888888, \"#fdca26\"], [1.0, \"#f0f921\"]], \"type\": \"heatmap\"}], \"heatmapgl\": [{\"colorbar\": {\"outlinewidth\": 0, \"ticks\": \"\"}, \"colorscale\": [[0.0, \"#0d0887\"], [0.1111111111111111, \"#46039f\"], [0.2222222222222222, \"#7201a8\"], [0.3333333333333333, \"#9c179e\"], [0.4444444444444444, \"#bd3786\"], [0.5555555555555556, \"#d8576b\"], [0.6666666666666666, \"#ed7953\"], [0.7777777777777778, \"#fb9f3a\"], [0.8888888888888888, \"#fdca26\"], [1.0, \"#f0f921\"]], \"type\": \"heatmapgl\"}], \"histogram\": [{\"marker\": {\"colorbar\": {\"outlinewidth\": 0, \"ticks\": \"\"}}, \"type\": \"histogram\"}], \"histogram2d\": [{\"colorbar\": {\"outlinewidth\": 0, \"ticks\": \"\"}, \"colorscale\": [[0.0, \"#0d0887\"], [0.1111111111111111, \"#46039f\"], [0.2222222222222222, \"#7201a8\"], [0.3333333333333333, \"#9c179e\"], [0.4444444444444444, \"#bd3786\"], [0.5555555555555556, \"#d8576b\"], [0.6666666666666666, \"#ed7953\"], [0.7777777777777778, \"#fb9f3a\"], [0.8888888888888888, \"#fdca26\"], [1.0, \"#f0f921\"]], \"type\": \"histogram2d\"}], \"histogram2dcontour\": [{\"colorbar\": {\"outlinewidth\": 0, \"ticks\": \"\"}, \"colorscale\": [[0.0, \"#0d0887\"], [0.1111111111111111, \"#46039f\"], [0.2222222222222222, \"#7201a8\"], [0.3333333333333333, \"#9c179e\"], [0.4444444444444444, \"#bd3786\"], [0.5555555555555556, \"#d8576b\"], [0.6666666666666666, \"#ed7953\"], [0.7777777777777778, \"#fb9f3a\"], [0.8888888888888888, \"#fdca26\"], [1.0, \"#f0f921\"]], \"type\": \"histogram2dcontour\"}], \"mesh3d\": [{\"colorbar\": {\"outlinewidth\": 0, \"ticks\": \"\"}, \"type\": \"mesh3d\"}], \"parcoords\": [{\"line\": {\"colorbar\": {\"outlinewidth\": 0, \"ticks\": \"\"}}, \"type\": \"parcoords\"}], \"pie\": [{\"automargin\": true, \"type\": \"pie\"}], \"scatter\": [{\"marker\": {\"colorbar\": {\"outlinewidth\": 0, \"ticks\": \"\"}}, \"type\": \"scatter\"}], \"scatter3d\": [{\"line\": {\"colorbar\": {\"outlinewidth\": 0, \"ticks\": \"\"}}, \"marker\": {\"colorbar\": {\"outlinewidth\": 0, \"ticks\": \"\"}}, \"type\": \"scatter3d\"}], \"scattercarpet\": [{\"marker\": {\"colorbar\": {\"outlinewidth\": 0, \"ticks\": \"\"}}, \"type\": \"scattercarpet\"}], \"scattergeo\": [{\"marker\": {\"colorbar\": {\"outlinewidth\": 0, \"ticks\": \"\"}}, \"type\": \"scattergeo\"}], \"scattergl\": [{\"marker\": {\"colorbar\": {\"outlinewidth\": 0, \"ticks\": \"\"}}, \"type\": \"scattergl\"}], \"scattermapbox\": [{\"marker\": {\"colorbar\": {\"outlinewidth\": 0, \"ticks\": \"\"}}, \"type\": \"scattermapbox\"}], \"scatterpolar\": [{\"marker\": {\"colorbar\": {\"outlinewidth\": 0, \"ticks\": \"\"}}, \"type\": \"scatterpolar\"}], \"scatterpolargl\": [{\"marker\": {\"colorbar\": {\"outlinewidth\": 0, \"ticks\": \"\"}}, \"type\": \"scatterpolargl\"}], \"scatterternary\": [{\"marker\": {\"colorbar\": {\"outlinewidth\": 0, \"ticks\": \"\"}}, \"type\": \"scatterternary\"}], \"surface\": [{\"colorbar\": {\"outlinewidth\": 0, \"ticks\": \"\"}, \"colorscale\": [[0.0, \"#0d0887\"], [0.1111111111111111, \"#46039f\"], [0.2222222222222222, \"#7201a8\"], [0.3333333333333333, \"#9c179e\"], [0.4444444444444444, \"#bd3786\"], [0.5555555555555556, \"#d8576b\"], [0.6666666666666666, \"#ed7953\"], [0.7777777777777778, \"#fb9f3a\"], [0.8888888888888888, \"#fdca26\"], [1.0, \"#f0f921\"]], \"type\": \"surface\"}], \"table\": [{\"cells\": {\"fill\": {\"color\": \"#EBF0F8\"}, \"line\": {\"color\": \"white\"}}, \"header\": {\"fill\": {\"color\": \"#C8D4E3\"}, \"line\": {\"color\": \"white\"}}, \"type\": \"table\"}]}, \"layout\": {\"annotationdefaults\": {\"arrowcolor\": \"#2a3f5f\", \"arrowhead\": 0, \"arrowwidth\": 1}, \"coloraxis\": {\"colorbar\": {\"outlinewidth\": 0, \"ticks\": \"\"}}, \"colorscale\": {\"diverging\": [[0, \"#8e0152\"], [0.1, \"#c51b7d\"], [0.2, \"#de77ae\"], [0.3, \"#f1b6da\"], [0.4, \"#fde0ef\"], [0.5, \"#f7f7f7\"], [0.6, \"#e6f5d0\"], [0.7, \"#b8e186\"], [0.8, \"#7fbc41\"], [0.9, \"#4d9221\"], [1, \"#276419\"]], \"sequential\": [[0.0, \"#0d0887\"], [0.1111111111111111, \"#46039f\"], [0.2222222222222222, \"#7201a8\"], [0.3333333333333333, \"#9c179e\"], [0.4444444444444444, \"#bd3786\"], [0.5555555555555556, \"#d8576b\"], [0.6666666666666666, \"#ed7953\"], [0.7777777777777778, \"#fb9f3a\"], [0.8888888888888888, \"#fdca26\"], [1.0, \"#f0f921\"]], \"sequentialminus\": [[0.0, \"#0d0887\"], [0.1111111111111111, \"#46039f\"], [0.2222222222222222, \"#7201a8\"], [0.3333333333333333, \"#9c179e\"], [0.4444444444444444, \"#bd3786\"], [0.5555555555555556, \"#d8576b\"], [0.6666666666666666, \"#ed7953\"], [0.7777777777777778, \"#fb9f3a\"], [0.8888888888888888, \"#fdca26\"], [1.0, \"#f0f921\"]]}, \"colorway\": [\"#636efa\", \"#EF553B\", \"#00cc96\", \"#ab63fa\", \"#FFA15A\", \"#19d3f3\", \"#FF6692\", \"#B6E880\", \"#FF97FF\", \"#FECB52\"], \"font\": {\"color\": \"#2a3f5f\"}, \"geo\": {\"bgcolor\": \"white\", \"lakecolor\": \"white\", \"landcolor\": \"#E5ECF6\", \"showlakes\": true, \"showland\": true, \"subunitcolor\": \"white\"}, \"hoverlabel\": {\"align\": \"left\"}, \"hovermode\": \"closest\", \"mapbox\": {\"style\": \"light\"}, \"paper_bgcolor\": \"white\", \"plot_bgcolor\": \"#E5ECF6\", \"polar\": {\"angularaxis\": {\"gridcolor\": \"white\", \"linecolor\": \"white\", \"ticks\": \"\"}, \"bgcolor\": \"#E5ECF6\", \"radialaxis\": {\"gridcolor\": \"white\", \"linecolor\": \"white\", \"ticks\": \"\"}}, \"scene\": {\"xaxis\": {\"backgroundcolor\": \"#E5ECF6\", \"gridcolor\": \"white\", \"gridwidth\": 2, \"linecolor\": \"white\", \"showbackground\": true, \"ticks\": \"\", \"zerolinecolor\": \"white\"}, \"yaxis\": {\"backgroundcolor\": \"#E5ECF6\", \"gridcolor\": \"white\", \"gridwidth\": 2, \"linecolor\": \"white\", \"showbackground\": true, \"ticks\": \"\", \"zerolinecolor\": \"white\"}, \"zaxis\": {\"backgroundcolor\": \"#E5ECF6\", \"gridcolor\": \"white\", \"gridwidth\": 2, \"linecolor\": \"white\", \"showbackground\": true, \"ticks\": \"\", \"zerolinecolor\": \"white\"}}, \"shapedefaults\": {\"line\": {\"color\": \"#2a3f5f\"}}, \"ternary\": {\"aaxis\": {\"gridcolor\": \"white\", \"linecolor\": \"white\", \"ticks\": \"\"}, \"baxis\": {\"gridcolor\": \"white\", \"linecolor\": \"white\", \"ticks\": \"\"}, \"bgcolor\": \"#E5ECF6\", \"caxis\": {\"gridcolor\": \"white\", \"linecolor\": \"white\", \"ticks\": \"\"}}, \"title\": {\"x\": 0.05}, \"xaxis\": {\"automargin\": true, \"gridcolor\": \"white\", \"linecolor\": \"white\", \"ticks\": \"\", \"title\": {\"standoff\": 15}, \"zerolinecolor\": \"white\", \"zerolinewidth\": 2}, \"yaxis\": {\"automargin\": true, \"gridcolor\": \"white\", \"linecolor\": \"white\", \"ticks\": \"\", \"title\": {\"standoff\": 15}, \"zerolinecolor\": \"white\", \"zerolinewidth\": 2}}}, \"title\": {\"font\": {\"color\": \"#4D5663\"}}, \"xaxis\": {\"gridcolor\": \"#E1E5ED\", \"showgrid\": true, \"tickfont\": {\"color\": \"#4D5663\"}, \"title\": {\"font\": {\"color\": \"#4D5663\"}, \"text\": \"\"}, \"zerolinecolor\": \"#E1E5ED\"}, \"yaxis\": {\"gridcolor\": \"#E1E5ED\", \"showgrid\": true, \"tickfont\": {\"color\": \"#4D5663\"}, \"title\": {\"font\": {\"color\": \"#4D5663\"}, \"text\": \"\"}, \"zerolinecolor\": \"#E1E5ED\"}},\n",
       "                        {\"showLink\": true, \"linkText\": \"Export to plot.ly\", \"plotlyServerURL\": \"https://plot.ly\", \"responsive\": true}\n",
       "                    ).then(function(){\n",
       "                            \n",
       "var gd = document.getElementById('92b2267d-e0ff-454a-9a9e-503157e0f414');\n",
       "var x = new MutationObserver(function (mutations, observer) {{\n",
       "        var display = window.getComputedStyle(gd).display;\n",
       "        if (!display || display === 'none') {{\n",
       "            console.log([gd, 'removed!']);\n",
       "            Plotly.purge(gd);\n",
       "            observer.disconnect();\n",
       "        }}\n",
       "}});\n",
       "\n",
       "// Listen for the removal of the full notebook cells\n",
       "var notebookContainer = gd.closest('#notebook-container');\n",
       "if (notebookContainer) {{\n",
       "    x.observe(notebookContainer, {childList: true});\n",
       "}}\n",
       "\n",
       "// Listen for the clearing of the current output cell\n",
       "var outputEl = gd.closest('.output');\n",
       "if (outputEl) {{\n",
       "    x.observe(outputEl, {childList: true});\n",
       "}}\n",
       "\n",
       "                        })\n",
       "                };\n",
       "                });\n",
       "            </script>\n",
       "        </div>"
      ]
     },
     "metadata": {},
     "output_type": "display_data"
    }
   ],
   "source": [
    "# I can also create barplot with plotly\n",
    "df2.iplot(kind='bar',x='Category',y='Value')"
   ]
  },
  {
   "cell_type": "code",
   "execution_count": 42,
   "metadata": {},
   "outputs": [
    {
     "data": {
      "application/vnd.plotly.v1+json": {
       "config": {
        "linkText": "Export to plot.ly",
        "plotlyServerURL": "https://plot.ly",
        "showLink": true
       },
       "data": [
        {
         "marker": {
          "color": "rgba(255, 153, 51, 0.6)",
          "line": {
           "color": "rgba(255, 153, 51, 1.0)",
           "width": 1
          }
         },
         "name": "C",
         "orientation": "v",
         "text": "",
         "type": "bar",
         "x": [
          -0.11772897368311729,
          -0.533871526107039,
          0.46282102957446003,
          0.17704671607161943,
          -0.22514481280573914,
          1.0077127167213151,
          -0.43902733090004364,
          -2.641322783185602,
          0.12620115184579384,
          -0.6663722488414342,
          1.4606297568210536,
          -0.37255423146386346,
          -0.383110800373717,
          0.3391330095506838,
          -0.5733500505242811,
          -0.141599315756973,
          -0.738979900552547,
          -0.45779365111559306,
          -1.6359603899116615,
          0.39954915531710483,
          1.5377838539223083,
          -1.1440067932632123,
          -0.64765270889491,
          0.19897738994471825,
          1.5169806452492216,
          0.11550699837102808,
          -1.7432365527863287,
          0.47064984933718945,
          0.09993588843189898,
          1.2077133520168108,
          0.23801283659543684,
          -1.17813153393185,
          -1.416089110886164,
          1.5483028352919244,
          0.7447432123532974,
          -1.4130082806017559,
          -1.8323103345859806,
          1.314104415237608,
          -1.215758658659783,
          -1.289723333914404,
          0.1250192027850171,
          0.785632072181155,
          -0.5607245856806137,
          0.08712197627660075,
          -0.13944124583278467,
          0.5085637654193944,
          -0.26327471175700096,
          0.6616677101373818,
          1.0840118220174724,
          -0.20007606657368793,
          -0.16287758289409526,
          -2.1222925049735553,
          0.6679480557850784,
          -0.059009948146776334,
          -0.25989855287404157,
          -0.614240169961146,
          3.5264494843495444,
          -3.1773654445327337,
          0.5102405813630724,
          2.3784878564383436,
          -0.8941177702702027,
          1.7294737835142415,
          1.0908531113495692,
          -2.600368367654316,
          0.8481792011605757,
          0.6873057825531937,
          -0.13189894149393275,
          0.6808643558735855,
          -0.4586142690323789,
          1.2249728108842624,
          -0.12744918349329165,
          0.6606018421456373,
          -0.18151652305094346,
          0.6142901484241644,
          0.30530936915412654,
          0.6633064704233149,
          -1.01251360583096,
          -2.9539709554187414,
          0.16106834543734866,
          -1.7295211699003348,
          1.2008174731880432,
          0.10282652031461875,
          -0.47863540770189894,
          -0.5852211484211195,
          -0.14840713435264566,
          -1.2406689004473512,
          -0.02836699868960687,
          -2.2175044034675824,
          -0.7069107560571622,
          -0.7216697495558138,
          -0.3417257690530918,
          0.24893146203774258,
          1.1347613070213458,
          0.8894403559468214,
          -0.014451072860063092,
          -0.6807365486086413,
          -1.51281593418309,
          -0.03250217366365307,
          1.3747933188776915,
          0.44665306518104236
         ],
         "y": [
          1.8423457922317947,
          0.20240953416570504,
          -0.9525738852837822,
          1.39066122188408,
          -0.5758319347455517,
          -2.2248143413261285,
          -0.7131505795054817,
          -0.5087791560343012,
          2.1627130231224476,
          -0.307759373430411,
          0.4439998216781445,
          0.7429693946108744,
          0.866330459737981,
          0.1434047377515391,
          1.624144950650099,
          0.6434746690188269,
          0.5095909395993825,
          0.3357006342080557,
          0.4630718916971839,
          -0.9760195698420616,
          1.1039126345544499,
          -0.8652253649504862,
          1.8551271595279182,
          0.2627165887760841,
          0.06282208885516809,
          -0.4497543893190607,
          1.1940911756059924,
          1.1552520723225135,
          -0.5485747405662537,
          -0.11411452634528207,
          -0.5282393373038018,
          -1.327693787521095,
          -1.549489381787043,
          1.0027726151972014,
          -1.0941708236543997,
          0.12742932278184788,
          0.04220359654200365,
          -1.2567283631816193,
          -0.7937078956603784,
          2.440770066641173,
          -0.4920171049779494,
          0.11125643039292989,
          0.7723186482112306,
          0.9361909674591782,
          0.8648729687355279,
          -1.6298418614407943,
          0.25568286297490267,
          0.1394856981020013,
          -1.789616962623113,
          -0.04623076479099041,
          -1.9988418554174914,
          3.25417632938342,
          0.44952682023433227,
          -1.0073902817500062,
          0.4232792486547495,
          -0.7185189833476643,
          -2.2984620378640277,
          1.0522378759306052,
          -0.1491115721383713,
          -0.2572758716760549,
          0.48150221081239347,
          -0.8027624402476271,
          -1.2457373952879698,
          0.5617403563106325,
          0.3068661646974329,
          -0.6736939628947071,
          1.8484582468266417,
          -1.4078695029750796,
          1.6479183924240963,
          -1.6444615464525167,
          -0.37384325264027995,
          0.13099210580087112,
          2.21302552422313,
          1.8740958260260177,
          0.8370437702050992,
          -1.2615134075311947,
          -0.5065359023069691,
          -0.14660605485193431,
          -0.28315508223245717,
          -0.01971718335519795,
          1.4076687346106214,
          -1.7207671190761573,
          -0.048913624524071275,
          -1.285733271733305,
          0.743646254241991,
          -0.3364636737903639,
          0.037067626005797924,
          2.296033645140205,
          -0.17353928973261812,
          2.245012951254967,
          -0.4691387055287381,
          -1.3656723815702134,
          1.3431273529433994,
          -0.24603041122860111,
          -1.6277403162742727,
          1.2621719611727393,
          0.35443710511960824,
          -0.22833377574129124,
          -1.0062026808585642,
          0.022292426743457695
         ]
        }
       ],
       "layout": {
        "legend": {
         "bgcolor": "#F5F6F9",
         "font": {
          "color": "#4D5663"
         }
        },
        "paper_bgcolor": "#F5F6F9",
        "plot_bgcolor": "#F5F6F9",
        "template": {
         "data": {
          "bar": [
           {
            "error_x": {
             "color": "#2a3f5f"
            },
            "error_y": {
             "color": "#2a3f5f"
            },
            "marker": {
             "line": {
              "color": "#E5ECF6",
              "width": 0.5
             }
            },
            "type": "bar"
           }
          ],
          "barpolar": [
           {
            "marker": {
             "line": {
              "color": "#E5ECF6",
              "width": 0.5
             }
            },
            "type": "barpolar"
           }
          ],
          "carpet": [
           {
            "aaxis": {
             "endlinecolor": "#2a3f5f",
             "gridcolor": "white",
             "linecolor": "white",
             "minorgridcolor": "white",
             "startlinecolor": "#2a3f5f"
            },
            "baxis": {
             "endlinecolor": "#2a3f5f",
             "gridcolor": "white",
             "linecolor": "white",
             "minorgridcolor": "white",
             "startlinecolor": "#2a3f5f"
            },
            "type": "carpet"
           }
          ],
          "choropleth": [
           {
            "colorbar": {
             "outlinewidth": 0,
             "ticks": ""
            },
            "type": "choropleth"
           }
          ],
          "contour": [
           {
            "colorbar": {
             "outlinewidth": 0,
             "ticks": ""
            },
            "colorscale": [
             [
              0,
              "#0d0887"
             ],
             [
              0.1111111111111111,
              "#46039f"
             ],
             [
              0.2222222222222222,
              "#7201a8"
             ],
             [
              0.3333333333333333,
              "#9c179e"
             ],
             [
              0.4444444444444444,
              "#bd3786"
             ],
             [
              0.5555555555555556,
              "#d8576b"
             ],
             [
              0.6666666666666666,
              "#ed7953"
             ],
             [
              0.7777777777777778,
              "#fb9f3a"
             ],
             [
              0.8888888888888888,
              "#fdca26"
             ],
             [
              1,
              "#f0f921"
             ]
            ],
            "type": "contour"
           }
          ],
          "contourcarpet": [
           {
            "colorbar": {
             "outlinewidth": 0,
             "ticks": ""
            },
            "type": "contourcarpet"
           }
          ],
          "heatmap": [
           {
            "colorbar": {
             "outlinewidth": 0,
             "ticks": ""
            },
            "colorscale": [
             [
              0,
              "#0d0887"
             ],
             [
              0.1111111111111111,
              "#46039f"
             ],
             [
              0.2222222222222222,
              "#7201a8"
             ],
             [
              0.3333333333333333,
              "#9c179e"
             ],
             [
              0.4444444444444444,
              "#bd3786"
             ],
             [
              0.5555555555555556,
              "#d8576b"
             ],
             [
              0.6666666666666666,
              "#ed7953"
             ],
             [
              0.7777777777777778,
              "#fb9f3a"
             ],
             [
              0.8888888888888888,
              "#fdca26"
             ],
             [
              1,
              "#f0f921"
             ]
            ],
            "type": "heatmap"
           }
          ],
          "heatmapgl": [
           {
            "colorbar": {
             "outlinewidth": 0,
             "ticks": ""
            },
            "colorscale": [
             [
              0,
              "#0d0887"
             ],
             [
              0.1111111111111111,
              "#46039f"
             ],
             [
              0.2222222222222222,
              "#7201a8"
             ],
             [
              0.3333333333333333,
              "#9c179e"
             ],
             [
              0.4444444444444444,
              "#bd3786"
             ],
             [
              0.5555555555555556,
              "#d8576b"
             ],
             [
              0.6666666666666666,
              "#ed7953"
             ],
             [
              0.7777777777777778,
              "#fb9f3a"
             ],
             [
              0.8888888888888888,
              "#fdca26"
             ],
             [
              1,
              "#f0f921"
             ]
            ],
            "type": "heatmapgl"
           }
          ],
          "histogram": [
           {
            "marker": {
             "colorbar": {
              "outlinewidth": 0,
              "ticks": ""
             }
            },
            "type": "histogram"
           }
          ],
          "histogram2d": [
           {
            "colorbar": {
             "outlinewidth": 0,
             "ticks": ""
            },
            "colorscale": [
             [
              0,
              "#0d0887"
             ],
             [
              0.1111111111111111,
              "#46039f"
             ],
             [
              0.2222222222222222,
              "#7201a8"
             ],
             [
              0.3333333333333333,
              "#9c179e"
             ],
             [
              0.4444444444444444,
              "#bd3786"
             ],
             [
              0.5555555555555556,
              "#d8576b"
             ],
             [
              0.6666666666666666,
              "#ed7953"
             ],
             [
              0.7777777777777778,
              "#fb9f3a"
             ],
             [
              0.8888888888888888,
              "#fdca26"
             ],
             [
              1,
              "#f0f921"
             ]
            ],
            "type": "histogram2d"
           }
          ],
          "histogram2dcontour": [
           {
            "colorbar": {
             "outlinewidth": 0,
             "ticks": ""
            },
            "colorscale": [
             [
              0,
              "#0d0887"
             ],
             [
              0.1111111111111111,
              "#46039f"
             ],
             [
              0.2222222222222222,
              "#7201a8"
             ],
             [
              0.3333333333333333,
              "#9c179e"
             ],
             [
              0.4444444444444444,
              "#bd3786"
             ],
             [
              0.5555555555555556,
              "#d8576b"
             ],
             [
              0.6666666666666666,
              "#ed7953"
             ],
             [
              0.7777777777777778,
              "#fb9f3a"
             ],
             [
              0.8888888888888888,
              "#fdca26"
             ],
             [
              1,
              "#f0f921"
             ]
            ],
            "type": "histogram2dcontour"
           }
          ],
          "mesh3d": [
           {
            "colorbar": {
             "outlinewidth": 0,
             "ticks": ""
            },
            "type": "mesh3d"
           }
          ],
          "parcoords": [
           {
            "line": {
             "colorbar": {
              "outlinewidth": 0,
              "ticks": ""
             }
            },
            "type": "parcoords"
           }
          ],
          "pie": [
           {
            "automargin": true,
            "type": "pie"
           }
          ],
          "scatter": [
           {
            "marker": {
             "colorbar": {
              "outlinewidth": 0,
              "ticks": ""
             }
            },
            "type": "scatter"
           }
          ],
          "scatter3d": [
           {
            "line": {
             "colorbar": {
              "outlinewidth": 0,
              "ticks": ""
             }
            },
            "marker": {
             "colorbar": {
              "outlinewidth": 0,
              "ticks": ""
             }
            },
            "type": "scatter3d"
           }
          ],
          "scattercarpet": [
           {
            "marker": {
             "colorbar": {
              "outlinewidth": 0,
              "ticks": ""
             }
            },
            "type": "scattercarpet"
           }
          ],
          "scattergeo": [
           {
            "marker": {
             "colorbar": {
              "outlinewidth": 0,
              "ticks": ""
             }
            },
            "type": "scattergeo"
           }
          ],
          "scattergl": [
           {
            "marker": {
             "colorbar": {
              "outlinewidth": 0,
              "ticks": ""
             }
            },
            "type": "scattergl"
           }
          ],
          "scattermapbox": [
           {
            "marker": {
             "colorbar": {
              "outlinewidth": 0,
              "ticks": ""
             }
            },
            "type": "scattermapbox"
           }
          ],
          "scatterpolar": [
           {
            "marker": {
             "colorbar": {
              "outlinewidth": 0,
              "ticks": ""
             }
            },
            "type": "scatterpolar"
           }
          ],
          "scatterpolargl": [
           {
            "marker": {
             "colorbar": {
              "outlinewidth": 0,
              "ticks": ""
             }
            },
            "type": "scatterpolargl"
           }
          ],
          "scatterternary": [
           {
            "marker": {
             "colorbar": {
              "outlinewidth": 0,
              "ticks": ""
             }
            },
            "type": "scatterternary"
           }
          ],
          "surface": [
           {
            "colorbar": {
             "outlinewidth": 0,
             "ticks": ""
            },
            "colorscale": [
             [
              0,
              "#0d0887"
             ],
             [
              0.1111111111111111,
              "#46039f"
             ],
             [
              0.2222222222222222,
              "#7201a8"
             ],
             [
              0.3333333333333333,
              "#9c179e"
             ],
             [
              0.4444444444444444,
              "#bd3786"
             ],
             [
              0.5555555555555556,
              "#d8576b"
             ],
             [
              0.6666666666666666,
              "#ed7953"
             ],
             [
              0.7777777777777778,
              "#fb9f3a"
             ],
             [
              0.8888888888888888,
              "#fdca26"
             ],
             [
              1,
              "#f0f921"
             ]
            ],
            "type": "surface"
           }
          ],
          "table": [
           {
            "cells": {
             "fill": {
              "color": "#EBF0F8"
             },
             "line": {
              "color": "white"
             }
            },
            "header": {
             "fill": {
              "color": "#C8D4E3"
             },
             "line": {
              "color": "white"
             }
            },
            "type": "table"
           }
          ]
         },
         "layout": {
          "annotationdefaults": {
           "arrowcolor": "#2a3f5f",
           "arrowhead": 0,
           "arrowwidth": 1
          },
          "coloraxis": {
           "colorbar": {
            "outlinewidth": 0,
            "ticks": ""
           }
          },
          "colorscale": {
           "diverging": [
            [
             0,
             "#8e0152"
            ],
            [
             0.1,
             "#c51b7d"
            ],
            [
             0.2,
             "#de77ae"
            ],
            [
             0.3,
             "#f1b6da"
            ],
            [
             0.4,
             "#fde0ef"
            ],
            [
             0.5,
             "#f7f7f7"
            ],
            [
             0.6,
             "#e6f5d0"
            ],
            [
             0.7,
             "#b8e186"
            ],
            [
             0.8,
             "#7fbc41"
            ],
            [
             0.9,
             "#4d9221"
            ],
            [
             1,
             "#276419"
            ]
           ],
           "sequential": [
            [
             0,
             "#0d0887"
            ],
            [
             0.1111111111111111,
             "#46039f"
            ],
            [
             0.2222222222222222,
             "#7201a8"
            ],
            [
             0.3333333333333333,
             "#9c179e"
            ],
            [
             0.4444444444444444,
             "#bd3786"
            ],
            [
             0.5555555555555556,
             "#d8576b"
            ],
            [
             0.6666666666666666,
             "#ed7953"
            ],
            [
             0.7777777777777778,
             "#fb9f3a"
            ],
            [
             0.8888888888888888,
             "#fdca26"
            ],
            [
             1,
             "#f0f921"
            ]
           ],
           "sequentialminus": [
            [
             0,
             "#0d0887"
            ],
            [
             0.1111111111111111,
             "#46039f"
            ],
            [
             0.2222222222222222,
             "#7201a8"
            ],
            [
             0.3333333333333333,
             "#9c179e"
            ],
            [
             0.4444444444444444,
             "#bd3786"
            ],
            [
             0.5555555555555556,
             "#d8576b"
            ],
            [
             0.6666666666666666,
             "#ed7953"
            ],
            [
             0.7777777777777778,
             "#fb9f3a"
            ],
            [
             0.8888888888888888,
             "#fdca26"
            ],
            [
             1,
             "#f0f921"
            ]
           ]
          },
          "colorway": [
           "#636efa",
           "#EF553B",
           "#00cc96",
           "#ab63fa",
           "#FFA15A",
           "#19d3f3",
           "#FF6692",
           "#B6E880",
           "#FF97FF",
           "#FECB52"
          ],
          "font": {
           "color": "#2a3f5f"
          },
          "geo": {
           "bgcolor": "white",
           "lakecolor": "white",
           "landcolor": "#E5ECF6",
           "showlakes": true,
           "showland": true,
           "subunitcolor": "white"
          },
          "hoverlabel": {
           "align": "left"
          },
          "hovermode": "closest",
          "mapbox": {
           "style": "light"
          },
          "paper_bgcolor": "white",
          "plot_bgcolor": "#E5ECF6",
          "polar": {
           "angularaxis": {
            "gridcolor": "white",
            "linecolor": "white",
            "ticks": ""
           },
           "bgcolor": "#E5ECF6",
           "radialaxis": {
            "gridcolor": "white",
            "linecolor": "white",
            "ticks": ""
           }
          },
          "scene": {
           "xaxis": {
            "backgroundcolor": "#E5ECF6",
            "gridcolor": "white",
            "gridwidth": 2,
            "linecolor": "white",
            "showbackground": true,
            "ticks": "",
            "zerolinecolor": "white"
           },
           "yaxis": {
            "backgroundcolor": "#E5ECF6",
            "gridcolor": "white",
            "gridwidth": 2,
            "linecolor": "white",
            "showbackground": true,
            "ticks": "",
            "zerolinecolor": "white"
           },
           "zaxis": {
            "backgroundcolor": "#E5ECF6",
            "gridcolor": "white",
            "gridwidth": 2,
            "linecolor": "white",
            "showbackground": true,
            "ticks": "",
            "zerolinecolor": "white"
           }
          },
          "shapedefaults": {
           "line": {
            "color": "#2a3f5f"
           }
          },
          "ternary": {
           "aaxis": {
            "gridcolor": "white",
            "linecolor": "white",
            "ticks": ""
           },
           "baxis": {
            "gridcolor": "white",
            "linecolor": "white",
            "ticks": ""
           },
           "bgcolor": "#E5ECF6",
           "caxis": {
            "gridcolor": "white",
            "linecolor": "white",
            "ticks": ""
           }
          },
          "title": {
           "x": 0.05
          },
          "xaxis": {
           "automargin": true,
           "gridcolor": "white",
           "linecolor": "white",
           "ticks": "",
           "title": {
            "standoff": 15
           },
           "zerolinecolor": "white",
           "zerolinewidth": 2
          },
          "yaxis": {
           "automargin": true,
           "gridcolor": "white",
           "linecolor": "white",
           "ticks": "",
           "title": {
            "standoff": 15
           },
           "zerolinecolor": "white",
           "zerolinewidth": 2
          }
         }
        },
        "title": {
         "font": {
          "color": "#4D5663"
         }
        },
        "xaxis": {
         "gridcolor": "#E1E5ED",
         "showgrid": true,
         "tickfont": {
          "color": "#4D5663"
         },
         "title": {
          "font": {
           "color": "#4D5663"
          },
          "text": ""
         },
         "zerolinecolor": "#E1E5ED"
        },
        "yaxis": {
         "gridcolor": "#E1E5ED",
         "showgrid": true,
         "tickfont": {
          "color": "#4D5663"
         },
         "title": {
          "font": {
           "color": "#4D5663"
          },
          "text": ""
         },
         "zerolinecolor": "#E1E5ED"
        }
       }
      },
      "text/html": [
       "<div>\n",
       "        \n",
       "        \n",
       "            <div id=\"7e812963-93fd-4d5c-babc-b19bc911c373\" class=\"plotly-graph-div\" style=\"height:525px; width:100%;\"></div>\n",
       "            <script type=\"text/javascript\">\n",
       "                require([\"plotly\"], function(Plotly) {\n",
       "                    window.PLOTLYENV=window.PLOTLYENV || {};\n",
       "                    window.PLOTLYENV.BASE_URL='https://plot.ly';\n",
       "                    \n",
       "                if (document.getElementById(\"7e812963-93fd-4d5c-babc-b19bc911c373\")) {\n",
       "                    Plotly.newPlot(\n",
       "                        '7e812963-93fd-4d5c-babc-b19bc911c373',\n",
       "                        [{\"marker\": {\"color\": \"rgba(255, 153, 51, 0.6)\", \"line\": {\"color\": \"rgba(255, 153, 51, 1.0)\", \"width\": 1}}, \"name\": \"C\", \"orientation\": \"v\", \"text\": \"\", \"type\": \"bar\", \"x\": [-0.11772897368311729, -0.533871526107039, 0.46282102957446003, 0.17704671607161943, -0.22514481280573914, 1.0077127167213151, -0.43902733090004364, -2.641322783185602, 0.12620115184579384, -0.6663722488414342, 1.4606297568210536, -0.37255423146386346, -0.383110800373717, 0.3391330095506838, -0.5733500505242811, -0.141599315756973, -0.738979900552547, -0.45779365111559306, -1.6359603899116615, 0.39954915531710483, 1.5377838539223083, -1.1440067932632123, -0.64765270889491, 0.19897738994471825, 1.5169806452492216, 0.11550699837102808, -1.7432365527863287, 0.47064984933718945, 0.09993588843189898, 1.2077133520168108, 0.23801283659543684, -1.17813153393185, -1.416089110886164, 1.5483028352919244, 0.7447432123532974, -1.4130082806017559, -1.8323103345859806, 1.314104415237608, -1.215758658659783, -1.289723333914404, 0.1250192027850171, 0.785632072181155, -0.5607245856806137, 0.08712197627660075, -0.13944124583278467, 0.5085637654193944, -0.26327471175700096, 0.6616677101373818, 1.0840118220174724, -0.20007606657368793, -0.16287758289409526, -2.1222925049735553, 0.6679480557850784, -0.059009948146776334, -0.25989855287404157, -0.614240169961146, 3.5264494843495444, -3.1773654445327337, 0.5102405813630724, 2.3784878564383436, -0.8941177702702027, 1.7294737835142415, 1.0908531113495692, -2.600368367654316, 0.8481792011605757, 0.6873057825531937, -0.13189894149393275, 0.6808643558735855, -0.4586142690323789, 1.2249728108842624, -0.12744918349329165, 0.6606018421456373, -0.18151652305094346, 0.6142901484241644, 0.30530936915412654, 0.6633064704233149, -1.01251360583096, -2.9539709554187414, 0.16106834543734866, -1.7295211699003348, 1.2008174731880432, 0.10282652031461875, -0.47863540770189894, -0.5852211484211195, -0.14840713435264566, -1.2406689004473512, -0.02836699868960687, -2.2175044034675824, -0.7069107560571622, -0.7216697495558138, -0.3417257690530918, 0.24893146203774258, 1.1347613070213458, 0.8894403559468214, -0.014451072860063092, -0.6807365486086413, -1.51281593418309, -0.03250217366365307, 1.3747933188776915, 0.44665306518104236], \"y\": [1.8423457922317947, 0.20240953416570504, -0.9525738852837822, 1.39066122188408, -0.5758319347455517, -2.2248143413261285, -0.7131505795054817, -0.5087791560343012, 2.1627130231224476, -0.307759373430411, 0.4439998216781445, 0.7429693946108744, 0.866330459737981, 0.1434047377515391, 1.624144950650099, 0.6434746690188269, 0.5095909395993825, 0.3357006342080557, 0.4630718916971839, -0.9760195698420616, 1.1039126345544499, -0.8652253649504862, 1.8551271595279182, 0.2627165887760841, 0.06282208885516809, -0.4497543893190607, 1.1940911756059924, 1.1552520723225135, -0.5485747405662537, -0.11411452634528207, -0.5282393373038018, -1.327693787521095, -1.549489381787043, 1.0027726151972014, -1.0941708236543997, 0.12742932278184788, 0.04220359654200365, -1.2567283631816193, -0.7937078956603784, 2.440770066641173, -0.4920171049779494, 0.11125643039292989, 0.7723186482112306, 0.9361909674591782, 0.8648729687355279, -1.6298418614407943, 0.25568286297490267, 0.1394856981020013, -1.789616962623113, -0.04623076479099041, -1.9988418554174914, 3.25417632938342, 0.44952682023433227, -1.0073902817500062, 0.4232792486547495, -0.7185189833476643, -2.2984620378640277, 1.0522378759306052, -0.1491115721383713, -0.2572758716760549, 0.48150221081239347, -0.8027624402476271, -1.2457373952879698, 0.5617403563106325, 0.3068661646974329, -0.6736939628947071, 1.8484582468266417, -1.4078695029750796, 1.6479183924240963, -1.6444615464525167, -0.37384325264027995, 0.13099210580087112, 2.21302552422313, 1.8740958260260177, 0.8370437702050992, -1.2615134075311947, -0.5065359023069691, -0.14660605485193431, -0.28315508223245717, -0.01971718335519795, 1.4076687346106214, -1.7207671190761573, -0.048913624524071275, -1.285733271733305, 0.743646254241991, -0.3364636737903639, 0.037067626005797924, 2.296033645140205, -0.17353928973261812, 2.245012951254967, -0.4691387055287381, -1.3656723815702134, 1.3431273529433994, -0.24603041122860111, -1.6277403162742727, 1.2621719611727393, 0.35443710511960824, -0.22833377574129124, -1.0062026808585642, 0.022292426743457695]}],\n",
       "                        {\"legend\": {\"bgcolor\": \"#F5F6F9\", \"font\": {\"color\": \"#4D5663\"}}, \"paper_bgcolor\": \"#F5F6F9\", \"plot_bgcolor\": \"#F5F6F9\", \"template\": {\"data\": {\"bar\": [{\"error_x\": {\"color\": \"#2a3f5f\"}, \"error_y\": {\"color\": \"#2a3f5f\"}, \"marker\": {\"line\": {\"color\": \"#E5ECF6\", \"width\": 0.5}}, \"type\": \"bar\"}], \"barpolar\": [{\"marker\": {\"line\": {\"color\": \"#E5ECF6\", \"width\": 0.5}}, \"type\": \"barpolar\"}], \"carpet\": [{\"aaxis\": {\"endlinecolor\": \"#2a3f5f\", \"gridcolor\": \"white\", \"linecolor\": \"white\", \"minorgridcolor\": \"white\", \"startlinecolor\": \"#2a3f5f\"}, \"baxis\": {\"endlinecolor\": \"#2a3f5f\", \"gridcolor\": \"white\", \"linecolor\": \"white\", \"minorgridcolor\": \"white\", \"startlinecolor\": \"#2a3f5f\"}, \"type\": \"carpet\"}], \"choropleth\": [{\"colorbar\": {\"outlinewidth\": 0, \"ticks\": \"\"}, \"type\": \"choropleth\"}], \"contour\": [{\"colorbar\": {\"outlinewidth\": 0, \"ticks\": \"\"}, \"colorscale\": [[0.0, \"#0d0887\"], [0.1111111111111111, \"#46039f\"], [0.2222222222222222, \"#7201a8\"], [0.3333333333333333, \"#9c179e\"], [0.4444444444444444, \"#bd3786\"], [0.5555555555555556, \"#d8576b\"], [0.6666666666666666, \"#ed7953\"], [0.7777777777777778, \"#fb9f3a\"], [0.8888888888888888, \"#fdca26\"], [1.0, \"#f0f921\"]], \"type\": \"contour\"}], \"contourcarpet\": [{\"colorbar\": {\"outlinewidth\": 0, \"ticks\": \"\"}, \"type\": \"contourcarpet\"}], \"heatmap\": [{\"colorbar\": {\"outlinewidth\": 0, \"ticks\": \"\"}, \"colorscale\": [[0.0, \"#0d0887\"], [0.1111111111111111, \"#46039f\"], [0.2222222222222222, \"#7201a8\"], [0.3333333333333333, \"#9c179e\"], [0.4444444444444444, \"#bd3786\"], [0.5555555555555556, \"#d8576b\"], [0.6666666666666666, \"#ed7953\"], [0.7777777777777778, \"#fb9f3a\"], [0.8888888888888888, \"#fdca26\"], [1.0, \"#f0f921\"]], \"type\": \"heatmap\"}], \"heatmapgl\": [{\"colorbar\": {\"outlinewidth\": 0, \"ticks\": \"\"}, \"colorscale\": [[0.0, \"#0d0887\"], [0.1111111111111111, \"#46039f\"], [0.2222222222222222, \"#7201a8\"], [0.3333333333333333, \"#9c179e\"], [0.4444444444444444, \"#bd3786\"], [0.5555555555555556, \"#d8576b\"], [0.6666666666666666, \"#ed7953\"], [0.7777777777777778, \"#fb9f3a\"], [0.8888888888888888, \"#fdca26\"], [1.0, \"#f0f921\"]], \"type\": \"heatmapgl\"}], \"histogram\": [{\"marker\": {\"colorbar\": {\"outlinewidth\": 0, \"ticks\": \"\"}}, \"type\": \"histogram\"}], \"histogram2d\": [{\"colorbar\": {\"outlinewidth\": 0, \"ticks\": \"\"}, \"colorscale\": [[0.0, \"#0d0887\"], [0.1111111111111111, \"#46039f\"], [0.2222222222222222, \"#7201a8\"], [0.3333333333333333, \"#9c179e\"], [0.4444444444444444, \"#bd3786\"], [0.5555555555555556, \"#d8576b\"], [0.6666666666666666, \"#ed7953\"], [0.7777777777777778, \"#fb9f3a\"], [0.8888888888888888, \"#fdca26\"], [1.0, \"#f0f921\"]], \"type\": \"histogram2d\"}], \"histogram2dcontour\": [{\"colorbar\": {\"outlinewidth\": 0, \"ticks\": \"\"}, \"colorscale\": [[0.0, \"#0d0887\"], [0.1111111111111111, \"#46039f\"], [0.2222222222222222, \"#7201a8\"], [0.3333333333333333, \"#9c179e\"], [0.4444444444444444, \"#bd3786\"], [0.5555555555555556, \"#d8576b\"], [0.6666666666666666, \"#ed7953\"], [0.7777777777777778, \"#fb9f3a\"], [0.8888888888888888, \"#fdca26\"], [1.0, \"#f0f921\"]], \"type\": \"histogram2dcontour\"}], \"mesh3d\": [{\"colorbar\": {\"outlinewidth\": 0, \"ticks\": \"\"}, \"type\": \"mesh3d\"}], \"parcoords\": [{\"line\": {\"colorbar\": {\"outlinewidth\": 0, \"ticks\": \"\"}}, \"type\": \"parcoords\"}], \"pie\": [{\"automargin\": true, \"type\": \"pie\"}], \"scatter\": [{\"marker\": {\"colorbar\": {\"outlinewidth\": 0, \"ticks\": \"\"}}, \"type\": \"scatter\"}], \"scatter3d\": [{\"line\": {\"colorbar\": {\"outlinewidth\": 0, \"ticks\": \"\"}}, \"marker\": {\"colorbar\": {\"outlinewidth\": 0, \"ticks\": \"\"}}, \"type\": \"scatter3d\"}], \"scattercarpet\": [{\"marker\": {\"colorbar\": {\"outlinewidth\": 0, \"ticks\": \"\"}}, \"type\": \"scattercarpet\"}], \"scattergeo\": [{\"marker\": {\"colorbar\": {\"outlinewidth\": 0, \"ticks\": \"\"}}, \"type\": \"scattergeo\"}], \"scattergl\": [{\"marker\": {\"colorbar\": {\"outlinewidth\": 0, \"ticks\": \"\"}}, \"type\": \"scattergl\"}], \"scattermapbox\": [{\"marker\": {\"colorbar\": {\"outlinewidth\": 0, \"ticks\": \"\"}}, \"type\": \"scattermapbox\"}], \"scatterpolar\": [{\"marker\": {\"colorbar\": {\"outlinewidth\": 0, \"ticks\": \"\"}}, \"type\": \"scatterpolar\"}], \"scatterpolargl\": [{\"marker\": {\"colorbar\": {\"outlinewidth\": 0, \"ticks\": \"\"}}, \"type\": \"scatterpolargl\"}], \"scatterternary\": [{\"marker\": {\"colorbar\": {\"outlinewidth\": 0, \"ticks\": \"\"}}, \"type\": \"scatterternary\"}], \"surface\": [{\"colorbar\": {\"outlinewidth\": 0, \"ticks\": \"\"}, \"colorscale\": [[0.0, \"#0d0887\"], [0.1111111111111111, \"#46039f\"], [0.2222222222222222, \"#7201a8\"], [0.3333333333333333, \"#9c179e\"], [0.4444444444444444, \"#bd3786\"], [0.5555555555555556, \"#d8576b\"], [0.6666666666666666, \"#ed7953\"], [0.7777777777777778, \"#fb9f3a\"], [0.8888888888888888, \"#fdca26\"], [1.0, \"#f0f921\"]], \"type\": \"surface\"}], \"table\": [{\"cells\": {\"fill\": {\"color\": \"#EBF0F8\"}, \"line\": {\"color\": \"white\"}}, \"header\": {\"fill\": {\"color\": \"#C8D4E3\"}, \"line\": {\"color\": \"white\"}}, \"type\": \"table\"}]}, \"layout\": {\"annotationdefaults\": {\"arrowcolor\": \"#2a3f5f\", \"arrowhead\": 0, \"arrowwidth\": 1}, \"coloraxis\": {\"colorbar\": {\"outlinewidth\": 0, \"ticks\": \"\"}}, \"colorscale\": {\"diverging\": [[0, \"#8e0152\"], [0.1, \"#c51b7d\"], [0.2, \"#de77ae\"], [0.3, \"#f1b6da\"], [0.4, \"#fde0ef\"], [0.5, \"#f7f7f7\"], [0.6, \"#e6f5d0\"], [0.7, \"#b8e186\"], [0.8, \"#7fbc41\"], [0.9, \"#4d9221\"], [1, \"#276419\"]], \"sequential\": [[0.0, \"#0d0887\"], [0.1111111111111111, \"#46039f\"], [0.2222222222222222, \"#7201a8\"], [0.3333333333333333, \"#9c179e\"], [0.4444444444444444, \"#bd3786\"], [0.5555555555555556, \"#d8576b\"], [0.6666666666666666, \"#ed7953\"], [0.7777777777777778, \"#fb9f3a\"], [0.8888888888888888, \"#fdca26\"], [1.0, \"#f0f921\"]], \"sequentialminus\": [[0.0, \"#0d0887\"], [0.1111111111111111, \"#46039f\"], [0.2222222222222222, \"#7201a8\"], [0.3333333333333333, \"#9c179e\"], [0.4444444444444444, \"#bd3786\"], [0.5555555555555556, \"#d8576b\"], [0.6666666666666666, \"#ed7953\"], [0.7777777777777778, \"#fb9f3a\"], [0.8888888888888888, \"#fdca26\"], [1.0, \"#f0f921\"]]}, \"colorway\": [\"#636efa\", \"#EF553B\", \"#00cc96\", \"#ab63fa\", \"#FFA15A\", \"#19d3f3\", \"#FF6692\", \"#B6E880\", \"#FF97FF\", \"#FECB52\"], \"font\": {\"color\": \"#2a3f5f\"}, \"geo\": {\"bgcolor\": \"white\", \"lakecolor\": \"white\", \"landcolor\": \"#E5ECF6\", \"showlakes\": true, \"showland\": true, \"subunitcolor\": \"white\"}, \"hoverlabel\": {\"align\": \"left\"}, \"hovermode\": \"closest\", \"mapbox\": {\"style\": \"light\"}, \"paper_bgcolor\": \"white\", \"plot_bgcolor\": \"#E5ECF6\", \"polar\": {\"angularaxis\": {\"gridcolor\": \"white\", \"linecolor\": \"white\", \"ticks\": \"\"}, \"bgcolor\": \"#E5ECF6\", \"radialaxis\": {\"gridcolor\": \"white\", \"linecolor\": \"white\", \"ticks\": \"\"}}, \"scene\": {\"xaxis\": {\"backgroundcolor\": \"#E5ECF6\", \"gridcolor\": \"white\", \"gridwidth\": 2, \"linecolor\": \"white\", \"showbackground\": true, \"ticks\": \"\", \"zerolinecolor\": \"white\"}, \"yaxis\": {\"backgroundcolor\": \"#E5ECF6\", \"gridcolor\": \"white\", \"gridwidth\": 2, \"linecolor\": \"white\", \"showbackground\": true, \"ticks\": \"\", \"zerolinecolor\": \"white\"}, \"zaxis\": {\"backgroundcolor\": \"#E5ECF6\", \"gridcolor\": \"white\", \"gridwidth\": 2, \"linecolor\": \"white\", \"showbackground\": true, \"ticks\": \"\", \"zerolinecolor\": \"white\"}}, \"shapedefaults\": {\"line\": {\"color\": \"#2a3f5f\"}}, \"ternary\": {\"aaxis\": {\"gridcolor\": \"white\", \"linecolor\": \"white\", \"ticks\": \"\"}, \"baxis\": {\"gridcolor\": \"white\", \"linecolor\": \"white\", \"ticks\": \"\"}, \"bgcolor\": \"#E5ECF6\", \"caxis\": {\"gridcolor\": \"white\", \"linecolor\": \"white\", \"ticks\": \"\"}}, \"title\": {\"x\": 0.05}, \"xaxis\": {\"automargin\": true, \"gridcolor\": \"white\", \"linecolor\": \"white\", \"ticks\": \"\", \"title\": {\"standoff\": 15}, \"zerolinecolor\": \"white\", \"zerolinewidth\": 2}, \"yaxis\": {\"automargin\": true, \"gridcolor\": \"white\", \"linecolor\": \"white\", \"ticks\": \"\", \"title\": {\"standoff\": 15}, \"zerolinecolor\": \"white\", \"zerolinewidth\": 2}}}, \"title\": {\"font\": {\"color\": \"#4D5663\"}}, \"xaxis\": {\"gridcolor\": \"#E1E5ED\", \"showgrid\": true, \"tickfont\": {\"color\": \"#4D5663\"}, \"title\": {\"font\": {\"color\": \"#4D5663\"}, \"text\": \"\"}, \"zerolinecolor\": \"#E1E5ED\"}, \"yaxis\": {\"gridcolor\": \"#E1E5ED\", \"showgrid\": true, \"tickfont\": {\"color\": \"#4D5663\"}, \"title\": {\"font\": {\"color\": \"#4D5663\"}, \"text\": \"\"}, \"zerolinecolor\": \"#E1E5ED\"}},\n",
       "                        {\"showLink\": true, \"linkText\": \"Export to plot.ly\", \"plotlyServerURL\": \"https://plot.ly\", \"responsive\": true}\n",
       "                    ).then(function(){\n",
       "                            \n",
       "var gd = document.getElementById('7e812963-93fd-4d5c-babc-b19bc911c373');\n",
       "var x = new MutationObserver(function (mutations, observer) {{\n",
       "        var display = window.getComputedStyle(gd).display;\n",
       "        if (!display || display === 'none') {{\n",
       "            console.log([gd, 'removed!']);\n",
       "            Plotly.purge(gd);\n",
       "            observer.disconnect();\n",
       "        }}\n",
       "}});\n",
       "\n",
       "// Listen for the removal of the full notebook cells\n",
       "var notebookContainer = gd.closest('#notebook-container');\n",
       "if (notebookContainer) {{\n",
       "    x.observe(notebookContainer, {childList: true});\n",
       "}}\n",
       "\n",
       "// Listen for the clearing of the current output cell\n",
       "var outputEl = gd.closest('.output');\n",
       "if (outputEl) {{\n",
       "    x.observe(outputEl, {childList: true});\n",
       "}}\n",
       "\n",
       "                        })\n",
       "                };\n",
       "                });\n",
       "            </script>\n",
       "        </div>"
      ]
     },
     "metadata": {},
     "output_type": "display_data"
    }
   ],
   "source": [
    "df1.iplot(kind='bar',x='A',y='C')"
   ]
  },
  {
   "cell_type": "code",
   "execution_count": 27,
   "metadata": {},
   "outputs": [
    {
     "data": {
      "application/vnd.plotly.v1+json": {
       "config": {
        "linkText": "Export to plot.ly",
        "plotlyServerURL": "https://plot.ly",
        "showLink": true
       },
       "data": [
        {
         "marker": {
          "color": "rgba(255, 153, 51, 0.6)",
          "line": {
           "color": "rgba(255, 153, 51, 1.0)",
           "width": 1
          }
         },
         "name": "None",
         "orientation": "v",
         "text": "",
         "type": "bar",
         "x": [
          "A",
          "B",
          "C",
          "D"
         ],
         "y": [
          100,
          100,
          100,
          100
         ]
        }
       ],
       "layout": {
        "legend": {
         "bgcolor": "#F5F6F9",
         "font": {
          "color": "#4D5663"
         }
        },
        "paper_bgcolor": "#F5F6F9",
        "plot_bgcolor": "#F5F6F9",
        "template": {
         "data": {
          "bar": [
           {
            "error_x": {
             "color": "#2a3f5f"
            },
            "error_y": {
             "color": "#2a3f5f"
            },
            "marker": {
             "line": {
              "color": "#E5ECF6",
              "width": 0.5
             }
            },
            "type": "bar"
           }
          ],
          "barpolar": [
           {
            "marker": {
             "line": {
              "color": "#E5ECF6",
              "width": 0.5
             }
            },
            "type": "barpolar"
           }
          ],
          "carpet": [
           {
            "aaxis": {
             "endlinecolor": "#2a3f5f",
             "gridcolor": "white",
             "linecolor": "white",
             "minorgridcolor": "white",
             "startlinecolor": "#2a3f5f"
            },
            "baxis": {
             "endlinecolor": "#2a3f5f",
             "gridcolor": "white",
             "linecolor": "white",
             "minorgridcolor": "white",
             "startlinecolor": "#2a3f5f"
            },
            "type": "carpet"
           }
          ],
          "choropleth": [
           {
            "colorbar": {
             "outlinewidth": 0,
             "ticks": ""
            },
            "type": "choropleth"
           }
          ],
          "contour": [
           {
            "colorbar": {
             "outlinewidth": 0,
             "ticks": ""
            },
            "colorscale": [
             [
              0,
              "#0d0887"
             ],
             [
              0.1111111111111111,
              "#46039f"
             ],
             [
              0.2222222222222222,
              "#7201a8"
             ],
             [
              0.3333333333333333,
              "#9c179e"
             ],
             [
              0.4444444444444444,
              "#bd3786"
             ],
             [
              0.5555555555555556,
              "#d8576b"
             ],
             [
              0.6666666666666666,
              "#ed7953"
             ],
             [
              0.7777777777777778,
              "#fb9f3a"
             ],
             [
              0.8888888888888888,
              "#fdca26"
             ],
             [
              1,
              "#f0f921"
             ]
            ],
            "type": "contour"
           }
          ],
          "contourcarpet": [
           {
            "colorbar": {
             "outlinewidth": 0,
             "ticks": ""
            },
            "type": "contourcarpet"
           }
          ],
          "heatmap": [
           {
            "colorbar": {
             "outlinewidth": 0,
             "ticks": ""
            },
            "colorscale": [
             [
              0,
              "#0d0887"
             ],
             [
              0.1111111111111111,
              "#46039f"
             ],
             [
              0.2222222222222222,
              "#7201a8"
             ],
             [
              0.3333333333333333,
              "#9c179e"
             ],
             [
              0.4444444444444444,
              "#bd3786"
             ],
             [
              0.5555555555555556,
              "#d8576b"
             ],
             [
              0.6666666666666666,
              "#ed7953"
             ],
             [
              0.7777777777777778,
              "#fb9f3a"
             ],
             [
              0.8888888888888888,
              "#fdca26"
             ],
             [
              1,
              "#f0f921"
             ]
            ],
            "type": "heatmap"
           }
          ],
          "heatmapgl": [
           {
            "colorbar": {
             "outlinewidth": 0,
             "ticks": ""
            },
            "colorscale": [
             [
              0,
              "#0d0887"
             ],
             [
              0.1111111111111111,
              "#46039f"
             ],
             [
              0.2222222222222222,
              "#7201a8"
             ],
             [
              0.3333333333333333,
              "#9c179e"
             ],
             [
              0.4444444444444444,
              "#bd3786"
             ],
             [
              0.5555555555555556,
              "#d8576b"
             ],
             [
              0.6666666666666666,
              "#ed7953"
             ],
             [
              0.7777777777777778,
              "#fb9f3a"
             ],
             [
              0.8888888888888888,
              "#fdca26"
             ],
             [
              1,
              "#f0f921"
             ]
            ],
            "type": "heatmapgl"
           }
          ],
          "histogram": [
           {
            "marker": {
             "colorbar": {
              "outlinewidth": 0,
              "ticks": ""
             }
            },
            "type": "histogram"
           }
          ],
          "histogram2d": [
           {
            "colorbar": {
             "outlinewidth": 0,
             "ticks": ""
            },
            "colorscale": [
             [
              0,
              "#0d0887"
             ],
             [
              0.1111111111111111,
              "#46039f"
             ],
             [
              0.2222222222222222,
              "#7201a8"
             ],
             [
              0.3333333333333333,
              "#9c179e"
             ],
             [
              0.4444444444444444,
              "#bd3786"
             ],
             [
              0.5555555555555556,
              "#d8576b"
             ],
             [
              0.6666666666666666,
              "#ed7953"
             ],
             [
              0.7777777777777778,
              "#fb9f3a"
             ],
             [
              0.8888888888888888,
              "#fdca26"
             ],
             [
              1,
              "#f0f921"
             ]
            ],
            "type": "histogram2d"
           }
          ],
          "histogram2dcontour": [
           {
            "colorbar": {
             "outlinewidth": 0,
             "ticks": ""
            },
            "colorscale": [
             [
              0,
              "#0d0887"
             ],
             [
              0.1111111111111111,
              "#46039f"
             ],
             [
              0.2222222222222222,
              "#7201a8"
             ],
             [
              0.3333333333333333,
              "#9c179e"
             ],
             [
              0.4444444444444444,
              "#bd3786"
             ],
             [
              0.5555555555555556,
              "#d8576b"
             ],
             [
              0.6666666666666666,
              "#ed7953"
             ],
             [
              0.7777777777777778,
              "#fb9f3a"
             ],
             [
              0.8888888888888888,
              "#fdca26"
             ],
             [
              1,
              "#f0f921"
             ]
            ],
            "type": "histogram2dcontour"
           }
          ],
          "mesh3d": [
           {
            "colorbar": {
             "outlinewidth": 0,
             "ticks": ""
            },
            "type": "mesh3d"
           }
          ],
          "parcoords": [
           {
            "line": {
             "colorbar": {
              "outlinewidth": 0,
              "ticks": ""
             }
            },
            "type": "parcoords"
           }
          ],
          "pie": [
           {
            "automargin": true,
            "type": "pie"
           }
          ],
          "scatter": [
           {
            "marker": {
             "colorbar": {
              "outlinewidth": 0,
              "ticks": ""
             }
            },
            "type": "scatter"
           }
          ],
          "scatter3d": [
           {
            "line": {
             "colorbar": {
              "outlinewidth": 0,
              "ticks": ""
             }
            },
            "marker": {
             "colorbar": {
              "outlinewidth": 0,
              "ticks": ""
             }
            },
            "type": "scatter3d"
           }
          ],
          "scattercarpet": [
           {
            "marker": {
             "colorbar": {
              "outlinewidth": 0,
              "ticks": ""
             }
            },
            "type": "scattercarpet"
           }
          ],
          "scattergeo": [
           {
            "marker": {
             "colorbar": {
              "outlinewidth": 0,
              "ticks": ""
             }
            },
            "type": "scattergeo"
           }
          ],
          "scattergl": [
           {
            "marker": {
             "colorbar": {
              "outlinewidth": 0,
              "ticks": ""
             }
            },
            "type": "scattergl"
           }
          ],
          "scattermapbox": [
           {
            "marker": {
             "colorbar": {
              "outlinewidth": 0,
              "ticks": ""
             }
            },
            "type": "scattermapbox"
           }
          ],
          "scatterpolar": [
           {
            "marker": {
             "colorbar": {
              "outlinewidth": 0,
              "ticks": ""
             }
            },
            "type": "scatterpolar"
           }
          ],
          "scatterpolargl": [
           {
            "marker": {
             "colorbar": {
              "outlinewidth": 0,
              "ticks": ""
             }
            },
            "type": "scatterpolargl"
           }
          ],
          "scatterternary": [
           {
            "marker": {
             "colorbar": {
              "outlinewidth": 0,
              "ticks": ""
             }
            },
            "type": "scatterternary"
           }
          ],
          "surface": [
           {
            "colorbar": {
             "outlinewidth": 0,
             "ticks": ""
            },
            "colorscale": [
             [
              0,
              "#0d0887"
             ],
             [
              0.1111111111111111,
              "#46039f"
             ],
             [
              0.2222222222222222,
              "#7201a8"
             ],
             [
              0.3333333333333333,
              "#9c179e"
             ],
             [
              0.4444444444444444,
              "#bd3786"
             ],
             [
              0.5555555555555556,
              "#d8576b"
             ],
             [
              0.6666666666666666,
              "#ed7953"
             ],
             [
              0.7777777777777778,
              "#fb9f3a"
             ],
             [
              0.8888888888888888,
              "#fdca26"
             ],
             [
              1,
              "#f0f921"
             ]
            ],
            "type": "surface"
           }
          ],
          "table": [
           {
            "cells": {
             "fill": {
              "color": "#EBF0F8"
             },
             "line": {
              "color": "white"
             }
            },
            "header": {
             "fill": {
              "color": "#C8D4E3"
             },
             "line": {
              "color": "white"
             }
            },
            "type": "table"
           }
          ]
         },
         "layout": {
          "annotationdefaults": {
           "arrowcolor": "#2a3f5f",
           "arrowhead": 0,
           "arrowwidth": 1
          },
          "coloraxis": {
           "colorbar": {
            "outlinewidth": 0,
            "ticks": ""
           }
          },
          "colorscale": {
           "diverging": [
            [
             0,
             "#8e0152"
            ],
            [
             0.1,
             "#c51b7d"
            ],
            [
             0.2,
             "#de77ae"
            ],
            [
             0.3,
             "#f1b6da"
            ],
            [
             0.4,
             "#fde0ef"
            ],
            [
             0.5,
             "#f7f7f7"
            ],
            [
             0.6,
             "#e6f5d0"
            ],
            [
             0.7,
             "#b8e186"
            ],
            [
             0.8,
             "#7fbc41"
            ],
            [
             0.9,
             "#4d9221"
            ],
            [
             1,
             "#276419"
            ]
           ],
           "sequential": [
            [
             0,
             "#0d0887"
            ],
            [
             0.1111111111111111,
             "#46039f"
            ],
            [
             0.2222222222222222,
             "#7201a8"
            ],
            [
             0.3333333333333333,
             "#9c179e"
            ],
            [
             0.4444444444444444,
             "#bd3786"
            ],
            [
             0.5555555555555556,
             "#d8576b"
            ],
            [
             0.6666666666666666,
             "#ed7953"
            ],
            [
             0.7777777777777778,
             "#fb9f3a"
            ],
            [
             0.8888888888888888,
             "#fdca26"
            ],
            [
             1,
             "#f0f921"
            ]
           ],
           "sequentialminus": [
            [
             0,
             "#0d0887"
            ],
            [
             0.1111111111111111,
             "#46039f"
            ],
            [
             0.2222222222222222,
             "#7201a8"
            ],
            [
             0.3333333333333333,
             "#9c179e"
            ],
            [
             0.4444444444444444,
             "#bd3786"
            ],
            [
             0.5555555555555556,
             "#d8576b"
            ],
            [
             0.6666666666666666,
             "#ed7953"
            ],
            [
             0.7777777777777778,
             "#fb9f3a"
            ],
            [
             0.8888888888888888,
             "#fdca26"
            ],
            [
             1,
             "#f0f921"
            ]
           ]
          },
          "colorway": [
           "#636efa",
           "#EF553B",
           "#00cc96",
           "#ab63fa",
           "#FFA15A",
           "#19d3f3",
           "#FF6692",
           "#B6E880",
           "#FF97FF",
           "#FECB52"
          ],
          "font": {
           "color": "#2a3f5f"
          },
          "geo": {
           "bgcolor": "white",
           "lakecolor": "white",
           "landcolor": "#E5ECF6",
           "showlakes": true,
           "showland": true,
           "subunitcolor": "white"
          },
          "hoverlabel": {
           "align": "left"
          },
          "hovermode": "closest",
          "mapbox": {
           "style": "light"
          },
          "paper_bgcolor": "white",
          "plot_bgcolor": "#E5ECF6",
          "polar": {
           "angularaxis": {
            "gridcolor": "white",
            "linecolor": "white",
            "ticks": ""
           },
           "bgcolor": "#E5ECF6",
           "radialaxis": {
            "gridcolor": "white",
            "linecolor": "white",
            "ticks": ""
           }
          },
          "scene": {
           "xaxis": {
            "backgroundcolor": "#E5ECF6",
            "gridcolor": "white",
            "gridwidth": 2,
            "linecolor": "white",
            "showbackground": true,
            "ticks": "",
            "zerolinecolor": "white"
           },
           "yaxis": {
            "backgroundcolor": "#E5ECF6",
            "gridcolor": "white",
            "gridwidth": 2,
            "linecolor": "white",
            "showbackground": true,
            "ticks": "",
            "zerolinecolor": "white"
           },
           "zaxis": {
            "backgroundcolor": "#E5ECF6",
            "gridcolor": "white",
            "gridwidth": 2,
            "linecolor": "white",
            "showbackground": true,
            "ticks": "",
            "zerolinecolor": "white"
           }
          },
          "shapedefaults": {
           "line": {
            "color": "#2a3f5f"
           }
          },
          "ternary": {
           "aaxis": {
            "gridcolor": "white",
            "linecolor": "white",
            "ticks": ""
           },
           "baxis": {
            "gridcolor": "white",
            "linecolor": "white",
            "ticks": ""
           },
           "bgcolor": "#E5ECF6",
           "caxis": {
            "gridcolor": "white",
            "linecolor": "white",
            "ticks": ""
           }
          },
          "title": {
           "x": 0.05
          },
          "xaxis": {
           "automargin": true,
           "gridcolor": "white",
           "linecolor": "white",
           "ticks": "",
           "title": {
            "standoff": 15
           },
           "zerolinecolor": "white",
           "zerolinewidth": 2
          },
          "yaxis": {
           "automargin": true,
           "gridcolor": "white",
           "linecolor": "white",
           "ticks": "",
           "title": {
            "standoff": 15
           },
           "zerolinecolor": "white",
           "zerolinewidth": 2
          }
         }
        },
        "title": {
         "font": {
          "color": "#4D5663"
         }
        },
        "xaxis": {
         "gridcolor": "#E1E5ED",
         "showgrid": true,
         "tickfont": {
          "color": "#4D5663"
         },
         "title": {
          "font": {
           "color": "#4D5663"
          },
          "text": ""
         },
         "zerolinecolor": "#E1E5ED"
        },
        "yaxis": {
         "gridcolor": "#E1E5ED",
         "showgrid": true,
         "tickfont": {
          "color": "#4D5663"
         },
         "title": {
          "font": {
           "color": "#4D5663"
          },
          "text": ""
         },
         "zerolinecolor": "#E1E5ED"
        }
       }
      },
      "text/html": [
       "<div>\n",
       "        \n",
       "        \n",
       "            <div id=\"fb14ea33-8bc9-44e3-80f6-3991555bbb92\" class=\"plotly-graph-div\" style=\"height:525px; width:100%;\"></div>\n",
       "            <script type=\"text/javascript\">\n",
       "                require([\"plotly\"], function(Plotly) {\n",
       "                    window.PLOTLYENV=window.PLOTLYENV || {};\n",
       "                    window.PLOTLYENV.BASE_URL='https://plot.ly';\n",
       "                    \n",
       "                if (document.getElementById(\"fb14ea33-8bc9-44e3-80f6-3991555bbb92\")) {\n",
       "                    Plotly.newPlot(\n",
       "                        'fb14ea33-8bc9-44e3-80f6-3991555bbb92',\n",
       "                        [{\"marker\": {\"color\": \"rgba(255, 153, 51, 0.6)\", \"line\": {\"color\": \"rgba(255, 153, 51, 1.0)\", \"width\": 1}}, \"name\": \"None\", \"orientation\": \"v\", \"text\": \"\", \"type\": \"bar\", \"x\": [\"A\", \"B\", \"C\", \"D\"], \"y\": [100, 100, 100, 100]}],\n",
       "                        {\"legend\": {\"bgcolor\": \"#F5F6F9\", \"font\": {\"color\": \"#4D5663\"}}, \"paper_bgcolor\": \"#F5F6F9\", \"plot_bgcolor\": \"#F5F6F9\", \"template\": {\"data\": {\"bar\": [{\"error_x\": {\"color\": \"#2a3f5f\"}, \"error_y\": {\"color\": \"#2a3f5f\"}, \"marker\": {\"line\": {\"color\": \"#E5ECF6\", \"width\": 0.5}}, \"type\": \"bar\"}], \"barpolar\": [{\"marker\": {\"line\": {\"color\": \"#E5ECF6\", \"width\": 0.5}}, \"type\": \"barpolar\"}], \"carpet\": [{\"aaxis\": {\"endlinecolor\": \"#2a3f5f\", \"gridcolor\": \"white\", \"linecolor\": \"white\", \"minorgridcolor\": \"white\", \"startlinecolor\": \"#2a3f5f\"}, \"baxis\": {\"endlinecolor\": \"#2a3f5f\", \"gridcolor\": \"white\", \"linecolor\": \"white\", \"minorgridcolor\": \"white\", \"startlinecolor\": \"#2a3f5f\"}, \"type\": \"carpet\"}], \"choropleth\": [{\"colorbar\": {\"outlinewidth\": 0, \"ticks\": \"\"}, \"type\": \"choropleth\"}], \"contour\": [{\"colorbar\": {\"outlinewidth\": 0, \"ticks\": \"\"}, \"colorscale\": [[0.0, \"#0d0887\"], [0.1111111111111111, \"#46039f\"], [0.2222222222222222, \"#7201a8\"], [0.3333333333333333, \"#9c179e\"], [0.4444444444444444, \"#bd3786\"], [0.5555555555555556, \"#d8576b\"], [0.6666666666666666, \"#ed7953\"], [0.7777777777777778, \"#fb9f3a\"], [0.8888888888888888, \"#fdca26\"], [1.0, \"#f0f921\"]], \"type\": \"contour\"}], \"contourcarpet\": [{\"colorbar\": {\"outlinewidth\": 0, \"ticks\": \"\"}, \"type\": \"contourcarpet\"}], \"heatmap\": [{\"colorbar\": {\"outlinewidth\": 0, \"ticks\": \"\"}, \"colorscale\": [[0.0, \"#0d0887\"], [0.1111111111111111, \"#46039f\"], [0.2222222222222222, \"#7201a8\"], [0.3333333333333333, \"#9c179e\"], [0.4444444444444444, \"#bd3786\"], [0.5555555555555556, \"#d8576b\"], [0.6666666666666666, \"#ed7953\"], [0.7777777777777778, \"#fb9f3a\"], [0.8888888888888888, \"#fdca26\"], [1.0, \"#f0f921\"]], \"type\": \"heatmap\"}], \"heatmapgl\": [{\"colorbar\": {\"outlinewidth\": 0, \"ticks\": \"\"}, \"colorscale\": [[0.0, \"#0d0887\"], [0.1111111111111111, \"#46039f\"], [0.2222222222222222, \"#7201a8\"], [0.3333333333333333, \"#9c179e\"], [0.4444444444444444, \"#bd3786\"], [0.5555555555555556, \"#d8576b\"], [0.6666666666666666, \"#ed7953\"], [0.7777777777777778, \"#fb9f3a\"], [0.8888888888888888, \"#fdca26\"], [1.0, \"#f0f921\"]], \"type\": \"heatmapgl\"}], \"histogram\": [{\"marker\": {\"colorbar\": {\"outlinewidth\": 0, \"ticks\": \"\"}}, \"type\": \"histogram\"}], \"histogram2d\": [{\"colorbar\": {\"outlinewidth\": 0, \"ticks\": \"\"}, \"colorscale\": [[0.0, \"#0d0887\"], [0.1111111111111111, \"#46039f\"], [0.2222222222222222, \"#7201a8\"], [0.3333333333333333, \"#9c179e\"], [0.4444444444444444, \"#bd3786\"], [0.5555555555555556, \"#d8576b\"], [0.6666666666666666, \"#ed7953\"], [0.7777777777777778, \"#fb9f3a\"], [0.8888888888888888, \"#fdca26\"], [1.0, \"#f0f921\"]], \"type\": \"histogram2d\"}], \"histogram2dcontour\": [{\"colorbar\": {\"outlinewidth\": 0, \"ticks\": \"\"}, \"colorscale\": [[0.0, \"#0d0887\"], [0.1111111111111111, \"#46039f\"], [0.2222222222222222, \"#7201a8\"], [0.3333333333333333, \"#9c179e\"], [0.4444444444444444, \"#bd3786\"], [0.5555555555555556, \"#d8576b\"], [0.6666666666666666, \"#ed7953\"], [0.7777777777777778, \"#fb9f3a\"], [0.8888888888888888, \"#fdca26\"], [1.0, \"#f0f921\"]], \"type\": \"histogram2dcontour\"}], \"mesh3d\": [{\"colorbar\": {\"outlinewidth\": 0, \"ticks\": \"\"}, \"type\": \"mesh3d\"}], \"parcoords\": [{\"line\": {\"colorbar\": {\"outlinewidth\": 0, \"ticks\": \"\"}}, \"type\": \"parcoords\"}], \"pie\": [{\"automargin\": true, \"type\": \"pie\"}], \"scatter\": [{\"marker\": {\"colorbar\": {\"outlinewidth\": 0, \"ticks\": \"\"}}, \"type\": \"scatter\"}], \"scatter3d\": [{\"line\": {\"colorbar\": {\"outlinewidth\": 0, \"ticks\": \"\"}}, \"marker\": {\"colorbar\": {\"outlinewidth\": 0, \"ticks\": \"\"}}, \"type\": \"scatter3d\"}], \"scattercarpet\": [{\"marker\": {\"colorbar\": {\"outlinewidth\": 0, \"ticks\": \"\"}}, \"type\": \"scattercarpet\"}], \"scattergeo\": [{\"marker\": {\"colorbar\": {\"outlinewidth\": 0, \"ticks\": \"\"}}, \"type\": \"scattergeo\"}], \"scattergl\": [{\"marker\": {\"colorbar\": {\"outlinewidth\": 0, \"ticks\": \"\"}}, \"type\": \"scattergl\"}], \"scattermapbox\": [{\"marker\": {\"colorbar\": {\"outlinewidth\": 0, \"ticks\": \"\"}}, \"type\": \"scattermapbox\"}], \"scatterpolar\": [{\"marker\": {\"colorbar\": {\"outlinewidth\": 0, \"ticks\": \"\"}}, \"type\": \"scatterpolar\"}], \"scatterpolargl\": [{\"marker\": {\"colorbar\": {\"outlinewidth\": 0, \"ticks\": \"\"}}, \"type\": \"scatterpolargl\"}], \"scatterternary\": [{\"marker\": {\"colorbar\": {\"outlinewidth\": 0, \"ticks\": \"\"}}, \"type\": \"scatterternary\"}], \"surface\": [{\"colorbar\": {\"outlinewidth\": 0, \"ticks\": \"\"}, \"colorscale\": [[0.0, \"#0d0887\"], [0.1111111111111111, \"#46039f\"], [0.2222222222222222, \"#7201a8\"], [0.3333333333333333, \"#9c179e\"], [0.4444444444444444, \"#bd3786\"], [0.5555555555555556, \"#d8576b\"], [0.6666666666666666, \"#ed7953\"], [0.7777777777777778, \"#fb9f3a\"], [0.8888888888888888, \"#fdca26\"], [1.0, \"#f0f921\"]], \"type\": \"surface\"}], \"table\": [{\"cells\": {\"fill\": {\"color\": \"#EBF0F8\"}, \"line\": {\"color\": \"white\"}}, \"header\": {\"fill\": {\"color\": \"#C8D4E3\"}, \"line\": {\"color\": \"white\"}}, \"type\": \"table\"}]}, \"layout\": {\"annotationdefaults\": {\"arrowcolor\": \"#2a3f5f\", \"arrowhead\": 0, \"arrowwidth\": 1}, \"coloraxis\": {\"colorbar\": {\"outlinewidth\": 0, \"ticks\": \"\"}}, \"colorscale\": {\"diverging\": [[0, \"#8e0152\"], [0.1, \"#c51b7d\"], [0.2, \"#de77ae\"], [0.3, \"#f1b6da\"], [0.4, \"#fde0ef\"], [0.5, \"#f7f7f7\"], [0.6, \"#e6f5d0\"], [0.7, \"#b8e186\"], [0.8, \"#7fbc41\"], [0.9, \"#4d9221\"], [1, \"#276419\"]], \"sequential\": [[0.0, \"#0d0887\"], [0.1111111111111111, \"#46039f\"], [0.2222222222222222, \"#7201a8\"], [0.3333333333333333, \"#9c179e\"], [0.4444444444444444, \"#bd3786\"], [0.5555555555555556, \"#d8576b\"], [0.6666666666666666, \"#ed7953\"], [0.7777777777777778, \"#fb9f3a\"], [0.8888888888888888, \"#fdca26\"], [1.0, \"#f0f921\"]], \"sequentialminus\": [[0.0, \"#0d0887\"], [0.1111111111111111, \"#46039f\"], [0.2222222222222222, \"#7201a8\"], [0.3333333333333333, \"#9c179e\"], [0.4444444444444444, \"#bd3786\"], [0.5555555555555556, \"#d8576b\"], [0.6666666666666666, \"#ed7953\"], [0.7777777777777778, \"#fb9f3a\"], [0.8888888888888888, \"#fdca26\"], [1.0, \"#f0f921\"]]}, \"colorway\": [\"#636efa\", \"#EF553B\", \"#00cc96\", \"#ab63fa\", \"#FFA15A\", \"#19d3f3\", \"#FF6692\", \"#B6E880\", \"#FF97FF\", \"#FECB52\"], \"font\": {\"color\": \"#2a3f5f\"}, \"geo\": {\"bgcolor\": \"white\", \"lakecolor\": \"white\", \"landcolor\": \"#E5ECF6\", \"showlakes\": true, \"showland\": true, \"subunitcolor\": \"white\"}, \"hoverlabel\": {\"align\": \"left\"}, \"hovermode\": \"closest\", \"mapbox\": {\"style\": \"light\"}, \"paper_bgcolor\": \"white\", \"plot_bgcolor\": \"#E5ECF6\", \"polar\": {\"angularaxis\": {\"gridcolor\": \"white\", \"linecolor\": \"white\", \"ticks\": \"\"}, \"bgcolor\": \"#E5ECF6\", \"radialaxis\": {\"gridcolor\": \"white\", \"linecolor\": \"white\", \"ticks\": \"\"}}, \"scene\": {\"xaxis\": {\"backgroundcolor\": \"#E5ECF6\", \"gridcolor\": \"white\", \"gridwidth\": 2, \"linecolor\": \"white\", \"showbackground\": true, \"ticks\": \"\", \"zerolinecolor\": \"white\"}, \"yaxis\": {\"backgroundcolor\": \"#E5ECF6\", \"gridcolor\": \"white\", \"gridwidth\": 2, \"linecolor\": \"white\", \"showbackground\": true, \"ticks\": \"\", \"zerolinecolor\": \"white\"}, \"zaxis\": {\"backgroundcolor\": \"#E5ECF6\", \"gridcolor\": \"white\", \"gridwidth\": 2, \"linecolor\": \"white\", \"showbackground\": true, \"ticks\": \"\", \"zerolinecolor\": \"white\"}}, \"shapedefaults\": {\"line\": {\"color\": \"#2a3f5f\"}}, \"ternary\": {\"aaxis\": {\"gridcolor\": \"white\", \"linecolor\": \"white\", \"ticks\": \"\"}, \"baxis\": {\"gridcolor\": \"white\", \"linecolor\": \"white\", \"ticks\": \"\"}, \"bgcolor\": \"#E5ECF6\", \"caxis\": {\"gridcolor\": \"white\", \"linecolor\": \"white\", \"ticks\": \"\"}}, \"title\": {\"x\": 0.05}, \"xaxis\": {\"automargin\": true, \"gridcolor\": \"white\", \"linecolor\": \"white\", \"ticks\": \"\", \"title\": {\"standoff\": 15}, \"zerolinecolor\": \"white\", \"zerolinewidth\": 2}, \"yaxis\": {\"automargin\": true, \"gridcolor\": \"white\", \"linecolor\": \"white\", \"ticks\": \"\", \"title\": {\"standoff\": 15}, \"zerolinecolor\": \"white\", \"zerolinewidth\": 2}}}, \"title\": {\"font\": {\"color\": \"#4D5663\"}}, \"xaxis\": {\"gridcolor\": \"#E1E5ED\", \"showgrid\": true, \"tickfont\": {\"color\": \"#4D5663\"}, \"title\": {\"font\": {\"color\": \"#4D5663\"}, \"text\": \"\"}, \"zerolinecolor\": \"#E1E5ED\"}, \"yaxis\": {\"gridcolor\": \"#E1E5ED\", \"showgrid\": true, \"tickfont\": {\"color\": \"#4D5663\"}, \"title\": {\"font\": {\"color\": \"#4D5663\"}, \"text\": \"\"}, \"zerolinecolor\": \"#E1E5ED\"}},\n",
       "                        {\"showLink\": true, \"linkText\": \"Export to plot.ly\", \"plotlyServerURL\": \"https://plot.ly\", \"responsive\": true}\n",
       "                    ).then(function(){\n",
       "                            \n",
       "var gd = document.getElementById('fb14ea33-8bc9-44e3-80f6-3991555bbb92');\n",
       "var x = new MutationObserver(function (mutations, observer) {{\n",
       "        var display = window.getComputedStyle(gd).display;\n",
       "        if (!display || display === 'none') {{\n",
       "            console.log([gd, 'removed!']);\n",
       "            Plotly.purge(gd);\n",
       "            observer.disconnect();\n",
       "        }}\n",
       "}});\n",
       "\n",
       "// Listen for the removal of the full notebook cells\n",
       "var notebookContainer = gd.closest('#notebook-container');\n",
       "if (notebookContainer) {{\n",
       "    x.observe(notebookContainer, {childList: true});\n",
       "}}\n",
       "\n",
       "// Listen for the clearing of the current output cell\n",
       "var outputEl = gd.closest('.output');\n",
       "if (outputEl) {{\n",
       "    x.observe(outputEl, {childList: true});\n",
       "}}\n",
       "\n",
       "                        })\n",
       "                };\n",
       "                });\n",
       "            </script>\n",
       "        </div>"
      ]
     },
     "metadata": {},
     "output_type": "display_data"
    }
   ],
   "source": [
    "# In addition, I can create countplot of the df1\n",
    "df1.count().iplot(kind='bar')"
   ]
  },
  {
   "cell_type": "code",
   "execution_count": 46,
   "metadata": {},
   "outputs": [
    {
     "data": {
      "application/vnd.plotly.v1+json": {
       "config": {
        "linkText": "Export to plot.ly",
        "plotlyServerURL": "https://plot.ly",
        "showLink": true
       },
       "data": [
        {
         "marker": {
          "color": "rgba(255, 153, 51, 0.6)",
          "line": {
           "color": "rgba(255, 153, 51, 1.0)",
           "width": 1
          }
         },
         "name": "None",
         "orientation": "v",
         "text": "",
         "type": "bar",
         "x": [
          "A",
          "B",
          "C",
          "D"
         ],
         "y": [
          -9.8001248562854,
          4.397289939333608,
          6.441677168480713,
          -0.6406252082499193
         ]
        }
       ],
       "layout": {
        "legend": {
         "bgcolor": "#F5F6F9",
         "font": {
          "color": "#4D5663"
         }
        },
        "paper_bgcolor": "#F5F6F9",
        "plot_bgcolor": "#F5F6F9",
        "template": {
         "data": {
          "bar": [
           {
            "error_x": {
             "color": "#2a3f5f"
            },
            "error_y": {
             "color": "#2a3f5f"
            },
            "marker": {
             "line": {
              "color": "#E5ECF6",
              "width": 0.5
             }
            },
            "type": "bar"
           }
          ],
          "barpolar": [
           {
            "marker": {
             "line": {
              "color": "#E5ECF6",
              "width": 0.5
             }
            },
            "type": "barpolar"
           }
          ],
          "carpet": [
           {
            "aaxis": {
             "endlinecolor": "#2a3f5f",
             "gridcolor": "white",
             "linecolor": "white",
             "minorgridcolor": "white",
             "startlinecolor": "#2a3f5f"
            },
            "baxis": {
             "endlinecolor": "#2a3f5f",
             "gridcolor": "white",
             "linecolor": "white",
             "minorgridcolor": "white",
             "startlinecolor": "#2a3f5f"
            },
            "type": "carpet"
           }
          ],
          "choropleth": [
           {
            "colorbar": {
             "outlinewidth": 0,
             "ticks": ""
            },
            "type": "choropleth"
           }
          ],
          "contour": [
           {
            "colorbar": {
             "outlinewidth": 0,
             "ticks": ""
            },
            "colorscale": [
             [
              0,
              "#0d0887"
             ],
             [
              0.1111111111111111,
              "#46039f"
             ],
             [
              0.2222222222222222,
              "#7201a8"
             ],
             [
              0.3333333333333333,
              "#9c179e"
             ],
             [
              0.4444444444444444,
              "#bd3786"
             ],
             [
              0.5555555555555556,
              "#d8576b"
             ],
             [
              0.6666666666666666,
              "#ed7953"
             ],
             [
              0.7777777777777778,
              "#fb9f3a"
             ],
             [
              0.8888888888888888,
              "#fdca26"
             ],
             [
              1,
              "#f0f921"
             ]
            ],
            "type": "contour"
           }
          ],
          "contourcarpet": [
           {
            "colorbar": {
             "outlinewidth": 0,
             "ticks": ""
            },
            "type": "contourcarpet"
           }
          ],
          "heatmap": [
           {
            "colorbar": {
             "outlinewidth": 0,
             "ticks": ""
            },
            "colorscale": [
             [
              0,
              "#0d0887"
             ],
             [
              0.1111111111111111,
              "#46039f"
             ],
             [
              0.2222222222222222,
              "#7201a8"
             ],
             [
              0.3333333333333333,
              "#9c179e"
             ],
             [
              0.4444444444444444,
              "#bd3786"
             ],
             [
              0.5555555555555556,
              "#d8576b"
             ],
             [
              0.6666666666666666,
              "#ed7953"
             ],
             [
              0.7777777777777778,
              "#fb9f3a"
             ],
             [
              0.8888888888888888,
              "#fdca26"
             ],
             [
              1,
              "#f0f921"
             ]
            ],
            "type": "heatmap"
           }
          ],
          "heatmapgl": [
           {
            "colorbar": {
             "outlinewidth": 0,
             "ticks": ""
            },
            "colorscale": [
             [
              0,
              "#0d0887"
             ],
             [
              0.1111111111111111,
              "#46039f"
             ],
             [
              0.2222222222222222,
              "#7201a8"
             ],
             [
              0.3333333333333333,
              "#9c179e"
             ],
             [
              0.4444444444444444,
              "#bd3786"
             ],
             [
              0.5555555555555556,
              "#d8576b"
             ],
             [
              0.6666666666666666,
              "#ed7953"
             ],
             [
              0.7777777777777778,
              "#fb9f3a"
             ],
             [
              0.8888888888888888,
              "#fdca26"
             ],
             [
              1,
              "#f0f921"
             ]
            ],
            "type": "heatmapgl"
           }
          ],
          "histogram": [
           {
            "marker": {
             "colorbar": {
              "outlinewidth": 0,
              "ticks": ""
             }
            },
            "type": "histogram"
           }
          ],
          "histogram2d": [
           {
            "colorbar": {
             "outlinewidth": 0,
             "ticks": ""
            },
            "colorscale": [
             [
              0,
              "#0d0887"
             ],
             [
              0.1111111111111111,
              "#46039f"
             ],
             [
              0.2222222222222222,
              "#7201a8"
             ],
             [
              0.3333333333333333,
              "#9c179e"
             ],
             [
              0.4444444444444444,
              "#bd3786"
             ],
             [
              0.5555555555555556,
              "#d8576b"
             ],
             [
              0.6666666666666666,
              "#ed7953"
             ],
             [
              0.7777777777777778,
              "#fb9f3a"
             ],
             [
              0.8888888888888888,
              "#fdca26"
             ],
             [
              1,
              "#f0f921"
             ]
            ],
            "type": "histogram2d"
           }
          ],
          "histogram2dcontour": [
           {
            "colorbar": {
             "outlinewidth": 0,
             "ticks": ""
            },
            "colorscale": [
             [
              0,
              "#0d0887"
             ],
             [
              0.1111111111111111,
              "#46039f"
             ],
             [
              0.2222222222222222,
              "#7201a8"
             ],
             [
              0.3333333333333333,
              "#9c179e"
             ],
             [
              0.4444444444444444,
              "#bd3786"
             ],
             [
              0.5555555555555556,
              "#d8576b"
             ],
             [
              0.6666666666666666,
              "#ed7953"
             ],
             [
              0.7777777777777778,
              "#fb9f3a"
             ],
             [
              0.8888888888888888,
              "#fdca26"
             ],
             [
              1,
              "#f0f921"
             ]
            ],
            "type": "histogram2dcontour"
           }
          ],
          "mesh3d": [
           {
            "colorbar": {
             "outlinewidth": 0,
             "ticks": ""
            },
            "type": "mesh3d"
           }
          ],
          "parcoords": [
           {
            "line": {
             "colorbar": {
              "outlinewidth": 0,
              "ticks": ""
             }
            },
            "type": "parcoords"
           }
          ],
          "pie": [
           {
            "automargin": true,
            "type": "pie"
           }
          ],
          "scatter": [
           {
            "marker": {
             "colorbar": {
              "outlinewidth": 0,
              "ticks": ""
             }
            },
            "type": "scatter"
           }
          ],
          "scatter3d": [
           {
            "line": {
             "colorbar": {
              "outlinewidth": 0,
              "ticks": ""
             }
            },
            "marker": {
             "colorbar": {
              "outlinewidth": 0,
              "ticks": ""
             }
            },
            "type": "scatter3d"
           }
          ],
          "scattercarpet": [
           {
            "marker": {
             "colorbar": {
              "outlinewidth": 0,
              "ticks": ""
             }
            },
            "type": "scattercarpet"
           }
          ],
          "scattergeo": [
           {
            "marker": {
             "colorbar": {
              "outlinewidth": 0,
              "ticks": ""
             }
            },
            "type": "scattergeo"
           }
          ],
          "scattergl": [
           {
            "marker": {
             "colorbar": {
              "outlinewidth": 0,
              "ticks": ""
             }
            },
            "type": "scattergl"
           }
          ],
          "scattermapbox": [
           {
            "marker": {
             "colorbar": {
              "outlinewidth": 0,
              "ticks": ""
             }
            },
            "type": "scattermapbox"
           }
          ],
          "scatterpolar": [
           {
            "marker": {
             "colorbar": {
              "outlinewidth": 0,
              "ticks": ""
             }
            },
            "type": "scatterpolar"
           }
          ],
          "scatterpolargl": [
           {
            "marker": {
             "colorbar": {
              "outlinewidth": 0,
              "ticks": ""
             }
            },
            "type": "scatterpolargl"
           }
          ],
          "scatterternary": [
           {
            "marker": {
             "colorbar": {
              "outlinewidth": 0,
              "ticks": ""
             }
            },
            "type": "scatterternary"
           }
          ],
          "surface": [
           {
            "colorbar": {
             "outlinewidth": 0,
             "ticks": ""
            },
            "colorscale": [
             [
              0,
              "#0d0887"
             ],
             [
              0.1111111111111111,
              "#46039f"
             ],
             [
              0.2222222222222222,
              "#7201a8"
             ],
             [
              0.3333333333333333,
              "#9c179e"
             ],
             [
              0.4444444444444444,
              "#bd3786"
             ],
             [
              0.5555555555555556,
              "#d8576b"
             ],
             [
              0.6666666666666666,
              "#ed7953"
             ],
             [
              0.7777777777777778,
              "#fb9f3a"
             ],
             [
              0.8888888888888888,
              "#fdca26"
             ],
             [
              1,
              "#f0f921"
             ]
            ],
            "type": "surface"
           }
          ],
          "table": [
           {
            "cells": {
             "fill": {
              "color": "#EBF0F8"
             },
             "line": {
              "color": "white"
             }
            },
            "header": {
             "fill": {
              "color": "#C8D4E3"
             },
             "line": {
              "color": "white"
             }
            },
            "type": "table"
           }
          ]
         },
         "layout": {
          "annotationdefaults": {
           "arrowcolor": "#2a3f5f",
           "arrowhead": 0,
           "arrowwidth": 1
          },
          "coloraxis": {
           "colorbar": {
            "outlinewidth": 0,
            "ticks": ""
           }
          },
          "colorscale": {
           "diverging": [
            [
             0,
             "#8e0152"
            ],
            [
             0.1,
             "#c51b7d"
            ],
            [
             0.2,
             "#de77ae"
            ],
            [
             0.3,
             "#f1b6da"
            ],
            [
             0.4,
             "#fde0ef"
            ],
            [
             0.5,
             "#f7f7f7"
            ],
            [
             0.6,
             "#e6f5d0"
            ],
            [
             0.7,
             "#b8e186"
            ],
            [
             0.8,
             "#7fbc41"
            ],
            [
             0.9,
             "#4d9221"
            ],
            [
             1,
             "#276419"
            ]
           ],
           "sequential": [
            [
             0,
             "#0d0887"
            ],
            [
             0.1111111111111111,
             "#46039f"
            ],
            [
             0.2222222222222222,
             "#7201a8"
            ],
            [
             0.3333333333333333,
             "#9c179e"
            ],
            [
             0.4444444444444444,
             "#bd3786"
            ],
            [
             0.5555555555555556,
             "#d8576b"
            ],
            [
             0.6666666666666666,
             "#ed7953"
            ],
            [
             0.7777777777777778,
             "#fb9f3a"
            ],
            [
             0.8888888888888888,
             "#fdca26"
            ],
            [
             1,
             "#f0f921"
            ]
           ],
           "sequentialminus": [
            [
             0,
             "#0d0887"
            ],
            [
             0.1111111111111111,
             "#46039f"
            ],
            [
             0.2222222222222222,
             "#7201a8"
            ],
            [
             0.3333333333333333,
             "#9c179e"
            ],
            [
             0.4444444444444444,
             "#bd3786"
            ],
            [
             0.5555555555555556,
             "#d8576b"
            ],
            [
             0.6666666666666666,
             "#ed7953"
            ],
            [
             0.7777777777777778,
             "#fb9f3a"
            ],
            [
             0.8888888888888888,
             "#fdca26"
            ],
            [
             1,
             "#f0f921"
            ]
           ]
          },
          "colorway": [
           "#636efa",
           "#EF553B",
           "#00cc96",
           "#ab63fa",
           "#FFA15A",
           "#19d3f3",
           "#FF6692",
           "#B6E880",
           "#FF97FF",
           "#FECB52"
          ],
          "font": {
           "color": "#2a3f5f"
          },
          "geo": {
           "bgcolor": "white",
           "lakecolor": "white",
           "landcolor": "#E5ECF6",
           "showlakes": true,
           "showland": true,
           "subunitcolor": "white"
          },
          "hoverlabel": {
           "align": "left"
          },
          "hovermode": "closest",
          "mapbox": {
           "style": "light"
          },
          "paper_bgcolor": "white",
          "plot_bgcolor": "#E5ECF6",
          "polar": {
           "angularaxis": {
            "gridcolor": "white",
            "linecolor": "white",
            "ticks": ""
           },
           "bgcolor": "#E5ECF6",
           "radialaxis": {
            "gridcolor": "white",
            "linecolor": "white",
            "ticks": ""
           }
          },
          "scene": {
           "xaxis": {
            "backgroundcolor": "#E5ECF6",
            "gridcolor": "white",
            "gridwidth": 2,
            "linecolor": "white",
            "showbackground": true,
            "ticks": "",
            "zerolinecolor": "white"
           },
           "yaxis": {
            "backgroundcolor": "#E5ECF6",
            "gridcolor": "white",
            "gridwidth": 2,
            "linecolor": "white",
            "showbackground": true,
            "ticks": "",
            "zerolinecolor": "white"
           },
           "zaxis": {
            "backgroundcolor": "#E5ECF6",
            "gridcolor": "white",
            "gridwidth": 2,
            "linecolor": "white",
            "showbackground": true,
            "ticks": "",
            "zerolinecolor": "white"
           }
          },
          "shapedefaults": {
           "line": {
            "color": "#2a3f5f"
           }
          },
          "ternary": {
           "aaxis": {
            "gridcolor": "white",
            "linecolor": "white",
            "ticks": ""
           },
           "baxis": {
            "gridcolor": "white",
            "linecolor": "white",
            "ticks": ""
           },
           "bgcolor": "#E5ECF6",
           "caxis": {
            "gridcolor": "white",
            "linecolor": "white",
            "ticks": ""
           }
          },
          "title": {
           "x": 0.05
          },
          "xaxis": {
           "automargin": true,
           "gridcolor": "white",
           "linecolor": "white",
           "ticks": "",
           "title": {
            "standoff": 15
           },
           "zerolinecolor": "white",
           "zerolinewidth": 2
          },
          "yaxis": {
           "automargin": true,
           "gridcolor": "white",
           "linecolor": "white",
           "ticks": "",
           "title": {
            "standoff": 15
           },
           "zerolinecolor": "white",
           "zerolinewidth": 2
          }
         }
        },
        "title": {
         "font": {
          "color": "#4D5663"
         }
        },
        "xaxis": {
         "gridcolor": "#E1E5ED",
         "showgrid": true,
         "tickfont": {
          "color": "#4D5663"
         },
         "title": {
          "font": {
           "color": "#4D5663"
          },
          "text": ""
         },
         "zerolinecolor": "#E1E5ED"
        },
        "yaxis": {
         "gridcolor": "#E1E5ED",
         "showgrid": true,
         "tickfont": {
          "color": "#4D5663"
         },
         "title": {
          "font": {
           "color": "#4D5663"
          },
          "text": ""
         },
         "zerolinecolor": "#E1E5ED"
        }
       }
      },
      "text/html": [
       "<div>\n",
       "        \n",
       "        \n",
       "            <div id=\"d0dd0e03-715c-4152-b2bb-6034c28e7f34\" class=\"plotly-graph-div\" style=\"height:525px; width:100%;\"></div>\n",
       "            <script type=\"text/javascript\">\n",
       "                require([\"plotly\"], function(Plotly) {\n",
       "                    window.PLOTLYENV=window.PLOTLYENV || {};\n",
       "                    window.PLOTLYENV.BASE_URL='https://plot.ly';\n",
       "                    \n",
       "                if (document.getElementById(\"d0dd0e03-715c-4152-b2bb-6034c28e7f34\")) {\n",
       "                    Plotly.newPlot(\n",
       "                        'd0dd0e03-715c-4152-b2bb-6034c28e7f34',\n",
       "                        [{\"marker\": {\"color\": \"rgba(255, 153, 51, 0.6)\", \"line\": {\"color\": \"rgba(255, 153, 51, 1.0)\", \"width\": 1}}, \"name\": \"None\", \"orientation\": \"v\", \"text\": \"\", \"type\": \"bar\", \"x\": [\"A\", \"B\", \"C\", \"D\"], \"y\": [-9.8001248562854, 4.397289939333608, 6.441677168480713, -0.6406252082499193]}],\n",
       "                        {\"legend\": {\"bgcolor\": \"#F5F6F9\", \"font\": {\"color\": \"#4D5663\"}}, \"paper_bgcolor\": \"#F5F6F9\", \"plot_bgcolor\": \"#F5F6F9\", \"template\": {\"data\": {\"bar\": [{\"error_x\": {\"color\": \"#2a3f5f\"}, \"error_y\": {\"color\": \"#2a3f5f\"}, \"marker\": {\"line\": {\"color\": \"#E5ECF6\", \"width\": 0.5}}, \"type\": \"bar\"}], \"barpolar\": [{\"marker\": {\"line\": {\"color\": \"#E5ECF6\", \"width\": 0.5}}, \"type\": \"barpolar\"}], \"carpet\": [{\"aaxis\": {\"endlinecolor\": \"#2a3f5f\", \"gridcolor\": \"white\", \"linecolor\": \"white\", \"minorgridcolor\": \"white\", \"startlinecolor\": \"#2a3f5f\"}, \"baxis\": {\"endlinecolor\": \"#2a3f5f\", \"gridcolor\": \"white\", \"linecolor\": \"white\", \"minorgridcolor\": \"white\", \"startlinecolor\": \"#2a3f5f\"}, \"type\": \"carpet\"}], \"choropleth\": [{\"colorbar\": {\"outlinewidth\": 0, \"ticks\": \"\"}, \"type\": \"choropleth\"}], \"contour\": [{\"colorbar\": {\"outlinewidth\": 0, \"ticks\": \"\"}, \"colorscale\": [[0.0, \"#0d0887\"], [0.1111111111111111, \"#46039f\"], [0.2222222222222222, \"#7201a8\"], [0.3333333333333333, \"#9c179e\"], [0.4444444444444444, \"#bd3786\"], [0.5555555555555556, \"#d8576b\"], [0.6666666666666666, \"#ed7953\"], [0.7777777777777778, \"#fb9f3a\"], [0.8888888888888888, \"#fdca26\"], [1.0, \"#f0f921\"]], \"type\": \"contour\"}], \"contourcarpet\": [{\"colorbar\": {\"outlinewidth\": 0, \"ticks\": \"\"}, \"type\": \"contourcarpet\"}], \"heatmap\": [{\"colorbar\": {\"outlinewidth\": 0, \"ticks\": \"\"}, \"colorscale\": [[0.0, \"#0d0887\"], [0.1111111111111111, \"#46039f\"], [0.2222222222222222, \"#7201a8\"], [0.3333333333333333, \"#9c179e\"], [0.4444444444444444, \"#bd3786\"], [0.5555555555555556, \"#d8576b\"], [0.6666666666666666, \"#ed7953\"], [0.7777777777777778, \"#fb9f3a\"], [0.8888888888888888, \"#fdca26\"], [1.0, \"#f0f921\"]], \"type\": \"heatmap\"}], \"heatmapgl\": [{\"colorbar\": {\"outlinewidth\": 0, \"ticks\": \"\"}, \"colorscale\": [[0.0, \"#0d0887\"], [0.1111111111111111, \"#46039f\"], [0.2222222222222222, \"#7201a8\"], [0.3333333333333333, \"#9c179e\"], [0.4444444444444444, \"#bd3786\"], [0.5555555555555556, \"#d8576b\"], [0.6666666666666666, \"#ed7953\"], [0.7777777777777778, \"#fb9f3a\"], [0.8888888888888888, \"#fdca26\"], [1.0, \"#f0f921\"]], \"type\": \"heatmapgl\"}], \"histogram\": [{\"marker\": {\"colorbar\": {\"outlinewidth\": 0, \"ticks\": \"\"}}, \"type\": \"histogram\"}], \"histogram2d\": [{\"colorbar\": {\"outlinewidth\": 0, \"ticks\": \"\"}, \"colorscale\": [[0.0, \"#0d0887\"], [0.1111111111111111, \"#46039f\"], [0.2222222222222222, \"#7201a8\"], [0.3333333333333333, \"#9c179e\"], [0.4444444444444444, \"#bd3786\"], [0.5555555555555556, \"#d8576b\"], [0.6666666666666666, \"#ed7953\"], [0.7777777777777778, \"#fb9f3a\"], [0.8888888888888888, \"#fdca26\"], [1.0, \"#f0f921\"]], \"type\": \"histogram2d\"}], \"histogram2dcontour\": [{\"colorbar\": {\"outlinewidth\": 0, \"ticks\": \"\"}, \"colorscale\": [[0.0, \"#0d0887\"], [0.1111111111111111, \"#46039f\"], [0.2222222222222222, \"#7201a8\"], [0.3333333333333333, \"#9c179e\"], [0.4444444444444444, \"#bd3786\"], [0.5555555555555556, \"#d8576b\"], [0.6666666666666666, \"#ed7953\"], [0.7777777777777778, \"#fb9f3a\"], [0.8888888888888888, \"#fdca26\"], [1.0, \"#f0f921\"]], \"type\": \"histogram2dcontour\"}], \"mesh3d\": [{\"colorbar\": {\"outlinewidth\": 0, \"ticks\": \"\"}, \"type\": \"mesh3d\"}], \"parcoords\": [{\"line\": {\"colorbar\": {\"outlinewidth\": 0, \"ticks\": \"\"}}, \"type\": \"parcoords\"}], \"pie\": [{\"automargin\": true, \"type\": \"pie\"}], \"scatter\": [{\"marker\": {\"colorbar\": {\"outlinewidth\": 0, \"ticks\": \"\"}}, \"type\": \"scatter\"}], \"scatter3d\": [{\"line\": {\"colorbar\": {\"outlinewidth\": 0, \"ticks\": \"\"}}, \"marker\": {\"colorbar\": {\"outlinewidth\": 0, \"ticks\": \"\"}}, \"type\": \"scatter3d\"}], \"scattercarpet\": [{\"marker\": {\"colorbar\": {\"outlinewidth\": 0, \"ticks\": \"\"}}, \"type\": \"scattercarpet\"}], \"scattergeo\": [{\"marker\": {\"colorbar\": {\"outlinewidth\": 0, \"ticks\": \"\"}}, \"type\": \"scattergeo\"}], \"scattergl\": [{\"marker\": {\"colorbar\": {\"outlinewidth\": 0, \"ticks\": \"\"}}, \"type\": \"scattergl\"}], \"scattermapbox\": [{\"marker\": {\"colorbar\": {\"outlinewidth\": 0, \"ticks\": \"\"}}, \"type\": \"scattermapbox\"}], \"scatterpolar\": [{\"marker\": {\"colorbar\": {\"outlinewidth\": 0, \"ticks\": \"\"}}, \"type\": \"scatterpolar\"}], \"scatterpolargl\": [{\"marker\": {\"colorbar\": {\"outlinewidth\": 0, \"ticks\": \"\"}}, \"type\": \"scatterpolargl\"}], \"scatterternary\": [{\"marker\": {\"colorbar\": {\"outlinewidth\": 0, \"ticks\": \"\"}}, \"type\": \"scatterternary\"}], \"surface\": [{\"colorbar\": {\"outlinewidth\": 0, \"ticks\": \"\"}, \"colorscale\": [[0.0, \"#0d0887\"], [0.1111111111111111, \"#46039f\"], [0.2222222222222222, \"#7201a8\"], [0.3333333333333333, \"#9c179e\"], [0.4444444444444444, \"#bd3786\"], [0.5555555555555556, \"#d8576b\"], [0.6666666666666666, \"#ed7953\"], [0.7777777777777778, \"#fb9f3a\"], [0.8888888888888888, \"#fdca26\"], [1.0, \"#f0f921\"]], \"type\": \"surface\"}], \"table\": [{\"cells\": {\"fill\": {\"color\": \"#EBF0F8\"}, \"line\": {\"color\": \"white\"}}, \"header\": {\"fill\": {\"color\": \"#C8D4E3\"}, \"line\": {\"color\": \"white\"}}, \"type\": \"table\"}]}, \"layout\": {\"annotationdefaults\": {\"arrowcolor\": \"#2a3f5f\", \"arrowhead\": 0, \"arrowwidth\": 1}, \"coloraxis\": {\"colorbar\": {\"outlinewidth\": 0, \"ticks\": \"\"}}, \"colorscale\": {\"diverging\": [[0, \"#8e0152\"], [0.1, \"#c51b7d\"], [0.2, \"#de77ae\"], [0.3, \"#f1b6da\"], [0.4, \"#fde0ef\"], [0.5, \"#f7f7f7\"], [0.6, \"#e6f5d0\"], [0.7, \"#b8e186\"], [0.8, \"#7fbc41\"], [0.9, \"#4d9221\"], [1, \"#276419\"]], \"sequential\": [[0.0, \"#0d0887\"], [0.1111111111111111, \"#46039f\"], [0.2222222222222222, \"#7201a8\"], [0.3333333333333333, \"#9c179e\"], [0.4444444444444444, \"#bd3786\"], [0.5555555555555556, \"#d8576b\"], [0.6666666666666666, \"#ed7953\"], [0.7777777777777778, \"#fb9f3a\"], [0.8888888888888888, \"#fdca26\"], [1.0, \"#f0f921\"]], \"sequentialminus\": [[0.0, \"#0d0887\"], [0.1111111111111111, \"#46039f\"], [0.2222222222222222, \"#7201a8\"], [0.3333333333333333, \"#9c179e\"], [0.4444444444444444, \"#bd3786\"], [0.5555555555555556, \"#d8576b\"], [0.6666666666666666, \"#ed7953\"], [0.7777777777777778, \"#fb9f3a\"], [0.8888888888888888, \"#fdca26\"], [1.0, \"#f0f921\"]]}, \"colorway\": [\"#636efa\", \"#EF553B\", \"#00cc96\", \"#ab63fa\", \"#FFA15A\", \"#19d3f3\", \"#FF6692\", \"#B6E880\", \"#FF97FF\", \"#FECB52\"], \"font\": {\"color\": \"#2a3f5f\"}, \"geo\": {\"bgcolor\": \"white\", \"lakecolor\": \"white\", \"landcolor\": \"#E5ECF6\", \"showlakes\": true, \"showland\": true, \"subunitcolor\": \"white\"}, \"hoverlabel\": {\"align\": \"left\"}, \"hovermode\": \"closest\", \"mapbox\": {\"style\": \"light\"}, \"paper_bgcolor\": \"white\", \"plot_bgcolor\": \"#E5ECF6\", \"polar\": {\"angularaxis\": {\"gridcolor\": \"white\", \"linecolor\": \"white\", \"ticks\": \"\"}, \"bgcolor\": \"#E5ECF6\", \"radialaxis\": {\"gridcolor\": \"white\", \"linecolor\": \"white\", \"ticks\": \"\"}}, \"scene\": {\"xaxis\": {\"backgroundcolor\": \"#E5ECF6\", \"gridcolor\": \"white\", \"gridwidth\": 2, \"linecolor\": \"white\", \"showbackground\": true, \"ticks\": \"\", \"zerolinecolor\": \"white\"}, \"yaxis\": {\"backgroundcolor\": \"#E5ECF6\", \"gridcolor\": \"white\", \"gridwidth\": 2, \"linecolor\": \"white\", \"showbackground\": true, \"ticks\": \"\", \"zerolinecolor\": \"white\"}, \"zaxis\": {\"backgroundcolor\": \"#E5ECF6\", \"gridcolor\": \"white\", \"gridwidth\": 2, \"linecolor\": \"white\", \"showbackground\": true, \"ticks\": \"\", \"zerolinecolor\": \"white\"}}, \"shapedefaults\": {\"line\": {\"color\": \"#2a3f5f\"}}, \"ternary\": {\"aaxis\": {\"gridcolor\": \"white\", \"linecolor\": \"white\", \"ticks\": \"\"}, \"baxis\": {\"gridcolor\": \"white\", \"linecolor\": \"white\", \"ticks\": \"\"}, \"bgcolor\": \"#E5ECF6\", \"caxis\": {\"gridcolor\": \"white\", \"linecolor\": \"white\", \"ticks\": \"\"}}, \"title\": {\"x\": 0.05}, \"xaxis\": {\"automargin\": true, \"gridcolor\": \"white\", \"linecolor\": \"white\", \"ticks\": \"\", \"title\": {\"standoff\": 15}, \"zerolinecolor\": \"white\", \"zerolinewidth\": 2}, \"yaxis\": {\"automargin\": true, \"gridcolor\": \"white\", \"linecolor\": \"white\", \"ticks\": \"\", \"title\": {\"standoff\": 15}, \"zerolinecolor\": \"white\", \"zerolinewidth\": 2}}}, \"title\": {\"font\": {\"color\": \"#4D5663\"}}, \"xaxis\": {\"gridcolor\": \"#E1E5ED\", \"showgrid\": true, \"tickfont\": {\"color\": \"#4D5663\"}, \"title\": {\"font\": {\"color\": \"#4D5663\"}, \"text\": \"\"}, \"zerolinecolor\": \"#E1E5ED\"}, \"yaxis\": {\"gridcolor\": \"#E1E5ED\", \"showgrid\": true, \"tickfont\": {\"color\": \"#4D5663\"}, \"title\": {\"font\": {\"color\": \"#4D5663\"}, \"text\": \"\"}, \"zerolinecolor\": \"#E1E5ED\"}},\n",
       "                        {\"showLink\": true, \"linkText\": \"Export to plot.ly\", \"plotlyServerURL\": \"https://plot.ly\", \"responsive\": true}\n",
       "                    ).then(function(){\n",
       "                            \n",
       "var gd = document.getElementById('d0dd0e03-715c-4152-b2bb-6034c28e7f34');\n",
       "var x = new MutationObserver(function (mutations, observer) {{\n",
       "        var display = window.getComputedStyle(gd).display;\n",
       "        if (!display || display === 'none') {{\n",
       "            console.log([gd, 'removed!']);\n",
       "            Plotly.purge(gd);\n",
       "            observer.disconnect();\n",
       "        }}\n",
       "}});\n",
       "\n",
       "// Listen for the removal of the full notebook cells\n",
       "var notebookContainer = gd.closest('#notebook-container');\n",
       "if (notebookContainer) {{\n",
       "    x.observe(notebookContainer, {childList: true});\n",
       "}}\n",
       "\n",
       "// Listen for the clearing of the current output cell\n",
       "var outputEl = gd.closest('.output');\n",
       "if (outputEl) {{\n",
       "    x.observe(outputEl, {childList: true});\n",
       "}}\n",
       "\n",
       "                        })\n",
       "                };\n",
       "                });\n",
       "            </script>\n",
       "        </div>"
      ]
     },
     "metadata": {},
     "output_type": "display_data"
    }
   ],
   "source": [
    "df1.sum().iplot(kind='bar')"
   ]
  },
  {
   "cell_type": "code",
   "execution_count": 28,
   "metadata": {},
   "outputs": [
    {
     "data": {
      "application/vnd.plotly.v1+json": {
       "config": {
        "linkText": "Export to plot.ly",
        "plotlyServerURL": "https://plot.ly",
        "showLink": true
       },
       "data": [
        {
         "boxpoints": false,
         "line": {
          "width": 1.3
         },
         "marker": {
          "color": "rgba(255, 153, 51, 1.0)"
         },
         "name": "A",
         "orientation": "v",
         "type": "box",
         "y": [
          0.9143199744490959,
          -0.6646337852370073,
          -0.14147521428869275,
          -1.5332881680412882,
          -1.095065469170004,
          1.677545617427011,
          1.730306742135822,
          0.3093380042070924,
          1.998060812676102,
          0.2103320482242863,
          -0.36356967714317556,
          1.0009522053146767,
          0.069031037048522,
          -1.4132717659293934,
          1.4342602513904974,
          0.8667006663131418,
          -1.0896509582121268,
          1.3185707666281514,
          0.20761718693952874,
          0.03055838903094499,
          -1.3019172354325668,
          0.4190207620229179,
          0.21463294842463157,
          0.09415542101933022,
          1.102150756931986,
          0.08058368310676578,
          -0.31050578091790093,
          0.7280257375312584,
          -0.7333481572330972,
          0.7111147715815395,
          -0.4534409552547134,
          -0.8493772470868383,
          -2.3618289209284056,
          -1.0355419986958943,
          0.2209044604729675,
          -0.3097002156986558,
          -0.5008454017984665,
          -1.725024685517588,
          -0.19105729905583005,
          -1.3917398712550997,
          -1.373493523702723,
          -0.7176943975375174,
          -0.910332404713052,
          -0.45750099928699495,
          0.236834377371843,
          -1.15271654366376,
          -0.3053263890214957,
          -0.7228191803601534,
          0.22380614257506143,
          -0.893109542297301,
          1.731068296261119,
          -0.8905500303106749,
          -0.43770584584543254,
          1.8228947096849963,
          0.19474734000545416,
          -2.2678586134597416,
          0.7415931835889042,
          -0.45194179738729906,
          0.3167107937975542,
          -0.33618888669222596,
          -0.40957852624382124,
          -0.21251080743656847,
          -0.6478327795201284,
          -0.2506330234581966,
          -0.2388108275357814,
          -0.46447261046488947,
          2.1274922284409015,
          -0.6624602143894611,
          -1.1013961877761724,
          -0.10962658841460418,
          -1.939924292062804,
          -2.922615773741819,
          0.33732369348397273,
          -0.8879693301653936,
          -0.14203014646171108,
          1.8459848092411675,
          0.5451264788261765,
          1.5161798792278758,
          -0.060903470222706466,
          -0.5042434120396577,
          0.24087301804518244,
          1.3184761215231695,
          -0.5311236458104367,
          0.16904327084218684,
          0.21497691222184062,
          -0.04976420464178433,
          -1.2351738292265402,
          -0.09703656247737708,
          -0.813348632878989,
          1.6254085445113675,
          0.2712263240648343,
          -0.9212781749948205,
          -0.5547997988204424,
          -2.13583941926714,
          0.8471102598607632,
          -0.8076097650549745,
          -0.08764701901324923,
          0.19439248949118276,
          -0.6406087430595749,
          -0.38706169745440083
         ]
        },
        {
         "boxpoints": false,
         "line": {
          "width": 1.3
         },
         "marker": {
          "color": "rgba(55, 128, 191, 1.0)"
         },
         "name": "B",
         "orientation": "v",
         "type": "box",
         "y": [
          -0.23939171593754066,
          1.1268411197192545,
          -1.3494357537123602,
          0.5790826278722518,
          -1.6485814860907217,
          -0.4527541104712093,
          1.003828728995732,
          2.4629808609275012,
          0.6481780198900731,
          0.8480004503529042,
          1.238274215824042,
          -1.5838329847047354,
          -1.112201772192512,
          -0.6024867614407695,
          0.8466419247834434,
          -0.9474768899447823,
          1.0164109375425812,
          0.7224996995791487,
          0.25526188409336287,
          -1.5944985447538833,
          1.2968499367294102,
          -0.6723930339014411,
          -0.01213068819246885,
          0.6227938934447875,
          0.5717022548249712,
          -0.014316792233143808,
          -1.0732103781329587,
          -0.8404810595395262,
          0.2336645366300528,
          0.4237291846096155,
          0.5999749812286985,
          1.6961952085118364,
          1.3471744408747899,
          -1.715648466013637,
          0.4600380064996352,
          1.6419150181459605,
          -0.9271759841966386,
          -1.2516473416661413,
          -1.3294348622170946,
          0.8959213927790316,
          -0.27533466214676466,
          -0.3126409180581469,
          -0.8317404737419754,
          1.5151023043356646,
          -0.6930803909206489,
          1.6523456021129082,
          1.578504660014399,
          -1.1664446833089916,
          -0.2971964754077405,
          0.4233156613856403,
          1.0288194448150627,
          0.28008396358724136,
          0.22395234888135715,
          -0.3595187644393644,
          -1.1128104757420167,
          0.2108557560623746,
          0.1730937703058691,
          -1.002813095857646,
          0.20443542821529617,
          -0.32360061868395795,
          -0.0049437503027825675,
          0.4926040526827179,
          -0.5413153600807233,
          0.5515721860289516,
          0.06040691278399967,
          -0.5472611575382201,
          0.3537214971536513,
          -1.2925223260945184,
          1.145071151118041,
          0.8930190003011235,
          0.3057895085475132,
          0.9317756573748759,
          -0.8888065487082335,
          -0.3934432175083188,
          -0.9939768245988979,
          0.3232829919486774,
          1.2214603832060258,
          1.2765046821598975,
          -0.1463325608537506,
          -0.9427533371257731,
          1.837623200388388,
          1.5274179871015077,
          -0.0360770137244279,
          -1.6323538127223398,
          2.353835729461377,
          -0.686303546670052,
          -0.2992019090265777,
          1.5943515851668304,
          2.202635036939589,
          -1.6742492772523072,
          -0.21031818763509,
          -0.8942974774765501,
          -0.31333360209211436,
          1.2511633577495769,
          -0.4532794052811933,
          -0.6713720923060141,
          -0.5342440383728624,
          -0.2513050584914812,
          -0.3440675829544576,
          0.15205058633631194
         ]
        },
        {
         "boxpoints": false,
         "line": {
          "width": 1.3
         },
         "marker": {
          "color": "rgba(50, 171, 96, 1.0)"
         },
         "name": "C",
         "orientation": "v",
         "type": "box",
         "y": [
          0.08354900100561062,
          -1.1762581996119275,
          -1.2435112806675224,
          -1.887059240471436,
          0.7006286834815346,
          -1.9061106352891495,
          0.6291674616560248,
          1.9220280665934857,
          -0.786657577449106,
          0.21571696956647404,
          -2.3702209562160577,
          1.4736987526697354,
          1.9161205056930215,
          1.690217786783108,
          0.1439954287878712,
          -1.1242189560113145,
          0.6702282899323526,
          1.2354219426553452,
          -0.9041671473751495,
          0.5053921303645501,
          0.563585753843907,
          -0.7163857574214749,
          -0.31684732357771744,
          -0.6574388083538694,
          0.0893833354938422,
          -0.2826361660677943,
          -1.9987806201855272,
          -0.37674863584402596,
          -1.3060881065004344,
          -0.3027517335000185,
          0.5825576898045317,
          0.8336854041069438,
          -1.370201704557367,
          -0.9373461444876827,
          0.17459245291773834,
          -0.22463100775576927,
          1.0330145021293278,
          -0.09850966891247348,
          0.7241657584014993,
          0.955186621118631,
          0.30608394582456233,
          1.5290937481818527,
          1.8098797470602352,
          0.8004831296061153,
          -0.2049005448699173,
          -2.3947821795849777,
          -0.07853752764328854,
          -0.6262274431054563,
          0.340714345684504,
          2.488129484040648,
          -0.18717925397624124,
          1.7328852501534606,
          1.1791971840719817,
          0.5486183290215052,
          -0.5410032152697309,
          -1.0643380160389941,
          -0.09407993866674372,
          0.9707824657472518,
          0.17816660236085075,
          -0.5634385253507159,
          -0.23691031630929846,
          -0.09235744792732545,
          -1.014727424442866,
          1.2769322679573092,
          0.39528235325115546,
          0.5205175784522462,
          1.1273391744260934,
          -0.5193440530245592,
          0.3900684693755273,
          -0.08611140806629622,
          0.15689162023394052,
          -0.8835587758698809,
          -0.46014232276791744,
          0.14931404219831243,
          0.8491332074223944,
          0.26582503410631325,
          -0.683164247655124,
          2.614893977763737,
          -0.010015216452615229,
          0.5244924291444624,
          0.6261192572466824,
          1.1801381930457862,
          0.038182877979043586,
          -1.8737503117824383,
          -1.3928968411490805,
          0.14142517351328868,
          -1.126885241350718,
          -0.10089736521314253,
          -0.9560526698814561,
          0.6142824511208461,
          0.06367871376318736,
          0.8280087228360533,
          0.02747396446917433,
          -1.1406863737395154,
          -0.6416004832788077,
          1.8184649586581034,
          1.0195667145616782,
          0.7310713563273256,
          0.377044567827439,
          -1.5530084890071545
         ]
        },
        {
         "boxpoints": false,
         "line": {
          "width": 1.3
         },
         "marker": {
          "color": "rgba(128, 0, 128, 1.0)"
         },
         "name": "D",
         "orientation": "v",
         "type": "box",
         "y": [
          1.422135659899816,
          -1.1498108111912997,
          1.0861764712918605,
          -1.1825999353003134,
          0.11291167561684437,
          -1.0403773845489095,
          -0.025311303993222997,
          -0.9472951140262564,
          -2.085462277032858,
          0.009440383763292946,
          1.541228845833113,
          1.2630573123308124,
          0.3384971276271273,
          0.5434655243051836,
          0.7308717669481943,
          -0.6242234349148293,
          1.0228550323490002,
          -0.5438852964735581,
          2.4160027779367375,
          3.272135005557643,
          -0.3568567890795237,
          0.15994644094538,
          -0.6987012157543981,
          1.119745589140762,
          1.9851435250178515,
          1.1393344005681445,
          -0.6696083799239421,
          -1.298623781345975,
          0.07535612656465497,
          0.12709289220993064,
          -0.7212795864169899,
          0.3952199747769614,
          1.1658279999083134,
          -0.4420981198456275,
          -0.2745229175409915,
          0.89942215949408,
          1.118380948719663,
          0.3877599766932124,
          -0.8087028166311288,
          1.487499229658045,
          1.5519149728740191,
          1.3694731873864372,
          1.601986147955227,
          -0.13506288444037565,
          -1.369375767137172,
          -0.21817419631025753,
          -1.0155003638394315,
          1.6066215420516388,
          0.45389069140254856,
          0.6902455540039308,
          0.7995790582998156,
          -2.3599156821347345,
          0.5293063314819895,
          -1.4610251333831956,
          1.3026442181984443,
          -0.8046014329971493,
          0.29243953047445476,
          0.841577786899802,
          0.3065013963290962,
          0.3772090998384718,
          0.26389718721088246,
          1.1213771584945638,
          -0.0697361329895187,
          1.9323489663601012,
          -0.37382569573594654,
          -0.14877895184285853,
          -0.32863546868738913,
          1.0510335931310077,
          1.547170980473415,
          0.05312708727660292,
          0.3904807269355301,
          0.7833833984916323,
          -0.9637414518257233,
          0.7958980874871708,
          1.3480148914094672,
          1.4117346038562641,
          0.18124988767705952,
          -0.5430602873278603,
          -1.5411723805123168,
          -0.32688513528921603,
          0.30380344321727615,
          -0.16493219681876425,
          -1.8370869260684919,
          0.5594449739751,
          -2.2846734450711814,
          -1.7171167755417092,
          1.403981871325172,
          -1.6008085255609552,
          -0.6031396996916586,
          1.2052437927666695,
          1.3674086396322755,
          -1.4283473858637892,
          -0.6545275752649825,
          1.1897801403354284,
          0.8072969646783367,
          0.9630428264620265,
          -0.2747773610557366,
          0.26035190527981555,
          0.44676722055910995,
          2.3965236116694966
         ]
        }
       ],
       "layout": {
        "legend": {
         "bgcolor": "#F5F6F9",
         "font": {
          "color": "#4D5663"
         }
        },
        "paper_bgcolor": "#F5F6F9",
        "plot_bgcolor": "#F5F6F9",
        "template": {
         "data": {
          "bar": [
           {
            "error_x": {
             "color": "#2a3f5f"
            },
            "error_y": {
             "color": "#2a3f5f"
            },
            "marker": {
             "line": {
              "color": "#E5ECF6",
              "width": 0.5
             }
            },
            "type": "bar"
           }
          ],
          "barpolar": [
           {
            "marker": {
             "line": {
              "color": "#E5ECF6",
              "width": 0.5
             }
            },
            "type": "barpolar"
           }
          ],
          "carpet": [
           {
            "aaxis": {
             "endlinecolor": "#2a3f5f",
             "gridcolor": "white",
             "linecolor": "white",
             "minorgridcolor": "white",
             "startlinecolor": "#2a3f5f"
            },
            "baxis": {
             "endlinecolor": "#2a3f5f",
             "gridcolor": "white",
             "linecolor": "white",
             "minorgridcolor": "white",
             "startlinecolor": "#2a3f5f"
            },
            "type": "carpet"
           }
          ],
          "choropleth": [
           {
            "colorbar": {
             "outlinewidth": 0,
             "ticks": ""
            },
            "type": "choropleth"
           }
          ],
          "contour": [
           {
            "colorbar": {
             "outlinewidth": 0,
             "ticks": ""
            },
            "colorscale": [
             [
              0,
              "#0d0887"
             ],
             [
              0.1111111111111111,
              "#46039f"
             ],
             [
              0.2222222222222222,
              "#7201a8"
             ],
             [
              0.3333333333333333,
              "#9c179e"
             ],
             [
              0.4444444444444444,
              "#bd3786"
             ],
             [
              0.5555555555555556,
              "#d8576b"
             ],
             [
              0.6666666666666666,
              "#ed7953"
             ],
             [
              0.7777777777777778,
              "#fb9f3a"
             ],
             [
              0.8888888888888888,
              "#fdca26"
             ],
             [
              1,
              "#f0f921"
             ]
            ],
            "type": "contour"
           }
          ],
          "contourcarpet": [
           {
            "colorbar": {
             "outlinewidth": 0,
             "ticks": ""
            },
            "type": "contourcarpet"
           }
          ],
          "heatmap": [
           {
            "colorbar": {
             "outlinewidth": 0,
             "ticks": ""
            },
            "colorscale": [
             [
              0,
              "#0d0887"
             ],
             [
              0.1111111111111111,
              "#46039f"
             ],
             [
              0.2222222222222222,
              "#7201a8"
             ],
             [
              0.3333333333333333,
              "#9c179e"
             ],
             [
              0.4444444444444444,
              "#bd3786"
             ],
             [
              0.5555555555555556,
              "#d8576b"
             ],
             [
              0.6666666666666666,
              "#ed7953"
             ],
             [
              0.7777777777777778,
              "#fb9f3a"
             ],
             [
              0.8888888888888888,
              "#fdca26"
             ],
             [
              1,
              "#f0f921"
             ]
            ],
            "type": "heatmap"
           }
          ],
          "heatmapgl": [
           {
            "colorbar": {
             "outlinewidth": 0,
             "ticks": ""
            },
            "colorscale": [
             [
              0,
              "#0d0887"
             ],
             [
              0.1111111111111111,
              "#46039f"
             ],
             [
              0.2222222222222222,
              "#7201a8"
             ],
             [
              0.3333333333333333,
              "#9c179e"
             ],
             [
              0.4444444444444444,
              "#bd3786"
             ],
             [
              0.5555555555555556,
              "#d8576b"
             ],
             [
              0.6666666666666666,
              "#ed7953"
             ],
             [
              0.7777777777777778,
              "#fb9f3a"
             ],
             [
              0.8888888888888888,
              "#fdca26"
             ],
             [
              1,
              "#f0f921"
             ]
            ],
            "type": "heatmapgl"
           }
          ],
          "histogram": [
           {
            "marker": {
             "colorbar": {
              "outlinewidth": 0,
              "ticks": ""
             }
            },
            "type": "histogram"
           }
          ],
          "histogram2d": [
           {
            "colorbar": {
             "outlinewidth": 0,
             "ticks": ""
            },
            "colorscale": [
             [
              0,
              "#0d0887"
             ],
             [
              0.1111111111111111,
              "#46039f"
             ],
             [
              0.2222222222222222,
              "#7201a8"
             ],
             [
              0.3333333333333333,
              "#9c179e"
             ],
             [
              0.4444444444444444,
              "#bd3786"
             ],
             [
              0.5555555555555556,
              "#d8576b"
             ],
             [
              0.6666666666666666,
              "#ed7953"
             ],
             [
              0.7777777777777778,
              "#fb9f3a"
             ],
             [
              0.8888888888888888,
              "#fdca26"
             ],
             [
              1,
              "#f0f921"
             ]
            ],
            "type": "histogram2d"
           }
          ],
          "histogram2dcontour": [
           {
            "colorbar": {
             "outlinewidth": 0,
             "ticks": ""
            },
            "colorscale": [
             [
              0,
              "#0d0887"
             ],
             [
              0.1111111111111111,
              "#46039f"
             ],
             [
              0.2222222222222222,
              "#7201a8"
             ],
             [
              0.3333333333333333,
              "#9c179e"
             ],
             [
              0.4444444444444444,
              "#bd3786"
             ],
             [
              0.5555555555555556,
              "#d8576b"
             ],
             [
              0.6666666666666666,
              "#ed7953"
             ],
             [
              0.7777777777777778,
              "#fb9f3a"
             ],
             [
              0.8888888888888888,
              "#fdca26"
             ],
             [
              1,
              "#f0f921"
             ]
            ],
            "type": "histogram2dcontour"
           }
          ],
          "mesh3d": [
           {
            "colorbar": {
             "outlinewidth": 0,
             "ticks": ""
            },
            "type": "mesh3d"
           }
          ],
          "parcoords": [
           {
            "line": {
             "colorbar": {
              "outlinewidth": 0,
              "ticks": ""
             }
            },
            "type": "parcoords"
           }
          ],
          "pie": [
           {
            "automargin": true,
            "type": "pie"
           }
          ],
          "scatter": [
           {
            "marker": {
             "colorbar": {
              "outlinewidth": 0,
              "ticks": ""
             }
            },
            "type": "scatter"
           }
          ],
          "scatter3d": [
           {
            "line": {
             "colorbar": {
              "outlinewidth": 0,
              "ticks": ""
             }
            },
            "marker": {
             "colorbar": {
              "outlinewidth": 0,
              "ticks": ""
             }
            },
            "type": "scatter3d"
           }
          ],
          "scattercarpet": [
           {
            "marker": {
             "colorbar": {
              "outlinewidth": 0,
              "ticks": ""
             }
            },
            "type": "scattercarpet"
           }
          ],
          "scattergeo": [
           {
            "marker": {
             "colorbar": {
              "outlinewidth": 0,
              "ticks": ""
             }
            },
            "type": "scattergeo"
           }
          ],
          "scattergl": [
           {
            "marker": {
             "colorbar": {
              "outlinewidth": 0,
              "ticks": ""
             }
            },
            "type": "scattergl"
           }
          ],
          "scattermapbox": [
           {
            "marker": {
             "colorbar": {
              "outlinewidth": 0,
              "ticks": ""
             }
            },
            "type": "scattermapbox"
           }
          ],
          "scatterpolar": [
           {
            "marker": {
             "colorbar": {
              "outlinewidth": 0,
              "ticks": ""
             }
            },
            "type": "scatterpolar"
           }
          ],
          "scatterpolargl": [
           {
            "marker": {
             "colorbar": {
              "outlinewidth": 0,
              "ticks": ""
             }
            },
            "type": "scatterpolargl"
           }
          ],
          "scatterternary": [
           {
            "marker": {
             "colorbar": {
              "outlinewidth": 0,
              "ticks": ""
             }
            },
            "type": "scatterternary"
           }
          ],
          "surface": [
           {
            "colorbar": {
             "outlinewidth": 0,
             "ticks": ""
            },
            "colorscale": [
             [
              0,
              "#0d0887"
             ],
             [
              0.1111111111111111,
              "#46039f"
             ],
             [
              0.2222222222222222,
              "#7201a8"
             ],
             [
              0.3333333333333333,
              "#9c179e"
             ],
             [
              0.4444444444444444,
              "#bd3786"
             ],
             [
              0.5555555555555556,
              "#d8576b"
             ],
             [
              0.6666666666666666,
              "#ed7953"
             ],
             [
              0.7777777777777778,
              "#fb9f3a"
             ],
             [
              0.8888888888888888,
              "#fdca26"
             ],
             [
              1,
              "#f0f921"
             ]
            ],
            "type": "surface"
           }
          ],
          "table": [
           {
            "cells": {
             "fill": {
              "color": "#EBF0F8"
             },
             "line": {
              "color": "white"
             }
            },
            "header": {
             "fill": {
              "color": "#C8D4E3"
             },
             "line": {
              "color": "white"
             }
            },
            "type": "table"
           }
          ]
         },
         "layout": {
          "annotationdefaults": {
           "arrowcolor": "#2a3f5f",
           "arrowhead": 0,
           "arrowwidth": 1
          },
          "coloraxis": {
           "colorbar": {
            "outlinewidth": 0,
            "ticks": ""
           }
          },
          "colorscale": {
           "diverging": [
            [
             0,
             "#8e0152"
            ],
            [
             0.1,
             "#c51b7d"
            ],
            [
             0.2,
             "#de77ae"
            ],
            [
             0.3,
             "#f1b6da"
            ],
            [
             0.4,
             "#fde0ef"
            ],
            [
             0.5,
             "#f7f7f7"
            ],
            [
             0.6,
             "#e6f5d0"
            ],
            [
             0.7,
             "#b8e186"
            ],
            [
             0.8,
             "#7fbc41"
            ],
            [
             0.9,
             "#4d9221"
            ],
            [
             1,
             "#276419"
            ]
           ],
           "sequential": [
            [
             0,
             "#0d0887"
            ],
            [
             0.1111111111111111,
             "#46039f"
            ],
            [
             0.2222222222222222,
             "#7201a8"
            ],
            [
             0.3333333333333333,
             "#9c179e"
            ],
            [
             0.4444444444444444,
             "#bd3786"
            ],
            [
             0.5555555555555556,
             "#d8576b"
            ],
            [
             0.6666666666666666,
             "#ed7953"
            ],
            [
             0.7777777777777778,
             "#fb9f3a"
            ],
            [
             0.8888888888888888,
             "#fdca26"
            ],
            [
             1,
             "#f0f921"
            ]
           ],
           "sequentialminus": [
            [
             0,
             "#0d0887"
            ],
            [
             0.1111111111111111,
             "#46039f"
            ],
            [
             0.2222222222222222,
             "#7201a8"
            ],
            [
             0.3333333333333333,
             "#9c179e"
            ],
            [
             0.4444444444444444,
             "#bd3786"
            ],
            [
             0.5555555555555556,
             "#d8576b"
            ],
            [
             0.6666666666666666,
             "#ed7953"
            ],
            [
             0.7777777777777778,
             "#fb9f3a"
            ],
            [
             0.8888888888888888,
             "#fdca26"
            ],
            [
             1,
             "#f0f921"
            ]
           ]
          },
          "colorway": [
           "#636efa",
           "#EF553B",
           "#00cc96",
           "#ab63fa",
           "#FFA15A",
           "#19d3f3",
           "#FF6692",
           "#B6E880",
           "#FF97FF",
           "#FECB52"
          ],
          "font": {
           "color": "#2a3f5f"
          },
          "geo": {
           "bgcolor": "white",
           "lakecolor": "white",
           "landcolor": "#E5ECF6",
           "showlakes": true,
           "showland": true,
           "subunitcolor": "white"
          },
          "hoverlabel": {
           "align": "left"
          },
          "hovermode": "closest",
          "mapbox": {
           "style": "light"
          },
          "paper_bgcolor": "white",
          "plot_bgcolor": "#E5ECF6",
          "polar": {
           "angularaxis": {
            "gridcolor": "white",
            "linecolor": "white",
            "ticks": ""
           },
           "bgcolor": "#E5ECF6",
           "radialaxis": {
            "gridcolor": "white",
            "linecolor": "white",
            "ticks": ""
           }
          },
          "scene": {
           "xaxis": {
            "backgroundcolor": "#E5ECF6",
            "gridcolor": "white",
            "gridwidth": 2,
            "linecolor": "white",
            "showbackground": true,
            "ticks": "",
            "zerolinecolor": "white"
           },
           "yaxis": {
            "backgroundcolor": "#E5ECF6",
            "gridcolor": "white",
            "gridwidth": 2,
            "linecolor": "white",
            "showbackground": true,
            "ticks": "",
            "zerolinecolor": "white"
           },
           "zaxis": {
            "backgroundcolor": "#E5ECF6",
            "gridcolor": "white",
            "gridwidth": 2,
            "linecolor": "white",
            "showbackground": true,
            "ticks": "",
            "zerolinecolor": "white"
           }
          },
          "shapedefaults": {
           "line": {
            "color": "#2a3f5f"
           }
          },
          "ternary": {
           "aaxis": {
            "gridcolor": "white",
            "linecolor": "white",
            "ticks": ""
           },
           "baxis": {
            "gridcolor": "white",
            "linecolor": "white",
            "ticks": ""
           },
           "bgcolor": "#E5ECF6",
           "caxis": {
            "gridcolor": "white",
            "linecolor": "white",
            "ticks": ""
           }
          },
          "title": {
           "x": 0.05
          },
          "xaxis": {
           "automargin": true,
           "gridcolor": "white",
           "linecolor": "white",
           "ticks": "",
           "title": {
            "standoff": 15
           },
           "zerolinecolor": "white",
           "zerolinewidth": 2
          },
          "yaxis": {
           "automargin": true,
           "gridcolor": "white",
           "linecolor": "white",
           "ticks": "",
           "title": {
            "standoff": 15
           },
           "zerolinecolor": "white",
           "zerolinewidth": 2
          }
         }
        },
        "title": {
         "font": {
          "color": "#4D5663"
         }
        },
        "xaxis": {
         "gridcolor": "#E1E5ED",
         "showgrid": true,
         "tickfont": {
          "color": "#4D5663"
         },
         "title": {
          "font": {
           "color": "#4D5663"
          },
          "text": ""
         },
         "zerolinecolor": "#E1E5ED"
        },
        "yaxis": {
         "gridcolor": "#E1E5ED",
         "showgrid": true,
         "tickfont": {
          "color": "#4D5663"
         },
         "title": {
          "font": {
           "color": "#4D5663"
          },
          "text": ""
         },
         "zerolinecolor": "#E1E5ED"
        }
       }
      },
      "text/html": [
       "<div>\n",
       "        \n",
       "        \n",
       "            <div id=\"e64bbfff-ca8e-456d-8fec-8c0a2c06b15f\" class=\"plotly-graph-div\" style=\"height:525px; width:100%;\"></div>\n",
       "            <script type=\"text/javascript\">\n",
       "                require([\"plotly\"], function(Plotly) {\n",
       "                    window.PLOTLYENV=window.PLOTLYENV || {};\n",
       "                    window.PLOTLYENV.BASE_URL='https://plot.ly';\n",
       "                    \n",
       "                if (document.getElementById(\"e64bbfff-ca8e-456d-8fec-8c0a2c06b15f\")) {\n",
       "                    Plotly.newPlot(\n",
       "                        'e64bbfff-ca8e-456d-8fec-8c0a2c06b15f',\n",
       "                        [{\"boxpoints\": false, \"line\": {\"width\": 1.3}, \"marker\": {\"color\": \"rgba(255, 153, 51, 1.0)\"}, \"name\": \"A\", \"orientation\": \"v\", \"type\": \"box\", \"y\": [0.9143199744490959, -0.6646337852370073, -0.14147521428869275, -1.5332881680412882, -1.095065469170004, 1.677545617427011, 1.730306742135822, 0.3093380042070924, 1.998060812676102, 0.2103320482242863, -0.36356967714317556, 1.0009522053146767, 0.069031037048522, -1.4132717659293934, 1.4342602513904974, 0.8667006663131418, -1.0896509582121268, 1.3185707666281514, 0.20761718693952874, 0.03055838903094499, -1.3019172354325668, 0.4190207620229179, 0.21463294842463157, 0.09415542101933022, 1.102150756931986, 0.08058368310676578, -0.31050578091790093, 0.7280257375312584, -0.7333481572330972, 0.7111147715815395, -0.4534409552547134, -0.8493772470868383, -2.3618289209284056, -1.0355419986958943, 0.2209044604729675, -0.3097002156986558, -0.5008454017984665, -1.725024685517588, -0.19105729905583005, -1.3917398712550997, -1.373493523702723, -0.7176943975375174, -0.910332404713052, -0.45750099928699495, 0.236834377371843, -1.15271654366376, -0.3053263890214957, -0.7228191803601534, 0.22380614257506143, -0.893109542297301, 1.731068296261119, -0.8905500303106749, -0.43770584584543254, 1.8228947096849963, 0.19474734000545416, -2.2678586134597416, 0.7415931835889042, -0.45194179738729906, 0.3167107937975542, -0.33618888669222596, -0.40957852624382124, -0.21251080743656847, -0.6478327795201284, -0.2506330234581966, -0.2388108275357814, -0.46447261046488947, 2.1274922284409015, -0.6624602143894611, -1.1013961877761724, -0.10962658841460418, -1.939924292062804, -2.922615773741819, 0.33732369348397273, -0.8879693301653936, -0.14203014646171108, 1.8459848092411675, 0.5451264788261765, 1.5161798792278758, -0.060903470222706466, -0.5042434120396577, 0.24087301804518244, 1.3184761215231695, -0.5311236458104367, 0.16904327084218684, 0.21497691222184062, -0.04976420464178433, -1.2351738292265402, -0.09703656247737708, -0.813348632878989, 1.6254085445113675, 0.2712263240648343, -0.9212781749948205, -0.5547997988204424, -2.13583941926714, 0.8471102598607632, -0.8076097650549745, -0.08764701901324923, 0.19439248949118276, -0.6406087430595749, -0.38706169745440083]}, {\"boxpoints\": false, \"line\": {\"width\": 1.3}, \"marker\": {\"color\": \"rgba(55, 128, 191, 1.0)\"}, \"name\": \"B\", \"orientation\": \"v\", \"type\": \"box\", \"y\": [-0.23939171593754066, 1.1268411197192545, -1.3494357537123602, 0.5790826278722518, -1.6485814860907217, -0.4527541104712093, 1.003828728995732, 2.4629808609275012, 0.6481780198900731, 0.8480004503529042, 1.238274215824042, -1.5838329847047354, -1.112201772192512, -0.6024867614407695, 0.8466419247834434, -0.9474768899447823, 1.0164109375425812, 0.7224996995791487, 0.25526188409336287, -1.5944985447538833, 1.2968499367294102, -0.6723930339014411, -0.01213068819246885, 0.6227938934447875, 0.5717022548249712, -0.014316792233143808, -1.0732103781329587, -0.8404810595395262, 0.2336645366300528, 0.4237291846096155, 0.5999749812286985, 1.6961952085118364, 1.3471744408747899, -1.715648466013637, 0.4600380064996352, 1.6419150181459605, -0.9271759841966386, -1.2516473416661413, -1.3294348622170946, 0.8959213927790316, -0.27533466214676466, -0.3126409180581469, -0.8317404737419754, 1.5151023043356646, -0.6930803909206489, 1.6523456021129082, 1.578504660014399, -1.1664446833089916, -0.2971964754077405, 0.4233156613856403, 1.0288194448150627, 0.28008396358724136, 0.22395234888135715, -0.3595187644393644, -1.1128104757420167, 0.2108557560623746, 0.1730937703058691, -1.002813095857646, 0.20443542821529617, -0.32360061868395795, -0.0049437503027825675, 0.4926040526827179, -0.5413153600807233, 0.5515721860289516, 0.06040691278399967, -0.5472611575382201, 0.3537214971536513, -1.2925223260945184, 1.145071151118041, 0.8930190003011235, 0.3057895085475132, 0.9317756573748759, -0.8888065487082335, -0.3934432175083188, -0.9939768245988979, 0.3232829919486774, 1.2214603832060258, 1.2765046821598975, -0.1463325608537506, -0.9427533371257731, 1.837623200388388, 1.5274179871015077, -0.0360770137244279, -1.6323538127223398, 2.353835729461377, -0.686303546670052, -0.2992019090265777, 1.5943515851668304, 2.202635036939589, -1.6742492772523072, -0.21031818763509, -0.8942974774765501, -0.31333360209211436, 1.2511633577495769, -0.4532794052811933, -0.6713720923060141, -0.5342440383728624, -0.2513050584914812, -0.3440675829544576, 0.15205058633631194]}, {\"boxpoints\": false, \"line\": {\"width\": 1.3}, \"marker\": {\"color\": \"rgba(50, 171, 96, 1.0)\"}, \"name\": \"C\", \"orientation\": \"v\", \"type\": \"box\", \"y\": [0.08354900100561062, -1.1762581996119275, -1.2435112806675224, -1.887059240471436, 0.7006286834815346, -1.9061106352891495, 0.6291674616560248, 1.9220280665934857, -0.786657577449106, 0.21571696956647404, -2.3702209562160577, 1.4736987526697354, 1.9161205056930215, 1.690217786783108, 0.1439954287878712, -1.1242189560113145, 0.6702282899323526, 1.2354219426553452, -0.9041671473751495, 0.5053921303645501, 0.563585753843907, -0.7163857574214749, -0.31684732357771744, -0.6574388083538694, 0.0893833354938422, -0.2826361660677943, -1.9987806201855272, -0.37674863584402596, -1.3060881065004344, -0.3027517335000185, 0.5825576898045317, 0.8336854041069438, -1.370201704557367, -0.9373461444876827, 0.17459245291773834, -0.22463100775576927, 1.0330145021293278, -0.09850966891247348, 0.7241657584014993, 0.955186621118631, 0.30608394582456233, 1.5290937481818527, 1.8098797470602352, 0.8004831296061153, -0.2049005448699173, -2.3947821795849777, -0.07853752764328854, -0.6262274431054563, 0.340714345684504, 2.488129484040648, -0.18717925397624124, 1.7328852501534606, 1.1791971840719817, 0.5486183290215052, -0.5410032152697309, -1.0643380160389941, -0.09407993866674372, 0.9707824657472518, 0.17816660236085075, -0.5634385253507159, -0.23691031630929846, -0.09235744792732545, -1.014727424442866, 1.2769322679573092, 0.39528235325115546, 0.5205175784522462, 1.1273391744260934, -0.5193440530245592, 0.3900684693755273, -0.08611140806629622, 0.15689162023394052, -0.8835587758698809, -0.46014232276791744, 0.14931404219831243, 0.8491332074223944, 0.26582503410631325, -0.683164247655124, 2.614893977763737, -0.010015216452615229, 0.5244924291444624, 0.6261192572466824, 1.1801381930457862, 0.038182877979043586, -1.8737503117824383, -1.3928968411490805, 0.14142517351328868, -1.126885241350718, -0.10089736521314253, -0.9560526698814561, 0.6142824511208461, 0.06367871376318736, 0.8280087228360533, 0.02747396446917433, -1.1406863737395154, -0.6416004832788077, 1.8184649586581034, 1.0195667145616782, 0.7310713563273256, 0.377044567827439, -1.5530084890071545]}, {\"boxpoints\": false, \"line\": {\"width\": 1.3}, \"marker\": {\"color\": \"rgba(128, 0, 128, 1.0)\"}, \"name\": \"D\", \"orientation\": \"v\", \"type\": \"box\", \"y\": [1.422135659899816, -1.1498108111912997, 1.0861764712918605, -1.1825999353003134, 0.11291167561684437, -1.0403773845489095, -0.025311303993222997, -0.9472951140262564, -2.085462277032858, 0.009440383763292946, 1.541228845833113, 1.2630573123308124, 0.3384971276271273, 0.5434655243051836, 0.7308717669481943, -0.6242234349148293, 1.0228550323490002, -0.5438852964735581, 2.4160027779367375, 3.272135005557643, -0.3568567890795237, 0.15994644094538, -0.6987012157543981, 1.119745589140762, 1.9851435250178515, 1.1393344005681445, -0.6696083799239421, -1.298623781345975, 0.07535612656465497, 0.12709289220993064, -0.7212795864169899, 0.3952199747769614, 1.1658279999083134, -0.4420981198456275, -0.2745229175409915, 0.89942215949408, 1.118380948719663, 0.3877599766932124, -0.8087028166311288, 1.487499229658045, 1.5519149728740191, 1.3694731873864372, 1.601986147955227, -0.13506288444037565, -1.369375767137172, -0.21817419631025753, -1.0155003638394315, 1.6066215420516388, 0.45389069140254856, 0.6902455540039308, 0.7995790582998156, -2.3599156821347345, 0.5293063314819895, -1.4610251333831956, 1.3026442181984443, -0.8046014329971493, 0.29243953047445476, 0.841577786899802, 0.3065013963290962, 0.3772090998384718, 0.26389718721088246, 1.1213771584945638, -0.0697361329895187, 1.9323489663601012, -0.37382569573594654, -0.14877895184285853, -0.32863546868738913, 1.0510335931310077, 1.547170980473415, 0.05312708727660292, 0.3904807269355301, 0.7833833984916323, -0.9637414518257233, 0.7958980874871708, 1.3480148914094672, 1.4117346038562641, 0.18124988767705952, -0.5430602873278603, -1.5411723805123168, -0.32688513528921603, 0.30380344321727615, -0.16493219681876425, -1.8370869260684919, 0.5594449739751, -2.2846734450711814, -1.7171167755417092, 1.403981871325172, -1.6008085255609552, -0.6031396996916586, 1.2052437927666695, 1.3674086396322755, -1.4283473858637892, -0.6545275752649825, 1.1897801403354284, 0.8072969646783367, 0.9630428264620265, -0.2747773610557366, 0.26035190527981555, 0.44676722055910995, 2.3965236116694966]}],\n",
       "                        {\"legend\": {\"bgcolor\": \"#F5F6F9\", \"font\": {\"color\": \"#4D5663\"}}, \"paper_bgcolor\": \"#F5F6F9\", \"plot_bgcolor\": \"#F5F6F9\", \"template\": {\"data\": {\"bar\": [{\"error_x\": {\"color\": \"#2a3f5f\"}, \"error_y\": {\"color\": \"#2a3f5f\"}, \"marker\": {\"line\": {\"color\": \"#E5ECF6\", \"width\": 0.5}}, \"type\": \"bar\"}], \"barpolar\": [{\"marker\": {\"line\": {\"color\": \"#E5ECF6\", \"width\": 0.5}}, \"type\": \"barpolar\"}], \"carpet\": [{\"aaxis\": {\"endlinecolor\": \"#2a3f5f\", \"gridcolor\": \"white\", \"linecolor\": \"white\", \"minorgridcolor\": \"white\", \"startlinecolor\": \"#2a3f5f\"}, \"baxis\": {\"endlinecolor\": \"#2a3f5f\", \"gridcolor\": \"white\", \"linecolor\": \"white\", \"minorgridcolor\": \"white\", \"startlinecolor\": \"#2a3f5f\"}, \"type\": \"carpet\"}], \"choropleth\": [{\"colorbar\": {\"outlinewidth\": 0, \"ticks\": \"\"}, \"type\": \"choropleth\"}], \"contour\": [{\"colorbar\": {\"outlinewidth\": 0, \"ticks\": \"\"}, \"colorscale\": [[0.0, \"#0d0887\"], [0.1111111111111111, \"#46039f\"], [0.2222222222222222, \"#7201a8\"], [0.3333333333333333, \"#9c179e\"], [0.4444444444444444, \"#bd3786\"], [0.5555555555555556, \"#d8576b\"], [0.6666666666666666, \"#ed7953\"], [0.7777777777777778, \"#fb9f3a\"], [0.8888888888888888, \"#fdca26\"], [1.0, \"#f0f921\"]], \"type\": \"contour\"}], \"contourcarpet\": [{\"colorbar\": {\"outlinewidth\": 0, \"ticks\": \"\"}, \"type\": \"contourcarpet\"}], \"heatmap\": [{\"colorbar\": {\"outlinewidth\": 0, \"ticks\": \"\"}, \"colorscale\": [[0.0, \"#0d0887\"], [0.1111111111111111, \"#46039f\"], [0.2222222222222222, \"#7201a8\"], [0.3333333333333333, \"#9c179e\"], [0.4444444444444444, \"#bd3786\"], [0.5555555555555556, \"#d8576b\"], [0.6666666666666666, \"#ed7953\"], [0.7777777777777778, \"#fb9f3a\"], [0.8888888888888888, \"#fdca26\"], [1.0, \"#f0f921\"]], \"type\": \"heatmap\"}], \"heatmapgl\": [{\"colorbar\": {\"outlinewidth\": 0, \"ticks\": \"\"}, \"colorscale\": [[0.0, \"#0d0887\"], [0.1111111111111111, \"#46039f\"], [0.2222222222222222, \"#7201a8\"], [0.3333333333333333, \"#9c179e\"], [0.4444444444444444, \"#bd3786\"], [0.5555555555555556, \"#d8576b\"], [0.6666666666666666, \"#ed7953\"], [0.7777777777777778, \"#fb9f3a\"], [0.8888888888888888, \"#fdca26\"], [1.0, \"#f0f921\"]], \"type\": \"heatmapgl\"}], \"histogram\": [{\"marker\": {\"colorbar\": {\"outlinewidth\": 0, \"ticks\": \"\"}}, \"type\": \"histogram\"}], \"histogram2d\": [{\"colorbar\": {\"outlinewidth\": 0, \"ticks\": \"\"}, \"colorscale\": [[0.0, \"#0d0887\"], [0.1111111111111111, \"#46039f\"], [0.2222222222222222, \"#7201a8\"], [0.3333333333333333, \"#9c179e\"], [0.4444444444444444, \"#bd3786\"], [0.5555555555555556, \"#d8576b\"], [0.6666666666666666, \"#ed7953\"], [0.7777777777777778, \"#fb9f3a\"], [0.8888888888888888, \"#fdca26\"], [1.0, \"#f0f921\"]], \"type\": \"histogram2d\"}], \"histogram2dcontour\": [{\"colorbar\": {\"outlinewidth\": 0, \"ticks\": \"\"}, \"colorscale\": [[0.0, \"#0d0887\"], [0.1111111111111111, \"#46039f\"], [0.2222222222222222, \"#7201a8\"], [0.3333333333333333, \"#9c179e\"], [0.4444444444444444, \"#bd3786\"], [0.5555555555555556, \"#d8576b\"], [0.6666666666666666, \"#ed7953\"], [0.7777777777777778, \"#fb9f3a\"], [0.8888888888888888, \"#fdca26\"], [1.0, \"#f0f921\"]], \"type\": \"histogram2dcontour\"}], \"mesh3d\": [{\"colorbar\": {\"outlinewidth\": 0, \"ticks\": \"\"}, \"type\": \"mesh3d\"}], \"parcoords\": [{\"line\": {\"colorbar\": {\"outlinewidth\": 0, \"ticks\": \"\"}}, \"type\": \"parcoords\"}], \"pie\": [{\"automargin\": true, \"type\": \"pie\"}], \"scatter\": [{\"marker\": {\"colorbar\": {\"outlinewidth\": 0, \"ticks\": \"\"}}, \"type\": \"scatter\"}], \"scatter3d\": [{\"line\": {\"colorbar\": {\"outlinewidth\": 0, \"ticks\": \"\"}}, \"marker\": {\"colorbar\": {\"outlinewidth\": 0, \"ticks\": \"\"}}, \"type\": \"scatter3d\"}], \"scattercarpet\": [{\"marker\": {\"colorbar\": {\"outlinewidth\": 0, \"ticks\": \"\"}}, \"type\": \"scattercarpet\"}], \"scattergeo\": [{\"marker\": {\"colorbar\": {\"outlinewidth\": 0, \"ticks\": \"\"}}, \"type\": \"scattergeo\"}], \"scattergl\": [{\"marker\": {\"colorbar\": {\"outlinewidth\": 0, \"ticks\": \"\"}}, \"type\": \"scattergl\"}], \"scattermapbox\": [{\"marker\": {\"colorbar\": {\"outlinewidth\": 0, \"ticks\": \"\"}}, \"type\": \"scattermapbox\"}], \"scatterpolar\": [{\"marker\": {\"colorbar\": {\"outlinewidth\": 0, \"ticks\": \"\"}}, \"type\": \"scatterpolar\"}], \"scatterpolargl\": [{\"marker\": {\"colorbar\": {\"outlinewidth\": 0, \"ticks\": \"\"}}, \"type\": \"scatterpolargl\"}], \"scatterternary\": [{\"marker\": {\"colorbar\": {\"outlinewidth\": 0, \"ticks\": \"\"}}, \"type\": \"scatterternary\"}], \"surface\": [{\"colorbar\": {\"outlinewidth\": 0, \"ticks\": \"\"}, \"colorscale\": [[0.0, \"#0d0887\"], [0.1111111111111111, \"#46039f\"], [0.2222222222222222, \"#7201a8\"], [0.3333333333333333, \"#9c179e\"], [0.4444444444444444, \"#bd3786\"], [0.5555555555555556, \"#d8576b\"], [0.6666666666666666, \"#ed7953\"], [0.7777777777777778, \"#fb9f3a\"], [0.8888888888888888, \"#fdca26\"], [1.0, \"#f0f921\"]], \"type\": \"surface\"}], \"table\": [{\"cells\": {\"fill\": {\"color\": \"#EBF0F8\"}, \"line\": {\"color\": \"white\"}}, \"header\": {\"fill\": {\"color\": \"#C8D4E3\"}, \"line\": {\"color\": \"white\"}}, \"type\": \"table\"}]}, \"layout\": {\"annotationdefaults\": {\"arrowcolor\": \"#2a3f5f\", \"arrowhead\": 0, \"arrowwidth\": 1}, \"coloraxis\": {\"colorbar\": {\"outlinewidth\": 0, \"ticks\": \"\"}}, \"colorscale\": {\"diverging\": [[0, \"#8e0152\"], [0.1, \"#c51b7d\"], [0.2, \"#de77ae\"], [0.3, \"#f1b6da\"], [0.4, \"#fde0ef\"], [0.5, \"#f7f7f7\"], [0.6, \"#e6f5d0\"], [0.7, \"#b8e186\"], [0.8, \"#7fbc41\"], [0.9, \"#4d9221\"], [1, \"#276419\"]], \"sequential\": [[0.0, \"#0d0887\"], [0.1111111111111111, \"#46039f\"], [0.2222222222222222, \"#7201a8\"], [0.3333333333333333, \"#9c179e\"], [0.4444444444444444, \"#bd3786\"], [0.5555555555555556, \"#d8576b\"], [0.6666666666666666, \"#ed7953\"], [0.7777777777777778, \"#fb9f3a\"], [0.8888888888888888, \"#fdca26\"], [1.0, \"#f0f921\"]], \"sequentialminus\": [[0.0, \"#0d0887\"], [0.1111111111111111, \"#46039f\"], [0.2222222222222222, \"#7201a8\"], [0.3333333333333333, \"#9c179e\"], [0.4444444444444444, \"#bd3786\"], [0.5555555555555556, \"#d8576b\"], [0.6666666666666666, \"#ed7953\"], [0.7777777777777778, \"#fb9f3a\"], [0.8888888888888888, \"#fdca26\"], [1.0, \"#f0f921\"]]}, \"colorway\": [\"#636efa\", \"#EF553B\", \"#00cc96\", \"#ab63fa\", \"#FFA15A\", \"#19d3f3\", \"#FF6692\", \"#B6E880\", \"#FF97FF\", \"#FECB52\"], \"font\": {\"color\": \"#2a3f5f\"}, \"geo\": {\"bgcolor\": \"white\", \"lakecolor\": \"white\", \"landcolor\": \"#E5ECF6\", \"showlakes\": true, \"showland\": true, \"subunitcolor\": \"white\"}, \"hoverlabel\": {\"align\": \"left\"}, \"hovermode\": \"closest\", \"mapbox\": {\"style\": \"light\"}, \"paper_bgcolor\": \"white\", \"plot_bgcolor\": \"#E5ECF6\", \"polar\": {\"angularaxis\": {\"gridcolor\": \"white\", \"linecolor\": \"white\", \"ticks\": \"\"}, \"bgcolor\": \"#E5ECF6\", \"radialaxis\": {\"gridcolor\": \"white\", \"linecolor\": \"white\", \"ticks\": \"\"}}, \"scene\": {\"xaxis\": {\"backgroundcolor\": \"#E5ECF6\", \"gridcolor\": \"white\", \"gridwidth\": 2, \"linecolor\": \"white\", \"showbackground\": true, \"ticks\": \"\", \"zerolinecolor\": \"white\"}, \"yaxis\": {\"backgroundcolor\": \"#E5ECF6\", \"gridcolor\": \"white\", \"gridwidth\": 2, \"linecolor\": \"white\", \"showbackground\": true, \"ticks\": \"\", \"zerolinecolor\": \"white\"}, \"zaxis\": {\"backgroundcolor\": \"#E5ECF6\", \"gridcolor\": \"white\", \"gridwidth\": 2, \"linecolor\": \"white\", \"showbackground\": true, \"ticks\": \"\", \"zerolinecolor\": \"white\"}}, \"shapedefaults\": {\"line\": {\"color\": \"#2a3f5f\"}}, \"ternary\": {\"aaxis\": {\"gridcolor\": \"white\", \"linecolor\": \"white\", \"ticks\": \"\"}, \"baxis\": {\"gridcolor\": \"white\", \"linecolor\": \"white\", \"ticks\": \"\"}, \"bgcolor\": \"#E5ECF6\", \"caxis\": {\"gridcolor\": \"white\", \"linecolor\": \"white\", \"ticks\": \"\"}}, \"title\": {\"x\": 0.05}, \"xaxis\": {\"automargin\": true, \"gridcolor\": \"white\", \"linecolor\": \"white\", \"ticks\": \"\", \"title\": {\"standoff\": 15}, \"zerolinecolor\": \"white\", \"zerolinewidth\": 2}, \"yaxis\": {\"automargin\": true, \"gridcolor\": \"white\", \"linecolor\": \"white\", \"ticks\": \"\", \"title\": {\"standoff\": 15}, \"zerolinecolor\": \"white\", \"zerolinewidth\": 2}}}, \"title\": {\"font\": {\"color\": \"#4D5663\"}}, \"xaxis\": {\"gridcolor\": \"#E1E5ED\", \"showgrid\": true, \"tickfont\": {\"color\": \"#4D5663\"}, \"title\": {\"font\": {\"color\": \"#4D5663\"}, \"text\": \"\"}, \"zerolinecolor\": \"#E1E5ED\"}, \"yaxis\": {\"gridcolor\": \"#E1E5ED\", \"showgrid\": true, \"tickfont\": {\"color\": \"#4D5663\"}, \"title\": {\"font\": {\"color\": \"#4D5663\"}, \"text\": \"\"}, \"zerolinecolor\": \"#E1E5ED\"}},\n",
       "                        {\"showLink\": true, \"linkText\": \"Export to plot.ly\", \"plotlyServerURL\": \"https://plot.ly\", \"responsive\": true}\n",
       "                    ).then(function(){\n",
       "                            \n",
       "var gd = document.getElementById('e64bbfff-ca8e-456d-8fec-8c0a2c06b15f');\n",
       "var x = new MutationObserver(function (mutations, observer) {{\n",
       "        var display = window.getComputedStyle(gd).display;\n",
       "        if (!display || display === 'none') {{\n",
       "            console.log([gd, 'removed!']);\n",
       "            Plotly.purge(gd);\n",
       "            observer.disconnect();\n",
       "        }}\n",
       "}});\n",
       "\n",
       "// Listen for the removal of the full notebook cells\n",
       "var notebookContainer = gd.closest('#notebook-container');\n",
       "if (notebookContainer) {{\n",
       "    x.observe(notebookContainer, {childList: true});\n",
       "}}\n",
       "\n",
       "// Listen for the clearing of the current output cell\n",
       "var outputEl = gd.closest('.output');\n",
       "if (outputEl) {{\n",
       "    x.observe(outputEl, {childList: true});\n",
       "}}\n",
       "\n",
       "                        })\n",
       "                };\n",
       "                });\n",
       "            </script>\n",
       "        </div>"
      ]
     },
     "metadata": {},
     "output_type": "display_data"
    }
   ],
   "source": [
    "# This is the boxplot made by plotly\n",
    "df1.iplot(kind='box')"
   ]
  },
  {
   "cell_type": "code",
   "execution_count": 29,
   "metadata": {},
   "outputs": [
    {
     "data": {
      "application/vnd.plotly.v1+json": {
       "config": {
        "linkText": "Export to plot.ly",
        "plotlyServerURL": "https://plot.ly",
        "showLink": true
       },
       "data": [
        {
         "histfunc": "count",
         "histnorm": "",
         "marker": {
          "color": "rgba(255, 153, 51, 1.0)",
          "line": {
           "color": "#4D5663",
           "width": 1.3
          }
         },
         "name": "A",
         "opacity": 0.8,
         "orientation": "v",
         "type": "histogram",
         "x": [
          0.9143199744490959,
          -0.6646337852370073,
          -0.14147521428869275,
          -1.5332881680412882,
          -1.095065469170004,
          1.677545617427011,
          1.730306742135822,
          0.3093380042070924,
          1.998060812676102,
          0.2103320482242863,
          -0.36356967714317556,
          1.0009522053146767,
          0.069031037048522,
          -1.4132717659293934,
          1.4342602513904974,
          0.8667006663131418,
          -1.0896509582121268,
          1.3185707666281514,
          0.20761718693952874,
          0.03055838903094499,
          -1.3019172354325668,
          0.4190207620229179,
          0.21463294842463157,
          0.09415542101933022,
          1.102150756931986,
          0.08058368310676578,
          -0.31050578091790093,
          0.7280257375312584,
          -0.7333481572330972,
          0.7111147715815395,
          -0.4534409552547134,
          -0.8493772470868383,
          -2.3618289209284056,
          -1.0355419986958943,
          0.2209044604729675,
          -0.3097002156986558,
          -0.5008454017984665,
          -1.725024685517588,
          -0.19105729905583005,
          -1.3917398712550997,
          -1.373493523702723,
          -0.7176943975375174,
          -0.910332404713052,
          -0.45750099928699495,
          0.236834377371843,
          -1.15271654366376,
          -0.3053263890214957,
          -0.7228191803601534,
          0.22380614257506143,
          -0.893109542297301,
          1.731068296261119,
          -0.8905500303106749,
          -0.43770584584543254,
          1.8228947096849963,
          0.19474734000545416,
          -2.2678586134597416,
          0.7415931835889042,
          -0.45194179738729906,
          0.3167107937975542,
          -0.33618888669222596,
          -0.40957852624382124,
          -0.21251080743656847,
          -0.6478327795201284,
          -0.2506330234581966,
          -0.2388108275357814,
          -0.46447261046488947,
          2.1274922284409015,
          -0.6624602143894611,
          -1.1013961877761724,
          -0.10962658841460418,
          -1.939924292062804,
          -2.922615773741819,
          0.33732369348397273,
          -0.8879693301653936,
          -0.14203014646171108,
          1.8459848092411675,
          0.5451264788261765,
          1.5161798792278758,
          -0.060903470222706466,
          -0.5042434120396577,
          0.24087301804518244,
          1.3184761215231695,
          -0.5311236458104367,
          0.16904327084218684,
          0.21497691222184062,
          -0.04976420464178433,
          -1.2351738292265402,
          -0.09703656247737708,
          -0.813348632878989,
          1.6254085445113675,
          0.2712263240648343,
          -0.9212781749948205,
          -0.5547997988204424,
          -2.13583941926714,
          0.8471102598607632,
          -0.8076097650549745,
          -0.08764701901324923,
          0.19439248949118276,
          -0.6406087430595749,
          -0.38706169745440083
         ]
        },
        {
         "histfunc": "count",
         "histnorm": "",
         "marker": {
          "color": "rgba(55, 128, 191, 1.0)",
          "line": {
           "color": "#4D5663",
           "width": 1.3
          }
         },
         "name": "B",
         "opacity": 0.8,
         "orientation": "v",
         "type": "histogram",
         "x": [
          -0.23939171593754066,
          1.1268411197192545,
          -1.3494357537123602,
          0.5790826278722518,
          -1.6485814860907217,
          -0.4527541104712093,
          1.003828728995732,
          2.4629808609275012,
          0.6481780198900731,
          0.8480004503529042,
          1.238274215824042,
          -1.5838329847047354,
          -1.112201772192512,
          -0.6024867614407695,
          0.8466419247834434,
          -0.9474768899447823,
          1.0164109375425812,
          0.7224996995791487,
          0.25526188409336287,
          -1.5944985447538833,
          1.2968499367294102,
          -0.6723930339014411,
          -0.01213068819246885,
          0.6227938934447875,
          0.5717022548249712,
          -0.014316792233143808,
          -1.0732103781329587,
          -0.8404810595395262,
          0.2336645366300528,
          0.4237291846096155,
          0.5999749812286985,
          1.6961952085118364,
          1.3471744408747899,
          -1.715648466013637,
          0.4600380064996352,
          1.6419150181459605,
          -0.9271759841966386,
          -1.2516473416661413,
          -1.3294348622170946,
          0.8959213927790316,
          -0.27533466214676466,
          -0.3126409180581469,
          -0.8317404737419754,
          1.5151023043356646,
          -0.6930803909206489,
          1.6523456021129082,
          1.578504660014399,
          -1.1664446833089916,
          -0.2971964754077405,
          0.4233156613856403,
          1.0288194448150627,
          0.28008396358724136,
          0.22395234888135715,
          -0.3595187644393644,
          -1.1128104757420167,
          0.2108557560623746,
          0.1730937703058691,
          -1.002813095857646,
          0.20443542821529617,
          -0.32360061868395795,
          -0.0049437503027825675,
          0.4926040526827179,
          -0.5413153600807233,
          0.5515721860289516,
          0.06040691278399967,
          -0.5472611575382201,
          0.3537214971536513,
          -1.2925223260945184,
          1.145071151118041,
          0.8930190003011235,
          0.3057895085475132,
          0.9317756573748759,
          -0.8888065487082335,
          -0.3934432175083188,
          -0.9939768245988979,
          0.3232829919486774,
          1.2214603832060258,
          1.2765046821598975,
          -0.1463325608537506,
          -0.9427533371257731,
          1.837623200388388,
          1.5274179871015077,
          -0.0360770137244279,
          -1.6323538127223398,
          2.353835729461377,
          -0.686303546670052,
          -0.2992019090265777,
          1.5943515851668304,
          2.202635036939589,
          -1.6742492772523072,
          -0.21031818763509,
          -0.8942974774765501,
          -0.31333360209211436,
          1.2511633577495769,
          -0.4532794052811933,
          -0.6713720923060141,
          -0.5342440383728624,
          -0.2513050584914812,
          -0.3440675829544576,
          0.15205058633631194
         ]
        },
        {
         "histfunc": "count",
         "histnorm": "",
         "marker": {
          "color": "rgba(50, 171, 96, 1.0)",
          "line": {
           "color": "#4D5663",
           "width": 1.3
          }
         },
         "name": "C",
         "opacity": 0.8,
         "orientation": "v",
         "type": "histogram",
         "x": [
          0.08354900100561062,
          -1.1762581996119275,
          -1.2435112806675224,
          -1.887059240471436,
          0.7006286834815346,
          -1.9061106352891495,
          0.6291674616560248,
          1.9220280665934857,
          -0.786657577449106,
          0.21571696956647404,
          -2.3702209562160577,
          1.4736987526697354,
          1.9161205056930215,
          1.690217786783108,
          0.1439954287878712,
          -1.1242189560113145,
          0.6702282899323526,
          1.2354219426553452,
          -0.9041671473751495,
          0.5053921303645501,
          0.563585753843907,
          -0.7163857574214749,
          -0.31684732357771744,
          -0.6574388083538694,
          0.0893833354938422,
          -0.2826361660677943,
          -1.9987806201855272,
          -0.37674863584402596,
          -1.3060881065004344,
          -0.3027517335000185,
          0.5825576898045317,
          0.8336854041069438,
          -1.370201704557367,
          -0.9373461444876827,
          0.17459245291773834,
          -0.22463100775576927,
          1.0330145021293278,
          -0.09850966891247348,
          0.7241657584014993,
          0.955186621118631,
          0.30608394582456233,
          1.5290937481818527,
          1.8098797470602352,
          0.8004831296061153,
          -0.2049005448699173,
          -2.3947821795849777,
          -0.07853752764328854,
          -0.6262274431054563,
          0.340714345684504,
          2.488129484040648,
          -0.18717925397624124,
          1.7328852501534606,
          1.1791971840719817,
          0.5486183290215052,
          -0.5410032152697309,
          -1.0643380160389941,
          -0.09407993866674372,
          0.9707824657472518,
          0.17816660236085075,
          -0.5634385253507159,
          -0.23691031630929846,
          -0.09235744792732545,
          -1.014727424442866,
          1.2769322679573092,
          0.39528235325115546,
          0.5205175784522462,
          1.1273391744260934,
          -0.5193440530245592,
          0.3900684693755273,
          -0.08611140806629622,
          0.15689162023394052,
          -0.8835587758698809,
          -0.46014232276791744,
          0.14931404219831243,
          0.8491332074223944,
          0.26582503410631325,
          -0.683164247655124,
          2.614893977763737,
          -0.010015216452615229,
          0.5244924291444624,
          0.6261192572466824,
          1.1801381930457862,
          0.038182877979043586,
          -1.8737503117824383,
          -1.3928968411490805,
          0.14142517351328868,
          -1.126885241350718,
          -0.10089736521314253,
          -0.9560526698814561,
          0.6142824511208461,
          0.06367871376318736,
          0.8280087228360533,
          0.02747396446917433,
          -1.1406863737395154,
          -0.6416004832788077,
          1.8184649586581034,
          1.0195667145616782,
          0.7310713563273256,
          0.377044567827439,
          -1.5530084890071545
         ]
        },
        {
         "histfunc": "count",
         "histnorm": "",
         "marker": {
          "color": "rgba(128, 0, 128, 1.0)",
          "line": {
           "color": "#4D5663",
           "width": 1.3
          }
         },
         "name": "D",
         "opacity": 0.8,
         "orientation": "v",
         "type": "histogram",
         "x": [
          1.422135659899816,
          -1.1498108111912997,
          1.0861764712918605,
          -1.1825999353003134,
          0.11291167561684437,
          -1.0403773845489095,
          -0.025311303993222997,
          -0.9472951140262564,
          -2.085462277032858,
          0.009440383763292946,
          1.541228845833113,
          1.2630573123308124,
          0.3384971276271273,
          0.5434655243051836,
          0.7308717669481943,
          -0.6242234349148293,
          1.0228550323490002,
          -0.5438852964735581,
          2.4160027779367375,
          3.272135005557643,
          -0.3568567890795237,
          0.15994644094538,
          -0.6987012157543981,
          1.119745589140762,
          1.9851435250178515,
          1.1393344005681445,
          -0.6696083799239421,
          -1.298623781345975,
          0.07535612656465497,
          0.12709289220993064,
          -0.7212795864169899,
          0.3952199747769614,
          1.1658279999083134,
          -0.4420981198456275,
          -0.2745229175409915,
          0.89942215949408,
          1.118380948719663,
          0.3877599766932124,
          -0.8087028166311288,
          1.487499229658045,
          1.5519149728740191,
          1.3694731873864372,
          1.601986147955227,
          -0.13506288444037565,
          -1.369375767137172,
          -0.21817419631025753,
          -1.0155003638394315,
          1.6066215420516388,
          0.45389069140254856,
          0.6902455540039308,
          0.7995790582998156,
          -2.3599156821347345,
          0.5293063314819895,
          -1.4610251333831956,
          1.3026442181984443,
          -0.8046014329971493,
          0.29243953047445476,
          0.841577786899802,
          0.3065013963290962,
          0.3772090998384718,
          0.26389718721088246,
          1.1213771584945638,
          -0.0697361329895187,
          1.9323489663601012,
          -0.37382569573594654,
          -0.14877895184285853,
          -0.32863546868738913,
          1.0510335931310077,
          1.547170980473415,
          0.05312708727660292,
          0.3904807269355301,
          0.7833833984916323,
          -0.9637414518257233,
          0.7958980874871708,
          1.3480148914094672,
          1.4117346038562641,
          0.18124988767705952,
          -0.5430602873278603,
          -1.5411723805123168,
          -0.32688513528921603,
          0.30380344321727615,
          -0.16493219681876425,
          -1.8370869260684919,
          0.5594449739751,
          -2.2846734450711814,
          -1.7171167755417092,
          1.403981871325172,
          -1.6008085255609552,
          -0.6031396996916586,
          1.2052437927666695,
          1.3674086396322755,
          -1.4283473858637892,
          -0.6545275752649825,
          1.1897801403354284,
          0.8072969646783367,
          0.9630428264620265,
          -0.2747773610557366,
          0.26035190527981555,
          0.44676722055910995,
          2.3965236116694966
         ]
        }
       ],
       "layout": {
        "barmode": "overlay",
        "legend": {
         "bgcolor": "#F5F6F9",
         "font": {
          "color": "#4D5663"
         }
        },
        "paper_bgcolor": "#F5F6F9",
        "plot_bgcolor": "#F5F6F9",
        "template": {
         "data": {
          "bar": [
           {
            "error_x": {
             "color": "#2a3f5f"
            },
            "error_y": {
             "color": "#2a3f5f"
            },
            "marker": {
             "line": {
              "color": "#E5ECF6",
              "width": 0.5
             }
            },
            "type": "bar"
           }
          ],
          "barpolar": [
           {
            "marker": {
             "line": {
              "color": "#E5ECF6",
              "width": 0.5
             }
            },
            "type": "barpolar"
           }
          ],
          "carpet": [
           {
            "aaxis": {
             "endlinecolor": "#2a3f5f",
             "gridcolor": "white",
             "linecolor": "white",
             "minorgridcolor": "white",
             "startlinecolor": "#2a3f5f"
            },
            "baxis": {
             "endlinecolor": "#2a3f5f",
             "gridcolor": "white",
             "linecolor": "white",
             "minorgridcolor": "white",
             "startlinecolor": "#2a3f5f"
            },
            "type": "carpet"
           }
          ],
          "choropleth": [
           {
            "colorbar": {
             "outlinewidth": 0,
             "ticks": ""
            },
            "type": "choropleth"
           }
          ],
          "contour": [
           {
            "colorbar": {
             "outlinewidth": 0,
             "ticks": ""
            },
            "colorscale": [
             [
              0,
              "#0d0887"
             ],
             [
              0.1111111111111111,
              "#46039f"
             ],
             [
              0.2222222222222222,
              "#7201a8"
             ],
             [
              0.3333333333333333,
              "#9c179e"
             ],
             [
              0.4444444444444444,
              "#bd3786"
             ],
             [
              0.5555555555555556,
              "#d8576b"
             ],
             [
              0.6666666666666666,
              "#ed7953"
             ],
             [
              0.7777777777777778,
              "#fb9f3a"
             ],
             [
              0.8888888888888888,
              "#fdca26"
             ],
             [
              1,
              "#f0f921"
             ]
            ],
            "type": "contour"
           }
          ],
          "contourcarpet": [
           {
            "colorbar": {
             "outlinewidth": 0,
             "ticks": ""
            },
            "type": "contourcarpet"
           }
          ],
          "heatmap": [
           {
            "colorbar": {
             "outlinewidth": 0,
             "ticks": ""
            },
            "colorscale": [
             [
              0,
              "#0d0887"
             ],
             [
              0.1111111111111111,
              "#46039f"
             ],
             [
              0.2222222222222222,
              "#7201a8"
             ],
             [
              0.3333333333333333,
              "#9c179e"
             ],
             [
              0.4444444444444444,
              "#bd3786"
             ],
             [
              0.5555555555555556,
              "#d8576b"
             ],
             [
              0.6666666666666666,
              "#ed7953"
             ],
             [
              0.7777777777777778,
              "#fb9f3a"
             ],
             [
              0.8888888888888888,
              "#fdca26"
             ],
             [
              1,
              "#f0f921"
             ]
            ],
            "type": "heatmap"
           }
          ],
          "heatmapgl": [
           {
            "colorbar": {
             "outlinewidth": 0,
             "ticks": ""
            },
            "colorscale": [
             [
              0,
              "#0d0887"
             ],
             [
              0.1111111111111111,
              "#46039f"
             ],
             [
              0.2222222222222222,
              "#7201a8"
             ],
             [
              0.3333333333333333,
              "#9c179e"
             ],
             [
              0.4444444444444444,
              "#bd3786"
             ],
             [
              0.5555555555555556,
              "#d8576b"
             ],
             [
              0.6666666666666666,
              "#ed7953"
             ],
             [
              0.7777777777777778,
              "#fb9f3a"
             ],
             [
              0.8888888888888888,
              "#fdca26"
             ],
             [
              1,
              "#f0f921"
             ]
            ],
            "type": "heatmapgl"
           }
          ],
          "histogram": [
           {
            "marker": {
             "colorbar": {
              "outlinewidth": 0,
              "ticks": ""
             }
            },
            "type": "histogram"
           }
          ],
          "histogram2d": [
           {
            "colorbar": {
             "outlinewidth": 0,
             "ticks": ""
            },
            "colorscale": [
             [
              0,
              "#0d0887"
             ],
             [
              0.1111111111111111,
              "#46039f"
             ],
             [
              0.2222222222222222,
              "#7201a8"
             ],
             [
              0.3333333333333333,
              "#9c179e"
             ],
             [
              0.4444444444444444,
              "#bd3786"
             ],
             [
              0.5555555555555556,
              "#d8576b"
             ],
             [
              0.6666666666666666,
              "#ed7953"
             ],
             [
              0.7777777777777778,
              "#fb9f3a"
             ],
             [
              0.8888888888888888,
              "#fdca26"
             ],
             [
              1,
              "#f0f921"
             ]
            ],
            "type": "histogram2d"
           }
          ],
          "histogram2dcontour": [
           {
            "colorbar": {
             "outlinewidth": 0,
             "ticks": ""
            },
            "colorscale": [
             [
              0,
              "#0d0887"
             ],
             [
              0.1111111111111111,
              "#46039f"
             ],
             [
              0.2222222222222222,
              "#7201a8"
             ],
             [
              0.3333333333333333,
              "#9c179e"
             ],
             [
              0.4444444444444444,
              "#bd3786"
             ],
             [
              0.5555555555555556,
              "#d8576b"
             ],
             [
              0.6666666666666666,
              "#ed7953"
             ],
             [
              0.7777777777777778,
              "#fb9f3a"
             ],
             [
              0.8888888888888888,
              "#fdca26"
             ],
             [
              1,
              "#f0f921"
             ]
            ],
            "type": "histogram2dcontour"
           }
          ],
          "mesh3d": [
           {
            "colorbar": {
             "outlinewidth": 0,
             "ticks": ""
            },
            "type": "mesh3d"
           }
          ],
          "parcoords": [
           {
            "line": {
             "colorbar": {
              "outlinewidth": 0,
              "ticks": ""
             }
            },
            "type": "parcoords"
           }
          ],
          "pie": [
           {
            "automargin": true,
            "type": "pie"
           }
          ],
          "scatter": [
           {
            "marker": {
             "colorbar": {
              "outlinewidth": 0,
              "ticks": ""
             }
            },
            "type": "scatter"
           }
          ],
          "scatter3d": [
           {
            "line": {
             "colorbar": {
              "outlinewidth": 0,
              "ticks": ""
             }
            },
            "marker": {
             "colorbar": {
              "outlinewidth": 0,
              "ticks": ""
             }
            },
            "type": "scatter3d"
           }
          ],
          "scattercarpet": [
           {
            "marker": {
             "colorbar": {
              "outlinewidth": 0,
              "ticks": ""
             }
            },
            "type": "scattercarpet"
           }
          ],
          "scattergeo": [
           {
            "marker": {
             "colorbar": {
              "outlinewidth": 0,
              "ticks": ""
             }
            },
            "type": "scattergeo"
           }
          ],
          "scattergl": [
           {
            "marker": {
             "colorbar": {
              "outlinewidth": 0,
              "ticks": ""
             }
            },
            "type": "scattergl"
           }
          ],
          "scattermapbox": [
           {
            "marker": {
             "colorbar": {
              "outlinewidth": 0,
              "ticks": ""
             }
            },
            "type": "scattermapbox"
           }
          ],
          "scatterpolar": [
           {
            "marker": {
             "colorbar": {
              "outlinewidth": 0,
              "ticks": ""
             }
            },
            "type": "scatterpolar"
           }
          ],
          "scatterpolargl": [
           {
            "marker": {
             "colorbar": {
              "outlinewidth": 0,
              "ticks": ""
             }
            },
            "type": "scatterpolargl"
           }
          ],
          "scatterternary": [
           {
            "marker": {
             "colorbar": {
              "outlinewidth": 0,
              "ticks": ""
             }
            },
            "type": "scatterternary"
           }
          ],
          "surface": [
           {
            "colorbar": {
             "outlinewidth": 0,
             "ticks": ""
            },
            "colorscale": [
             [
              0,
              "#0d0887"
             ],
             [
              0.1111111111111111,
              "#46039f"
             ],
             [
              0.2222222222222222,
              "#7201a8"
             ],
             [
              0.3333333333333333,
              "#9c179e"
             ],
             [
              0.4444444444444444,
              "#bd3786"
             ],
             [
              0.5555555555555556,
              "#d8576b"
             ],
             [
              0.6666666666666666,
              "#ed7953"
             ],
             [
              0.7777777777777778,
              "#fb9f3a"
             ],
             [
              0.8888888888888888,
              "#fdca26"
             ],
             [
              1,
              "#f0f921"
             ]
            ],
            "type": "surface"
           }
          ],
          "table": [
           {
            "cells": {
             "fill": {
              "color": "#EBF0F8"
             },
             "line": {
              "color": "white"
             }
            },
            "header": {
             "fill": {
              "color": "#C8D4E3"
             },
             "line": {
              "color": "white"
             }
            },
            "type": "table"
           }
          ]
         },
         "layout": {
          "annotationdefaults": {
           "arrowcolor": "#2a3f5f",
           "arrowhead": 0,
           "arrowwidth": 1
          },
          "coloraxis": {
           "colorbar": {
            "outlinewidth": 0,
            "ticks": ""
           }
          },
          "colorscale": {
           "diverging": [
            [
             0,
             "#8e0152"
            ],
            [
             0.1,
             "#c51b7d"
            ],
            [
             0.2,
             "#de77ae"
            ],
            [
             0.3,
             "#f1b6da"
            ],
            [
             0.4,
             "#fde0ef"
            ],
            [
             0.5,
             "#f7f7f7"
            ],
            [
             0.6,
             "#e6f5d0"
            ],
            [
             0.7,
             "#b8e186"
            ],
            [
             0.8,
             "#7fbc41"
            ],
            [
             0.9,
             "#4d9221"
            ],
            [
             1,
             "#276419"
            ]
           ],
           "sequential": [
            [
             0,
             "#0d0887"
            ],
            [
             0.1111111111111111,
             "#46039f"
            ],
            [
             0.2222222222222222,
             "#7201a8"
            ],
            [
             0.3333333333333333,
             "#9c179e"
            ],
            [
             0.4444444444444444,
             "#bd3786"
            ],
            [
             0.5555555555555556,
             "#d8576b"
            ],
            [
             0.6666666666666666,
             "#ed7953"
            ],
            [
             0.7777777777777778,
             "#fb9f3a"
            ],
            [
             0.8888888888888888,
             "#fdca26"
            ],
            [
             1,
             "#f0f921"
            ]
           ],
           "sequentialminus": [
            [
             0,
             "#0d0887"
            ],
            [
             0.1111111111111111,
             "#46039f"
            ],
            [
             0.2222222222222222,
             "#7201a8"
            ],
            [
             0.3333333333333333,
             "#9c179e"
            ],
            [
             0.4444444444444444,
             "#bd3786"
            ],
            [
             0.5555555555555556,
             "#d8576b"
            ],
            [
             0.6666666666666666,
             "#ed7953"
            ],
            [
             0.7777777777777778,
             "#fb9f3a"
            ],
            [
             0.8888888888888888,
             "#fdca26"
            ],
            [
             1,
             "#f0f921"
            ]
           ]
          },
          "colorway": [
           "#636efa",
           "#EF553B",
           "#00cc96",
           "#ab63fa",
           "#FFA15A",
           "#19d3f3",
           "#FF6692",
           "#B6E880",
           "#FF97FF",
           "#FECB52"
          ],
          "font": {
           "color": "#2a3f5f"
          },
          "geo": {
           "bgcolor": "white",
           "lakecolor": "white",
           "landcolor": "#E5ECF6",
           "showlakes": true,
           "showland": true,
           "subunitcolor": "white"
          },
          "hoverlabel": {
           "align": "left"
          },
          "hovermode": "closest",
          "mapbox": {
           "style": "light"
          },
          "paper_bgcolor": "white",
          "plot_bgcolor": "#E5ECF6",
          "polar": {
           "angularaxis": {
            "gridcolor": "white",
            "linecolor": "white",
            "ticks": ""
           },
           "bgcolor": "#E5ECF6",
           "radialaxis": {
            "gridcolor": "white",
            "linecolor": "white",
            "ticks": ""
           }
          },
          "scene": {
           "xaxis": {
            "backgroundcolor": "#E5ECF6",
            "gridcolor": "white",
            "gridwidth": 2,
            "linecolor": "white",
            "showbackground": true,
            "ticks": "",
            "zerolinecolor": "white"
           },
           "yaxis": {
            "backgroundcolor": "#E5ECF6",
            "gridcolor": "white",
            "gridwidth": 2,
            "linecolor": "white",
            "showbackground": true,
            "ticks": "",
            "zerolinecolor": "white"
           },
           "zaxis": {
            "backgroundcolor": "#E5ECF6",
            "gridcolor": "white",
            "gridwidth": 2,
            "linecolor": "white",
            "showbackground": true,
            "ticks": "",
            "zerolinecolor": "white"
           }
          },
          "shapedefaults": {
           "line": {
            "color": "#2a3f5f"
           }
          },
          "ternary": {
           "aaxis": {
            "gridcolor": "white",
            "linecolor": "white",
            "ticks": ""
           },
           "baxis": {
            "gridcolor": "white",
            "linecolor": "white",
            "ticks": ""
           },
           "bgcolor": "#E5ECF6",
           "caxis": {
            "gridcolor": "white",
            "linecolor": "white",
            "ticks": ""
           }
          },
          "title": {
           "x": 0.05
          },
          "xaxis": {
           "automargin": true,
           "gridcolor": "white",
           "linecolor": "white",
           "ticks": "",
           "title": {
            "standoff": 15
           },
           "zerolinecolor": "white",
           "zerolinewidth": 2
          },
          "yaxis": {
           "automargin": true,
           "gridcolor": "white",
           "linecolor": "white",
           "ticks": "",
           "title": {
            "standoff": 15
           },
           "zerolinecolor": "white",
           "zerolinewidth": 2
          }
         }
        },
        "title": {
         "font": {
          "color": "#4D5663"
         }
        },
        "xaxis": {
         "gridcolor": "#E1E5ED",
         "showgrid": true,
         "tickfont": {
          "color": "#4D5663"
         },
         "title": {
          "font": {
           "color": "#4D5663"
          },
          "text": ""
         },
         "zerolinecolor": "#E1E5ED"
        },
        "yaxis": {
         "gridcolor": "#E1E5ED",
         "showgrid": true,
         "tickfont": {
          "color": "#4D5663"
         },
         "title": {
          "font": {
           "color": "#4D5663"
          },
          "text": ""
         },
         "zerolinecolor": "#E1E5ED"
        }
       }
      },
      "text/html": [
       "<div>\n",
       "        \n",
       "        \n",
       "            <div id=\"34fb3a46-9cef-4747-a485-f146673dc0aa\" class=\"plotly-graph-div\" style=\"height:525px; width:100%;\"></div>\n",
       "            <script type=\"text/javascript\">\n",
       "                require([\"plotly\"], function(Plotly) {\n",
       "                    window.PLOTLYENV=window.PLOTLYENV || {};\n",
       "                    window.PLOTLYENV.BASE_URL='https://plot.ly';\n",
       "                    \n",
       "                if (document.getElementById(\"34fb3a46-9cef-4747-a485-f146673dc0aa\")) {\n",
       "                    Plotly.newPlot(\n",
       "                        '34fb3a46-9cef-4747-a485-f146673dc0aa',\n",
       "                        [{\"histfunc\": \"count\", \"histnorm\": \"\", \"marker\": {\"color\": \"rgba(255, 153, 51, 1.0)\", \"line\": {\"color\": \"#4D5663\", \"width\": 1.3}}, \"name\": \"A\", \"opacity\": 0.8, \"orientation\": \"v\", \"type\": \"histogram\", \"x\": [0.9143199744490959, -0.6646337852370073, -0.14147521428869275, -1.5332881680412882, -1.095065469170004, 1.677545617427011, 1.730306742135822, 0.3093380042070924, 1.998060812676102, 0.2103320482242863, -0.36356967714317556, 1.0009522053146767, 0.069031037048522, -1.4132717659293934, 1.4342602513904974, 0.8667006663131418, -1.0896509582121268, 1.3185707666281514, 0.20761718693952874, 0.03055838903094499, -1.3019172354325668, 0.4190207620229179, 0.21463294842463157, 0.09415542101933022, 1.102150756931986, 0.08058368310676578, -0.31050578091790093, 0.7280257375312584, -0.7333481572330972, 0.7111147715815395, -0.4534409552547134, -0.8493772470868383, -2.3618289209284056, -1.0355419986958943, 0.2209044604729675, -0.3097002156986558, -0.5008454017984665, -1.725024685517588, -0.19105729905583005, -1.3917398712550997, -1.373493523702723, -0.7176943975375174, -0.910332404713052, -0.45750099928699495, 0.236834377371843, -1.15271654366376, -0.3053263890214957, -0.7228191803601534, 0.22380614257506143, -0.893109542297301, 1.731068296261119, -0.8905500303106749, -0.43770584584543254, 1.8228947096849963, 0.19474734000545416, -2.2678586134597416, 0.7415931835889042, -0.45194179738729906, 0.3167107937975542, -0.33618888669222596, -0.40957852624382124, -0.21251080743656847, -0.6478327795201284, -0.2506330234581966, -0.2388108275357814, -0.46447261046488947, 2.1274922284409015, -0.6624602143894611, -1.1013961877761724, -0.10962658841460418, -1.939924292062804, -2.922615773741819, 0.33732369348397273, -0.8879693301653936, -0.14203014646171108, 1.8459848092411675, 0.5451264788261765, 1.5161798792278758, -0.060903470222706466, -0.5042434120396577, 0.24087301804518244, 1.3184761215231695, -0.5311236458104367, 0.16904327084218684, 0.21497691222184062, -0.04976420464178433, -1.2351738292265402, -0.09703656247737708, -0.813348632878989, 1.6254085445113675, 0.2712263240648343, -0.9212781749948205, -0.5547997988204424, -2.13583941926714, 0.8471102598607632, -0.8076097650549745, -0.08764701901324923, 0.19439248949118276, -0.6406087430595749, -0.38706169745440083]}, {\"histfunc\": \"count\", \"histnorm\": \"\", \"marker\": {\"color\": \"rgba(55, 128, 191, 1.0)\", \"line\": {\"color\": \"#4D5663\", \"width\": 1.3}}, \"name\": \"B\", \"opacity\": 0.8, \"orientation\": \"v\", \"type\": \"histogram\", \"x\": [-0.23939171593754066, 1.1268411197192545, -1.3494357537123602, 0.5790826278722518, -1.6485814860907217, -0.4527541104712093, 1.003828728995732, 2.4629808609275012, 0.6481780198900731, 0.8480004503529042, 1.238274215824042, -1.5838329847047354, -1.112201772192512, -0.6024867614407695, 0.8466419247834434, -0.9474768899447823, 1.0164109375425812, 0.7224996995791487, 0.25526188409336287, -1.5944985447538833, 1.2968499367294102, -0.6723930339014411, -0.01213068819246885, 0.6227938934447875, 0.5717022548249712, -0.014316792233143808, -1.0732103781329587, -0.8404810595395262, 0.2336645366300528, 0.4237291846096155, 0.5999749812286985, 1.6961952085118364, 1.3471744408747899, -1.715648466013637, 0.4600380064996352, 1.6419150181459605, -0.9271759841966386, -1.2516473416661413, -1.3294348622170946, 0.8959213927790316, -0.27533466214676466, -0.3126409180581469, -0.8317404737419754, 1.5151023043356646, -0.6930803909206489, 1.6523456021129082, 1.578504660014399, -1.1664446833089916, -0.2971964754077405, 0.4233156613856403, 1.0288194448150627, 0.28008396358724136, 0.22395234888135715, -0.3595187644393644, -1.1128104757420167, 0.2108557560623746, 0.1730937703058691, -1.002813095857646, 0.20443542821529617, -0.32360061868395795, -0.0049437503027825675, 0.4926040526827179, -0.5413153600807233, 0.5515721860289516, 0.06040691278399967, -0.5472611575382201, 0.3537214971536513, -1.2925223260945184, 1.145071151118041, 0.8930190003011235, 0.3057895085475132, 0.9317756573748759, -0.8888065487082335, -0.3934432175083188, -0.9939768245988979, 0.3232829919486774, 1.2214603832060258, 1.2765046821598975, -0.1463325608537506, -0.9427533371257731, 1.837623200388388, 1.5274179871015077, -0.0360770137244279, -1.6323538127223398, 2.353835729461377, -0.686303546670052, -0.2992019090265777, 1.5943515851668304, 2.202635036939589, -1.6742492772523072, -0.21031818763509, -0.8942974774765501, -0.31333360209211436, 1.2511633577495769, -0.4532794052811933, -0.6713720923060141, -0.5342440383728624, -0.2513050584914812, -0.3440675829544576, 0.15205058633631194]}, {\"histfunc\": \"count\", \"histnorm\": \"\", \"marker\": {\"color\": \"rgba(50, 171, 96, 1.0)\", \"line\": {\"color\": \"#4D5663\", \"width\": 1.3}}, \"name\": \"C\", \"opacity\": 0.8, \"orientation\": \"v\", \"type\": \"histogram\", \"x\": [0.08354900100561062, -1.1762581996119275, -1.2435112806675224, -1.887059240471436, 0.7006286834815346, -1.9061106352891495, 0.6291674616560248, 1.9220280665934857, -0.786657577449106, 0.21571696956647404, -2.3702209562160577, 1.4736987526697354, 1.9161205056930215, 1.690217786783108, 0.1439954287878712, -1.1242189560113145, 0.6702282899323526, 1.2354219426553452, -0.9041671473751495, 0.5053921303645501, 0.563585753843907, -0.7163857574214749, -0.31684732357771744, -0.6574388083538694, 0.0893833354938422, -0.2826361660677943, -1.9987806201855272, -0.37674863584402596, -1.3060881065004344, -0.3027517335000185, 0.5825576898045317, 0.8336854041069438, -1.370201704557367, -0.9373461444876827, 0.17459245291773834, -0.22463100775576927, 1.0330145021293278, -0.09850966891247348, 0.7241657584014993, 0.955186621118631, 0.30608394582456233, 1.5290937481818527, 1.8098797470602352, 0.8004831296061153, -0.2049005448699173, -2.3947821795849777, -0.07853752764328854, -0.6262274431054563, 0.340714345684504, 2.488129484040648, -0.18717925397624124, 1.7328852501534606, 1.1791971840719817, 0.5486183290215052, -0.5410032152697309, -1.0643380160389941, -0.09407993866674372, 0.9707824657472518, 0.17816660236085075, -0.5634385253507159, -0.23691031630929846, -0.09235744792732545, -1.014727424442866, 1.2769322679573092, 0.39528235325115546, 0.5205175784522462, 1.1273391744260934, -0.5193440530245592, 0.3900684693755273, -0.08611140806629622, 0.15689162023394052, -0.8835587758698809, -0.46014232276791744, 0.14931404219831243, 0.8491332074223944, 0.26582503410631325, -0.683164247655124, 2.614893977763737, -0.010015216452615229, 0.5244924291444624, 0.6261192572466824, 1.1801381930457862, 0.038182877979043586, -1.8737503117824383, -1.3928968411490805, 0.14142517351328868, -1.126885241350718, -0.10089736521314253, -0.9560526698814561, 0.6142824511208461, 0.06367871376318736, 0.8280087228360533, 0.02747396446917433, -1.1406863737395154, -0.6416004832788077, 1.8184649586581034, 1.0195667145616782, 0.7310713563273256, 0.377044567827439, -1.5530084890071545]}, {\"histfunc\": \"count\", \"histnorm\": \"\", \"marker\": {\"color\": \"rgba(128, 0, 128, 1.0)\", \"line\": {\"color\": \"#4D5663\", \"width\": 1.3}}, \"name\": \"D\", \"opacity\": 0.8, \"orientation\": \"v\", \"type\": \"histogram\", \"x\": [1.422135659899816, -1.1498108111912997, 1.0861764712918605, -1.1825999353003134, 0.11291167561684437, -1.0403773845489095, -0.025311303993222997, -0.9472951140262564, -2.085462277032858, 0.009440383763292946, 1.541228845833113, 1.2630573123308124, 0.3384971276271273, 0.5434655243051836, 0.7308717669481943, -0.6242234349148293, 1.0228550323490002, -0.5438852964735581, 2.4160027779367375, 3.272135005557643, -0.3568567890795237, 0.15994644094538, -0.6987012157543981, 1.119745589140762, 1.9851435250178515, 1.1393344005681445, -0.6696083799239421, -1.298623781345975, 0.07535612656465497, 0.12709289220993064, -0.7212795864169899, 0.3952199747769614, 1.1658279999083134, -0.4420981198456275, -0.2745229175409915, 0.89942215949408, 1.118380948719663, 0.3877599766932124, -0.8087028166311288, 1.487499229658045, 1.5519149728740191, 1.3694731873864372, 1.601986147955227, -0.13506288444037565, -1.369375767137172, -0.21817419631025753, -1.0155003638394315, 1.6066215420516388, 0.45389069140254856, 0.6902455540039308, 0.7995790582998156, -2.3599156821347345, 0.5293063314819895, -1.4610251333831956, 1.3026442181984443, -0.8046014329971493, 0.29243953047445476, 0.841577786899802, 0.3065013963290962, 0.3772090998384718, 0.26389718721088246, 1.1213771584945638, -0.0697361329895187, 1.9323489663601012, -0.37382569573594654, -0.14877895184285853, -0.32863546868738913, 1.0510335931310077, 1.547170980473415, 0.05312708727660292, 0.3904807269355301, 0.7833833984916323, -0.9637414518257233, 0.7958980874871708, 1.3480148914094672, 1.4117346038562641, 0.18124988767705952, -0.5430602873278603, -1.5411723805123168, -0.32688513528921603, 0.30380344321727615, -0.16493219681876425, -1.8370869260684919, 0.5594449739751, -2.2846734450711814, -1.7171167755417092, 1.403981871325172, -1.6008085255609552, -0.6031396996916586, 1.2052437927666695, 1.3674086396322755, -1.4283473858637892, -0.6545275752649825, 1.1897801403354284, 0.8072969646783367, 0.9630428264620265, -0.2747773610557366, 0.26035190527981555, 0.44676722055910995, 2.3965236116694966]}],\n",
       "                        {\"barmode\": \"overlay\", \"legend\": {\"bgcolor\": \"#F5F6F9\", \"font\": {\"color\": \"#4D5663\"}}, \"paper_bgcolor\": \"#F5F6F9\", \"plot_bgcolor\": \"#F5F6F9\", \"template\": {\"data\": {\"bar\": [{\"error_x\": {\"color\": \"#2a3f5f\"}, \"error_y\": {\"color\": \"#2a3f5f\"}, \"marker\": {\"line\": {\"color\": \"#E5ECF6\", \"width\": 0.5}}, \"type\": \"bar\"}], \"barpolar\": [{\"marker\": {\"line\": {\"color\": \"#E5ECF6\", \"width\": 0.5}}, \"type\": \"barpolar\"}], \"carpet\": [{\"aaxis\": {\"endlinecolor\": \"#2a3f5f\", \"gridcolor\": \"white\", \"linecolor\": \"white\", \"minorgridcolor\": \"white\", \"startlinecolor\": \"#2a3f5f\"}, \"baxis\": {\"endlinecolor\": \"#2a3f5f\", \"gridcolor\": \"white\", \"linecolor\": \"white\", \"minorgridcolor\": \"white\", \"startlinecolor\": \"#2a3f5f\"}, \"type\": \"carpet\"}], \"choropleth\": [{\"colorbar\": {\"outlinewidth\": 0, \"ticks\": \"\"}, \"type\": \"choropleth\"}], \"contour\": [{\"colorbar\": {\"outlinewidth\": 0, \"ticks\": \"\"}, \"colorscale\": [[0.0, \"#0d0887\"], [0.1111111111111111, \"#46039f\"], [0.2222222222222222, \"#7201a8\"], [0.3333333333333333, \"#9c179e\"], [0.4444444444444444, \"#bd3786\"], [0.5555555555555556, \"#d8576b\"], [0.6666666666666666, \"#ed7953\"], [0.7777777777777778, \"#fb9f3a\"], [0.8888888888888888, \"#fdca26\"], [1.0, \"#f0f921\"]], \"type\": \"contour\"}], \"contourcarpet\": [{\"colorbar\": {\"outlinewidth\": 0, \"ticks\": \"\"}, \"type\": \"contourcarpet\"}], \"heatmap\": [{\"colorbar\": {\"outlinewidth\": 0, \"ticks\": \"\"}, \"colorscale\": [[0.0, \"#0d0887\"], [0.1111111111111111, \"#46039f\"], [0.2222222222222222, \"#7201a8\"], [0.3333333333333333, \"#9c179e\"], [0.4444444444444444, \"#bd3786\"], [0.5555555555555556, \"#d8576b\"], [0.6666666666666666, \"#ed7953\"], [0.7777777777777778, \"#fb9f3a\"], [0.8888888888888888, \"#fdca26\"], [1.0, \"#f0f921\"]], \"type\": \"heatmap\"}], \"heatmapgl\": [{\"colorbar\": {\"outlinewidth\": 0, \"ticks\": \"\"}, \"colorscale\": [[0.0, \"#0d0887\"], [0.1111111111111111, \"#46039f\"], [0.2222222222222222, \"#7201a8\"], [0.3333333333333333, \"#9c179e\"], [0.4444444444444444, \"#bd3786\"], [0.5555555555555556, \"#d8576b\"], [0.6666666666666666, \"#ed7953\"], [0.7777777777777778, \"#fb9f3a\"], [0.8888888888888888, \"#fdca26\"], [1.0, \"#f0f921\"]], \"type\": \"heatmapgl\"}], \"histogram\": [{\"marker\": {\"colorbar\": {\"outlinewidth\": 0, \"ticks\": \"\"}}, \"type\": \"histogram\"}], \"histogram2d\": [{\"colorbar\": {\"outlinewidth\": 0, \"ticks\": \"\"}, \"colorscale\": [[0.0, \"#0d0887\"], [0.1111111111111111, \"#46039f\"], [0.2222222222222222, \"#7201a8\"], [0.3333333333333333, \"#9c179e\"], [0.4444444444444444, \"#bd3786\"], [0.5555555555555556, \"#d8576b\"], [0.6666666666666666, \"#ed7953\"], [0.7777777777777778, \"#fb9f3a\"], [0.8888888888888888, \"#fdca26\"], [1.0, \"#f0f921\"]], \"type\": \"histogram2d\"}], \"histogram2dcontour\": [{\"colorbar\": {\"outlinewidth\": 0, \"ticks\": \"\"}, \"colorscale\": [[0.0, \"#0d0887\"], [0.1111111111111111, \"#46039f\"], [0.2222222222222222, \"#7201a8\"], [0.3333333333333333, \"#9c179e\"], [0.4444444444444444, \"#bd3786\"], [0.5555555555555556, \"#d8576b\"], [0.6666666666666666, \"#ed7953\"], [0.7777777777777778, \"#fb9f3a\"], [0.8888888888888888, \"#fdca26\"], [1.0, \"#f0f921\"]], \"type\": \"histogram2dcontour\"}], \"mesh3d\": [{\"colorbar\": {\"outlinewidth\": 0, \"ticks\": \"\"}, \"type\": \"mesh3d\"}], \"parcoords\": [{\"line\": {\"colorbar\": {\"outlinewidth\": 0, \"ticks\": \"\"}}, \"type\": \"parcoords\"}], \"pie\": [{\"automargin\": true, \"type\": \"pie\"}], \"scatter\": [{\"marker\": {\"colorbar\": {\"outlinewidth\": 0, \"ticks\": \"\"}}, \"type\": \"scatter\"}], \"scatter3d\": [{\"line\": {\"colorbar\": {\"outlinewidth\": 0, \"ticks\": \"\"}}, \"marker\": {\"colorbar\": {\"outlinewidth\": 0, \"ticks\": \"\"}}, \"type\": \"scatter3d\"}], \"scattercarpet\": [{\"marker\": {\"colorbar\": {\"outlinewidth\": 0, \"ticks\": \"\"}}, \"type\": \"scattercarpet\"}], \"scattergeo\": [{\"marker\": {\"colorbar\": {\"outlinewidth\": 0, \"ticks\": \"\"}}, \"type\": \"scattergeo\"}], \"scattergl\": [{\"marker\": {\"colorbar\": {\"outlinewidth\": 0, \"ticks\": \"\"}}, \"type\": \"scattergl\"}], \"scattermapbox\": [{\"marker\": {\"colorbar\": {\"outlinewidth\": 0, \"ticks\": \"\"}}, \"type\": \"scattermapbox\"}], \"scatterpolar\": [{\"marker\": {\"colorbar\": {\"outlinewidth\": 0, \"ticks\": \"\"}}, \"type\": \"scatterpolar\"}], \"scatterpolargl\": [{\"marker\": {\"colorbar\": {\"outlinewidth\": 0, \"ticks\": \"\"}}, \"type\": \"scatterpolargl\"}], \"scatterternary\": [{\"marker\": {\"colorbar\": {\"outlinewidth\": 0, \"ticks\": \"\"}}, \"type\": \"scatterternary\"}], \"surface\": [{\"colorbar\": {\"outlinewidth\": 0, \"ticks\": \"\"}, \"colorscale\": [[0.0, \"#0d0887\"], [0.1111111111111111, \"#46039f\"], [0.2222222222222222, \"#7201a8\"], [0.3333333333333333, \"#9c179e\"], [0.4444444444444444, \"#bd3786\"], [0.5555555555555556, \"#d8576b\"], [0.6666666666666666, \"#ed7953\"], [0.7777777777777778, \"#fb9f3a\"], [0.8888888888888888, \"#fdca26\"], [1.0, \"#f0f921\"]], \"type\": \"surface\"}], \"table\": [{\"cells\": {\"fill\": {\"color\": \"#EBF0F8\"}, \"line\": {\"color\": \"white\"}}, \"header\": {\"fill\": {\"color\": \"#C8D4E3\"}, \"line\": {\"color\": \"white\"}}, \"type\": \"table\"}]}, \"layout\": {\"annotationdefaults\": {\"arrowcolor\": \"#2a3f5f\", \"arrowhead\": 0, \"arrowwidth\": 1}, \"coloraxis\": {\"colorbar\": {\"outlinewidth\": 0, \"ticks\": \"\"}}, \"colorscale\": {\"diverging\": [[0, \"#8e0152\"], [0.1, \"#c51b7d\"], [0.2, \"#de77ae\"], [0.3, \"#f1b6da\"], [0.4, \"#fde0ef\"], [0.5, \"#f7f7f7\"], [0.6, \"#e6f5d0\"], [0.7, \"#b8e186\"], [0.8, \"#7fbc41\"], [0.9, \"#4d9221\"], [1, \"#276419\"]], \"sequential\": [[0.0, \"#0d0887\"], [0.1111111111111111, \"#46039f\"], [0.2222222222222222, \"#7201a8\"], [0.3333333333333333, \"#9c179e\"], [0.4444444444444444, \"#bd3786\"], [0.5555555555555556, \"#d8576b\"], [0.6666666666666666, \"#ed7953\"], [0.7777777777777778, \"#fb9f3a\"], [0.8888888888888888, \"#fdca26\"], [1.0, \"#f0f921\"]], \"sequentialminus\": [[0.0, \"#0d0887\"], [0.1111111111111111, \"#46039f\"], [0.2222222222222222, \"#7201a8\"], [0.3333333333333333, \"#9c179e\"], [0.4444444444444444, \"#bd3786\"], [0.5555555555555556, \"#d8576b\"], [0.6666666666666666, \"#ed7953\"], [0.7777777777777778, \"#fb9f3a\"], [0.8888888888888888, \"#fdca26\"], [1.0, \"#f0f921\"]]}, \"colorway\": [\"#636efa\", \"#EF553B\", \"#00cc96\", \"#ab63fa\", \"#FFA15A\", \"#19d3f3\", \"#FF6692\", \"#B6E880\", \"#FF97FF\", \"#FECB52\"], \"font\": {\"color\": \"#2a3f5f\"}, \"geo\": {\"bgcolor\": \"white\", \"lakecolor\": \"white\", \"landcolor\": \"#E5ECF6\", \"showlakes\": true, \"showland\": true, \"subunitcolor\": \"white\"}, \"hoverlabel\": {\"align\": \"left\"}, \"hovermode\": \"closest\", \"mapbox\": {\"style\": \"light\"}, \"paper_bgcolor\": \"white\", \"plot_bgcolor\": \"#E5ECF6\", \"polar\": {\"angularaxis\": {\"gridcolor\": \"white\", \"linecolor\": \"white\", \"ticks\": \"\"}, \"bgcolor\": \"#E5ECF6\", \"radialaxis\": {\"gridcolor\": \"white\", \"linecolor\": \"white\", \"ticks\": \"\"}}, \"scene\": {\"xaxis\": {\"backgroundcolor\": \"#E5ECF6\", \"gridcolor\": \"white\", \"gridwidth\": 2, \"linecolor\": \"white\", \"showbackground\": true, \"ticks\": \"\", \"zerolinecolor\": \"white\"}, \"yaxis\": {\"backgroundcolor\": \"#E5ECF6\", \"gridcolor\": \"white\", \"gridwidth\": 2, \"linecolor\": \"white\", \"showbackground\": true, \"ticks\": \"\", \"zerolinecolor\": \"white\"}, \"zaxis\": {\"backgroundcolor\": \"#E5ECF6\", \"gridcolor\": \"white\", \"gridwidth\": 2, \"linecolor\": \"white\", \"showbackground\": true, \"ticks\": \"\", \"zerolinecolor\": \"white\"}}, \"shapedefaults\": {\"line\": {\"color\": \"#2a3f5f\"}}, \"ternary\": {\"aaxis\": {\"gridcolor\": \"white\", \"linecolor\": \"white\", \"ticks\": \"\"}, \"baxis\": {\"gridcolor\": \"white\", \"linecolor\": \"white\", \"ticks\": \"\"}, \"bgcolor\": \"#E5ECF6\", \"caxis\": {\"gridcolor\": \"white\", \"linecolor\": \"white\", \"ticks\": \"\"}}, \"title\": {\"x\": 0.05}, \"xaxis\": {\"automargin\": true, \"gridcolor\": \"white\", \"linecolor\": \"white\", \"ticks\": \"\", \"title\": {\"standoff\": 15}, \"zerolinecolor\": \"white\", \"zerolinewidth\": 2}, \"yaxis\": {\"automargin\": true, \"gridcolor\": \"white\", \"linecolor\": \"white\", \"ticks\": \"\", \"title\": {\"standoff\": 15}, \"zerolinecolor\": \"white\", \"zerolinewidth\": 2}}}, \"title\": {\"font\": {\"color\": \"#4D5663\"}}, \"xaxis\": {\"gridcolor\": \"#E1E5ED\", \"showgrid\": true, \"tickfont\": {\"color\": \"#4D5663\"}, \"title\": {\"font\": {\"color\": \"#4D5663\"}, \"text\": \"\"}, \"zerolinecolor\": \"#E1E5ED\"}, \"yaxis\": {\"gridcolor\": \"#E1E5ED\", \"showgrid\": true, \"tickfont\": {\"color\": \"#4D5663\"}, \"title\": {\"font\": {\"color\": \"#4D5663\"}, \"text\": \"\"}, \"zerolinecolor\": \"#E1E5ED\"}},\n",
       "                        {\"showLink\": true, \"linkText\": \"Export to plot.ly\", \"plotlyServerURL\": \"https://plot.ly\", \"responsive\": true}\n",
       "                    ).then(function(){\n",
       "                            \n",
       "var gd = document.getElementById('34fb3a46-9cef-4747-a485-f146673dc0aa');\n",
       "var x = new MutationObserver(function (mutations, observer) {{\n",
       "        var display = window.getComputedStyle(gd).display;\n",
       "        if (!display || display === 'none') {{\n",
       "            console.log([gd, 'removed!']);\n",
       "            Plotly.purge(gd);\n",
       "            observer.disconnect();\n",
       "        }}\n",
       "}});\n",
       "\n",
       "// Listen for the removal of the full notebook cells\n",
       "var notebookContainer = gd.closest('#notebook-container');\n",
       "if (notebookContainer) {{\n",
       "    x.observe(notebookContainer, {childList: true});\n",
       "}}\n",
       "\n",
       "// Listen for the clearing of the current output cell\n",
       "var outputEl = gd.closest('.output');\n",
       "if (outputEl) {{\n",
       "    x.observe(outputEl, {childList: true});\n",
       "}}\n",
       "\n",
       "                        })\n",
       "                };\n",
       "                });\n",
       "            </script>\n",
       "        </div>"
      ]
     },
     "metadata": {},
     "output_type": "display_data"
    }
   ],
   "source": [
    "# This is the histogram of my df1\n",
    "df1.iplot(kind='hist')"
   ]
  },
  {
   "cell_type": "code",
   "execution_count": 30,
   "metadata": {},
   "outputs": [],
   "source": [
    "# Now, let's create another DataFrame and name it df3\n",
    "df3 = pd.DataFrame({'x':[1,2,3,4,5],'y':[10,20,30,20,10],'z':[5,4,3,2,1]})"
   ]
  },
  {
   "cell_type": "code",
   "execution_count": 31,
   "metadata": {},
   "outputs": [
    {
     "data": {
      "text/html": [
       "<div>\n",
       "<style scoped>\n",
       "    .dataframe tbody tr th:only-of-type {\n",
       "        vertical-align: middle;\n",
       "    }\n",
       "\n",
       "    .dataframe tbody tr th {\n",
       "        vertical-align: top;\n",
       "    }\n",
       "\n",
       "    .dataframe thead th {\n",
       "        text-align: right;\n",
       "    }\n",
       "</style>\n",
       "<table border=\"1\" class=\"dataframe\">\n",
       "  <thead>\n",
       "    <tr style=\"text-align: right;\">\n",
       "      <th></th>\n",
       "      <th>x</th>\n",
       "      <th>y</th>\n",
       "      <th>z</th>\n",
       "    </tr>\n",
       "  </thead>\n",
       "  <tbody>\n",
       "    <tr>\n",
       "      <th>0</th>\n",
       "      <td>1</td>\n",
       "      <td>10</td>\n",
       "      <td>5</td>\n",
       "    </tr>\n",
       "    <tr>\n",
       "      <th>1</th>\n",
       "      <td>2</td>\n",
       "      <td>20</td>\n",
       "      <td>4</td>\n",
       "    </tr>\n",
       "    <tr>\n",
       "      <th>2</th>\n",
       "      <td>3</td>\n",
       "      <td>30</td>\n",
       "      <td>3</td>\n",
       "    </tr>\n",
       "    <tr>\n",
       "      <th>3</th>\n",
       "      <td>4</td>\n",
       "      <td>20</td>\n",
       "      <td>2</td>\n",
       "    </tr>\n",
       "    <tr>\n",
       "      <th>4</th>\n",
       "      <td>5</td>\n",
       "      <td>10</td>\n",
       "      <td>1</td>\n",
       "    </tr>\n",
       "  </tbody>\n",
       "</table>\n",
       "</div>"
      ],
      "text/plain": [
       "   x   y  z\n",
       "0  1  10  5\n",
       "1  2  20  4\n",
       "2  3  30  3\n",
       "3  4  20  2\n",
       "4  5  10  1"
      ]
     },
     "execution_count": 31,
     "metadata": {},
     "output_type": "execute_result"
    }
   ],
   "source": [
    "# Check it\n",
    "df3"
   ]
  },
  {
   "cell_type": "code",
   "execution_count": 32,
   "metadata": {},
   "outputs": [
    {
     "data": {
      "application/vnd.plotly.v1+json": {
       "config": {
        "linkText": "Export to plot.ly",
        "plotlyServerURL": "https://plot.ly",
        "showLink": true
       },
       "data": [
        {
         "colorscale": [
          [
           0,
           "rgb(255,255,204)"
          ],
          [
           0.125,
           "rgb(255,237,160)"
          ],
          [
           0.25,
           "rgb(254,217,118)"
          ],
          [
           0.375,
           "rgb(254,178,76)"
          ],
          [
           0.5,
           "rgb(253,141,60)"
          ],
          [
           0.625,
           "rgb(252,78,42)"
          ],
          [
           0.75,
           "rgb(227,26,28)"
          ],
          [
           0.875,
           "rgb(189,0,38)"
          ],
          [
           1,
           "rgb(128,0,38)"
          ]
         ],
         "type": "surface",
         "x": [
          0,
          1,
          2,
          3,
          4
         ],
         "y": [
          "x",
          "y",
          "z"
         ],
         "z": [
          [
           1,
           2,
           3,
           4,
           5
          ],
          [
           10,
           20,
           30,
           20,
           10
          ],
          [
           5,
           4,
           3,
           2,
           1
          ]
         ]
        }
       ],
       "layout": {
        "legend": {
         "bgcolor": "#F5F6F9",
         "font": {
          "color": "#4D5663"
         }
        },
        "paper_bgcolor": "#F5F6F9",
        "plot_bgcolor": "#F5F6F9",
        "template": {
         "data": {
          "bar": [
           {
            "error_x": {
             "color": "#2a3f5f"
            },
            "error_y": {
             "color": "#2a3f5f"
            },
            "marker": {
             "line": {
              "color": "#E5ECF6",
              "width": 0.5
             }
            },
            "type": "bar"
           }
          ],
          "barpolar": [
           {
            "marker": {
             "line": {
              "color": "#E5ECF6",
              "width": 0.5
             }
            },
            "type": "barpolar"
           }
          ],
          "carpet": [
           {
            "aaxis": {
             "endlinecolor": "#2a3f5f",
             "gridcolor": "white",
             "linecolor": "white",
             "minorgridcolor": "white",
             "startlinecolor": "#2a3f5f"
            },
            "baxis": {
             "endlinecolor": "#2a3f5f",
             "gridcolor": "white",
             "linecolor": "white",
             "minorgridcolor": "white",
             "startlinecolor": "#2a3f5f"
            },
            "type": "carpet"
           }
          ],
          "choropleth": [
           {
            "colorbar": {
             "outlinewidth": 0,
             "ticks": ""
            },
            "type": "choropleth"
           }
          ],
          "contour": [
           {
            "colorbar": {
             "outlinewidth": 0,
             "ticks": ""
            },
            "colorscale": [
             [
              0,
              "#0d0887"
             ],
             [
              0.1111111111111111,
              "#46039f"
             ],
             [
              0.2222222222222222,
              "#7201a8"
             ],
             [
              0.3333333333333333,
              "#9c179e"
             ],
             [
              0.4444444444444444,
              "#bd3786"
             ],
             [
              0.5555555555555556,
              "#d8576b"
             ],
             [
              0.6666666666666666,
              "#ed7953"
             ],
             [
              0.7777777777777778,
              "#fb9f3a"
             ],
             [
              0.8888888888888888,
              "#fdca26"
             ],
             [
              1,
              "#f0f921"
             ]
            ],
            "type": "contour"
           }
          ],
          "contourcarpet": [
           {
            "colorbar": {
             "outlinewidth": 0,
             "ticks": ""
            },
            "type": "contourcarpet"
           }
          ],
          "heatmap": [
           {
            "colorbar": {
             "outlinewidth": 0,
             "ticks": ""
            },
            "colorscale": [
             [
              0,
              "#0d0887"
             ],
             [
              0.1111111111111111,
              "#46039f"
             ],
             [
              0.2222222222222222,
              "#7201a8"
             ],
             [
              0.3333333333333333,
              "#9c179e"
             ],
             [
              0.4444444444444444,
              "#bd3786"
             ],
             [
              0.5555555555555556,
              "#d8576b"
             ],
             [
              0.6666666666666666,
              "#ed7953"
             ],
             [
              0.7777777777777778,
              "#fb9f3a"
             ],
             [
              0.8888888888888888,
              "#fdca26"
             ],
             [
              1,
              "#f0f921"
             ]
            ],
            "type": "heatmap"
           }
          ],
          "heatmapgl": [
           {
            "colorbar": {
             "outlinewidth": 0,
             "ticks": ""
            },
            "colorscale": [
             [
              0,
              "#0d0887"
             ],
             [
              0.1111111111111111,
              "#46039f"
             ],
             [
              0.2222222222222222,
              "#7201a8"
             ],
             [
              0.3333333333333333,
              "#9c179e"
             ],
             [
              0.4444444444444444,
              "#bd3786"
             ],
             [
              0.5555555555555556,
              "#d8576b"
             ],
             [
              0.6666666666666666,
              "#ed7953"
             ],
             [
              0.7777777777777778,
              "#fb9f3a"
             ],
             [
              0.8888888888888888,
              "#fdca26"
             ],
             [
              1,
              "#f0f921"
             ]
            ],
            "type": "heatmapgl"
           }
          ],
          "histogram": [
           {
            "marker": {
             "colorbar": {
              "outlinewidth": 0,
              "ticks": ""
             }
            },
            "type": "histogram"
           }
          ],
          "histogram2d": [
           {
            "colorbar": {
             "outlinewidth": 0,
             "ticks": ""
            },
            "colorscale": [
             [
              0,
              "#0d0887"
             ],
             [
              0.1111111111111111,
              "#46039f"
             ],
             [
              0.2222222222222222,
              "#7201a8"
             ],
             [
              0.3333333333333333,
              "#9c179e"
             ],
             [
              0.4444444444444444,
              "#bd3786"
             ],
             [
              0.5555555555555556,
              "#d8576b"
             ],
             [
              0.6666666666666666,
              "#ed7953"
             ],
             [
              0.7777777777777778,
              "#fb9f3a"
             ],
             [
              0.8888888888888888,
              "#fdca26"
             ],
             [
              1,
              "#f0f921"
             ]
            ],
            "type": "histogram2d"
           }
          ],
          "histogram2dcontour": [
           {
            "colorbar": {
             "outlinewidth": 0,
             "ticks": ""
            },
            "colorscale": [
             [
              0,
              "#0d0887"
             ],
             [
              0.1111111111111111,
              "#46039f"
             ],
             [
              0.2222222222222222,
              "#7201a8"
             ],
             [
              0.3333333333333333,
              "#9c179e"
             ],
             [
              0.4444444444444444,
              "#bd3786"
             ],
             [
              0.5555555555555556,
              "#d8576b"
             ],
             [
              0.6666666666666666,
              "#ed7953"
             ],
             [
              0.7777777777777778,
              "#fb9f3a"
             ],
             [
              0.8888888888888888,
              "#fdca26"
             ],
             [
              1,
              "#f0f921"
             ]
            ],
            "type": "histogram2dcontour"
           }
          ],
          "mesh3d": [
           {
            "colorbar": {
             "outlinewidth": 0,
             "ticks": ""
            },
            "type": "mesh3d"
           }
          ],
          "parcoords": [
           {
            "line": {
             "colorbar": {
              "outlinewidth": 0,
              "ticks": ""
             }
            },
            "type": "parcoords"
           }
          ],
          "pie": [
           {
            "automargin": true,
            "type": "pie"
           }
          ],
          "scatter": [
           {
            "marker": {
             "colorbar": {
              "outlinewidth": 0,
              "ticks": ""
             }
            },
            "type": "scatter"
           }
          ],
          "scatter3d": [
           {
            "line": {
             "colorbar": {
              "outlinewidth": 0,
              "ticks": ""
             }
            },
            "marker": {
             "colorbar": {
              "outlinewidth": 0,
              "ticks": ""
             }
            },
            "type": "scatter3d"
           }
          ],
          "scattercarpet": [
           {
            "marker": {
             "colorbar": {
              "outlinewidth": 0,
              "ticks": ""
             }
            },
            "type": "scattercarpet"
           }
          ],
          "scattergeo": [
           {
            "marker": {
             "colorbar": {
              "outlinewidth": 0,
              "ticks": ""
             }
            },
            "type": "scattergeo"
           }
          ],
          "scattergl": [
           {
            "marker": {
             "colorbar": {
              "outlinewidth": 0,
              "ticks": ""
             }
            },
            "type": "scattergl"
           }
          ],
          "scattermapbox": [
           {
            "marker": {
             "colorbar": {
              "outlinewidth": 0,
              "ticks": ""
             }
            },
            "type": "scattermapbox"
           }
          ],
          "scatterpolar": [
           {
            "marker": {
             "colorbar": {
              "outlinewidth": 0,
              "ticks": ""
             }
            },
            "type": "scatterpolar"
           }
          ],
          "scatterpolargl": [
           {
            "marker": {
             "colorbar": {
              "outlinewidth": 0,
              "ticks": ""
             }
            },
            "type": "scatterpolargl"
           }
          ],
          "scatterternary": [
           {
            "marker": {
             "colorbar": {
              "outlinewidth": 0,
              "ticks": ""
             }
            },
            "type": "scatterternary"
           }
          ],
          "surface": [
           {
            "colorbar": {
             "outlinewidth": 0,
             "ticks": ""
            },
            "colorscale": [
             [
              0,
              "#0d0887"
             ],
             [
              0.1111111111111111,
              "#46039f"
             ],
             [
              0.2222222222222222,
              "#7201a8"
             ],
             [
              0.3333333333333333,
              "#9c179e"
             ],
             [
              0.4444444444444444,
              "#bd3786"
             ],
             [
              0.5555555555555556,
              "#d8576b"
             ],
             [
              0.6666666666666666,
              "#ed7953"
             ],
             [
              0.7777777777777778,
              "#fb9f3a"
             ],
             [
              0.8888888888888888,
              "#fdca26"
             ],
             [
              1,
              "#f0f921"
             ]
            ],
            "type": "surface"
           }
          ],
          "table": [
           {
            "cells": {
             "fill": {
              "color": "#EBF0F8"
             },
             "line": {
              "color": "white"
             }
            },
            "header": {
             "fill": {
              "color": "#C8D4E3"
             },
             "line": {
              "color": "white"
             }
            },
            "type": "table"
           }
          ]
         },
         "layout": {
          "annotationdefaults": {
           "arrowcolor": "#2a3f5f",
           "arrowhead": 0,
           "arrowwidth": 1
          },
          "coloraxis": {
           "colorbar": {
            "outlinewidth": 0,
            "ticks": ""
           }
          },
          "colorscale": {
           "diverging": [
            [
             0,
             "#8e0152"
            ],
            [
             0.1,
             "#c51b7d"
            ],
            [
             0.2,
             "#de77ae"
            ],
            [
             0.3,
             "#f1b6da"
            ],
            [
             0.4,
             "#fde0ef"
            ],
            [
             0.5,
             "#f7f7f7"
            ],
            [
             0.6,
             "#e6f5d0"
            ],
            [
             0.7,
             "#b8e186"
            ],
            [
             0.8,
             "#7fbc41"
            ],
            [
             0.9,
             "#4d9221"
            ],
            [
             1,
             "#276419"
            ]
           ],
           "sequential": [
            [
             0,
             "#0d0887"
            ],
            [
             0.1111111111111111,
             "#46039f"
            ],
            [
             0.2222222222222222,
             "#7201a8"
            ],
            [
             0.3333333333333333,
             "#9c179e"
            ],
            [
             0.4444444444444444,
             "#bd3786"
            ],
            [
             0.5555555555555556,
             "#d8576b"
            ],
            [
             0.6666666666666666,
             "#ed7953"
            ],
            [
             0.7777777777777778,
             "#fb9f3a"
            ],
            [
             0.8888888888888888,
             "#fdca26"
            ],
            [
             1,
             "#f0f921"
            ]
           ],
           "sequentialminus": [
            [
             0,
             "#0d0887"
            ],
            [
             0.1111111111111111,
             "#46039f"
            ],
            [
             0.2222222222222222,
             "#7201a8"
            ],
            [
             0.3333333333333333,
             "#9c179e"
            ],
            [
             0.4444444444444444,
             "#bd3786"
            ],
            [
             0.5555555555555556,
             "#d8576b"
            ],
            [
             0.6666666666666666,
             "#ed7953"
            ],
            [
             0.7777777777777778,
             "#fb9f3a"
            ],
            [
             0.8888888888888888,
             "#fdca26"
            ],
            [
             1,
             "#f0f921"
            ]
           ]
          },
          "colorway": [
           "#636efa",
           "#EF553B",
           "#00cc96",
           "#ab63fa",
           "#FFA15A",
           "#19d3f3",
           "#FF6692",
           "#B6E880",
           "#FF97FF",
           "#FECB52"
          ],
          "font": {
           "color": "#2a3f5f"
          },
          "geo": {
           "bgcolor": "white",
           "lakecolor": "white",
           "landcolor": "#E5ECF6",
           "showlakes": true,
           "showland": true,
           "subunitcolor": "white"
          },
          "hoverlabel": {
           "align": "left"
          },
          "hovermode": "closest",
          "mapbox": {
           "style": "light"
          },
          "paper_bgcolor": "white",
          "plot_bgcolor": "#E5ECF6",
          "polar": {
           "angularaxis": {
            "gridcolor": "white",
            "linecolor": "white",
            "ticks": ""
           },
           "bgcolor": "#E5ECF6",
           "radialaxis": {
            "gridcolor": "white",
            "linecolor": "white",
            "ticks": ""
           }
          },
          "scene": {
           "xaxis": {
            "backgroundcolor": "#E5ECF6",
            "gridcolor": "white",
            "gridwidth": 2,
            "linecolor": "white",
            "showbackground": true,
            "ticks": "",
            "zerolinecolor": "white"
           },
           "yaxis": {
            "backgroundcolor": "#E5ECF6",
            "gridcolor": "white",
            "gridwidth": 2,
            "linecolor": "white",
            "showbackground": true,
            "ticks": "",
            "zerolinecolor": "white"
           },
           "zaxis": {
            "backgroundcolor": "#E5ECF6",
            "gridcolor": "white",
            "gridwidth": 2,
            "linecolor": "white",
            "showbackground": true,
            "ticks": "",
            "zerolinecolor": "white"
           }
          },
          "shapedefaults": {
           "line": {
            "color": "#2a3f5f"
           }
          },
          "ternary": {
           "aaxis": {
            "gridcolor": "white",
            "linecolor": "white",
            "ticks": ""
           },
           "baxis": {
            "gridcolor": "white",
            "linecolor": "white",
            "ticks": ""
           },
           "bgcolor": "#E5ECF6",
           "caxis": {
            "gridcolor": "white",
            "linecolor": "white",
            "ticks": ""
           }
          },
          "title": {
           "x": 0.05
          },
          "xaxis": {
           "automargin": true,
           "gridcolor": "white",
           "linecolor": "white",
           "ticks": "",
           "title": {
            "standoff": 15
           },
           "zerolinecolor": "white",
           "zerolinewidth": 2
          },
          "yaxis": {
           "automargin": true,
           "gridcolor": "white",
           "linecolor": "white",
           "ticks": "",
           "title": {
            "standoff": 15
           },
           "zerolinecolor": "white",
           "zerolinewidth": 2
          }
         }
        },
        "title": {
         "font": {
          "color": "#4D5663"
         }
        },
        "xaxis": {
         "gridcolor": "#E1E5ED",
         "showgrid": true,
         "tickfont": {
          "color": "#4D5663"
         },
         "title": {
          "font": {
           "color": "#4D5663"
          },
          "text": ""
         },
         "zerolinecolor": "#E1E5ED"
        },
        "yaxis": {
         "gridcolor": "#E1E5ED",
         "showgrid": true,
         "tickfont": {
          "color": "#4D5663"
         },
         "title": {
          "font": {
           "color": "#4D5663"
          },
          "text": ""
         },
         "zerolinecolor": "#E1E5ED"
        }
       }
      },
      "text/html": [
       "<div>\n",
       "        \n",
       "        \n",
       "            <div id=\"d088ef5f-29fd-4e91-a615-76a8e2c57836\" class=\"plotly-graph-div\" style=\"height:525px; width:100%;\"></div>\n",
       "            <script type=\"text/javascript\">\n",
       "                require([\"plotly\"], function(Plotly) {\n",
       "                    window.PLOTLYENV=window.PLOTLYENV || {};\n",
       "                    window.PLOTLYENV.BASE_URL='https://plot.ly';\n",
       "                    \n",
       "                if (document.getElementById(\"d088ef5f-29fd-4e91-a615-76a8e2c57836\")) {\n",
       "                    Plotly.newPlot(\n",
       "                        'd088ef5f-29fd-4e91-a615-76a8e2c57836',\n",
       "                        [{\"colorscale\": [[0.0, \"rgb(255,255,204)\"], [0.125, \"rgb(255,237,160)\"], [0.25, \"rgb(254,217,118)\"], [0.375, \"rgb(254,178,76)\"], [0.5, \"rgb(253,141,60)\"], [0.625, \"rgb(252,78,42)\"], [0.75, \"rgb(227,26,28)\"], [0.875, \"rgb(189,0,38)\"], [1.0, \"rgb(128,0,38)\"]], \"type\": \"surface\", \"x\": [0, 1, 2, 3, 4], \"y\": [\"x\", \"y\", \"z\"], \"z\": [[1, 2, 3, 4, 5], [10, 20, 30, 20, 10], [5, 4, 3, 2, 1]]}],\n",
       "                        {\"legend\": {\"bgcolor\": \"#F5F6F9\", \"font\": {\"color\": \"#4D5663\"}}, \"paper_bgcolor\": \"#F5F6F9\", \"plot_bgcolor\": \"#F5F6F9\", \"template\": {\"data\": {\"bar\": [{\"error_x\": {\"color\": \"#2a3f5f\"}, \"error_y\": {\"color\": \"#2a3f5f\"}, \"marker\": {\"line\": {\"color\": \"#E5ECF6\", \"width\": 0.5}}, \"type\": \"bar\"}], \"barpolar\": [{\"marker\": {\"line\": {\"color\": \"#E5ECF6\", \"width\": 0.5}}, \"type\": \"barpolar\"}], \"carpet\": [{\"aaxis\": {\"endlinecolor\": \"#2a3f5f\", \"gridcolor\": \"white\", \"linecolor\": \"white\", \"minorgridcolor\": \"white\", \"startlinecolor\": \"#2a3f5f\"}, \"baxis\": {\"endlinecolor\": \"#2a3f5f\", \"gridcolor\": \"white\", \"linecolor\": \"white\", \"minorgridcolor\": \"white\", \"startlinecolor\": \"#2a3f5f\"}, \"type\": \"carpet\"}], \"choropleth\": [{\"colorbar\": {\"outlinewidth\": 0, \"ticks\": \"\"}, \"type\": \"choropleth\"}], \"contour\": [{\"colorbar\": {\"outlinewidth\": 0, \"ticks\": \"\"}, \"colorscale\": [[0.0, \"#0d0887\"], [0.1111111111111111, \"#46039f\"], [0.2222222222222222, \"#7201a8\"], [0.3333333333333333, \"#9c179e\"], [0.4444444444444444, \"#bd3786\"], [0.5555555555555556, \"#d8576b\"], [0.6666666666666666, \"#ed7953\"], [0.7777777777777778, \"#fb9f3a\"], [0.8888888888888888, \"#fdca26\"], [1.0, \"#f0f921\"]], \"type\": \"contour\"}], \"contourcarpet\": [{\"colorbar\": {\"outlinewidth\": 0, \"ticks\": \"\"}, \"type\": \"contourcarpet\"}], \"heatmap\": [{\"colorbar\": {\"outlinewidth\": 0, \"ticks\": \"\"}, \"colorscale\": [[0.0, \"#0d0887\"], [0.1111111111111111, \"#46039f\"], [0.2222222222222222, \"#7201a8\"], [0.3333333333333333, \"#9c179e\"], [0.4444444444444444, \"#bd3786\"], [0.5555555555555556, \"#d8576b\"], [0.6666666666666666, \"#ed7953\"], [0.7777777777777778, \"#fb9f3a\"], [0.8888888888888888, \"#fdca26\"], [1.0, \"#f0f921\"]], \"type\": \"heatmap\"}], \"heatmapgl\": [{\"colorbar\": {\"outlinewidth\": 0, \"ticks\": \"\"}, \"colorscale\": [[0.0, \"#0d0887\"], [0.1111111111111111, \"#46039f\"], [0.2222222222222222, \"#7201a8\"], [0.3333333333333333, \"#9c179e\"], [0.4444444444444444, \"#bd3786\"], [0.5555555555555556, \"#d8576b\"], [0.6666666666666666, \"#ed7953\"], [0.7777777777777778, \"#fb9f3a\"], [0.8888888888888888, \"#fdca26\"], [1.0, \"#f0f921\"]], \"type\": \"heatmapgl\"}], \"histogram\": [{\"marker\": {\"colorbar\": {\"outlinewidth\": 0, \"ticks\": \"\"}}, \"type\": \"histogram\"}], \"histogram2d\": [{\"colorbar\": {\"outlinewidth\": 0, \"ticks\": \"\"}, \"colorscale\": [[0.0, \"#0d0887\"], [0.1111111111111111, \"#46039f\"], [0.2222222222222222, \"#7201a8\"], [0.3333333333333333, \"#9c179e\"], [0.4444444444444444, \"#bd3786\"], [0.5555555555555556, \"#d8576b\"], [0.6666666666666666, \"#ed7953\"], [0.7777777777777778, \"#fb9f3a\"], [0.8888888888888888, \"#fdca26\"], [1.0, \"#f0f921\"]], \"type\": \"histogram2d\"}], \"histogram2dcontour\": [{\"colorbar\": {\"outlinewidth\": 0, \"ticks\": \"\"}, \"colorscale\": [[0.0, \"#0d0887\"], [0.1111111111111111, \"#46039f\"], [0.2222222222222222, \"#7201a8\"], [0.3333333333333333, \"#9c179e\"], [0.4444444444444444, \"#bd3786\"], [0.5555555555555556, \"#d8576b\"], [0.6666666666666666, \"#ed7953\"], [0.7777777777777778, \"#fb9f3a\"], [0.8888888888888888, \"#fdca26\"], [1.0, \"#f0f921\"]], \"type\": \"histogram2dcontour\"}], \"mesh3d\": [{\"colorbar\": {\"outlinewidth\": 0, \"ticks\": \"\"}, \"type\": \"mesh3d\"}], \"parcoords\": [{\"line\": {\"colorbar\": {\"outlinewidth\": 0, \"ticks\": \"\"}}, \"type\": \"parcoords\"}], \"pie\": [{\"automargin\": true, \"type\": \"pie\"}], \"scatter\": [{\"marker\": {\"colorbar\": {\"outlinewidth\": 0, \"ticks\": \"\"}}, \"type\": \"scatter\"}], \"scatter3d\": [{\"line\": {\"colorbar\": {\"outlinewidth\": 0, \"ticks\": \"\"}}, \"marker\": {\"colorbar\": {\"outlinewidth\": 0, \"ticks\": \"\"}}, \"type\": \"scatter3d\"}], \"scattercarpet\": [{\"marker\": {\"colorbar\": {\"outlinewidth\": 0, \"ticks\": \"\"}}, \"type\": \"scattercarpet\"}], \"scattergeo\": [{\"marker\": {\"colorbar\": {\"outlinewidth\": 0, \"ticks\": \"\"}}, \"type\": \"scattergeo\"}], \"scattergl\": [{\"marker\": {\"colorbar\": {\"outlinewidth\": 0, \"ticks\": \"\"}}, \"type\": \"scattergl\"}], \"scattermapbox\": [{\"marker\": {\"colorbar\": {\"outlinewidth\": 0, \"ticks\": \"\"}}, \"type\": \"scattermapbox\"}], \"scatterpolar\": [{\"marker\": {\"colorbar\": {\"outlinewidth\": 0, \"ticks\": \"\"}}, \"type\": \"scatterpolar\"}], \"scatterpolargl\": [{\"marker\": {\"colorbar\": {\"outlinewidth\": 0, \"ticks\": \"\"}}, \"type\": \"scatterpolargl\"}], \"scatterternary\": [{\"marker\": {\"colorbar\": {\"outlinewidth\": 0, \"ticks\": \"\"}}, \"type\": \"scatterternary\"}], \"surface\": [{\"colorbar\": {\"outlinewidth\": 0, \"ticks\": \"\"}, \"colorscale\": [[0.0, \"#0d0887\"], [0.1111111111111111, \"#46039f\"], [0.2222222222222222, \"#7201a8\"], [0.3333333333333333, \"#9c179e\"], [0.4444444444444444, \"#bd3786\"], [0.5555555555555556, \"#d8576b\"], [0.6666666666666666, \"#ed7953\"], [0.7777777777777778, \"#fb9f3a\"], [0.8888888888888888, \"#fdca26\"], [1.0, \"#f0f921\"]], \"type\": \"surface\"}], \"table\": [{\"cells\": {\"fill\": {\"color\": \"#EBF0F8\"}, \"line\": {\"color\": \"white\"}}, \"header\": {\"fill\": {\"color\": \"#C8D4E3\"}, \"line\": {\"color\": \"white\"}}, \"type\": \"table\"}]}, \"layout\": {\"annotationdefaults\": {\"arrowcolor\": \"#2a3f5f\", \"arrowhead\": 0, \"arrowwidth\": 1}, \"coloraxis\": {\"colorbar\": {\"outlinewidth\": 0, \"ticks\": \"\"}}, \"colorscale\": {\"diverging\": [[0, \"#8e0152\"], [0.1, \"#c51b7d\"], [0.2, \"#de77ae\"], [0.3, \"#f1b6da\"], [0.4, \"#fde0ef\"], [0.5, \"#f7f7f7\"], [0.6, \"#e6f5d0\"], [0.7, \"#b8e186\"], [0.8, \"#7fbc41\"], [0.9, \"#4d9221\"], [1, \"#276419\"]], \"sequential\": [[0.0, \"#0d0887\"], [0.1111111111111111, \"#46039f\"], [0.2222222222222222, \"#7201a8\"], [0.3333333333333333, \"#9c179e\"], [0.4444444444444444, \"#bd3786\"], [0.5555555555555556, \"#d8576b\"], [0.6666666666666666, \"#ed7953\"], [0.7777777777777778, \"#fb9f3a\"], [0.8888888888888888, \"#fdca26\"], [1.0, \"#f0f921\"]], \"sequentialminus\": [[0.0, \"#0d0887\"], [0.1111111111111111, \"#46039f\"], [0.2222222222222222, \"#7201a8\"], [0.3333333333333333, \"#9c179e\"], [0.4444444444444444, \"#bd3786\"], [0.5555555555555556, \"#d8576b\"], [0.6666666666666666, \"#ed7953\"], [0.7777777777777778, \"#fb9f3a\"], [0.8888888888888888, \"#fdca26\"], [1.0, \"#f0f921\"]]}, \"colorway\": [\"#636efa\", \"#EF553B\", \"#00cc96\", \"#ab63fa\", \"#FFA15A\", \"#19d3f3\", \"#FF6692\", \"#B6E880\", \"#FF97FF\", \"#FECB52\"], \"font\": {\"color\": \"#2a3f5f\"}, \"geo\": {\"bgcolor\": \"white\", \"lakecolor\": \"white\", \"landcolor\": \"#E5ECF6\", \"showlakes\": true, \"showland\": true, \"subunitcolor\": \"white\"}, \"hoverlabel\": {\"align\": \"left\"}, \"hovermode\": \"closest\", \"mapbox\": {\"style\": \"light\"}, \"paper_bgcolor\": \"white\", \"plot_bgcolor\": \"#E5ECF6\", \"polar\": {\"angularaxis\": {\"gridcolor\": \"white\", \"linecolor\": \"white\", \"ticks\": \"\"}, \"bgcolor\": \"#E5ECF6\", \"radialaxis\": {\"gridcolor\": \"white\", \"linecolor\": \"white\", \"ticks\": \"\"}}, \"scene\": {\"xaxis\": {\"backgroundcolor\": \"#E5ECF6\", \"gridcolor\": \"white\", \"gridwidth\": 2, \"linecolor\": \"white\", \"showbackground\": true, \"ticks\": \"\", \"zerolinecolor\": \"white\"}, \"yaxis\": {\"backgroundcolor\": \"#E5ECF6\", \"gridcolor\": \"white\", \"gridwidth\": 2, \"linecolor\": \"white\", \"showbackground\": true, \"ticks\": \"\", \"zerolinecolor\": \"white\"}, \"zaxis\": {\"backgroundcolor\": \"#E5ECF6\", \"gridcolor\": \"white\", \"gridwidth\": 2, \"linecolor\": \"white\", \"showbackground\": true, \"ticks\": \"\", \"zerolinecolor\": \"white\"}}, \"shapedefaults\": {\"line\": {\"color\": \"#2a3f5f\"}}, \"ternary\": {\"aaxis\": {\"gridcolor\": \"white\", \"linecolor\": \"white\", \"ticks\": \"\"}, \"baxis\": {\"gridcolor\": \"white\", \"linecolor\": \"white\", \"ticks\": \"\"}, \"bgcolor\": \"#E5ECF6\", \"caxis\": {\"gridcolor\": \"white\", \"linecolor\": \"white\", \"ticks\": \"\"}}, \"title\": {\"x\": 0.05}, \"xaxis\": {\"automargin\": true, \"gridcolor\": \"white\", \"linecolor\": \"white\", \"ticks\": \"\", \"title\": {\"standoff\": 15}, \"zerolinecolor\": \"white\", \"zerolinewidth\": 2}, \"yaxis\": {\"automargin\": true, \"gridcolor\": \"white\", \"linecolor\": \"white\", \"ticks\": \"\", \"title\": {\"standoff\": 15}, \"zerolinecolor\": \"white\", \"zerolinewidth\": 2}}}, \"title\": {\"font\": {\"color\": \"#4D5663\"}}, \"xaxis\": {\"gridcolor\": \"#E1E5ED\", \"showgrid\": true, \"tickfont\": {\"color\": \"#4D5663\"}, \"title\": {\"font\": {\"color\": \"#4D5663\"}, \"text\": \"\"}, \"zerolinecolor\": \"#E1E5ED\"}, \"yaxis\": {\"gridcolor\": \"#E1E5ED\", \"showgrid\": true, \"tickfont\": {\"color\": \"#4D5663\"}, \"title\": {\"font\": {\"color\": \"#4D5663\"}, \"text\": \"\"}, \"zerolinecolor\": \"#E1E5ED\"}},\n",
       "                        {\"showLink\": true, \"linkText\": \"Export to plot.ly\", \"plotlyServerURL\": \"https://plot.ly\", \"responsive\": true}\n",
       "                    ).then(function(){\n",
       "                            \n",
       "var gd = document.getElementById('d088ef5f-29fd-4e91-a615-76a8e2c57836');\n",
       "var x = new MutationObserver(function (mutations, observer) {{\n",
       "        var display = window.getComputedStyle(gd).display;\n",
       "        if (!display || display === 'none') {{\n",
       "            console.log([gd, 'removed!']);\n",
       "            Plotly.purge(gd);\n",
       "            observer.disconnect();\n",
       "        }}\n",
       "}});\n",
       "\n",
       "// Listen for the removal of the full notebook cells\n",
       "var notebookContainer = gd.closest('#notebook-container');\n",
       "if (notebookContainer) {{\n",
       "    x.observe(notebookContainer, {childList: true});\n",
       "}}\n",
       "\n",
       "// Listen for the clearing of the current output cell\n",
       "var outputEl = gd.closest('.output');\n",
       "if (outputEl) {{\n",
       "    x.observe(outputEl, {childList: true});\n",
       "}}\n",
       "\n",
       "                        })\n",
       "                };\n",
       "                });\n",
       "            </script>\n",
       "        </div>"
      ]
     },
     "metadata": {},
     "output_type": "display_data"
    }
   ],
   "source": [
    "# And now, it's time to create my favourite plot\n",
    "df3.iplot(kind='surface',colorscale='ylorrd')"
   ]
  },
  {
   "cell_type": "code",
   "execution_count": 33,
   "metadata": {},
   "outputs": [],
   "source": [
    "# You can see here 3d plot, you can hover it and make it roll"
   ]
  },
  {
   "cell_type": "code",
   "execution_count": 34,
   "metadata": {},
   "outputs": [
    {
     "name": "stderr",
     "output_type": "stream",
     "text": [
      "C:\\Users\\Cybertron\\anaconda3\\lib\\site-packages\\cufflinks\\plotlytools.py:849: FutureWarning:\n",
      "\n",
      "The pandas.np module is deprecated and will be removed from pandas in a future version. Import numpy directly instead\n",
      "\n",
      "C:\\Users\\Cybertron\\anaconda3\\lib\\site-packages\\cufflinks\\plotlytools.py:850: FutureWarning:\n",
      "\n",
      "The pandas.np module is deprecated and will be removed from pandas in a future version. Import numpy directly instead\n",
      "\n"
     ]
    },
    {
     "data": {
      "application/vnd.plotly.v1+json": {
       "config": {
        "linkText": "Export to plot.ly",
        "plotlyServerURL": "https://plot.ly",
        "showLink": true
       },
       "data": [
        {
         "line": {
          "color": "rgba(255, 153, 51, 1.0)",
          "dash": "solid",
          "shape": "linear",
          "width": 1.3
         },
         "mode": "lines",
         "name": "A",
         "text": "",
         "type": "scatter",
         "x": [
          0,
          1,
          2,
          3,
          4,
          5,
          6,
          7,
          8,
          9,
          10,
          11,
          12,
          13,
          14,
          15,
          16,
          17,
          18,
          19,
          20,
          21,
          22,
          23,
          24,
          25,
          26,
          27,
          28,
          29,
          30,
          31,
          32,
          33,
          34,
          35,
          36,
          37,
          38,
          39,
          40,
          41,
          42,
          43,
          44,
          45,
          46,
          47,
          48,
          49,
          50,
          51,
          52,
          53,
          54,
          55,
          56,
          57,
          58,
          59,
          60,
          61,
          62,
          63,
          64,
          65,
          66,
          67,
          68,
          69,
          70,
          71,
          72,
          73,
          74,
          75,
          76,
          77,
          78,
          79,
          80,
          81,
          82,
          83,
          84,
          85,
          86,
          87,
          88,
          89,
          90,
          91,
          92,
          93,
          94,
          95,
          96,
          97,
          98,
          99
         ],
         "y": [
          0.9143199744490959,
          -0.6646337852370073,
          -0.14147521428869275,
          -1.5332881680412882,
          -1.095065469170004,
          1.677545617427011,
          1.730306742135822,
          0.3093380042070924,
          1.998060812676102,
          0.2103320482242863,
          -0.36356967714317556,
          1.0009522053146767,
          0.069031037048522,
          -1.4132717659293934,
          1.4342602513904974,
          0.8667006663131418,
          -1.0896509582121268,
          1.3185707666281514,
          0.20761718693952874,
          0.03055838903094499,
          -1.3019172354325668,
          0.4190207620229179,
          0.21463294842463157,
          0.09415542101933022,
          1.102150756931986,
          0.08058368310676578,
          -0.31050578091790093,
          0.7280257375312584,
          -0.7333481572330972,
          0.7111147715815395,
          -0.4534409552547134,
          -0.8493772470868383,
          -2.3618289209284056,
          -1.0355419986958943,
          0.2209044604729675,
          -0.3097002156986558,
          -0.5008454017984665,
          -1.725024685517588,
          -0.19105729905583005,
          -1.3917398712550997,
          -1.373493523702723,
          -0.7176943975375174,
          -0.910332404713052,
          -0.45750099928699495,
          0.236834377371843,
          -1.15271654366376,
          -0.3053263890214957,
          -0.7228191803601534,
          0.22380614257506143,
          -0.893109542297301,
          1.731068296261119,
          -0.8905500303106749,
          -0.43770584584543254,
          1.8228947096849963,
          0.19474734000545416,
          -2.2678586134597416,
          0.7415931835889042,
          -0.45194179738729906,
          0.3167107937975542,
          -0.33618888669222596,
          -0.40957852624382124,
          -0.21251080743656847,
          -0.6478327795201284,
          -0.2506330234581966,
          -0.2388108275357814,
          -0.46447261046488947,
          2.1274922284409015,
          -0.6624602143894611,
          -1.1013961877761724,
          -0.10962658841460418,
          -1.939924292062804,
          -2.922615773741819,
          0.33732369348397273,
          -0.8879693301653936,
          -0.14203014646171108,
          1.8459848092411675,
          0.5451264788261765,
          1.5161798792278758,
          -0.060903470222706466,
          -0.5042434120396577,
          0.24087301804518244,
          1.3184761215231695,
          -0.5311236458104367,
          0.16904327084218684,
          0.21497691222184062,
          -0.04976420464178433,
          -1.2351738292265402,
          -0.09703656247737708,
          -0.813348632878989,
          1.6254085445113675,
          0.2712263240648343,
          -0.9212781749948205,
          -0.5547997988204424,
          -2.13583941926714,
          0.8471102598607632,
          -0.8076097650549745,
          -0.08764701901324923,
          0.19439248949118276,
          -0.6406087430595749,
          -0.38706169745440083
         ]
        },
        {
         "line": {
          "color": "rgba(55, 128, 191, 1.0)",
          "dash": "solid",
          "shape": "linear",
          "width": 1.3
         },
         "mode": "lines",
         "name": "B",
         "text": "",
         "type": "scatter",
         "x": [
          0,
          1,
          2,
          3,
          4,
          5,
          6,
          7,
          8,
          9,
          10,
          11,
          12,
          13,
          14,
          15,
          16,
          17,
          18,
          19,
          20,
          21,
          22,
          23,
          24,
          25,
          26,
          27,
          28,
          29,
          30,
          31,
          32,
          33,
          34,
          35,
          36,
          37,
          38,
          39,
          40,
          41,
          42,
          43,
          44,
          45,
          46,
          47,
          48,
          49,
          50,
          51,
          52,
          53,
          54,
          55,
          56,
          57,
          58,
          59,
          60,
          61,
          62,
          63,
          64,
          65,
          66,
          67,
          68,
          69,
          70,
          71,
          72,
          73,
          74,
          75,
          76,
          77,
          78,
          79,
          80,
          81,
          82,
          83,
          84,
          85,
          86,
          87,
          88,
          89,
          90,
          91,
          92,
          93,
          94,
          95,
          96,
          97,
          98,
          99
         ],
         "y": [
          -0.23939171593754066,
          1.1268411197192545,
          -1.3494357537123602,
          0.5790826278722518,
          -1.6485814860907217,
          -0.4527541104712093,
          1.003828728995732,
          2.4629808609275012,
          0.6481780198900731,
          0.8480004503529042,
          1.238274215824042,
          -1.5838329847047354,
          -1.112201772192512,
          -0.6024867614407695,
          0.8466419247834434,
          -0.9474768899447823,
          1.0164109375425812,
          0.7224996995791487,
          0.25526188409336287,
          -1.5944985447538833,
          1.2968499367294102,
          -0.6723930339014411,
          -0.01213068819246885,
          0.6227938934447875,
          0.5717022548249712,
          -0.014316792233143808,
          -1.0732103781329587,
          -0.8404810595395262,
          0.2336645366300528,
          0.4237291846096155,
          0.5999749812286985,
          1.6961952085118364,
          1.3471744408747899,
          -1.715648466013637,
          0.4600380064996352,
          1.6419150181459605,
          -0.9271759841966386,
          -1.2516473416661413,
          -1.3294348622170946,
          0.8959213927790316,
          -0.27533466214676466,
          -0.3126409180581469,
          -0.8317404737419754,
          1.5151023043356646,
          -0.6930803909206489,
          1.6523456021129082,
          1.578504660014399,
          -1.1664446833089916,
          -0.2971964754077405,
          0.4233156613856403,
          1.0288194448150627,
          0.28008396358724136,
          0.22395234888135715,
          -0.3595187644393644,
          -1.1128104757420167,
          0.2108557560623746,
          0.1730937703058691,
          -1.002813095857646,
          0.20443542821529617,
          -0.32360061868395795,
          -0.0049437503027825675,
          0.4926040526827179,
          -0.5413153600807233,
          0.5515721860289516,
          0.06040691278399967,
          -0.5472611575382201,
          0.3537214971536513,
          -1.2925223260945184,
          1.145071151118041,
          0.8930190003011235,
          0.3057895085475132,
          0.9317756573748759,
          -0.8888065487082335,
          -0.3934432175083188,
          -0.9939768245988979,
          0.3232829919486774,
          1.2214603832060258,
          1.2765046821598975,
          -0.1463325608537506,
          -0.9427533371257731,
          1.837623200388388,
          1.5274179871015077,
          -0.0360770137244279,
          -1.6323538127223398,
          2.353835729461377,
          -0.686303546670052,
          -0.2992019090265777,
          1.5943515851668304,
          2.202635036939589,
          -1.6742492772523072,
          -0.21031818763509,
          -0.8942974774765501,
          -0.31333360209211436,
          1.2511633577495769,
          -0.4532794052811933,
          -0.6713720923060141,
          -0.5342440383728624,
          -0.2513050584914812,
          -0.3440675829544576,
          0.15205058633631194
         ]
        },
        {
         "connectgaps": false,
         "fill": "tozeroy",
         "line": {
          "color": "green",
          "dash": "solid",
          "shape": "linear",
          "width": 0.5
         },
         "mode": "lines",
         "name": "Spread",
         "showlegend": false,
         "type": "scatter",
         "x": [
          0,
          1,
          2,
          3,
          4,
          5,
          6,
          7,
          8,
          9,
          10,
          11,
          12,
          13,
          14,
          15,
          16,
          17,
          18,
          19,
          20,
          21,
          22,
          23,
          24,
          25,
          26,
          27,
          28,
          29,
          30,
          31,
          32,
          33,
          34,
          35,
          36,
          37,
          38,
          39,
          40,
          41,
          42,
          43,
          44,
          45,
          46,
          47,
          48,
          49,
          50,
          51,
          52,
          53,
          54,
          55,
          56,
          57,
          58,
          59,
          60,
          61,
          62,
          63,
          64,
          65,
          66,
          67,
          68,
          69,
          70,
          71,
          72,
          73,
          74,
          75,
          76,
          77,
          78,
          79,
          80,
          81,
          82,
          83,
          84,
          85,
          86,
          87,
          88,
          89,
          90,
          91,
          92,
          93,
          94,
          95,
          96,
          97,
          98,
          99
         ],
         "xaxis": "x2",
         "y": [
          1.1537116903866365,
          "",
          1.2079605394236674,
          "",
          0.5535160169207178,
          2.1302997278982203,
          0.7264780131400901,
          "",
          1.3498827927860289,
          "",
          "",
          2.584785190019412,
          1.181232809241034,
          "",
          0.587618326607054,
          1.814177556257924,
          "",
          0.5960710670490027,
          "",
          1.6250569337848284,
          "",
          1.091413795924359,
          0.22676363661710042,
          "",
          0.5304485021070148,
          0.09490047533990958,
          0.7627045972150578,
          1.5685067970707847,
          "",
          0.28738558697192396,
          "",
          "",
          "",
          0.6801064673177428,
          "",
          "",
          0.4263305823981721,
          "",
          1.1383775631612645,
          "",
          "",
          "",
          "",
          "",
          0.9299147682924919,
          "",
          "",
          0.4436255029488383,
          0.521002617982802,
          "",
          0.7022488514460563,
          "",
          "",
          2.1824134741243606,
          1.307557815747471,
          "",
          0.5684994132830352,
          0.550871298470347,
          0.11227536558225801,
          "",
          "",
          "",
          "",
          "",
          "",
          0.08278854707333066,
          1.7737707312872502,
          0.6300621117050573,
          "",
          "",
          "",
          "",
          1.2261302421922062,
          "",
          0.8519466781371868,
          1.5227018172924902,
          "",
          0.23967519706797824,
          0.08542909063104413,
          0.4385099250861154,
          "",
          "",
          "",
          1.8013970835645265,
          "",
          0.6365393420282677,
          "",
          "",
          "",
          3.2996578217636747,
          0.4815445116999243,
          "",
          "",
          "",
          1.3003896651419564,
          "",
          0.44659701935961316,
          0.445697547982664,
          "",
          ""
         ],
         "yaxis": "y2"
        },
        {
         "connectgaps": false,
         "fill": "tozeroy",
         "line": {
          "color": "red",
          "dash": "solid",
          "shape": "linear",
          "width": 0.5
         },
         "mode": "lines",
         "name": "Spread",
         "showlegend": false,
         "type": "scatter",
         "x": [
          0,
          1,
          2,
          3,
          4,
          5,
          6,
          7,
          8,
          9,
          10,
          11,
          12,
          13,
          14,
          15,
          16,
          17,
          18,
          19,
          20,
          21,
          22,
          23,
          24,
          25,
          26,
          27,
          28,
          29,
          30,
          31,
          32,
          33,
          34,
          35,
          36,
          37,
          38,
          39,
          40,
          41,
          42,
          43,
          44,
          45,
          46,
          47,
          48,
          49,
          50,
          51,
          52,
          53,
          54,
          55,
          56,
          57,
          58,
          59,
          60,
          61,
          62,
          63,
          64,
          65,
          66,
          67,
          68,
          69,
          70,
          71,
          72,
          73,
          74,
          75,
          76,
          77,
          78,
          79,
          80,
          81,
          82,
          83,
          84,
          85,
          86,
          87,
          88,
          89,
          90,
          91,
          92,
          93,
          94,
          95,
          96,
          97,
          98,
          99
         ],
         "xaxis": "x2",
         "y": [
          "",
          -1.791474904956262,
          "",
          -2.11237079591354,
          "",
          "",
          "",
          -2.153642856720409,
          "",
          -0.6376684021286179,
          -1.6018438929672176,
          "",
          "",
          -0.8107850044886239,
          "",
          "",
          -2.106061895754708,
          "",
          -0.047644697153834126,
          "",
          -2.5987671721619767,
          "",
          "",
          -0.5286384724254574,
          "",
          "",
          "",
          "",
          -0.96701269386315,
          "",
          -1.053415936483412,
          -2.5455724555986747,
          -3.7090033618031955,
          "",
          -0.23913354602666773,
          -1.9516152338446164,
          "",
          -0.4733773438514466,
          "",
          -2.2876612640341314,
          -1.0981588615559583,
          -0.4050534794793705,
          -0.07859193097107664,
          -1.9726033036226596,
          "",
          -2.8050621457766685,
          -1.8838310490358947,
          "",
          "",
          -1.3164252036829414,
          "",
          -1.1706339938979162,
          -0.6616581947267897,
          "",
          "",
          -2.478714369522116,
          "",
          "",
          "",
          -0.012588268008268011,
          -0.4046347759410387,
          -0.7051148601192864,
          -0.10651741943940507,
          -0.8022052094871482,
          -0.29921774031978104,
          "",
          "",
          "",
          -2.246467338894213,
          -1.0026455887157277,
          -2.245713800610317,
          -3.854391431116695,
          "",
          -0.4945261126570748,
          "",
          "",
          -0.6763339043798493,
          "",
          "",
          "",
          -1.5967501823432055,
          -0.20894186557833816,
          -0.4950466320860088,
          "",
          -2.1388588172395364,
          "",
          -0.9359719201999626,
          -1.6913881476442074,
          -3.015983669818578,
          "",
          "",
          -0.02698069751827037,
          -0.24146619672832803,
          -3.3870027770167166,
          "",
          -0.13623767274896037,
          "",
          "",
          -0.29654116010511733,
          -0.5391122837907127
         ],
         "yaxis": "y2"
        }
       ],
       "layout": {
        "hovermode": "x",
        "legend": {
         "bgcolor": "#F5F6F9",
         "font": {
          "color": "#4D5663"
         }
        },
        "paper_bgcolor": "#F5F6F9",
        "plot_bgcolor": "#F5F6F9",
        "template": {
         "data": {
          "bar": [
           {
            "error_x": {
             "color": "#2a3f5f"
            },
            "error_y": {
             "color": "#2a3f5f"
            },
            "marker": {
             "line": {
              "color": "#E5ECF6",
              "width": 0.5
             }
            },
            "type": "bar"
           }
          ],
          "barpolar": [
           {
            "marker": {
             "line": {
              "color": "#E5ECF6",
              "width": 0.5
             }
            },
            "type": "barpolar"
           }
          ],
          "carpet": [
           {
            "aaxis": {
             "endlinecolor": "#2a3f5f",
             "gridcolor": "white",
             "linecolor": "white",
             "minorgridcolor": "white",
             "startlinecolor": "#2a3f5f"
            },
            "baxis": {
             "endlinecolor": "#2a3f5f",
             "gridcolor": "white",
             "linecolor": "white",
             "minorgridcolor": "white",
             "startlinecolor": "#2a3f5f"
            },
            "type": "carpet"
           }
          ],
          "choropleth": [
           {
            "colorbar": {
             "outlinewidth": 0,
             "ticks": ""
            },
            "type": "choropleth"
           }
          ],
          "contour": [
           {
            "colorbar": {
             "outlinewidth": 0,
             "ticks": ""
            },
            "colorscale": [
             [
              0,
              "#0d0887"
             ],
             [
              0.1111111111111111,
              "#46039f"
             ],
             [
              0.2222222222222222,
              "#7201a8"
             ],
             [
              0.3333333333333333,
              "#9c179e"
             ],
             [
              0.4444444444444444,
              "#bd3786"
             ],
             [
              0.5555555555555556,
              "#d8576b"
             ],
             [
              0.6666666666666666,
              "#ed7953"
             ],
             [
              0.7777777777777778,
              "#fb9f3a"
             ],
             [
              0.8888888888888888,
              "#fdca26"
             ],
             [
              1,
              "#f0f921"
             ]
            ],
            "type": "contour"
           }
          ],
          "contourcarpet": [
           {
            "colorbar": {
             "outlinewidth": 0,
             "ticks": ""
            },
            "type": "contourcarpet"
           }
          ],
          "heatmap": [
           {
            "colorbar": {
             "outlinewidth": 0,
             "ticks": ""
            },
            "colorscale": [
             [
              0,
              "#0d0887"
             ],
             [
              0.1111111111111111,
              "#46039f"
             ],
             [
              0.2222222222222222,
              "#7201a8"
             ],
             [
              0.3333333333333333,
              "#9c179e"
             ],
             [
              0.4444444444444444,
              "#bd3786"
             ],
             [
              0.5555555555555556,
              "#d8576b"
             ],
             [
              0.6666666666666666,
              "#ed7953"
             ],
             [
              0.7777777777777778,
              "#fb9f3a"
             ],
             [
              0.8888888888888888,
              "#fdca26"
             ],
             [
              1,
              "#f0f921"
             ]
            ],
            "type": "heatmap"
           }
          ],
          "heatmapgl": [
           {
            "colorbar": {
             "outlinewidth": 0,
             "ticks": ""
            },
            "colorscale": [
             [
              0,
              "#0d0887"
             ],
             [
              0.1111111111111111,
              "#46039f"
             ],
             [
              0.2222222222222222,
              "#7201a8"
             ],
             [
              0.3333333333333333,
              "#9c179e"
             ],
             [
              0.4444444444444444,
              "#bd3786"
             ],
             [
              0.5555555555555556,
              "#d8576b"
             ],
             [
              0.6666666666666666,
              "#ed7953"
             ],
             [
              0.7777777777777778,
              "#fb9f3a"
             ],
             [
              0.8888888888888888,
              "#fdca26"
             ],
             [
              1,
              "#f0f921"
             ]
            ],
            "type": "heatmapgl"
           }
          ],
          "histogram": [
           {
            "marker": {
             "colorbar": {
              "outlinewidth": 0,
              "ticks": ""
             }
            },
            "type": "histogram"
           }
          ],
          "histogram2d": [
           {
            "colorbar": {
             "outlinewidth": 0,
             "ticks": ""
            },
            "colorscale": [
             [
              0,
              "#0d0887"
             ],
             [
              0.1111111111111111,
              "#46039f"
             ],
             [
              0.2222222222222222,
              "#7201a8"
             ],
             [
              0.3333333333333333,
              "#9c179e"
             ],
             [
              0.4444444444444444,
              "#bd3786"
             ],
             [
              0.5555555555555556,
              "#d8576b"
             ],
             [
              0.6666666666666666,
              "#ed7953"
             ],
             [
              0.7777777777777778,
              "#fb9f3a"
             ],
             [
              0.8888888888888888,
              "#fdca26"
             ],
             [
              1,
              "#f0f921"
             ]
            ],
            "type": "histogram2d"
           }
          ],
          "histogram2dcontour": [
           {
            "colorbar": {
             "outlinewidth": 0,
             "ticks": ""
            },
            "colorscale": [
             [
              0,
              "#0d0887"
             ],
             [
              0.1111111111111111,
              "#46039f"
             ],
             [
              0.2222222222222222,
              "#7201a8"
             ],
             [
              0.3333333333333333,
              "#9c179e"
             ],
             [
              0.4444444444444444,
              "#bd3786"
             ],
             [
              0.5555555555555556,
              "#d8576b"
             ],
             [
              0.6666666666666666,
              "#ed7953"
             ],
             [
              0.7777777777777778,
              "#fb9f3a"
             ],
             [
              0.8888888888888888,
              "#fdca26"
             ],
             [
              1,
              "#f0f921"
             ]
            ],
            "type": "histogram2dcontour"
           }
          ],
          "mesh3d": [
           {
            "colorbar": {
             "outlinewidth": 0,
             "ticks": ""
            },
            "type": "mesh3d"
           }
          ],
          "parcoords": [
           {
            "line": {
             "colorbar": {
              "outlinewidth": 0,
              "ticks": ""
             }
            },
            "type": "parcoords"
           }
          ],
          "pie": [
           {
            "automargin": true,
            "type": "pie"
           }
          ],
          "scatter": [
           {
            "marker": {
             "colorbar": {
              "outlinewidth": 0,
              "ticks": ""
             }
            },
            "type": "scatter"
           }
          ],
          "scatter3d": [
           {
            "line": {
             "colorbar": {
              "outlinewidth": 0,
              "ticks": ""
             }
            },
            "marker": {
             "colorbar": {
              "outlinewidth": 0,
              "ticks": ""
             }
            },
            "type": "scatter3d"
           }
          ],
          "scattercarpet": [
           {
            "marker": {
             "colorbar": {
              "outlinewidth": 0,
              "ticks": ""
             }
            },
            "type": "scattercarpet"
           }
          ],
          "scattergeo": [
           {
            "marker": {
             "colorbar": {
              "outlinewidth": 0,
              "ticks": ""
             }
            },
            "type": "scattergeo"
           }
          ],
          "scattergl": [
           {
            "marker": {
             "colorbar": {
              "outlinewidth": 0,
              "ticks": ""
             }
            },
            "type": "scattergl"
           }
          ],
          "scattermapbox": [
           {
            "marker": {
             "colorbar": {
              "outlinewidth": 0,
              "ticks": ""
             }
            },
            "type": "scattermapbox"
           }
          ],
          "scatterpolar": [
           {
            "marker": {
             "colorbar": {
              "outlinewidth": 0,
              "ticks": ""
             }
            },
            "type": "scatterpolar"
           }
          ],
          "scatterpolargl": [
           {
            "marker": {
             "colorbar": {
              "outlinewidth": 0,
              "ticks": ""
             }
            },
            "type": "scatterpolargl"
           }
          ],
          "scatterternary": [
           {
            "marker": {
             "colorbar": {
              "outlinewidth": 0,
              "ticks": ""
             }
            },
            "type": "scatterternary"
           }
          ],
          "surface": [
           {
            "colorbar": {
             "outlinewidth": 0,
             "ticks": ""
            },
            "colorscale": [
             [
              0,
              "#0d0887"
             ],
             [
              0.1111111111111111,
              "#46039f"
             ],
             [
              0.2222222222222222,
              "#7201a8"
             ],
             [
              0.3333333333333333,
              "#9c179e"
             ],
             [
              0.4444444444444444,
              "#bd3786"
             ],
             [
              0.5555555555555556,
              "#d8576b"
             ],
             [
              0.6666666666666666,
              "#ed7953"
             ],
             [
              0.7777777777777778,
              "#fb9f3a"
             ],
             [
              0.8888888888888888,
              "#fdca26"
             ],
             [
              1,
              "#f0f921"
             ]
            ],
            "type": "surface"
           }
          ],
          "table": [
           {
            "cells": {
             "fill": {
              "color": "#EBF0F8"
             },
             "line": {
              "color": "white"
             }
            },
            "header": {
             "fill": {
              "color": "#C8D4E3"
             },
             "line": {
              "color": "white"
             }
            },
            "type": "table"
           }
          ]
         },
         "layout": {
          "annotationdefaults": {
           "arrowcolor": "#2a3f5f",
           "arrowhead": 0,
           "arrowwidth": 1
          },
          "coloraxis": {
           "colorbar": {
            "outlinewidth": 0,
            "ticks": ""
           }
          },
          "colorscale": {
           "diverging": [
            [
             0,
             "#8e0152"
            ],
            [
             0.1,
             "#c51b7d"
            ],
            [
             0.2,
             "#de77ae"
            ],
            [
             0.3,
             "#f1b6da"
            ],
            [
             0.4,
             "#fde0ef"
            ],
            [
             0.5,
             "#f7f7f7"
            ],
            [
             0.6,
             "#e6f5d0"
            ],
            [
             0.7,
             "#b8e186"
            ],
            [
             0.8,
             "#7fbc41"
            ],
            [
             0.9,
             "#4d9221"
            ],
            [
             1,
             "#276419"
            ]
           ],
           "sequential": [
            [
             0,
             "#0d0887"
            ],
            [
             0.1111111111111111,
             "#46039f"
            ],
            [
             0.2222222222222222,
             "#7201a8"
            ],
            [
             0.3333333333333333,
             "#9c179e"
            ],
            [
             0.4444444444444444,
             "#bd3786"
            ],
            [
             0.5555555555555556,
             "#d8576b"
            ],
            [
             0.6666666666666666,
             "#ed7953"
            ],
            [
             0.7777777777777778,
             "#fb9f3a"
            ],
            [
             0.8888888888888888,
             "#fdca26"
            ],
            [
             1,
             "#f0f921"
            ]
           ],
           "sequentialminus": [
            [
             0,
             "#0d0887"
            ],
            [
             0.1111111111111111,
             "#46039f"
            ],
            [
             0.2222222222222222,
             "#7201a8"
            ],
            [
             0.3333333333333333,
             "#9c179e"
            ],
            [
             0.4444444444444444,
             "#bd3786"
            ],
            [
             0.5555555555555556,
             "#d8576b"
            ],
            [
             0.6666666666666666,
             "#ed7953"
            ],
            [
             0.7777777777777778,
             "#fb9f3a"
            ],
            [
             0.8888888888888888,
             "#fdca26"
            ],
            [
             1,
             "#f0f921"
            ]
           ]
          },
          "colorway": [
           "#636efa",
           "#EF553B",
           "#00cc96",
           "#ab63fa",
           "#FFA15A",
           "#19d3f3",
           "#FF6692",
           "#B6E880",
           "#FF97FF",
           "#FECB52"
          ],
          "font": {
           "color": "#2a3f5f"
          },
          "geo": {
           "bgcolor": "white",
           "lakecolor": "white",
           "landcolor": "#E5ECF6",
           "showlakes": true,
           "showland": true,
           "subunitcolor": "white"
          },
          "hoverlabel": {
           "align": "left"
          },
          "hovermode": "closest",
          "mapbox": {
           "style": "light"
          },
          "paper_bgcolor": "white",
          "plot_bgcolor": "#E5ECF6",
          "polar": {
           "angularaxis": {
            "gridcolor": "white",
            "linecolor": "white",
            "ticks": ""
           },
           "bgcolor": "#E5ECF6",
           "radialaxis": {
            "gridcolor": "white",
            "linecolor": "white",
            "ticks": ""
           }
          },
          "scene": {
           "xaxis": {
            "backgroundcolor": "#E5ECF6",
            "gridcolor": "white",
            "gridwidth": 2,
            "linecolor": "white",
            "showbackground": true,
            "ticks": "",
            "zerolinecolor": "white"
           },
           "yaxis": {
            "backgroundcolor": "#E5ECF6",
            "gridcolor": "white",
            "gridwidth": 2,
            "linecolor": "white",
            "showbackground": true,
            "ticks": "",
            "zerolinecolor": "white"
           },
           "zaxis": {
            "backgroundcolor": "#E5ECF6",
            "gridcolor": "white",
            "gridwidth": 2,
            "linecolor": "white",
            "showbackground": true,
            "ticks": "",
            "zerolinecolor": "white"
           }
          },
          "shapedefaults": {
           "line": {
            "color": "#2a3f5f"
           }
          },
          "ternary": {
           "aaxis": {
            "gridcolor": "white",
            "linecolor": "white",
            "ticks": ""
           },
           "baxis": {
            "gridcolor": "white",
            "linecolor": "white",
            "ticks": ""
           },
           "bgcolor": "#E5ECF6",
           "caxis": {
            "gridcolor": "white",
            "linecolor": "white",
            "ticks": ""
           }
          },
          "title": {
           "x": 0.05
          },
          "xaxis": {
           "automargin": true,
           "gridcolor": "white",
           "linecolor": "white",
           "ticks": "",
           "title": {
            "standoff": 15
           },
           "zerolinecolor": "white",
           "zerolinewidth": 2
          },
          "yaxis": {
           "automargin": true,
           "gridcolor": "white",
           "linecolor": "white",
           "ticks": "",
           "title": {
            "standoff": 15
           },
           "zerolinecolor": "white",
           "zerolinewidth": 2
          }
         }
        },
        "title": {
         "font": {
          "color": "#4D5663"
         }
        },
        "xaxis": {
         "gridcolor": "#E1E5ED",
         "showgrid": true,
         "tickfont": {
          "color": "#4D5663"
         },
         "title": {
          "font": {
           "color": "#4D5663"
          },
          "text": ""
         },
         "zerolinecolor": "#E1E5ED"
        },
        "xaxis2": {
         "anchor": "y2",
         "gridcolor": "#E1E5ED",
         "showgrid": true,
         "showticklabels": false,
         "tickfont": {
          "color": "#4D5663"
         },
         "title": {
          "font": {
           "color": "#4D5663"
          },
          "text": ""
         },
         "zerolinecolor": "#E1E5ED"
        },
        "yaxis": {
         "domain": [
          0.3,
          1
         ],
         "gridcolor": "#E1E5ED",
         "showgrid": true,
         "tickfont": {
          "color": "#4D5663"
         },
         "title": {
          "font": {
           "color": "#4D5663"
          },
          "text": ""
         },
         "zerolinecolor": "#E1E5ED"
        },
        "yaxis2": {
         "domain": [
          0,
          0.25
         ],
         "gridcolor": "#E1E5ED",
         "showgrid": true,
         "tickfont": {
          "color": "#4D5663"
         },
         "title": {
          "font": {
           "color": "#4D5663"
          },
          "text": "Spread"
         },
         "zerolinecolor": "#E1E5ED"
        }
       }
      },
      "text/html": [
       "<div>\n",
       "        \n",
       "        \n",
       "            <div id=\"f1b28673-f5c8-401e-af4e-a54937e8ca11\" class=\"plotly-graph-div\" style=\"height:525px; width:100%;\"></div>\n",
       "            <script type=\"text/javascript\">\n",
       "                require([\"plotly\"], function(Plotly) {\n",
       "                    window.PLOTLYENV=window.PLOTLYENV || {};\n",
       "                    window.PLOTLYENV.BASE_URL='https://plot.ly';\n",
       "                    \n",
       "                if (document.getElementById(\"f1b28673-f5c8-401e-af4e-a54937e8ca11\")) {\n",
       "                    Plotly.newPlot(\n",
       "                        'f1b28673-f5c8-401e-af4e-a54937e8ca11',\n",
       "                        [{\"line\": {\"color\": \"rgba(255, 153, 51, 1.0)\", \"dash\": \"solid\", \"shape\": \"linear\", \"width\": 1.3}, \"mode\": \"lines\", \"name\": \"A\", \"text\": \"\", \"type\": \"scatter\", \"x\": [0, 1, 2, 3, 4, 5, 6, 7, 8, 9, 10, 11, 12, 13, 14, 15, 16, 17, 18, 19, 20, 21, 22, 23, 24, 25, 26, 27, 28, 29, 30, 31, 32, 33, 34, 35, 36, 37, 38, 39, 40, 41, 42, 43, 44, 45, 46, 47, 48, 49, 50, 51, 52, 53, 54, 55, 56, 57, 58, 59, 60, 61, 62, 63, 64, 65, 66, 67, 68, 69, 70, 71, 72, 73, 74, 75, 76, 77, 78, 79, 80, 81, 82, 83, 84, 85, 86, 87, 88, 89, 90, 91, 92, 93, 94, 95, 96, 97, 98, 99], \"y\": [0.9143199744490959, -0.6646337852370073, -0.14147521428869275, -1.5332881680412882, -1.095065469170004, 1.677545617427011, 1.730306742135822, 0.3093380042070924, 1.998060812676102, 0.2103320482242863, -0.36356967714317556, 1.0009522053146767, 0.069031037048522, -1.4132717659293934, 1.4342602513904974, 0.8667006663131418, -1.0896509582121268, 1.3185707666281514, 0.20761718693952874, 0.03055838903094499, -1.3019172354325668, 0.4190207620229179, 0.21463294842463157, 0.09415542101933022, 1.102150756931986, 0.08058368310676578, -0.31050578091790093, 0.7280257375312584, -0.7333481572330972, 0.7111147715815395, -0.4534409552547134, -0.8493772470868383, -2.3618289209284056, -1.0355419986958943, 0.2209044604729675, -0.3097002156986558, -0.5008454017984665, -1.725024685517588, -0.19105729905583005, -1.3917398712550997, -1.373493523702723, -0.7176943975375174, -0.910332404713052, -0.45750099928699495, 0.236834377371843, -1.15271654366376, -0.3053263890214957, -0.7228191803601534, 0.22380614257506143, -0.893109542297301, 1.731068296261119, -0.8905500303106749, -0.43770584584543254, 1.8228947096849963, 0.19474734000545416, -2.2678586134597416, 0.7415931835889042, -0.45194179738729906, 0.3167107937975542, -0.33618888669222596, -0.40957852624382124, -0.21251080743656847, -0.6478327795201284, -0.2506330234581966, -0.2388108275357814, -0.46447261046488947, 2.1274922284409015, -0.6624602143894611, -1.1013961877761724, -0.10962658841460418, -1.939924292062804, -2.922615773741819, 0.33732369348397273, -0.8879693301653936, -0.14203014646171108, 1.8459848092411675, 0.5451264788261765, 1.5161798792278758, -0.060903470222706466, -0.5042434120396577, 0.24087301804518244, 1.3184761215231695, -0.5311236458104367, 0.16904327084218684, 0.21497691222184062, -0.04976420464178433, -1.2351738292265402, -0.09703656247737708, -0.813348632878989, 1.6254085445113675, 0.2712263240648343, -0.9212781749948205, -0.5547997988204424, -2.13583941926714, 0.8471102598607632, -0.8076097650549745, -0.08764701901324923, 0.19439248949118276, -0.6406087430595749, -0.38706169745440083]}, {\"line\": {\"color\": \"rgba(55, 128, 191, 1.0)\", \"dash\": \"solid\", \"shape\": \"linear\", \"width\": 1.3}, \"mode\": \"lines\", \"name\": \"B\", \"text\": \"\", \"type\": \"scatter\", \"x\": [0, 1, 2, 3, 4, 5, 6, 7, 8, 9, 10, 11, 12, 13, 14, 15, 16, 17, 18, 19, 20, 21, 22, 23, 24, 25, 26, 27, 28, 29, 30, 31, 32, 33, 34, 35, 36, 37, 38, 39, 40, 41, 42, 43, 44, 45, 46, 47, 48, 49, 50, 51, 52, 53, 54, 55, 56, 57, 58, 59, 60, 61, 62, 63, 64, 65, 66, 67, 68, 69, 70, 71, 72, 73, 74, 75, 76, 77, 78, 79, 80, 81, 82, 83, 84, 85, 86, 87, 88, 89, 90, 91, 92, 93, 94, 95, 96, 97, 98, 99], \"y\": [-0.23939171593754066, 1.1268411197192545, -1.3494357537123602, 0.5790826278722518, -1.6485814860907217, -0.4527541104712093, 1.003828728995732, 2.4629808609275012, 0.6481780198900731, 0.8480004503529042, 1.238274215824042, -1.5838329847047354, -1.112201772192512, -0.6024867614407695, 0.8466419247834434, -0.9474768899447823, 1.0164109375425812, 0.7224996995791487, 0.25526188409336287, -1.5944985447538833, 1.2968499367294102, -0.6723930339014411, -0.01213068819246885, 0.6227938934447875, 0.5717022548249712, -0.014316792233143808, -1.0732103781329587, -0.8404810595395262, 0.2336645366300528, 0.4237291846096155, 0.5999749812286985, 1.6961952085118364, 1.3471744408747899, -1.715648466013637, 0.4600380064996352, 1.6419150181459605, -0.9271759841966386, -1.2516473416661413, -1.3294348622170946, 0.8959213927790316, -0.27533466214676466, -0.3126409180581469, -0.8317404737419754, 1.5151023043356646, -0.6930803909206489, 1.6523456021129082, 1.578504660014399, -1.1664446833089916, -0.2971964754077405, 0.4233156613856403, 1.0288194448150627, 0.28008396358724136, 0.22395234888135715, -0.3595187644393644, -1.1128104757420167, 0.2108557560623746, 0.1730937703058691, -1.002813095857646, 0.20443542821529617, -0.32360061868395795, -0.0049437503027825675, 0.4926040526827179, -0.5413153600807233, 0.5515721860289516, 0.06040691278399967, -0.5472611575382201, 0.3537214971536513, -1.2925223260945184, 1.145071151118041, 0.8930190003011235, 0.3057895085475132, 0.9317756573748759, -0.8888065487082335, -0.3934432175083188, -0.9939768245988979, 0.3232829919486774, 1.2214603832060258, 1.2765046821598975, -0.1463325608537506, -0.9427533371257731, 1.837623200388388, 1.5274179871015077, -0.0360770137244279, -1.6323538127223398, 2.353835729461377, -0.686303546670052, -0.2992019090265777, 1.5943515851668304, 2.202635036939589, -1.6742492772523072, -0.21031818763509, -0.8942974774765501, -0.31333360209211436, 1.2511633577495769, -0.4532794052811933, -0.6713720923060141, -0.5342440383728624, -0.2513050584914812, -0.3440675829544576, 0.15205058633631194]}, {\"connectgaps\": false, \"fill\": \"tozeroy\", \"line\": {\"color\": \"green\", \"dash\": \"solid\", \"shape\": \"linear\", \"width\": 0.5}, \"mode\": \"lines\", \"name\": \"Spread\", \"showlegend\": false, \"type\": \"scatter\", \"x\": [0, 1, 2, 3, 4, 5, 6, 7, 8, 9, 10, 11, 12, 13, 14, 15, 16, 17, 18, 19, 20, 21, 22, 23, 24, 25, 26, 27, 28, 29, 30, 31, 32, 33, 34, 35, 36, 37, 38, 39, 40, 41, 42, 43, 44, 45, 46, 47, 48, 49, 50, 51, 52, 53, 54, 55, 56, 57, 58, 59, 60, 61, 62, 63, 64, 65, 66, 67, 68, 69, 70, 71, 72, 73, 74, 75, 76, 77, 78, 79, 80, 81, 82, 83, 84, 85, 86, 87, 88, 89, 90, 91, 92, 93, 94, 95, 96, 97, 98, 99], \"xaxis\": \"x2\", \"y\": [1.1537116903866365, \"\", 1.2079605394236674, \"\", 0.5535160169207178, 2.1302997278982203, 0.7264780131400901, \"\", 1.3498827927860289, \"\", \"\", 2.584785190019412, 1.181232809241034, \"\", 0.587618326607054, 1.814177556257924, \"\", 0.5960710670490027, \"\", 1.6250569337848284, \"\", 1.091413795924359, 0.22676363661710042, \"\", 0.5304485021070148, 0.09490047533990958, 0.7627045972150578, 1.5685067970707847, \"\", 0.28738558697192396, \"\", \"\", \"\", 0.6801064673177428, \"\", \"\", 0.4263305823981721, \"\", 1.1383775631612645, \"\", \"\", \"\", \"\", \"\", 0.9299147682924919, \"\", \"\", 0.4436255029488383, 0.521002617982802, \"\", 0.7022488514460563, \"\", \"\", 2.1824134741243606, 1.307557815747471, \"\", 0.5684994132830352, 0.550871298470347, 0.11227536558225801, \"\", \"\", \"\", \"\", \"\", \"\", 0.08278854707333066, 1.7737707312872502, 0.6300621117050573, \"\", \"\", \"\", \"\", 1.2261302421922062, \"\", 0.8519466781371868, 1.5227018172924902, \"\", 0.23967519706797824, 0.08542909063104413, 0.4385099250861154, \"\", \"\", \"\", 1.8013970835645265, \"\", 0.6365393420282677, \"\", \"\", \"\", 3.2996578217636747, 0.4815445116999243, \"\", \"\", \"\", 1.3003896651419564, \"\", 0.44659701935961316, 0.445697547982664, \"\", \"\"], \"yaxis\": \"y2\"}, {\"connectgaps\": false, \"fill\": \"tozeroy\", \"line\": {\"color\": \"red\", \"dash\": \"solid\", \"shape\": \"linear\", \"width\": 0.5}, \"mode\": \"lines\", \"name\": \"Spread\", \"showlegend\": false, \"type\": \"scatter\", \"x\": [0, 1, 2, 3, 4, 5, 6, 7, 8, 9, 10, 11, 12, 13, 14, 15, 16, 17, 18, 19, 20, 21, 22, 23, 24, 25, 26, 27, 28, 29, 30, 31, 32, 33, 34, 35, 36, 37, 38, 39, 40, 41, 42, 43, 44, 45, 46, 47, 48, 49, 50, 51, 52, 53, 54, 55, 56, 57, 58, 59, 60, 61, 62, 63, 64, 65, 66, 67, 68, 69, 70, 71, 72, 73, 74, 75, 76, 77, 78, 79, 80, 81, 82, 83, 84, 85, 86, 87, 88, 89, 90, 91, 92, 93, 94, 95, 96, 97, 98, 99], \"xaxis\": \"x2\", \"y\": [\"\", -1.791474904956262, \"\", -2.11237079591354, \"\", \"\", \"\", -2.153642856720409, \"\", -0.6376684021286179, -1.6018438929672176, \"\", \"\", -0.8107850044886239, \"\", \"\", -2.106061895754708, \"\", -0.047644697153834126, \"\", -2.5987671721619767, \"\", \"\", -0.5286384724254574, \"\", \"\", \"\", \"\", -0.96701269386315, \"\", -1.053415936483412, -2.5455724555986747, -3.7090033618031955, \"\", -0.23913354602666773, -1.9516152338446164, \"\", -0.4733773438514466, \"\", -2.2876612640341314, -1.0981588615559583, -0.4050534794793705, -0.07859193097107664, -1.9726033036226596, \"\", -2.8050621457766685, -1.8838310490358947, \"\", \"\", -1.3164252036829414, \"\", -1.1706339938979162, -0.6616581947267897, \"\", \"\", -2.478714369522116, \"\", \"\", \"\", -0.012588268008268011, -0.4046347759410387, -0.7051148601192864, -0.10651741943940507, -0.8022052094871482, -0.29921774031978104, \"\", \"\", \"\", -2.246467338894213, -1.0026455887157277, -2.245713800610317, -3.854391431116695, \"\", -0.4945261126570748, \"\", \"\", -0.6763339043798493, \"\", \"\", \"\", -1.5967501823432055, -0.20894186557833816, -0.4950466320860088, \"\", -2.1388588172395364, \"\", -0.9359719201999626, -1.6913881476442074, -3.015983669818578, \"\", \"\", -0.02698069751827037, -0.24146619672832803, -3.3870027770167166, \"\", -0.13623767274896037, \"\", \"\", -0.29654116010511733, -0.5391122837907127], \"yaxis\": \"y2\"}],\n",
       "                        {\"hovermode\": \"x\", \"legend\": {\"bgcolor\": \"#F5F6F9\", \"font\": {\"color\": \"#4D5663\"}}, \"paper_bgcolor\": \"#F5F6F9\", \"plot_bgcolor\": \"#F5F6F9\", \"template\": {\"data\": {\"bar\": [{\"error_x\": {\"color\": \"#2a3f5f\"}, \"error_y\": {\"color\": \"#2a3f5f\"}, \"marker\": {\"line\": {\"color\": \"#E5ECF6\", \"width\": 0.5}}, \"type\": \"bar\"}], \"barpolar\": [{\"marker\": {\"line\": {\"color\": \"#E5ECF6\", \"width\": 0.5}}, \"type\": \"barpolar\"}], \"carpet\": [{\"aaxis\": {\"endlinecolor\": \"#2a3f5f\", \"gridcolor\": \"white\", \"linecolor\": \"white\", \"minorgridcolor\": \"white\", \"startlinecolor\": \"#2a3f5f\"}, \"baxis\": {\"endlinecolor\": \"#2a3f5f\", \"gridcolor\": \"white\", \"linecolor\": \"white\", \"minorgridcolor\": \"white\", \"startlinecolor\": \"#2a3f5f\"}, \"type\": \"carpet\"}], \"choropleth\": [{\"colorbar\": {\"outlinewidth\": 0, \"ticks\": \"\"}, \"type\": \"choropleth\"}], \"contour\": [{\"colorbar\": {\"outlinewidth\": 0, \"ticks\": \"\"}, \"colorscale\": [[0.0, \"#0d0887\"], [0.1111111111111111, \"#46039f\"], [0.2222222222222222, \"#7201a8\"], [0.3333333333333333, \"#9c179e\"], [0.4444444444444444, \"#bd3786\"], [0.5555555555555556, \"#d8576b\"], [0.6666666666666666, \"#ed7953\"], [0.7777777777777778, \"#fb9f3a\"], [0.8888888888888888, \"#fdca26\"], [1.0, \"#f0f921\"]], \"type\": \"contour\"}], \"contourcarpet\": [{\"colorbar\": {\"outlinewidth\": 0, \"ticks\": \"\"}, \"type\": \"contourcarpet\"}], \"heatmap\": [{\"colorbar\": {\"outlinewidth\": 0, \"ticks\": \"\"}, \"colorscale\": [[0.0, \"#0d0887\"], [0.1111111111111111, \"#46039f\"], [0.2222222222222222, \"#7201a8\"], [0.3333333333333333, \"#9c179e\"], [0.4444444444444444, \"#bd3786\"], [0.5555555555555556, \"#d8576b\"], [0.6666666666666666, \"#ed7953\"], [0.7777777777777778, \"#fb9f3a\"], [0.8888888888888888, \"#fdca26\"], [1.0, \"#f0f921\"]], \"type\": \"heatmap\"}], \"heatmapgl\": [{\"colorbar\": {\"outlinewidth\": 0, \"ticks\": \"\"}, \"colorscale\": [[0.0, \"#0d0887\"], [0.1111111111111111, \"#46039f\"], [0.2222222222222222, \"#7201a8\"], [0.3333333333333333, \"#9c179e\"], [0.4444444444444444, \"#bd3786\"], [0.5555555555555556, \"#d8576b\"], [0.6666666666666666, \"#ed7953\"], [0.7777777777777778, \"#fb9f3a\"], [0.8888888888888888, \"#fdca26\"], [1.0, \"#f0f921\"]], \"type\": \"heatmapgl\"}], \"histogram\": [{\"marker\": {\"colorbar\": {\"outlinewidth\": 0, \"ticks\": \"\"}}, \"type\": \"histogram\"}], \"histogram2d\": [{\"colorbar\": {\"outlinewidth\": 0, \"ticks\": \"\"}, \"colorscale\": [[0.0, \"#0d0887\"], [0.1111111111111111, \"#46039f\"], [0.2222222222222222, \"#7201a8\"], [0.3333333333333333, \"#9c179e\"], [0.4444444444444444, \"#bd3786\"], [0.5555555555555556, \"#d8576b\"], [0.6666666666666666, \"#ed7953\"], [0.7777777777777778, \"#fb9f3a\"], [0.8888888888888888, \"#fdca26\"], [1.0, \"#f0f921\"]], \"type\": \"histogram2d\"}], \"histogram2dcontour\": [{\"colorbar\": {\"outlinewidth\": 0, \"ticks\": \"\"}, \"colorscale\": [[0.0, \"#0d0887\"], [0.1111111111111111, \"#46039f\"], [0.2222222222222222, \"#7201a8\"], [0.3333333333333333, \"#9c179e\"], [0.4444444444444444, \"#bd3786\"], [0.5555555555555556, \"#d8576b\"], [0.6666666666666666, \"#ed7953\"], [0.7777777777777778, \"#fb9f3a\"], [0.8888888888888888, \"#fdca26\"], [1.0, \"#f0f921\"]], \"type\": \"histogram2dcontour\"}], \"mesh3d\": [{\"colorbar\": {\"outlinewidth\": 0, \"ticks\": \"\"}, \"type\": \"mesh3d\"}], \"parcoords\": [{\"line\": {\"colorbar\": {\"outlinewidth\": 0, \"ticks\": \"\"}}, \"type\": \"parcoords\"}], \"pie\": [{\"automargin\": true, \"type\": \"pie\"}], \"scatter\": [{\"marker\": {\"colorbar\": {\"outlinewidth\": 0, \"ticks\": \"\"}}, \"type\": \"scatter\"}], \"scatter3d\": [{\"line\": {\"colorbar\": {\"outlinewidth\": 0, \"ticks\": \"\"}}, \"marker\": {\"colorbar\": {\"outlinewidth\": 0, \"ticks\": \"\"}}, \"type\": \"scatter3d\"}], \"scattercarpet\": [{\"marker\": {\"colorbar\": {\"outlinewidth\": 0, \"ticks\": \"\"}}, \"type\": \"scattercarpet\"}], \"scattergeo\": [{\"marker\": {\"colorbar\": {\"outlinewidth\": 0, \"ticks\": \"\"}}, \"type\": \"scattergeo\"}], \"scattergl\": [{\"marker\": {\"colorbar\": {\"outlinewidth\": 0, \"ticks\": \"\"}}, \"type\": \"scattergl\"}], \"scattermapbox\": [{\"marker\": {\"colorbar\": {\"outlinewidth\": 0, \"ticks\": \"\"}}, \"type\": \"scattermapbox\"}], \"scatterpolar\": [{\"marker\": {\"colorbar\": {\"outlinewidth\": 0, \"ticks\": \"\"}}, \"type\": \"scatterpolar\"}], \"scatterpolargl\": [{\"marker\": {\"colorbar\": {\"outlinewidth\": 0, \"ticks\": \"\"}}, \"type\": \"scatterpolargl\"}], \"scatterternary\": [{\"marker\": {\"colorbar\": {\"outlinewidth\": 0, \"ticks\": \"\"}}, \"type\": \"scatterternary\"}], \"surface\": [{\"colorbar\": {\"outlinewidth\": 0, \"ticks\": \"\"}, \"colorscale\": [[0.0, \"#0d0887\"], [0.1111111111111111, \"#46039f\"], [0.2222222222222222, \"#7201a8\"], [0.3333333333333333, \"#9c179e\"], [0.4444444444444444, \"#bd3786\"], [0.5555555555555556, \"#d8576b\"], [0.6666666666666666, \"#ed7953\"], [0.7777777777777778, \"#fb9f3a\"], [0.8888888888888888, \"#fdca26\"], [1.0, \"#f0f921\"]], \"type\": \"surface\"}], \"table\": [{\"cells\": {\"fill\": {\"color\": \"#EBF0F8\"}, \"line\": {\"color\": \"white\"}}, \"header\": {\"fill\": {\"color\": \"#C8D4E3\"}, \"line\": {\"color\": \"white\"}}, \"type\": \"table\"}]}, \"layout\": {\"annotationdefaults\": {\"arrowcolor\": \"#2a3f5f\", \"arrowhead\": 0, \"arrowwidth\": 1}, \"coloraxis\": {\"colorbar\": {\"outlinewidth\": 0, \"ticks\": \"\"}}, \"colorscale\": {\"diverging\": [[0, \"#8e0152\"], [0.1, \"#c51b7d\"], [0.2, \"#de77ae\"], [0.3, \"#f1b6da\"], [0.4, \"#fde0ef\"], [0.5, \"#f7f7f7\"], [0.6, \"#e6f5d0\"], [0.7, \"#b8e186\"], [0.8, \"#7fbc41\"], [0.9, \"#4d9221\"], [1, \"#276419\"]], \"sequential\": [[0.0, \"#0d0887\"], [0.1111111111111111, \"#46039f\"], [0.2222222222222222, \"#7201a8\"], [0.3333333333333333, \"#9c179e\"], [0.4444444444444444, \"#bd3786\"], [0.5555555555555556, \"#d8576b\"], [0.6666666666666666, \"#ed7953\"], [0.7777777777777778, \"#fb9f3a\"], [0.8888888888888888, \"#fdca26\"], [1.0, \"#f0f921\"]], \"sequentialminus\": [[0.0, \"#0d0887\"], [0.1111111111111111, \"#46039f\"], [0.2222222222222222, \"#7201a8\"], [0.3333333333333333, \"#9c179e\"], [0.4444444444444444, \"#bd3786\"], [0.5555555555555556, \"#d8576b\"], [0.6666666666666666, \"#ed7953\"], [0.7777777777777778, \"#fb9f3a\"], [0.8888888888888888, \"#fdca26\"], [1.0, \"#f0f921\"]]}, \"colorway\": [\"#636efa\", \"#EF553B\", \"#00cc96\", \"#ab63fa\", \"#FFA15A\", \"#19d3f3\", \"#FF6692\", \"#B6E880\", \"#FF97FF\", \"#FECB52\"], \"font\": {\"color\": \"#2a3f5f\"}, \"geo\": {\"bgcolor\": \"white\", \"lakecolor\": \"white\", \"landcolor\": \"#E5ECF6\", \"showlakes\": true, \"showland\": true, \"subunitcolor\": \"white\"}, \"hoverlabel\": {\"align\": \"left\"}, \"hovermode\": \"closest\", \"mapbox\": {\"style\": \"light\"}, \"paper_bgcolor\": \"white\", \"plot_bgcolor\": \"#E5ECF6\", \"polar\": {\"angularaxis\": {\"gridcolor\": \"white\", \"linecolor\": \"white\", \"ticks\": \"\"}, \"bgcolor\": \"#E5ECF6\", \"radialaxis\": {\"gridcolor\": \"white\", \"linecolor\": \"white\", \"ticks\": \"\"}}, \"scene\": {\"xaxis\": {\"backgroundcolor\": \"#E5ECF6\", \"gridcolor\": \"white\", \"gridwidth\": 2, \"linecolor\": \"white\", \"showbackground\": true, \"ticks\": \"\", \"zerolinecolor\": \"white\"}, \"yaxis\": {\"backgroundcolor\": \"#E5ECF6\", \"gridcolor\": \"white\", \"gridwidth\": 2, \"linecolor\": \"white\", \"showbackground\": true, \"ticks\": \"\", \"zerolinecolor\": \"white\"}, \"zaxis\": {\"backgroundcolor\": \"#E5ECF6\", \"gridcolor\": \"white\", \"gridwidth\": 2, \"linecolor\": \"white\", \"showbackground\": true, \"ticks\": \"\", \"zerolinecolor\": \"white\"}}, \"shapedefaults\": {\"line\": {\"color\": \"#2a3f5f\"}}, \"ternary\": {\"aaxis\": {\"gridcolor\": \"white\", \"linecolor\": \"white\", \"ticks\": \"\"}, \"baxis\": {\"gridcolor\": \"white\", \"linecolor\": \"white\", \"ticks\": \"\"}, \"bgcolor\": \"#E5ECF6\", \"caxis\": {\"gridcolor\": \"white\", \"linecolor\": \"white\", \"ticks\": \"\"}}, \"title\": {\"x\": 0.05}, \"xaxis\": {\"automargin\": true, \"gridcolor\": \"white\", \"linecolor\": \"white\", \"ticks\": \"\", \"title\": {\"standoff\": 15}, \"zerolinecolor\": \"white\", \"zerolinewidth\": 2}, \"yaxis\": {\"automargin\": true, \"gridcolor\": \"white\", \"linecolor\": \"white\", \"ticks\": \"\", \"title\": {\"standoff\": 15}, \"zerolinecolor\": \"white\", \"zerolinewidth\": 2}}}, \"title\": {\"font\": {\"color\": \"#4D5663\"}}, \"xaxis\": {\"gridcolor\": \"#E1E5ED\", \"showgrid\": true, \"tickfont\": {\"color\": \"#4D5663\"}, \"title\": {\"font\": {\"color\": \"#4D5663\"}, \"text\": \"\"}, \"zerolinecolor\": \"#E1E5ED\"}, \"xaxis2\": {\"anchor\": \"y2\", \"gridcolor\": \"#E1E5ED\", \"showgrid\": true, \"showticklabels\": false, \"tickfont\": {\"color\": \"#4D5663\"}, \"title\": {\"font\": {\"color\": \"#4D5663\"}, \"text\": \"\"}, \"zerolinecolor\": \"#E1E5ED\"}, \"yaxis\": {\"domain\": [0.3, 1], \"gridcolor\": \"#E1E5ED\", \"showgrid\": true, \"tickfont\": {\"color\": \"#4D5663\"}, \"title\": {\"font\": {\"color\": \"#4D5663\"}, \"text\": \"\"}, \"zerolinecolor\": \"#E1E5ED\"}, \"yaxis2\": {\"domain\": [0, 0.25], \"gridcolor\": \"#E1E5ED\", \"showgrid\": true, \"tickfont\": {\"color\": \"#4D5663\"}, \"title\": {\"font\": {\"color\": \"#4D5663\"}, \"text\": \"Spread\"}, \"zerolinecolor\": \"#E1E5ED\"}},\n",
       "                        {\"showLink\": true, \"linkText\": \"Export to plot.ly\", \"plotlyServerURL\": \"https://plot.ly\", \"responsive\": true}\n",
       "                    ).then(function(){\n",
       "                            \n",
       "var gd = document.getElementById('f1b28673-f5c8-401e-af4e-a54937e8ca11');\n",
       "var x = new MutationObserver(function (mutations, observer) {{\n",
       "        var display = window.getComputedStyle(gd).display;\n",
       "        if (!display || display === 'none') {{\n",
       "            console.log([gd, 'removed!']);\n",
       "            Plotly.purge(gd);\n",
       "            observer.disconnect();\n",
       "        }}\n",
       "}});\n",
       "\n",
       "// Listen for the removal of the full notebook cells\n",
       "var notebookContainer = gd.closest('#notebook-container');\n",
       "if (notebookContainer) {{\n",
       "    x.observe(notebookContainer, {childList: true});\n",
       "}}\n",
       "\n",
       "// Listen for the clearing of the current output cell\n",
       "var outputEl = gd.closest('.output');\n",
       "if (outputEl) {{\n",
       "    x.observe(outputEl, {childList: true});\n",
       "}}\n",
       "\n",
       "                        })\n",
       "                };\n",
       "                });\n",
       "            </script>\n",
       "        </div>"
      ]
     },
     "metadata": {},
     "output_type": "display_data"
    }
   ],
   "source": [
    "# This is spread plot\n",
    "df1[['A','B']].iplot(kind='spread')"
   ]
  },
  {
   "cell_type": "code",
   "execution_count": 35,
   "metadata": {},
   "outputs": [
    {
     "data": {
      "application/vnd.plotly.v1+json": {
       "config": {
        "linkText": "Export to plot.ly",
        "plotlyServerURL": "https://plot.ly",
        "showLink": true
       },
       "data": [
        {
         "fill": "tonexty",
         "fillcolor": "rgba(255, 153, 51, 0.3)",
         "line": {
          "color": "rgba(255, 153, 51, 1.0)",
          "dash": "solid",
          "shape": "linear",
          "width": 1.3
         },
         "mode": "lines",
         "name": "A",
         "text": "",
         "type": "scatter",
         "x": [
          0,
          1,
          2,
          3,
          4,
          5,
          6,
          7,
          8,
          9,
          10,
          11,
          12,
          13,
          14,
          15,
          16,
          17,
          18,
          19,
          20,
          21,
          22,
          23,
          24,
          25,
          26,
          27,
          28,
          29,
          30,
          31,
          32,
          33,
          34,
          35,
          36,
          37,
          38,
          39,
          40,
          41,
          42,
          43,
          44,
          45,
          46,
          47,
          48,
          49,
          50,
          51,
          52,
          53,
          54,
          55,
          56,
          57,
          58,
          59,
          60,
          61,
          62,
          63,
          64,
          65,
          66,
          67,
          68,
          69,
          70,
          71,
          72,
          73,
          74,
          75,
          76,
          77,
          78,
          79,
          80,
          81,
          82,
          83,
          84,
          85,
          86,
          87,
          88,
          89,
          90,
          91,
          92,
          93,
          94,
          95,
          96,
          97,
          98,
          99
         ],
         "y": [
          0.9143199744490959,
          -0.6646337852370073,
          -0.14147521428869275,
          -1.5332881680412882,
          -1.095065469170004,
          1.677545617427011,
          1.730306742135822,
          0.3093380042070924,
          1.998060812676102,
          0.2103320482242863,
          -0.36356967714317556,
          1.0009522053146767,
          0.069031037048522,
          -1.4132717659293934,
          1.4342602513904974,
          0.8667006663131418,
          -1.0896509582121268,
          1.3185707666281514,
          0.20761718693952874,
          0.03055838903094499,
          -1.3019172354325668,
          0.4190207620229179,
          0.21463294842463157,
          0.09415542101933022,
          1.102150756931986,
          0.08058368310676578,
          -0.31050578091790093,
          0.7280257375312584,
          -0.7333481572330972,
          0.7111147715815395,
          -0.4534409552547134,
          -0.8493772470868383,
          -2.3618289209284056,
          -1.0355419986958943,
          0.2209044604729675,
          -0.3097002156986558,
          -0.5008454017984665,
          -1.725024685517588,
          -0.19105729905583005,
          -1.3917398712550997,
          -1.373493523702723,
          -0.7176943975375174,
          -0.910332404713052,
          -0.45750099928699495,
          0.236834377371843,
          -1.15271654366376,
          -0.3053263890214957,
          -0.7228191803601534,
          0.22380614257506143,
          -0.893109542297301,
          1.731068296261119,
          -0.8905500303106749,
          -0.43770584584543254,
          1.8228947096849963,
          0.19474734000545416,
          -2.2678586134597416,
          0.7415931835889042,
          -0.45194179738729906,
          0.3167107937975542,
          -0.33618888669222596,
          -0.40957852624382124,
          -0.21251080743656847,
          -0.6478327795201284,
          -0.2506330234581966,
          -0.2388108275357814,
          -0.46447261046488947,
          2.1274922284409015,
          -0.6624602143894611,
          -1.1013961877761724,
          -0.10962658841460418,
          -1.939924292062804,
          -2.922615773741819,
          0.33732369348397273,
          -0.8879693301653936,
          -0.14203014646171108,
          1.8459848092411675,
          0.5451264788261765,
          1.5161798792278758,
          -0.060903470222706466,
          -0.5042434120396577,
          0.24087301804518244,
          1.3184761215231695,
          -0.5311236458104367,
          0.16904327084218684,
          0.21497691222184062,
          -0.04976420464178433,
          -1.2351738292265402,
          -0.09703656247737708,
          -0.813348632878989,
          1.6254085445113675,
          0.2712263240648343,
          -0.9212781749948205,
          -0.5547997988204424,
          -2.13583941926714,
          0.8471102598607632,
          -0.8076097650549745,
          -0.08764701901324923,
          0.19439248949118276,
          -0.6406087430595749,
          -0.38706169745440083
         ]
        },
        {
         "fill": "tonexty",
         "fillcolor": "rgba(55, 128, 191, 0.3)",
         "line": {
          "color": "rgba(55, 128, 191, 1.0)",
          "dash": "solid",
          "shape": "linear",
          "width": 1.3
         },
         "mode": "lines",
         "name": "B",
         "text": "",
         "type": "scatter",
         "x": [
          0,
          1,
          2,
          3,
          4,
          5,
          6,
          7,
          8,
          9,
          10,
          11,
          12,
          13,
          14,
          15,
          16,
          17,
          18,
          19,
          20,
          21,
          22,
          23,
          24,
          25,
          26,
          27,
          28,
          29,
          30,
          31,
          32,
          33,
          34,
          35,
          36,
          37,
          38,
          39,
          40,
          41,
          42,
          43,
          44,
          45,
          46,
          47,
          48,
          49,
          50,
          51,
          52,
          53,
          54,
          55,
          56,
          57,
          58,
          59,
          60,
          61,
          62,
          63,
          64,
          65,
          66,
          67,
          68,
          69,
          70,
          71,
          72,
          73,
          74,
          75,
          76,
          77,
          78,
          79,
          80,
          81,
          82,
          83,
          84,
          85,
          86,
          87,
          88,
          89,
          90,
          91,
          92,
          93,
          94,
          95,
          96,
          97,
          98,
          99
         ],
         "y": [
          0.6749282585115552,
          0.46220733448224716,
          -1.490910968001053,
          -0.9542055401690364,
          -2.7436469552607257,
          1.2247915069558015,
          2.734135471131554,
          2.7723188651345936,
          2.646238832566175,
          1.0583324985771905,
          0.8747045386808665,
          -0.5828807793900588,
          -1.0431707351439898,
          -2.015758527370163,
          2.2809021761739405,
          -0.0807762236316405,
          -0.0732400206695456,
          2.0410704662073003,
          0.4628790710328916,
          -1.5639401557229382,
          -0.005067298703156586,
          -0.25337227187852324,
          0.20250226023216272,
          0.7169493144641177,
          1.673853011756957,
          0.06626689087362198,
          -1.3837161590508598,
          -0.1124553220082678,
          -0.4996836206030444,
          1.134843956191155,
          0.14653402597398513,
          0.8468179614249981,
          -1.0146544800536157,
          -2.7511904647095315,
          0.6809424669726027,
          1.3322148024473046,
          -1.428021385995105,
          -2.9766720271837293,
          -1.5204921612729247,
          -0.4958184784760681,
          -1.6488281858494878,
          -1.0303353155956643,
          -1.7420728784550272,
          1.0576013050486697,
          -0.4562460135488059,
          0.49962905844914807,
          1.2731782709929034,
          -1.889263863669145,
          -0.0733903328326791,
          -0.4697938809116607,
          2.7598877410761817,
          -0.6104660667234336,
          -0.2137534969640754,
          1.4633759452456319,
          -0.9180631357365626,
          -2.057002857397367,
          0.9146869538947733,
          -1.454754893244945,
          0.5211462220128503,
          -0.659789505376184,
          -0.4145222765466038,
          0.2800932452461494,
          -1.1891481396008516,
          0.30093916257075504,
          -0.17840391475178172,
          -1.0117337680031095,
          2.4812137255945528,
          -1.9549825404839796,
          0.04367496334186849,
          0.7833924118865193,
          -1.6341347835152908,
          -1.9908401163669431,
          -0.5514828552242608,
          -1.2814125476737124,
          -1.1360069710606089,
          2.1692678011898447,
          1.7665868620322023,
          2.792684561387773,
          -0.20723603107645705,
          -1.446996749165431,
          2.0784962184335702,
          2.845894108624677,
          -0.5672006595348646,
          -1.463310541880153,
          2.568812641683218,
          -0.7360677513118363,
          -1.5343757382531178,
          1.4973150226894534,
          1.3892864040606,
          -0.048840732740939696,
          0.060908136429744325,
          -1.8155756524713706,
          -0.8681334009125568,
          -0.8846760615175631,
          0.39383085457956984,
          -1.4789818573609885,
          -0.6218910573861116,
          -0.05691256900029845,
          -0.9846763260140325,
          -0.2350111111180889
         ]
        },
        {
         "fill": "tonexty",
         "fillcolor": "rgba(50, 171, 96, 0.3)",
         "line": {
          "color": "rgba(50, 171, 96, 1.0)",
          "dash": "solid",
          "shape": "linear",
          "width": 1.3
         },
         "mode": "lines",
         "name": "C",
         "text": "",
         "type": "scatter",
         "x": [
          0,
          1,
          2,
          3,
          4,
          5,
          6,
          7,
          8,
          9,
          10,
          11,
          12,
          13,
          14,
          15,
          16,
          17,
          18,
          19,
          20,
          21,
          22,
          23,
          24,
          25,
          26,
          27,
          28,
          29,
          30,
          31,
          32,
          33,
          34,
          35,
          36,
          37,
          38,
          39,
          40,
          41,
          42,
          43,
          44,
          45,
          46,
          47,
          48,
          49,
          50,
          51,
          52,
          53,
          54,
          55,
          56,
          57,
          58,
          59,
          60,
          61,
          62,
          63,
          64,
          65,
          66,
          67,
          68,
          69,
          70,
          71,
          72,
          73,
          74,
          75,
          76,
          77,
          78,
          79,
          80,
          81,
          82,
          83,
          84,
          85,
          86,
          87,
          88,
          89,
          90,
          91,
          92,
          93,
          94,
          95,
          96,
          97,
          98,
          99
         ],
         "y": [
          0.7584772595171658,
          -0.7140508651296803,
          -2.7344222486685754,
          -2.841264780640472,
          -2.043018271779191,
          -0.681319128333348,
          3.3633029327875787,
          4.694346931728079,
          1.859581255117069,
          1.2740494681436645,
          -1.4955164175351912,
          0.8908179732796766,
          0.8729497705490317,
          -0.32554074058705496,
          2.424897604961812,
          -1.204995179642955,
          0.596988269262807,
          3.2764924088626453,
          -0.44128807634225786,
          -1.058548025358388,
          0.5585184551407504,
          -0.9697580292999981,
          -0.11434506334555472,
          0.05951050611024833,
          1.7632363472507993,
          -0.21636927519417232,
          -3.382496779236387,
          -0.48920395785229376,
          -1.8057717271034788,
          0.8320922226911365,
          0.7290917157785168,
          1.680503365531942,
          -2.3848561846109826,
          -3.6885366091972145,
          0.855534919890341,
          1.1075837946915352,
          -0.3950068838657772,
          -3.0751816960962026,
          -0.7963264028714254,
          0.45936814264256287,
          -1.3427442400249254,
          0.49875843258618846,
          0.06780686860520801,
          1.858084434654785,
          -0.6611465584187232,
          -1.8951531211358297,
          1.194640743349615,
          -2.515491306774601,
          0.2673240128518249,
          2.018335603128987,
          2.5727084870999404,
          1.122419183430027,
          0.9654436871079063,
          2.011994274267137,
          -1.4590663510062936,
          -3.1213408734363615,
          0.8206070152280296,
          -0.4839724274976932,
          0.699312824373701,
          -1.2232280307269,
          -0.6514325928559023,
          0.18773579731882398,
          -2.2038755640437175,
          1.5778714305280643,
          0.21687843849937374,
          -0.4912161895508633,
          3.608552900020646,
          -2.474326593508539,
          0.4337434327173958,
          0.6972810038202231,
          -1.4772431632813503,
          -2.874398892236824,
          -1.0116251779921783,
          -1.1320985054754,
          -0.2868737636382145,
          2.435092835296158,
          1.0834226143770782,
          5.40757853915151,
          -0.21725124752907227,
          -0.9225043200209686,
          2.7046154756802525,
          4.0260323016704636,
          -0.529017781555821,
          -3.3370608536625914,
          1.1759158005341375,
          -0.5946425777985477,
          -2.661260979603836,
          1.3964176574763107,
          0.433233734179144,
          0.5654417183799064,
          0.12458685019293168,
          -0.9875669296353173,
          -0.8406594364433824,
          -2.0253624352570787,
          -0.24776962869923785,
          0.3394831012971149,
          0.39767565717556663,
          0.6741587873270272,
          -0.6076317581865935,
          -1.7880196001252433
         ]
        },
        {
         "fill": "tonexty",
         "fillcolor": "rgba(128, 0, 128, 0.3)",
         "line": {
          "color": "rgba(128, 0, 128, 1.0)",
          "dash": "solid",
          "shape": "linear",
          "width": 1.3
         },
         "mode": "lines",
         "name": "D",
         "text": "",
         "type": "scatter",
         "x": [
          0,
          1,
          2,
          3,
          4,
          5,
          6,
          7,
          8,
          9,
          10,
          11,
          12,
          13,
          14,
          15,
          16,
          17,
          18,
          19,
          20,
          21,
          22,
          23,
          24,
          25,
          26,
          27,
          28,
          29,
          30,
          31,
          32,
          33,
          34,
          35,
          36,
          37,
          38,
          39,
          40,
          41,
          42,
          43,
          44,
          45,
          46,
          47,
          48,
          49,
          50,
          51,
          52,
          53,
          54,
          55,
          56,
          57,
          58,
          59,
          60,
          61,
          62,
          63,
          64,
          65,
          66,
          67,
          68,
          69,
          70,
          71,
          72,
          73,
          74,
          75,
          76,
          77,
          78,
          79,
          80,
          81,
          82,
          83,
          84,
          85,
          86,
          87,
          88,
          89,
          90,
          91,
          92,
          93,
          94,
          95,
          96,
          97,
          98,
          99
         ],
         "y": [
          2.1806129194169817,
          -1.86386167632098,
          -1.648245777376715,
          -4.023864715940785,
          -1.9301065961623467,
          -1.7216965128822574,
          3.337991628794356,
          3.7470518177018226,
          -0.22588102191578918,
          1.2834898519069575,
          0.04571242829792177,
          2.1538752856104892,
          1.211446898176159,
          0.21792478371812862,
          3.155769371910006,
          -1.8292186145577842,
          1.6198433016118072,
          2.732607112389087,
          1.9747147015944795,
          2.2135869801992545,
          0.2016616660612267,
          -0.8098115883546181,
          -0.8130462790999529,
          1.1792560952510103,
          3.748379872268651,
          0.9229651253739721,
          -4.052105159160329,
          -1.7878277391982687,
          -1.7304156005388238,
          0.9591851149010671,
          0.007812129361526976,
          2.0757233403089033,
          -1.2190281847026692,
          -4.130634729042842,
          0.5810120023493495,
          2.0070059541856153,
          0.7233740648538858,
          -2.68742171940299,
          -1.6050292195025542,
          1.9468673723006078,
          0.2091707328490937,
          1.8682316199726257,
          1.669793016560435,
          1.7230215502144093,
          -2.030522325555895,
          -2.113327317446087,
          0.17914037951018336,
          -0.9088697647229624,
          0.7212147042543735,
          2.708581157132918,
          3.372287545399756,
          -1.2374964987047075,
          1.4947500185898956,
          0.5509691408839414,
          -0.15642213280784922,
          -3.9259423064335106,
          1.1130465457024843,
          0.3576053594021088,
          1.0058142207027971,
          -0.8460189308884281,
          -0.3875354056450198,
          1.3091129558133878,
          -2.2736116970332363,
          3.5102203968881653,
          -0.1569472572365728,
          -0.6399951413937218,
          3.279917431333257,
          -1.423293000377531,
          1.9809144131908107,
          0.7504080910968259,
          -1.0867624363458201,
          -2.091015493745192,
          -1.9753666298179016,
          -0.3362004179882292,
          1.0611411277712528,
          3.846827439152422,
          1.2646725020541378,
          4.86451825182365,
          -1.758423628041389,
          -1.2493894553101845,
          3.0084189188975285,
          3.8611001048516993,
          -2.366104707624313,
          -2.7776158796874917,
          -1.108757644537044,
          -2.311759353340257,
          -1.2572791082786638,
          -0.20439086808464446,
          -0.16990596551251458,
          1.770685511146576,
          1.4919954898252072,
          -2.4159143154991067,
          -1.495187011708365,
          -0.8355822949216503,
          0.5595273359790989,
          1.3025259277591414,
          0.12289829611983005,
          0.9345106926068427,
          -0.1608645376274836,
          0.6085040115442533
         ]
        }
       ],
       "layout": {
        "legend": {
         "bgcolor": "#F5F6F9",
         "font": {
          "color": "#4D5663"
         }
        },
        "paper_bgcolor": "#F5F6F9",
        "plot_bgcolor": "#F5F6F9",
        "template": {
         "data": {
          "bar": [
           {
            "error_x": {
             "color": "#2a3f5f"
            },
            "error_y": {
             "color": "#2a3f5f"
            },
            "marker": {
             "line": {
              "color": "#E5ECF6",
              "width": 0.5
             }
            },
            "type": "bar"
           }
          ],
          "barpolar": [
           {
            "marker": {
             "line": {
              "color": "#E5ECF6",
              "width": 0.5
             }
            },
            "type": "barpolar"
           }
          ],
          "carpet": [
           {
            "aaxis": {
             "endlinecolor": "#2a3f5f",
             "gridcolor": "white",
             "linecolor": "white",
             "minorgridcolor": "white",
             "startlinecolor": "#2a3f5f"
            },
            "baxis": {
             "endlinecolor": "#2a3f5f",
             "gridcolor": "white",
             "linecolor": "white",
             "minorgridcolor": "white",
             "startlinecolor": "#2a3f5f"
            },
            "type": "carpet"
           }
          ],
          "choropleth": [
           {
            "colorbar": {
             "outlinewidth": 0,
             "ticks": ""
            },
            "type": "choropleth"
           }
          ],
          "contour": [
           {
            "colorbar": {
             "outlinewidth": 0,
             "ticks": ""
            },
            "colorscale": [
             [
              0,
              "#0d0887"
             ],
             [
              0.1111111111111111,
              "#46039f"
             ],
             [
              0.2222222222222222,
              "#7201a8"
             ],
             [
              0.3333333333333333,
              "#9c179e"
             ],
             [
              0.4444444444444444,
              "#bd3786"
             ],
             [
              0.5555555555555556,
              "#d8576b"
             ],
             [
              0.6666666666666666,
              "#ed7953"
             ],
             [
              0.7777777777777778,
              "#fb9f3a"
             ],
             [
              0.8888888888888888,
              "#fdca26"
             ],
             [
              1,
              "#f0f921"
             ]
            ],
            "type": "contour"
           }
          ],
          "contourcarpet": [
           {
            "colorbar": {
             "outlinewidth": 0,
             "ticks": ""
            },
            "type": "contourcarpet"
           }
          ],
          "heatmap": [
           {
            "colorbar": {
             "outlinewidth": 0,
             "ticks": ""
            },
            "colorscale": [
             [
              0,
              "#0d0887"
             ],
             [
              0.1111111111111111,
              "#46039f"
             ],
             [
              0.2222222222222222,
              "#7201a8"
             ],
             [
              0.3333333333333333,
              "#9c179e"
             ],
             [
              0.4444444444444444,
              "#bd3786"
             ],
             [
              0.5555555555555556,
              "#d8576b"
             ],
             [
              0.6666666666666666,
              "#ed7953"
             ],
             [
              0.7777777777777778,
              "#fb9f3a"
             ],
             [
              0.8888888888888888,
              "#fdca26"
             ],
             [
              1,
              "#f0f921"
             ]
            ],
            "type": "heatmap"
           }
          ],
          "heatmapgl": [
           {
            "colorbar": {
             "outlinewidth": 0,
             "ticks": ""
            },
            "colorscale": [
             [
              0,
              "#0d0887"
             ],
             [
              0.1111111111111111,
              "#46039f"
             ],
             [
              0.2222222222222222,
              "#7201a8"
             ],
             [
              0.3333333333333333,
              "#9c179e"
             ],
             [
              0.4444444444444444,
              "#bd3786"
             ],
             [
              0.5555555555555556,
              "#d8576b"
             ],
             [
              0.6666666666666666,
              "#ed7953"
             ],
             [
              0.7777777777777778,
              "#fb9f3a"
             ],
             [
              0.8888888888888888,
              "#fdca26"
             ],
             [
              1,
              "#f0f921"
             ]
            ],
            "type": "heatmapgl"
           }
          ],
          "histogram": [
           {
            "marker": {
             "colorbar": {
              "outlinewidth": 0,
              "ticks": ""
             }
            },
            "type": "histogram"
           }
          ],
          "histogram2d": [
           {
            "colorbar": {
             "outlinewidth": 0,
             "ticks": ""
            },
            "colorscale": [
             [
              0,
              "#0d0887"
             ],
             [
              0.1111111111111111,
              "#46039f"
             ],
             [
              0.2222222222222222,
              "#7201a8"
             ],
             [
              0.3333333333333333,
              "#9c179e"
             ],
             [
              0.4444444444444444,
              "#bd3786"
             ],
             [
              0.5555555555555556,
              "#d8576b"
             ],
             [
              0.6666666666666666,
              "#ed7953"
             ],
             [
              0.7777777777777778,
              "#fb9f3a"
             ],
             [
              0.8888888888888888,
              "#fdca26"
             ],
             [
              1,
              "#f0f921"
             ]
            ],
            "type": "histogram2d"
           }
          ],
          "histogram2dcontour": [
           {
            "colorbar": {
             "outlinewidth": 0,
             "ticks": ""
            },
            "colorscale": [
             [
              0,
              "#0d0887"
             ],
             [
              0.1111111111111111,
              "#46039f"
             ],
             [
              0.2222222222222222,
              "#7201a8"
             ],
             [
              0.3333333333333333,
              "#9c179e"
             ],
             [
              0.4444444444444444,
              "#bd3786"
             ],
             [
              0.5555555555555556,
              "#d8576b"
             ],
             [
              0.6666666666666666,
              "#ed7953"
             ],
             [
              0.7777777777777778,
              "#fb9f3a"
             ],
             [
              0.8888888888888888,
              "#fdca26"
             ],
             [
              1,
              "#f0f921"
             ]
            ],
            "type": "histogram2dcontour"
           }
          ],
          "mesh3d": [
           {
            "colorbar": {
             "outlinewidth": 0,
             "ticks": ""
            },
            "type": "mesh3d"
           }
          ],
          "parcoords": [
           {
            "line": {
             "colorbar": {
              "outlinewidth": 0,
              "ticks": ""
             }
            },
            "type": "parcoords"
           }
          ],
          "pie": [
           {
            "automargin": true,
            "type": "pie"
           }
          ],
          "scatter": [
           {
            "marker": {
             "colorbar": {
              "outlinewidth": 0,
              "ticks": ""
             }
            },
            "type": "scatter"
           }
          ],
          "scatter3d": [
           {
            "line": {
             "colorbar": {
              "outlinewidth": 0,
              "ticks": ""
             }
            },
            "marker": {
             "colorbar": {
              "outlinewidth": 0,
              "ticks": ""
             }
            },
            "type": "scatter3d"
           }
          ],
          "scattercarpet": [
           {
            "marker": {
             "colorbar": {
              "outlinewidth": 0,
              "ticks": ""
             }
            },
            "type": "scattercarpet"
           }
          ],
          "scattergeo": [
           {
            "marker": {
             "colorbar": {
              "outlinewidth": 0,
              "ticks": ""
             }
            },
            "type": "scattergeo"
           }
          ],
          "scattergl": [
           {
            "marker": {
             "colorbar": {
              "outlinewidth": 0,
              "ticks": ""
             }
            },
            "type": "scattergl"
           }
          ],
          "scattermapbox": [
           {
            "marker": {
             "colorbar": {
              "outlinewidth": 0,
              "ticks": ""
             }
            },
            "type": "scattermapbox"
           }
          ],
          "scatterpolar": [
           {
            "marker": {
             "colorbar": {
              "outlinewidth": 0,
              "ticks": ""
             }
            },
            "type": "scatterpolar"
           }
          ],
          "scatterpolargl": [
           {
            "marker": {
             "colorbar": {
              "outlinewidth": 0,
              "ticks": ""
             }
            },
            "type": "scatterpolargl"
           }
          ],
          "scatterternary": [
           {
            "marker": {
             "colorbar": {
              "outlinewidth": 0,
              "ticks": ""
             }
            },
            "type": "scatterternary"
           }
          ],
          "surface": [
           {
            "colorbar": {
             "outlinewidth": 0,
             "ticks": ""
            },
            "colorscale": [
             [
              0,
              "#0d0887"
             ],
             [
              0.1111111111111111,
              "#46039f"
             ],
             [
              0.2222222222222222,
              "#7201a8"
             ],
             [
              0.3333333333333333,
              "#9c179e"
             ],
             [
              0.4444444444444444,
              "#bd3786"
             ],
             [
              0.5555555555555556,
              "#d8576b"
             ],
             [
              0.6666666666666666,
              "#ed7953"
             ],
             [
              0.7777777777777778,
              "#fb9f3a"
             ],
             [
              0.8888888888888888,
              "#fdca26"
             ],
             [
              1,
              "#f0f921"
             ]
            ],
            "type": "surface"
           }
          ],
          "table": [
           {
            "cells": {
             "fill": {
              "color": "#EBF0F8"
             },
             "line": {
              "color": "white"
             }
            },
            "header": {
             "fill": {
              "color": "#C8D4E3"
             },
             "line": {
              "color": "white"
             }
            },
            "type": "table"
           }
          ]
         },
         "layout": {
          "annotationdefaults": {
           "arrowcolor": "#2a3f5f",
           "arrowhead": 0,
           "arrowwidth": 1
          },
          "coloraxis": {
           "colorbar": {
            "outlinewidth": 0,
            "ticks": ""
           }
          },
          "colorscale": {
           "diverging": [
            [
             0,
             "#8e0152"
            ],
            [
             0.1,
             "#c51b7d"
            ],
            [
             0.2,
             "#de77ae"
            ],
            [
             0.3,
             "#f1b6da"
            ],
            [
             0.4,
             "#fde0ef"
            ],
            [
             0.5,
             "#f7f7f7"
            ],
            [
             0.6,
             "#e6f5d0"
            ],
            [
             0.7,
             "#b8e186"
            ],
            [
             0.8,
             "#7fbc41"
            ],
            [
             0.9,
             "#4d9221"
            ],
            [
             1,
             "#276419"
            ]
           ],
           "sequential": [
            [
             0,
             "#0d0887"
            ],
            [
             0.1111111111111111,
             "#46039f"
            ],
            [
             0.2222222222222222,
             "#7201a8"
            ],
            [
             0.3333333333333333,
             "#9c179e"
            ],
            [
             0.4444444444444444,
             "#bd3786"
            ],
            [
             0.5555555555555556,
             "#d8576b"
            ],
            [
             0.6666666666666666,
             "#ed7953"
            ],
            [
             0.7777777777777778,
             "#fb9f3a"
            ],
            [
             0.8888888888888888,
             "#fdca26"
            ],
            [
             1,
             "#f0f921"
            ]
           ],
           "sequentialminus": [
            [
             0,
             "#0d0887"
            ],
            [
             0.1111111111111111,
             "#46039f"
            ],
            [
             0.2222222222222222,
             "#7201a8"
            ],
            [
             0.3333333333333333,
             "#9c179e"
            ],
            [
             0.4444444444444444,
             "#bd3786"
            ],
            [
             0.5555555555555556,
             "#d8576b"
            ],
            [
             0.6666666666666666,
             "#ed7953"
            ],
            [
             0.7777777777777778,
             "#fb9f3a"
            ],
            [
             0.8888888888888888,
             "#fdca26"
            ],
            [
             1,
             "#f0f921"
            ]
           ]
          },
          "colorway": [
           "#636efa",
           "#EF553B",
           "#00cc96",
           "#ab63fa",
           "#FFA15A",
           "#19d3f3",
           "#FF6692",
           "#B6E880",
           "#FF97FF",
           "#FECB52"
          ],
          "font": {
           "color": "#2a3f5f"
          },
          "geo": {
           "bgcolor": "white",
           "lakecolor": "white",
           "landcolor": "#E5ECF6",
           "showlakes": true,
           "showland": true,
           "subunitcolor": "white"
          },
          "hoverlabel": {
           "align": "left"
          },
          "hovermode": "closest",
          "mapbox": {
           "style": "light"
          },
          "paper_bgcolor": "white",
          "plot_bgcolor": "#E5ECF6",
          "polar": {
           "angularaxis": {
            "gridcolor": "white",
            "linecolor": "white",
            "ticks": ""
           },
           "bgcolor": "#E5ECF6",
           "radialaxis": {
            "gridcolor": "white",
            "linecolor": "white",
            "ticks": ""
           }
          },
          "scene": {
           "xaxis": {
            "backgroundcolor": "#E5ECF6",
            "gridcolor": "white",
            "gridwidth": 2,
            "linecolor": "white",
            "showbackground": true,
            "ticks": "",
            "zerolinecolor": "white"
           },
           "yaxis": {
            "backgroundcolor": "#E5ECF6",
            "gridcolor": "white",
            "gridwidth": 2,
            "linecolor": "white",
            "showbackground": true,
            "ticks": "",
            "zerolinecolor": "white"
           },
           "zaxis": {
            "backgroundcolor": "#E5ECF6",
            "gridcolor": "white",
            "gridwidth": 2,
            "linecolor": "white",
            "showbackground": true,
            "ticks": "",
            "zerolinecolor": "white"
           }
          },
          "shapedefaults": {
           "line": {
            "color": "#2a3f5f"
           }
          },
          "ternary": {
           "aaxis": {
            "gridcolor": "white",
            "linecolor": "white",
            "ticks": ""
           },
           "baxis": {
            "gridcolor": "white",
            "linecolor": "white",
            "ticks": ""
           },
           "bgcolor": "#E5ECF6",
           "caxis": {
            "gridcolor": "white",
            "linecolor": "white",
            "ticks": ""
           }
          },
          "title": {
           "x": 0.05
          },
          "xaxis": {
           "automargin": true,
           "gridcolor": "white",
           "linecolor": "white",
           "ticks": "",
           "title": {
            "standoff": 15
           },
           "zerolinecolor": "white",
           "zerolinewidth": 2
          },
          "yaxis": {
           "automargin": true,
           "gridcolor": "white",
           "linecolor": "white",
           "ticks": "",
           "title": {
            "standoff": 15
           },
           "zerolinecolor": "white",
           "zerolinewidth": 2
          }
         }
        },
        "title": {
         "font": {
          "color": "#4D5663"
         }
        },
        "xaxis": {
         "gridcolor": "#E1E5ED",
         "showgrid": true,
         "tickfont": {
          "color": "#4D5663"
         },
         "title": {
          "font": {
           "color": "#4D5663"
          },
          "text": ""
         },
         "zerolinecolor": "#E1E5ED"
        },
        "yaxis": {
         "gridcolor": "#E1E5ED",
         "showgrid": true,
         "tickfont": {
          "color": "#4D5663"
         },
         "title": {
          "font": {
           "color": "#4D5663"
          },
          "text": ""
         },
         "zerolinecolor": "#E1E5ED"
        }
       }
      },
      "text/html": [
       "<div>\n",
       "        \n",
       "        \n",
       "            <div id=\"3f51bb60-7982-4db0-86c6-702102bdfe8f\" class=\"plotly-graph-div\" style=\"height:525px; width:100%;\"></div>\n",
       "            <script type=\"text/javascript\">\n",
       "                require([\"plotly\"], function(Plotly) {\n",
       "                    window.PLOTLYENV=window.PLOTLYENV || {};\n",
       "                    window.PLOTLYENV.BASE_URL='https://plot.ly';\n",
       "                    \n",
       "                if (document.getElementById(\"3f51bb60-7982-4db0-86c6-702102bdfe8f\")) {\n",
       "                    Plotly.newPlot(\n",
       "                        '3f51bb60-7982-4db0-86c6-702102bdfe8f',\n",
       "                        [{\"fill\": \"tonexty\", \"fillcolor\": \"rgba(255, 153, 51, 0.3)\", \"line\": {\"color\": \"rgba(255, 153, 51, 1.0)\", \"dash\": \"solid\", \"shape\": \"linear\", \"width\": 1.3}, \"mode\": \"lines\", \"name\": \"A\", \"text\": \"\", \"type\": \"scatter\", \"x\": [0, 1, 2, 3, 4, 5, 6, 7, 8, 9, 10, 11, 12, 13, 14, 15, 16, 17, 18, 19, 20, 21, 22, 23, 24, 25, 26, 27, 28, 29, 30, 31, 32, 33, 34, 35, 36, 37, 38, 39, 40, 41, 42, 43, 44, 45, 46, 47, 48, 49, 50, 51, 52, 53, 54, 55, 56, 57, 58, 59, 60, 61, 62, 63, 64, 65, 66, 67, 68, 69, 70, 71, 72, 73, 74, 75, 76, 77, 78, 79, 80, 81, 82, 83, 84, 85, 86, 87, 88, 89, 90, 91, 92, 93, 94, 95, 96, 97, 98, 99], \"y\": [0.9143199744490959, -0.6646337852370073, -0.14147521428869275, -1.5332881680412882, -1.095065469170004, 1.677545617427011, 1.730306742135822, 0.3093380042070924, 1.998060812676102, 0.2103320482242863, -0.36356967714317556, 1.0009522053146767, 0.069031037048522, -1.4132717659293934, 1.4342602513904974, 0.8667006663131418, -1.0896509582121268, 1.3185707666281514, 0.20761718693952874, 0.03055838903094499, -1.3019172354325668, 0.4190207620229179, 0.21463294842463157, 0.09415542101933022, 1.102150756931986, 0.08058368310676578, -0.31050578091790093, 0.7280257375312584, -0.7333481572330972, 0.7111147715815395, -0.4534409552547134, -0.8493772470868383, -2.3618289209284056, -1.0355419986958943, 0.2209044604729675, -0.3097002156986558, -0.5008454017984665, -1.725024685517588, -0.19105729905583005, -1.3917398712550997, -1.373493523702723, -0.7176943975375174, -0.910332404713052, -0.45750099928699495, 0.236834377371843, -1.15271654366376, -0.3053263890214957, -0.7228191803601534, 0.22380614257506143, -0.893109542297301, 1.731068296261119, -0.8905500303106749, -0.43770584584543254, 1.8228947096849963, 0.19474734000545416, -2.2678586134597416, 0.7415931835889042, -0.45194179738729906, 0.3167107937975542, -0.33618888669222596, -0.40957852624382124, -0.21251080743656847, -0.6478327795201284, -0.2506330234581966, -0.2388108275357814, -0.46447261046488947, 2.1274922284409015, -0.6624602143894611, -1.1013961877761724, -0.10962658841460418, -1.939924292062804, -2.922615773741819, 0.33732369348397273, -0.8879693301653936, -0.14203014646171108, 1.8459848092411675, 0.5451264788261765, 1.5161798792278758, -0.060903470222706466, -0.5042434120396577, 0.24087301804518244, 1.3184761215231695, -0.5311236458104367, 0.16904327084218684, 0.21497691222184062, -0.04976420464178433, -1.2351738292265402, -0.09703656247737708, -0.813348632878989, 1.6254085445113675, 0.2712263240648343, -0.9212781749948205, -0.5547997988204424, -2.13583941926714, 0.8471102598607632, -0.8076097650549745, -0.08764701901324923, 0.19439248949118276, -0.6406087430595749, -0.38706169745440083]}, {\"fill\": \"tonexty\", \"fillcolor\": \"rgba(55, 128, 191, 0.3)\", \"line\": {\"color\": \"rgba(55, 128, 191, 1.0)\", \"dash\": \"solid\", \"shape\": \"linear\", \"width\": 1.3}, \"mode\": \"lines\", \"name\": \"B\", \"text\": \"\", \"type\": \"scatter\", \"x\": [0, 1, 2, 3, 4, 5, 6, 7, 8, 9, 10, 11, 12, 13, 14, 15, 16, 17, 18, 19, 20, 21, 22, 23, 24, 25, 26, 27, 28, 29, 30, 31, 32, 33, 34, 35, 36, 37, 38, 39, 40, 41, 42, 43, 44, 45, 46, 47, 48, 49, 50, 51, 52, 53, 54, 55, 56, 57, 58, 59, 60, 61, 62, 63, 64, 65, 66, 67, 68, 69, 70, 71, 72, 73, 74, 75, 76, 77, 78, 79, 80, 81, 82, 83, 84, 85, 86, 87, 88, 89, 90, 91, 92, 93, 94, 95, 96, 97, 98, 99], \"y\": [0.6749282585115552, 0.46220733448224716, -1.490910968001053, -0.9542055401690364, -2.7436469552607257, 1.2247915069558015, 2.734135471131554, 2.7723188651345936, 2.646238832566175, 1.0583324985771905, 0.8747045386808665, -0.5828807793900588, -1.0431707351439898, -2.015758527370163, 2.2809021761739405, -0.0807762236316405, -0.0732400206695456, 2.0410704662073003, 0.4628790710328916, -1.5639401557229382, -0.005067298703156586, -0.25337227187852324, 0.20250226023216272, 0.7169493144641177, 1.673853011756957, 0.06626689087362198, -1.3837161590508598, -0.1124553220082678, -0.4996836206030444, 1.134843956191155, 0.14653402597398513, 0.8468179614249981, -1.0146544800536157, -2.7511904647095315, 0.6809424669726027, 1.3322148024473046, -1.428021385995105, -2.9766720271837293, -1.5204921612729247, -0.4958184784760681, -1.6488281858494878, -1.0303353155956643, -1.7420728784550272, 1.0576013050486697, -0.4562460135488059, 0.49962905844914807, 1.2731782709929034, -1.889263863669145, -0.0733903328326791, -0.4697938809116607, 2.7598877410761817, -0.6104660667234336, -0.2137534969640754, 1.4633759452456319, -0.9180631357365626, -2.057002857397367, 0.9146869538947733, -1.454754893244945, 0.5211462220128503, -0.659789505376184, -0.4145222765466038, 0.2800932452461494, -1.1891481396008516, 0.30093916257075504, -0.17840391475178172, -1.0117337680031095, 2.4812137255945528, -1.9549825404839796, 0.04367496334186849, 0.7833924118865193, -1.6341347835152908, -1.9908401163669431, -0.5514828552242608, -1.2814125476737124, -1.1360069710606089, 2.1692678011898447, 1.7665868620322023, 2.792684561387773, -0.20723603107645705, -1.446996749165431, 2.0784962184335702, 2.845894108624677, -0.5672006595348646, -1.463310541880153, 2.568812641683218, -0.7360677513118363, -1.5343757382531178, 1.4973150226894534, 1.3892864040606, -0.048840732740939696, 0.060908136429744325, -1.8155756524713706, -0.8681334009125568, -0.8846760615175631, 0.39383085457956984, -1.4789818573609885, -0.6218910573861116, -0.05691256900029845, -0.9846763260140325, -0.2350111111180889]}, {\"fill\": \"tonexty\", \"fillcolor\": \"rgba(50, 171, 96, 0.3)\", \"line\": {\"color\": \"rgba(50, 171, 96, 1.0)\", \"dash\": \"solid\", \"shape\": \"linear\", \"width\": 1.3}, \"mode\": \"lines\", \"name\": \"C\", \"text\": \"\", \"type\": \"scatter\", \"x\": [0, 1, 2, 3, 4, 5, 6, 7, 8, 9, 10, 11, 12, 13, 14, 15, 16, 17, 18, 19, 20, 21, 22, 23, 24, 25, 26, 27, 28, 29, 30, 31, 32, 33, 34, 35, 36, 37, 38, 39, 40, 41, 42, 43, 44, 45, 46, 47, 48, 49, 50, 51, 52, 53, 54, 55, 56, 57, 58, 59, 60, 61, 62, 63, 64, 65, 66, 67, 68, 69, 70, 71, 72, 73, 74, 75, 76, 77, 78, 79, 80, 81, 82, 83, 84, 85, 86, 87, 88, 89, 90, 91, 92, 93, 94, 95, 96, 97, 98, 99], \"y\": [0.7584772595171658, -0.7140508651296803, -2.7344222486685754, -2.841264780640472, -2.043018271779191, -0.681319128333348, 3.3633029327875787, 4.694346931728079, 1.859581255117069, 1.2740494681436645, -1.4955164175351912, 0.8908179732796766, 0.8729497705490317, -0.32554074058705496, 2.424897604961812, -1.204995179642955, 0.596988269262807, 3.2764924088626453, -0.44128807634225786, -1.058548025358388, 0.5585184551407504, -0.9697580292999981, -0.11434506334555472, 0.05951050611024833, 1.7632363472507993, -0.21636927519417232, -3.382496779236387, -0.48920395785229376, -1.8057717271034788, 0.8320922226911365, 0.7290917157785168, 1.680503365531942, -2.3848561846109826, -3.6885366091972145, 0.855534919890341, 1.1075837946915352, -0.3950068838657772, -3.0751816960962026, -0.7963264028714254, 0.45936814264256287, -1.3427442400249254, 0.49875843258618846, 0.06780686860520801, 1.858084434654785, -0.6611465584187232, -1.8951531211358297, 1.194640743349615, -2.515491306774601, 0.2673240128518249, 2.018335603128987, 2.5727084870999404, 1.122419183430027, 0.9654436871079063, 2.011994274267137, -1.4590663510062936, -3.1213408734363615, 0.8206070152280296, -0.4839724274976932, 0.699312824373701, -1.2232280307269, -0.6514325928559023, 0.18773579731882398, -2.2038755640437175, 1.5778714305280643, 0.21687843849937374, -0.4912161895508633, 3.608552900020646, -2.474326593508539, 0.4337434327173958, 0.6972810038202231, -1.4772431632813503, -2.874398892236824, -1.0116251779921783, -1.1320985054754, -0.2868737636382145, 2.435092835296158, 1.0834226143770782, 5.40757853915151, -0.21725124752907227, -0.9225043200209686, 2.7046154756802525, 4.0260323016704636, -0.529017781555821, -3.3370608536625914, 1.1759158005341375, -0.5946425777985477, -2.661260979603836, 1.3964176574763107, 0.433233734179144, 0.5654417183799064, 0.12458685019293168, -0.9875669296353173, -0.8406594364433824, -2.0253624352570787, -0.24776962869923785, 0.3394831012971149, 0.39767565717556663, 0.6741587873270272, -0.6076317581865935, -1.7880196001252433]}, {\"fill\": \"tonexty\", \"fillcolor\": \"rgba(128, 0, 128, 0.3)\", \"line\": {\"color\": \"rgba(128, 0, 128, 1.0)\", \"dash\": \"solid\", \"shape\": \"linear\", \"width\": 1.3}, \"mode\": \"lines\", \"name\": \"D\", \"text\": \"\", \"type\": \"scatter\", \"x\": [0, 1, 2, 3, 4, 5, 6, 7, 8, 9, 10, 11, 12, 13, 14, 15, 16, 17, 18, 19, 20, 21, 22, 23, 24, 25, 26, 27, 28, 29, 30, 31, 32, 33, 34, 35, 36, 37, 38, 39, 40, 41, 42, 43, 44, 45, 46, 47, 48, 49, 50, 51, 52, 53, 54, 55, 56, 57, 58, 59, 60, 61, 62, 63, 64, 65, 66, 67, 68, 69, 70, 71, 72, 73, 74, 75, 76, 77, 78, 79, 80, 81, 82, 83, 84, 85, 86, 87, 88, 89, 90, 91, 92, 93, 94, 95, 96, 97, 98, 99], \"y\": [2.1806129194169817, -1.86386167632098, -1.648245777376715, -4.023864715940785, -1.9301065961623467, -1.7216965128822574, 3.337991628794356, 3.7470518177018226, -0.22588102191578918, 1.2834898519069575, 0.04571242829792177, 2.1538752856104892, 1.211446898176159, 0.21792478371812862, 3.155769371910006, -1.8292186145577842, 1.6198433016118072, 2.732607112389087, 1.9747147015944795, 2.2135869801992545, 0.2016616660612267, -0.8098115883546181, -0.8130462790999529, 1.1792560952510103, 3.748379872268651, 0.9229651253739721, -4.052105159160329, -1.7878277391982687, -1.7304156005388238, 0.9591851149010671, 0.007812129361526976, 2.0757233403089033, -1.2190281847026692, -4.130634729042842, 0.5810120023493495, 2.0070059541856153, 0.7233740648538858, -2.68742171940299, -1.6050292195025542, 1.9468673723006078, 0.2091707328490937, 1.8682316199726257, 1.669793016560435, 1.7230215502144093, -2.030522325555895, -2.113327317446087, 0.17914037951018336, -0.9088697647229624, 0.7212147042543735, 2.708581157132918, 3.372287545399756, -1.2374964987047075, 1.4947500185898956, 0.5509691408839414, -0.15642213280784922, -3.9259423064335106, 1.1130465457024843, 0.3576053594021088, 1.0058142207027971, -0.8460189308884281, -0.3875354056450198, 1.3091129558133878, -2.2736116970332363, 3.5102203968881653, -0.1569472572365728, -0.6399951413937218, 3.279917431333257, -1.423293000377531, 1.9809144131908107, 0.7504080910968259, -1.0867624363458201, -2.091015493745192, -1.9753666298179016, -0.3362004179882292, 1.0611411277712528, 3.846827439152422, 1.2646725020541378, 4.86451825182365, -1.758423628041389, -1.2493894553101845, 3.0084189188975285, 3.8611001048516993, -2.366104707624313, -2.7776158796874917, -1.108757644537044, -2.311759353340257, -1.2572791082786638, -0.20439086808464446, -0.16990596551251458, 1.770685511146576, 1.4919954898252072, -2.4159143154991067, -1.495187011708365, -0.8355822949216503, 0.5595273359790989, 1.3025259277591414, 0.12289829611983005, 0.9345106926068427, -0.1608645376274836, 0.6085040115442533]}],\n",
       "                        {\"legend\": {\"bgcolor\": \"#F5F6F9\", \"font\": {\"color\": \"#4D5663\"}}, \"paper_bgcolor\": \"#F5F6F9\", \"plot_bgcolor\": \"#F5F6F9\", \"template\": {\"data\": {\"bar\": [{\"error_x\": {\"color\": \"#2a3f5f\"}, \"error_y\": {\"color\": \"#2a3f5f\"}, \"marker\": {\"line\": {\"color\": \"#E5ECF6\", \"width\": 0.5}}, \"type\": \"bar\"}], \"barpolar\": [{\"marker\": {\"line\": {\"color\": \"#E5ECF6\", \"width\": 0.5}}, \"type\": \"barpolar\"}], \"carpet\": [{\"aaxis\": {\"endlinecolor\": \"#2a3f5f\", \"gridcolor\": \"white\", \"linecolor\": \"white\", \"minorgridcolor\": \"white\", \"startlinecolor\": \"#2a3f5f\"}, \"baxis\": {\"endlinecolor\": \"#2a3f5f\", \"gridcolor\": \"white\", \"linecolor\": \"white\", \"minorgridcolor\": \"white\", \"startlinecolor\": \"#2a3f5f\"}, \"type\": \"carpet\"}], \"choropleth\": [{\"colorbar\": {\"outlinewidth\": 0, \"ticks\": \"\"}, \"type\": \"choropleth\"}], \"contour\": [{\"colorbar\": {\"outlinewidth\": 0, \"ticks\": \"\"}, \"colorscale\": [[0.0, \"#0d0887\"], [0.1111111111111111, \"#46039f\"], [0.2222222222222222, \"#7201a8\"], [0.3333333333333333, \"#9c179e\"], [0.4444444444444444, \"#bd3786\"], [0.5555555555555556, \"#d8576b\"], [0.6666666666666666, \"#ed7953\"], [0.7777777777777778, \"#fb9f3a\"], [0.8888888888888888, \"#fdca26\"], [1.0, \"#f0f921\"]], \"type\": \"contour\"}], \"contourcarpet\": [{\"colorbar\": {\"outlinewidth\": 0, \"ticks\": \"\"}, \"type\": \"contourcarpet\"}], \"heatmap\": [{\"colorbar\": {\"outlinewidth\": 0, \"ticks\": \"\"}, \"colorscale\": [[0.0, \"#0d0887\"], [0.1111111111111111, \"#46039f\"], [0.2222222222222222, \"#7201a8\"], [0.3333333333333333, \"#9c179e\"], [0.4444444444444444, \"#bd3786\"], [0.5555555555555556, \"#d8576b\"], [0.6666666666666666, \"#ed7953\"], [0.7777777777777778, \"#fb9f3a\"], [0.8888888888888888, \"#fdca26\"], [1.0, \"#f0f921\"]], \"type\": \"heatmap\"}], \"heatmapgl\": [{\"colorbar\": {\"outlinewidth\": 0, \"ticks\": \"\"}, \"colorscale\": [[0.0, \"#0d0887\"], [0.1111111111111111, \"#46039f\"], [0.2222222222222222, \"#7201a8\"], [0.3333333333333333, \"#9c179e\"], [0.4444444444444444, \"#bd3786\"], [0.5555555555555556, \"#d8576b\"], [0.6666666666666666, \"#ed7953\"], [0.7777777777777778, \"#fb9f3a\"], [0.8888888888888888, \"#fdca26\"], [1.0, \"#f0f921\"]], \"type\": \"heatmapgl\"}], \"histogram\": [{\"marker\": {\"colorbar\": {\"outlinewidth\": 0, \"ticks\": \"\"}}, \"type\": \"histogram\"}], \"histogram2d\": [{\"colorbar\": {\"outlinewidth\": 0, \"ticks\": \"\"}, \"colorscale\": [[0.0, \"#0d0887\"], [0.1111111111111111, \"#46039f\"], [0.2222222222222222, \"#7201a8\"], [0.3333333333333333, \"#9c179e\"], [0.4444444444444444, \"#bd3786\"], [0.5555555555555556, \"#d8576b\"], [0.6666666666666666, \"#ed7953\"], [0.7777777777777778, \"#fb9f3a\"], [0.8888888888888888, \"#fdca26\"], [1.0, \"#f0f921\"]], \"type\": \"histogram2d\"}], \"histogram2dcontour\": [{\"colorbar\": {\"outlinewidth\": 0, \"ticks\": \"\"}, \"colorscale\": [[0.0, \"#0d0887\"], [0.1111111111111111, \"#46039f\"], [0.2222222222222222, \"#7201a8\"], [0.3333333333333333, \"#9c179e\"], [0.4444444444444444, \"#bd3786\"], [0.5555555555555556, \"#d8576b\"], [0.6666666666666666, \"#ed7953\"], [0.7777777777777778, \"#fb9f3a\"], [0.8888888888888888, \"#fdca26\"], [1.0, \"#f0f921\"]], \"type\": \"histogram2dcontour\"}], \"mesh3d\": [{\"colorbar\": {\"outlinewidth\": 0, \"ticks\": \"\"}, \"type\": \"mesh3d\"}], \"parcoords\": [{\"line\": {\"colorbar\": {\"outlinewidth\": 0, \"ticks\": \"\"}}, \"type\": \"parcoords\"}], \"pie\": [{\"automargin\": true, \"type\": \"pie\"}], \"scatter\": [{\"marker\": {\"colorbar\": {\"outlinewidth\": 0, \"ticks\": \"\"}}, \"type\": \"scatter\"}], \"scatter3d\": [{\"line\": {\"colorbar\": {\"outlinewidth\": 0, \"ticks\": \"\"}}, \"marker\": {\"colorbar\": {\"outlinewidth\": 0, \"ticks\": \"\"}}, \"type\": \"scatter3d\"}], \"scattercarpet\": [{\"marker\": {\"colorbar\": {\"outlinewidth\": 0, \"ticks\": \"\"}}, \"type\": \"scattercarpet\"}], \"scattergeo\": [{\"marker\": {\"colorbar\": {\"outlinewidth\": 0, \"ticks\": \"\"}}, \"type\": \"scattergeo\"}], \"scattergl\": [{\"marker\": {\"colorbar\": {\"outlinewidth\": 0, \"ticks\": \"\"}}, \"type\": \"scattergl\"}], \"scattermapbox\": [{\"marker\": {\"colorbar\": {\"outlinewidth\": 0, \"ticks\": \"\"}}, \"type\": \"scattermapbox\"}], \"scatterpolar\": [{\"marker\": {\"colorbar\": {\"outlinewidth\": 0, \"ticks\": \"\"}}, \"type\": \"scatterpolar\"}], \"scatterpolargl\": [{\"marker\": {\"colorbar\": {\"outlinewidth\": 0, \"ticks\": \"\"}}, \"type\": \"scatterpolargl\"}], \"scatterternary\": [{\"marker\": {\"colorbar\": {\"outlinewidth\": 0, \"ticks\": \"\"}}, \"type\": \"scatterternary\"}], \"surface\": [{\"colorbar\": {\"outlinewidth\": 0, \"ticks\": \"\"}, \"colorscale\": [[0.0, \"#0d0887\"], [0.1111111111111111, \"#46039f\"], [0.2222222222222222, \"#7201a8\"], [0.3333333333333333, \"#9c179e\"], [0.4444444444444444, \"#bd3786\"], [0.5555555555555556, \"#d8576b\"], [0.6666666666666666, \"#ed7953\"], [0.7777777777777778, \"#fb9f3a\"], [0.8888888888888888, \"#fdca26\"], [1.0, \"#f0f921\"]], \"type\": \"surface\"}], \"table\": [{\"cells\": {\"fill\": {\"color\": \"#EBF0F8\"}, \"line\": {\"color\": \"white\"}}, \"header\": {\"fill\": {\"color\": \"#C8D4E3\"}, \"line\": {\"color\": \"white\"}}, \"type\": \"table\"}]}, \"layout\": {\"annotationdefaults\": {\"arrowcolor\": \"#2a3f5f\", \"arrowhead\": 0, \"arrowwidth\": 1}, \"coloraxis\": {\"colorbar\": {\"outlinewidth\": 0, \"ticks\": \"\"}}, \"colorscale\": {\"diverging\": [[0, \"#8e0152\"], [0.1, \"#c51b7d\"], [0.2, \"#de77ae\"], [0.3, \"#f1b6da\"], [0.4, \"#fde0ef\"], [0.5, \"#f7f7f7\"], [0.6, \"#e6f5d0\"], [0.7, \"#b8e186\"], [0.8, \"#7fbc41\"], [0.9, \"#4d9221\"], [1, \"#276419\"]], \"sequential\": [[0.0, \"#0d0887\"], [0.1111111111111111, \"#46039f\"], [0.2222222222222222, \"#7201a8\"], [0.3333333333333333, \"#9c179e\"], [0.4444444444444444, \"#bd3786\"], [0.5555555555555556, \"#d8576b\"], [0.6666666666666666, \"#ed7953\"], [0.7777777777777778, \"#fb9f3a\"], [0.8888888888888888, \"#fdca26\"], [1.0, \"#f0f921\"]], \"sequentialminus\": [[0.0, \"#0d0887\"], [0.1111111111111111, \"#46039f\"], [0.2222222222222222, \"#7201a8\"], [0.3333333333333333, \"#9c179e\"], [0.4444444444444444, \"#bd3786\"], [0.5555555555555556, \"#d8576b\"], [0.6666666666666666, \"#ed7953\"], [0.7777777777777778, \"#fb9f3a\"], [0.8888888888888888, \"#fdca26\"], [1.0, \"#f0f921\"]]}, \"colorway\": [\"#636efa\", \"#EF553B\", \"#00cc96\", \"#ab63fa\", \"#FFA15A\", \"#19d3f3\", \"#FF6692\", \"#B6E880\", \"#FF97FF\", \"#FECB52\"], \"font\": {\"color\": \"#2a3f5f\"}, \"geo\": {\"bgcolor\": \"white\", \"lakecolor\": \"white\", \"landcolor\": \"#E5ECF6\", \"showlakes\": true, \"showland\": true, \"subunitcolor\": \"white\"}, \"hoverlabel\": {\"align\": \"left\"}, \"hovermode\": \"closest\", \"mapbox\": {\"style\": \"light\"}, \"paper_bgcolor\": \"white\", \"plot_bgcolor\": \"#E5ECF6\", \"polar\": {\"angularaxis\": {\"gridcolor\": \"white\", \"linecolor\": \"white\", \"ticks\": \"\"}, \"bgcolor\": \"#E5ECF6\", \"radialaxis\": {\"gridcolor\": \"white\", \"linecolor\": \"white\", \"ticks\": \"\"}}, \"scene\": {\"xaxis\": {\"backgroundcolor\": \"#E5ECF6\", \"gridcolor\": \"white\", \"gridwidth\": 2, \"linecolor\": \"white\", \"showbackground\": true, \"ticks\": \"\", \"zerolinecolor\": \"white\"}, \"yaxis\": {\"backgroundcolor\": \"#E5ECF6\", \"gridcolor\": \"white\", \"gridwidth\": 2, \"linecolor\": \"white\", \"showbackground\": true, \"ticks\": \"\", \"zerolinecolor\": \"white\"}, \"zaxis\": {\"backgroundcolor\": \"#E5ECF6\", \"gridcolor\": \"white\", \"gridwidth\": 2, \"linecolor\": \"white\", \"showbackground\": true, \"ticks\": \"\", \"zerolinecolor\": \"white\"}}, \"shapedefaults\": {\"line\": {\"color\": \"#2a3f5f\"}}, \"ternary\": {\"aaxis\": {\"gridcolor\": \"white\", \"linecolor\": \"white\", \"ticks\": \"\"}, \"baxis\": {\"gridcolor\": \"white\", \"linecolor\": \"white\", \"ticks\": \"\"}, \"bgcolor\": \"#E5ECF6\", \"caxis\": {\"gridcolor\": \"white\", \"linecolor\": \"white\", \"ticks\": \"\"}}, \"title\": {\"x\": 0.05}, \"xaxis\": {\"automargin\": true, \"gridcolor\": \"white\", \"linecolor\": \"white\", \"ticks\": \"\", \"title\": {\"standoff\": 15}, \"zerolinecolor\": \"white\", \"zerolinewidth\": 2}, \"yaxis\": {\"automargin\": true, \"gridcolor\": \"white\", \"linecolor\": \"white\", \"ticks\": \"\", \"title\": {\"standoff\": 15}, \"zerolinecolor\": \"white\", \"zerolinewidth\": 2}}}, \"title\": {\"font\": {\"color\": \"#4D5663\"}}, \"xaxis\": {\"gridcolor\": \"#E1E5ED\", \"showgrid\": true, \"tickfont\": {\"color\": \"#4D5663\"}, \"title\": {\"font\": {\"color\": \"#4D5663\"}, \"text\": \"\"}, \"zerolinecolor\": \"#E1E5ED\"}, \"yaxis\": {\"gridcolor\": \"#E1E5ED\", \"showgrid\": true, \"tickfont\": {\"color\": \"#4D5663\"}, \"title\": {\"font\": {\"color\": \"#4D5663\"}, \"text\": \"\"}, \"zerolinecolor\": \"#E1E5ED\"}},\n",
       "                        {\"showLink\": true, \"linkText\": \"Export to plot.ly\", \"plotlyServerURL\": \"https://plot.ly\", \"responsive\": true}\n",
       "                    ).then(function(){\n",
       "                            \n",
       "var gd = document.getElementById('3f51bb60-7982-4db0-86c6-702102bdfe8f');\n",
       "var x = new MutationObserver(function (mutations, observer) {{\n",
       "        var display = window.getComputedStyle(gd).display;\n",
       "        if (!display || display === 'none') {{\n",
       "            console.log([gd, 'removed!']);\n",
       "            Plotly.purge(gd);\n",
       "            observer.disconnect();\n",
       "        }}\n",
       "}});\n",
       "\n",
       "// Listen for the removal of the full notebook cells\n",
       "var notebookContainer = gd.closest('#notebook-container');\n",
       "if (notebookContainer) {{\n",
       "    x.observe(notebookContainer, {childList: true});\n",
       "}}\n",
       "\n",
       "// Listen for the clearing of the current output cell\n",
       "var outputEl = gd.closest('.output');\n",
       "if (outputEl) {{\n",
       "    x.observe(outputEl, {childList: true});\n",
       "}}\n",
       "\n",
       "                        })\n",
       "                };\n",
       "                });\n",
       "            </script>\n",
       "        </div>"
      ]
     },
     "metadata": {},
     "output_type": "display_data"
    }
   ],
   "source": [
    "# This is area plot of df1\n",
    "df1.iplot(kind='area',fill=True,opacity=1)"
   ]
  },
  {
   "cell_type": "code",
   "execution_count": 36,
   "metadata": {},
   "outputs": [],
   "source": [
    "# And this one is bubbleplot"
   ]
  },
  {
   "cell_type": "code",
   "execution_count": 82,
   "metadata": {},
   "outputs": [
    {
     "data": {
      "application/vnd.plotly.v1+json": {
       "config": {
        "linkText": "Export to plot.ly",
        "plotlyServerURL": "https://plot.ly",
        "showLink": true
       },
       "data": [
        {
         "marker": {
          "color": [
           "green",
           "green",
           "green",
           "green",
           "green",
           "green",
           "green",
           "green",
           "green",
           "green",
           "green",
           "green",
           "green",
           "green",
           "green",
           "green",
           "green",
           "green",
           "green",
           "green",
           "green",
           "green",
           "green",
           "green",
           "green",
           "green",
           "green",
           "green",
           "green",
           "green",
           "green",
           "green",
           "green",
           "green",
           "green",
           "green",
           "green",
           "green",
           "green",
           "green",
           "green",
           "green",
           "green",
           "green",
           "green",
           "green",
           "green",
           "green",
           "green",
           "green",
           "green",
           "green",
           "green",
           "green",
           "green",
           "green",
           "green",
           "green",
           "green",
           "green",
           "green",
           "green",
           "green",
           "green",
           "green",
           "green",
           "green",
           "green",
           "green",
           "green",
           "green",
           "green",
           "green",
           "green",
           "green",
           "green",
           "green",
           "green",
           "green",
           "green",
           "green",
           "green",
           "green",
           "green",
           "green",
           "green",
           "green",
           "green",
           "green",
           "green",
           "green",
           "green",
           "green",
           "green",
           "green",
           "green",
           "green",
           "green",
           "green",
           "green"
          ],
          "line": {
           "width": 1.3
          },
          "size": [
           86,
           57,
           36,
           78,
           43,
           13,
           40,
           44,
           92,
           47,
           61,
           66,
           68,
           55,
           82,
           64,
           62,
           59,
           61,
           35,
           73,
           37,
           86,
           58,
           54,
           45,
           74,
           74,
           43,
           51,
           43,
           29,
           25,
           71,
           33,
           55,
           54,
           30,
           39,
           97,
           44,
           55,
           67,
           70,
           68,
           24,
           57,
           55,
           21,
           52,
           17,
           112,
           61,
           35,
           61,
           40,
           12,
           72,
           50,
           48,
           62,
           38,
           30,
           63,
           58,
           41,
           86,
           28,
           83,
           23,
           46,
           55,
           93,
           87,
           68,
           30,
           44,
           50,
           48,
           53,
           78,
           22,
           52,
           30,
           66,
           47,
           54,
           94,
           50,
           93,
           44,
           28,
           77,
           48,
           24,
           76,
           59,
           49,
           35,
           53
          ],
          "symbol": "circle"
         },
         "mode": "markers",
         "text": "",
         "type": "scatter",
         "x": [
          -0.11772897368311729,
          -0.533871526107039,
          0.46282102957446003,
          0.17704671607161943,
          -0.22514481280573914,
          1.0077127167213151,
          -0.43902733090004364,
          -2.641322783185602,
          0.12620115184579384,
          -0.6663722488414342,
          1.4606297568210536,
          -0.37255423146386346,
          -0.383110800373717,
          0.3391330095506838,
          -0.5733500505242811,
          -0.141599315756973,
          -0.738979900552547,
          -0.45779365111559306,
          -1.6359603899116615,
          0.39954915531710483,
          1.5377838539223083,
          -1.1440067932632123,
          -0.64765270889491,
          0.19897738994471825,
          1.5169806452492216,
          0.11550699837102808,
          -1.7432365527863287,
          0.47064984933718945,
          0.09993588843189898,
          1.2077133520168108,
          0.23801283659543684,
          -1.17813153393185,
          -1.416089110886164,
          1.5483028352919244,
          0.7447432123532974,
          -1.4130082806017559,
          -1.8323103345859806,
          1.314104415237608,
          -1.215758658659783,
          -1.289723333914404,
          0.1250192027850171,
          0.785632072181155,
          -0.5607245856806137,
          0.08712197627660075,
          -0.13944124583278467,
          0.5085637654193944,
          -0.26327471175700096,
          0.6616677101373818,
          1.0840118220174724,
          -0.20007606657368793,
          -0.16287758289409526,
          -2.1222925049735553,
          0.6679480557850784,
          -0.059009948146776334,
          -0.25989855287404157,
          -0.614240169961146,
          3.5264494843495444,
          -3.1773654445327337,
          0.5102405813630724,
          2.3784878564383436,
          -0.8941177702702027,
          1.7294737835142415,
          1.0908531113495692,
          -2.600368367654316,
          0.8481792011605757,
          0.6873057825531937,
          -0.13189894149393275,
          0.6808643558735855,
          -0.4586142690323789,
          1.2249728108842624,
          -0.12744918349329165,
          0.6606018421456373,
          -0.18151652305094346,
          0.6142901484241644,
          0.30530936915412654,
          0.6633064704233149,
          -1.01251360583096,
          -2.9539709554187414,
          0.16106834543734866,
          -1.7295211699003348,
          1.2008174731880432,
          0.10282652031461875,
          -0.47863540770189894,
          -0.5852211484211195,
          -0.14840713435264566,
          -1.2406689004473512,
          -0.02836699868960687,
          -2.2175044034675824,
          -0.7069107560571622,
          -0.7216697495558138,
          -0.3417257690530918,
          0.24893146203774258,
          1.1347613070213458,
          0.8894403559468214,
          -0.014451072860063092,
          -0.6807365486086413,
          -1.51281593418309,
          -0.03250217366365307,
          1.3747933188776915,
          0.44665306518104236
         ],
         "y": [
          0.556181465264592,
          1.021795579003633,
          0.34305198877282084,
          -0.782986867702327,
          0.5458775572441681,
          -0.9715858430258466,
          1.7059829955873331,
          0.28544152502108705,
          0.8133036806419416,
          1.8438761323874195,
          -1.6843689924306073,
          -0.6011669035135556,
          1.2057593289303659,
          0.5714837677350195,
          1.1974435004904707,
          0.5494457339453958,
          -0.583025114377226,
          -0.5760423117387118,
          -0.2267080831976598,
          -0.6517963472447632,
          1.7744629453539784,
          -0.18182311146547486,
          -0.9843449933267222,
          -0.2739598084609428,
          -3.2783716913462415,
          -0.2877715873394967,
          0.5784706223569512,
          0.3030365856133379,
          -1.2192810936302827,
          -0.3498140922462479,
          -0.32000531067556515,
          -0.031557344394759476,
          -1.3938528030386734,
          -0.6727776278372283,
          0.49258864594789825,
          -1.6427499421621758,
          -0.2775698317169973,
          0.15793051570381744,
          -0.9428742062412326,
          1.5963726684050736,
          1.34865383082596,
          1.3258852811549022,
          -0.34614794569627316,
          0.30023183003229426,
          0.3877903130816993,
          1.3133646083048698,
          -1.1552445211257694,
          -0.6700976350522939,
          -3.287095575211883,
          0.49097271151398014,
          -0.055777300990351594,
          0.6494178607025153,
          -0.37204261936690475,
          0.9448951923093842,
          -0.32298420592403887,
          1.312968573709209,
          2.1187381683403417,
          1.7203059238427028,
          0.15430651614390078,
          -0.9359327458917104,
          0.18582390724082196,
          0.38651808204428395,
          1.595646769306395,
          -0.18410778350683912,
          1.305522239456601,
          1.7566763799575875,
          -0.08039348481880718,
          -0.3543421040131263,
          0.5219203636451465,
          -0.5896112929306913,
          -0.3393041168634211,
          0.2829610171561076,
          0.6793200016345743,
          -1.6140029249633254,
          0.22523965436780735,
          -0.45268835808640734,
          -0.2732718549621978,
          -0.4761834808012976,
          0.7164367320172792,
          -0.9713979181899827,
          -0.12182758654723387,
          1.327902927622974,
          -0.7092892469961845,
          -2.0271293836609416,
          -0.7317919679679369,
          -0.7270314802520373,
          0.9305346356228754,
          0.11165713571383377,
          -0.9266581376799186,
          1.1287638359340197,
          -1.4830324294304336,
          0.6829320718060053,
          -0.7336805900485133,
          -0.37266086176840707,
          0.4650377956910324,
          0.6046779478448695,
          0.06478085892764522,
          0.7182424976179019,
          1.4522852983523278,
          -0.10746480113387966
         ]
        }
       ],
       "layout": {
        "legend": {
         "bgcolor": "#F5F6F9",
         "font": {
          "color": "#4D5663"
         }
        },
        "paper_bgcolor": "#F5F6F9",
        "plot_bgcolor": "#F5F6F9",
        "template": {
         "data": {
          "bar": [
           {
            "error_x": {
             "color": "#2a3f5f"
            },
            "error_y": {
             "color": "#2a3f5f"
            },
            "marker": {
             "line": {
              "color": "#E5ECF6",
              "width": 0.5
             }
            },
            "type": "bar"
           }
          ],
          "barpolar": [
           {
            "marker": {
             "line": {
              "color": "#E5ECF6",
              "width": 0.5
             }
            },
            "type": "barpolar"
           }
          ],
          "carpet": [
           {
            "aaxis": {
             "endlinecolor": "#2a3f5f",
             "gridcolor": "white",
             "linecolor": "white",
             "minorgridcolor": "white",
             "startlinecolor": "#2a3f5f"
            },
            "baxis": {
             "endlinecolor": "#2a3f5f",
             "gridcolor": "white",
             "linecolor": "white",
             "minorgridcolor": "white",
             "startlinecolor": "#2a3f5f"
            },
            "type": "carpet"
           }
          ],
          "choropleth": [
           {
            "colorbar": {
             "outlinewidth": 0,
             "ticks": ""
            },
            "type": "choropleth"
           }
          ],
          "contour": [
           {
            "colorbar": {
             "outlinewidth": 0,
             "ticks": ""
            },
            "colorscale": [
             [
              0,
              "#0d0887"
             ],
             [
              0.1111111111111111,
              "#46039f"
             ],
             [
              0.2222222222222222,
              "#7201a8"
             ],
             [
              0.3333333333333333,
              "#9c179e"
             ],
             [
              0.4444444444444444,
              "#bd3786"
             ],
             [
              0.5555555555555556,
              "#d8576b"
             ],
             [
              0.6666666666666666,
              "#ed7953"
             ],
             [
              0.7777777777777778,
              "#fb9f3a"
             ],
             [
              0.8888888888888888,
              "#fdca26"
             ],
             [
              1,
              "#f0f921"
             ]
            ],
            "type": "contour"
           }
          ],
          "contourcarpet": [
           {
            "colorbar": {
             "outlinewidth": 0,
             "ticks": ""
            },
            "type": "contourcarpet"
           }
          ],
          "heatmap": [
           {
            "colorbar": {
             "outlinewidth": 0,
             "ticks": ""
            },
            "colorscale": [
             [
              0,
              "#0d0887"
             ],
             [
              0.1111111111111111,
              "#46039f"
             ],
             [
              0.2222222222222222,
              "#7201a8"
             ],
             [
              0.3333333333333333,
              "#9c179e"
             ],
             [
              0.4444444444444444,
              "#bd3786"
             ],
             [
              0.5555555555555556,
              "#d8576b"
             ],
             [
              0.6666666666666666,
              "#ed7953"
             ],
             [
              0.7777777777777778,
              "#fb9f3a"
             ],
             [
              0.8888888888888888,
              "#fdca26"
             ],
             [
              1,
              "#f0f921"
             ]
            ],
            "type": "heatmap"
           }
          ],
          "heatmapgl": [
           {
            "colorbar": {
             "outlinewidth": 0,
             "ticks": ""
            },
            "colorscale": [
             [
              0,
              "#0d0887"
             ],
             [
              0.1111111111111111,
              "#46039f"
             ],
             [
              0.2222222222222222,
              "#7201a8"
             ],
             [
              0.3333333333333333,
              "#9c179e"
             ],
             [
              0.4444444444444444,
              "#bd3786"
             ],
             [
              0.5555555555555556,
              "#d8576b"
             ],
             [
              0.6666666666666666,
              "#ed7953"
             ],
             [
              0.7777777777777778,
              "#fb9f3a"
             ],
             [
              0.8888888888888888,
              "#fdca26"
             ],
             [
              1,
              "#f0f921"
             ]
            ],
            "type": "heatmapgl"
           }
          ],
          "histogram": [
           {
            "marker": {
             "colorbar": {
              "outlinewidth": 0,
              "ticks": ""
             }
            },
            "type": "histogram"
           }
          ],
          "histogram2d": [
           {
            "colorbar": {
             "outlinewidth": 0,
             "ticks": ""
            },
            "colorscale": [
             [
              0,
              "#0d0887"
             ],
             [
              0.1111111111111111,
              "#46039f"
             ],
             [
              0.2222222222222222,
              "#7201a8"
             ],
             [
              0.3333333333333333,
              "#9c179e"
             ],
             [
              0.4444444444444444,
              "#bd3786"
             ],
             [
              0.5555555555555556,
              "#d8576b"
             ],
             [
              0.6666666666666666,
              "#ed7953"
             ],
             [
              0.7777777777777778,
              "#fb9f3a"
             ],
             [
              0.8888888888888888,
              "#fdca26"
             ],
             [
              1,
              "#f0f921"
             ]
            ],
            "type": "histogram2d"
           }
          ],
          "histogram2dcontour": [
           {
            "colorbar": {
             "outlinewidth": 0,
             "ticks": ""
            },
            "colorscale": [
             [
              0,
              "#0d0887"
             ],
             [
              0.1111111111111111,
              "#46039f"
             ],
             [
              0.2222222222222222,
              "#7201a8"
             ],
             [
              0.3333333333333333,
              "#9c179e"
             ],
             [
              0.4444444444444444,
              "#bd3786"
             ],
             [
              0.5555555555555556,
              "#d8576b"
             ],
             [
              0.6666666666666666,
              "#ed7953"
             ],
             [
              0.7777777777777778,
              "#fb9f3a"
             ],
             [
              0.8888888888888888,
              "#fdca26"
             ],
             [
              1,
              "#f0f921"
             ]
            ],
            "type": "histogram2dcontour"
           }
          ],
          "mesh3d": [
           {
            "colorbar": {
             "outlinewidth": 0,
             "ticks": ""
            },
            "type": "mesh3d"
           }
          ],
          "parcoords": [
           {
            "line": {
             "colorbar": {
              "outlinewidth": 0,
              "ticks": ""
             }
            },
            "type": "parcoords"
           }
          ],
          "pie": [
           {
            "automargin": true,
            "type": "pie"
           }
          ],
          "scatter": [
           {
            "marker": {
             "colorbar": {
              "outlinewidth": 0,
              "ticks": ""
             }
            },
            "type": "scatter"
           }
          ],
          "scatter3d": [
           {
            "line": {
             "colorbar": {
              "outlinewidth": 0,
              "ticks": ""
             }
            },
            "marker": {
             "colorbar": {
              "outlinewidth": 0,
              "ticks": ""
             }
            },
            "type": "scatter3d"
           }
          ],
          "scattercarpet": [
           {
            "marker": {
             "colorbar": {
              "outlinewidth": 0,
              "ticks": ""
             }
            },
            "type": "scattercarpet"
           }
          ],
          "scattergeo": [
           {
            "marker": {
             "colorbar": {
              "outlinewidth": 0,
              "ticks": ""
             }
            },
            "type": "scattergeo"
           }
          ],
          "scattergl": [
           {
            "marker": {
             "colorbar": {
              "outlinewidth": 0,
              "ticks": ""
             }
            },
            "type": "scattergl"
           }
          ],
          "scattermapbox": [
           {
            "marker": {
             "colorbar": {
              "outlinewidth": 0,
              "ticks": ""
             }
            },
            "type": "scattermapbox"
           }
          ],
          "scatterpolar": [
           {
            "marker": {
             "colorbar": {
              "outlinewidth": 0,
              "ticks": ""
             }
            },
            "type": "scatterpolar"
           }
          ],
          "scatterpolargl": [
           {
            "marker": {
             "colorbar": {
              "outlinewidth": 0,
              "ticks": ""
             }
            },
            "type": "scatterpolargl"
           }
          ],
          "scatterternary": [
           {
            "marker": {
             "colorbar": {
              "outlinewidth": 0,
              "ticks": ""
             }
            },
            "type": "scatterternary"
           }
          ],
          "surface": [
           {
            "colorbar": {
             "outlinewidth": 0,
             "ticks": ""
            },
            "colorscale": [
             [
              0,
              "#0d0887"
             ],
             [
              0.1111111111111111,
              "#46039f"
             ],
             [
              0.2222222222222222,
              "#7201a8"
             ],
             [
              0.3333333333333333,
              "#9c179e"
             ],
             [
              0.4444444444444444,
              "#bd3786"
             ],
             [
              0.5555555555555556,
              "#d8576b"
             ],
             [
              0.6666666666666666,
              "#ed7953"
             ],
             [
              0.7777777777777778,
              "#fb9f3a"
             ],
             [
              0.8888888888888888,
              "#fdca26"
             ],
             [
              1,
              "#f0f921"
             ]
            ],
            "type": "surface"
           }
          ],
          "table": [
           {
            "cells": {
             "fill": {
              "color": "#EBF0F8"
             },
             "line": {
              "color": "white"
             }
            },
            "header": {
             "fill": {
              "color": "#C8D4E3"
             },
             "line": {
              "color": "white"
             }
            },
            "type": "table"
           }
          ]
         },
         "layout": {
          "annotationdefaults": {
           "arrowcolor": "#2a3f5f",
           "arrowhead": 0,
           "arrowwidth": 1
          },
          "coloraxis": {
           "colorbar": {
            "outlinewidth": 0,
            "ticks": ""
           }
          },
          "colorscale": {
           "diverging": [
            [
             0,
             "#8e0152"
            ],
            [
             0.1,
             "#c51b7d"
            ],
            [
             0.2,
             "#de77ae"
            ],
            [
             0.3,
             "#f1b6da"
            ],
            [
             0.4,
             "#fde0ef"
            ],
            [
             0.5,
             "#f7f7f7"
            ],
            [
             0.6,
             "#e6f5d0"
            ],
            [
             0.7,
             "#b8e186"
            ],
            [
             0.8,
             "#7fbc41"
            ],
            [
             0.9,
             "#4d9221"
            ],
            [
             1,
             "#276419"
            ]
           ],
           "sequential": [
            [
             0,
             "#0d0887"
            ],
            [
             0.1111111111111111,
             "#46039f"
            ],
            [
             0.2222222222222222,
             "#7201a8"
            ],
            [
             0.3333333333333333,
             "#9c179e"
            ],
            [
             0.4444444444444444,
             "#bd3786"
            ],
            [
             0.5555555555555556,
             "#d8576b"
            ],
            [
             0.6666666666666666,
             "#ed7953"
            ],
            [
             0.7777777777777778,
             "#fb9f3a"
            ],
            [
             0.8888888888888888,
             "#fdca26"
            ],
            [
             1,
             "#f0f921"
            ]
           ],
           "sequentialminus": [
            [
             0,
             "#0d0887"
            ],
            [
             0.1111111111111111,
             "#46039f"
            ],
            [
             0.2222222222222222,
             "#7201a8"
            ],
            [
             0.3333333333333333,
             "#9c179e"
            ],
            [
             0.4444444444444444,
             "#bd3786"
            ],
            [
             0.5555555555555556,
             "#d8576b"
            ],
            [
             0.6666666666666666,
             "#ed7953"
            ],
            [
             0.7777777777777778,
             "#fb9f3a"
            ],
            [
             0.8888888888888888,
             "#fdca26"
            ],
            [
             1,
             "#f0f921"
            ]
           ]
          },
          "colorway": [
           "#636efa",
           "#EF553B",
           "#00cc96",
           "#ab63fa",
           "#FFA15A",
           "#19d3f3",
           "#FF6692",
           "#B6E880",
           "#FF97FF",
           "#FECB52"
          ],
          "font": {
           "color": "#2a3f5f"
          },
          "geo": {
           "bgcolor": "white",
           "lakecolor": "white",
           "landcolor": "#E5ECF6",
           "showlakes": true,
           "showland": true,
           "subunitcolor": "white"
          },
          "hoverlabel": {
           "align": "left"
          },
          "hovermode": "closest",
          "mapbox": {
           "style": "light"
          },
          "paper_bgcolor": "white",
          "plot_bgcolor": "#E5ECF6",
          "polar": {
           "angularaxis": {
            "gridcolor": "white",
            "linecolor": "white",
            "ticks": ""
           },
           "bgcolor": "#E5ECF6",
           "radialaxis": {
            "gridcolor": "white",
            "linecolor": "white",
            "ticks": ""
           }
          },
          "scene": {
           "xaxis": {
            "backgroundcolor": "#E5ECF6",
            "gridcolor": "white",
            "gridwidth": 2,
            "linecolor": "white",
            "showbackground": true,
            "ticks": "",
            "zerolinecolor": "white"
           },
           "yaxis": {
            "backgroundcolor": "#E5ECF6",
            "gridcolor": "white",
            "gridwidth": 2,
            "linecolor": "white",
            "showbackground": true,
            "ticks": "",
            "zerolinecolor": "white"
           },
           "zaxis": {
            "backgroundcolor": "#E5ECF6",
            "gridcolor": "white",
            "gridwidth": 2,
            "linecolor": "white",
            "showbackground": true,
            "ticks": "",
            "zerolinecolor": "white"
           }
          },
          "shapedefaults": {
           "line": {
            "color": "#2a3f5f"
           }
          },
          "ternary": {
           "aaxis": {
            "gridcolor": "white",
            "linecolor": "white",
            "ticks": ""
           },
           "baxis": {
            "gridcolor": "white",
            "linecolor": "white",
            "ticks": ""
           },
           "bgcolor": "#E5ECF6",
           "caxis": {
            "gridcolor": "white",
            "linecolor": "white",
            "ticks": ""
           }
          },
          "title": {
           "x": 0.05
          },
          "xaxis": {
           "automargin": true,
           "gridcolor": "white",
           "linecolor": "white",
           "ticks": "",
           "title": {
            "standoff": 15
           },
           "zerolinecolor": "white",
           "zerolinewidth": 2
          },
          "yaxis": {
           "automargin": true,
           "gridcolor": "white",
           "linecolor": "white",
           "ticks": "",
           "title": {
            "standoff": 15
           },
           "zerolinecolor": "white",
           "zerolinewidth": 2
          }
         }
        },
        "title": {
         "font": {
          "color": "#4D5663"
         }
        },
        "xaxis": {
         "gridcolor": "#E1E5ED",
         "showgrid": true,
         "tickfont": {
          "color": "#4D5663"
         },
         "title": {
          "font": {
           "color": "#4D5663"
          },
          "text": ""
         },
         "zerolinecolor": "#E1E5ED"
        },
        "yaxis": {
         "gridcolor": "#E1E5ED",
         "showgrid": true,
         "tickfont": {
          "color": "#4D5663"
         },
         "title": {
          "font": {
           "color": "#4D5663"
          },
          "text": ""
         },
         "zerolinecolor": "#E1E5ED"
        }
       }
      },
      "text/html": [
       "<div>\n",
       "        \n",
       "        \n",
       "            <div id=\"4fd47a3d-1f87-46a8-8853-47eebbef1ca5\" class=\"plotly-graph-div\" style=\"height:525px; width:100%;\"></div>\n",
       "            <script type=\"text/javascript\">\n",
       "                require([\"plotly\"], function(Plotly) {\n",
       "                    window.PLOTLYENV=window.PLOTLYENV || {};\n",
       "                    window.PLOTLYENV.BASE_URL='https://plot.ly';\n",
       "                    \n",
       "                if (document.getElementById(\"4fd47a3d-1f87-46a8-8853-47eebbef1ca5\")) {\n",
       "                    Plotly.newPlot(\n",
       "                        '4fd47a3d-1f87-46a8-8853-47eebbef1ca5',\n",
       "                        [{\"marker\": {\"color\": [\"green\", \"green\", \"green\", \"green\", \"green\", \"green\", \"green\", \"green\", \"green\", \"green\", \"green\", \"green\", \"green\", \"green\", \"green\", \"green\", \"green\", \"green\", \"green\", \"green\", \"green\", \"green\", \"green\", \"green\", \"green\", \"green\", \"green\", \"green\", \"green\", \"green\", \"green\", \"green\", \"green\", \"green\", \"green\", \"green\", \"green\", \"green\", \"green\", \"green\", \"green\", \"green\", \"green\", \"green\", \"green\", \"green\", \"green\", \"green\", \"green\", \"green\", \"green\", \"green\", \"green\", \"green\", \"green\", \"green\", \"green\", \"green\", \"green\", \"green\", \"green\", \"green\", \"green\", \"green\", \"green\", \"green\", \"green\", \"green\", \"green\", \"green\", \"green\", \"green\", \"green\", \"green\", \"green\", \"green\", \"green\", \"green\", \"green\", \"green\", \"green\", \"green\", \"green\", \"green\", \"green\", \"green\", \"green\", \"green\", \"green\", \"green\", \"green\", \"green\", \"green\", \"green\", \"green\", \"green\", \"green\", \"green\", \"green\", \"green\"], \"line\": {\"width\": 1.3}, \"size\": [86, 57, 36, 78, 43, 13, 40, 44, 92, 47, 61, 66, 68, 55, 82, 64, 62, 59, 61, 35, 73, 37, 86, 58, 54, 45, 74, 74, 43, 51, 43, 29, 25, 71, 33, 55, 54, 30, 39, 97, 44, 55, 67, 70, 68, 24, 57, 55, 21, 52, 17, 112, 61, 35, 61, 40, 12, 72, 50, 48, 62, 38, 30, 63, 58, 41, 86, 28, 83, 23, 46, 55, 93, 87, 68, 30, 44, 50, 48, 53, 78, 22, 52, 30, 66, 47, 54, 94, 50, 93, 44, 28, 77, 48, 24, 76, 59, 49, 35, 53], \"symbol\": \"circle\"}, \"mode\": \"markers\", \"text\": \"\", \"type\": \"scatter\", \"x\": [-0.11772897368311729, -0.533871526107039, 0.46282102957446003, 0.17704671607161943, -0.22514481280573914, 1.0077127167213151, -0.43902733090004364, -2.641322783185602, 0.12620115184579384, -0.6663722488414342, 1.4606297568210536, -0.37255423146386346, -0.383110800373717, 0.3391330095506838, -0.5733500505242811, -0.141599315756973, -0.738979900552547, -0.45779365111559306, -1.6359603899116615, 0.39954915531710483, 1.5377838539223083, -1.1440067932632123, -0.64765270889491, 0.19897738994471825, 1.5169806452492216, 0.11550699837102808, -1.7432365527863287, 0.47064984933718945, 0.09993588843189898, 1.2077133520168108, 0.23801283659543684, -1.17813153393185, -1.416089110886164, 1.5483028352919244, 0.7447432123532974, -1.4130082806017559, -1.8323103345859806, 1.314104415237608, -1.215758658659783, -1.289723333914404, 0.1250192027850171, 0.785632072181155, -0.5607245856806137, 0.08712197627660075, -0.13944124583278467, 0.5085637654193944, -0.26327471175700096, 0.6616677101373818, 1.0840118220174724, -0.20007606657368793, -0.16287758289409526, -2.1222925049735553, 0.6679480557850784, -0.059009948146776334, -0.25989855287404157, -0.614240169961146, 3.5264494843495444, -3.1773654445327337, 0.5102405813630724, 2.3784878564383436, -0.8941177702702027, 1.7294737835142415, 1.0908531113495692, -2.600368367654316, 0.8481792011605757, 0.6873057825531937, -0.13189894149393275, 0.6808643558735855, -0.4586142690323789, 1.2249728108842624, -0.12744918349329165, 0.6606018421456373, -0.18151652305094346, 0.6142901484241644, 0.30530936915412654, 0.6633064704233149, -1.01251360583096, -2.9539709554187414, 0.16106834543734866, -1.7295211699003348, 1.2008174731880432, 0.10282652031461875, -0.47863540770189894, -0.5852211484211195, -0.14840713435264566, -1.2406689004473512, -0.02836699868960687, -2.2175044034675824, -0.7069107560571622, -0.7216697495558138, -0.3417257690530918, 0.24893146203774258, 1.1347613070213458, 0.8894403559468214, -0.014451072860063092, -0.6807365486086413, -1.51281593418309, -0.03250217366365307, 1.3747933188776915, 0.44665306518104236], \"y\": [0.556181465264592, 1.021795579003633, 0.34305198877282084, -0.782986867702327, 0.5458775572441681, -0.9715858430258466, 1.7059829955873331, 0.28544152502108705, 0.8133036806419416, 1.8438761323874195, -1.6843689924306073, -0.6011669035135556, 1.2057593289303659, 0.5714837677350195, 1.1974435004904707, 0.5494457339453958, -0.583025114377226, -0.5760423117387118, -0.2267080831976598, -0.6517963472447632, 1.7744629453539784, -0.18182311146547486, -0.9843449933267222, -0.2739598084609428, -3.2783716913462415, -0.2877715873394967, 0.5784706223569512, 0.3030365856133379, -1.2192810936302827, -0.3498140922462479, -0.32000531067556515, -0.031557344394759476, -1.3938528030386734, -0.6727776278372283, 0.49258864594789825, -1.6427499421621758, -0.2775698317169973, 0.15793051570381744, -0.9428742062412326, 1.5963726684050736, 1.34865383082596, 1.3258852811549022, -0.34614794569627316, 0.30023183003229426, 0.3877903130816993, 1.3133646083048698, -1.1552445211257694, -0.6700976350522939, -3.287095575211883, 0.49097271151398014, -0.055777300990351594, 0.6494178607025153, -0.37204261936690475, 0.9448951923093842, -0.32298420592403887, 1.312968573709209, 2.1187381683403417, 1.7203059238427028, 0.15430651614390078, -0.9359327458917104, 0.18582390724082196, 0.38651808204428395, 1.595646769306395, -0.18410778350683912, 1.305522239456601, 1.7566763799575875, -0.08039348481880718, -0.3543421040131263, 0.5219203636451465, -0.5896112929306913, -0.3393041168634211, 0.2829610171561076, 0.6793200016345743, -1.6140029249633254, 0.22523965436780735, -0.45268835808640734, -0.2732718549621978, -0.4761834808012976, 0.7164367320172792, -0.9713979181899827, -0.12182758654723387, 1.327902927622974, -0.7092892469961845, -2.0271293836609416, -0.7317919679679369, -0.7270314802520373, 0.9305346356228754, 0.11165713571383377, -0.9266581376799186, 1.1287638359340197, -1.4830324294304336, 0.6829320718060053, -0.7336805900485133, -0.37266086176840707, 0.4650377956910324, 0.6046779478448695, 0.06478085892764522, 0.7182424976179019, 1.4522852983523278, -0.10746480113387966]}],\n",
       "                        {\"legend\": {\"bgcolor\": \"#F5F6F9\", \"font\": {\"color\": \"#4D5663\"}}, \"paper_bgcolor\": \"#F5F6F9\", \"plot_bgcolor\": \"#F5F6F9\", \"template\": {\"data\": {\"bar\": [{\"error_x\": {\"color\": \"#2a3f5f\"}, \"error_y\": {\"color\": \"#2a3f5f\"}, \"marker\": {\"line\": {\"color\": \"#E5ECF6\", \"width\": 0.5}}, \"type\": \"bar\"}], \"barpolar\": [{\"marker\": {\"line\": {\"color\": \"#E5ECF6\", \"width\": 0.5}}, \"type\": \"barpolar\"}], \"carpet\": [{\"aaxis\": {\"endlinecolor\": \"#2a3f5f\", \"gridcolor\": \"white\", \"linecolor\": \"white\", \"minorgridcolor\": \"white\", \"startlinecolor\": \"#2a3f5f\"}, \"baxis\": {\"endlinecolor\": \"#2a3f5f\", \"gridcolor\": \"white\", \"linecolor\": \"white\", \"minorgridcolor\": \"white\", \"startlinecolor\": \"#2a3f5f\"}, \"type\": \"carpet\"}], \"choropleth\": [{\"colorbar\": {\"outlinewidth\": 0, \"ticks\": \"\"}, \"type\": \"choropleth\"}], \"contour\": [{\"colorbar\": {\"outlinewidth\": 0, \"ticks\": \"\"}, \"colorscale\": [[0.0, \"#0d0887\"], [0.1111111111111111, \"#46039f\"], [0.2222222222222222, \"#7201a8\"], [0.3333333333333333, \"#9c179e\"], [0.4444444444444444, \"#bd3786\"], [0.5555555555555556, \"#d8576b\"], [0.6666666666666666, \"#ed7953\"], [0.7777777777777778, \"#fb9f3a\"], [0.8888888888888888, \"#fdca26\"], [1.0, \"#f0f921\"]], \"type\": \"contour\"}], \"contourcarpet\": [{\"colorbar\": {\"outlinewidth\": 0, \"ticks\": \"\"}, \"type\": \"contourcarpet\"}], \"heatmap\": [{\"colorbar\": {\"outlinewidth\": 0, \"ticks\": \"\"}, \"colorscale\": [[0.0, \"#0d0887\"], [0.1111111111111111, \"#46039f\"], [0.2222222222222222, \"#7201a8\"], [0.3333333333333333, \"#9c179e\"], [0.4444444444444444, \"#bd3786\"], [0.5555555555555556, \"#d8576b\"], [0.6666666666666666, \"#ed7953\"], [0.7777777777777778, \"#fb9f3a\"], [0.8888888888888888, \"#fdca26\"], [1.0, \"#f0f921\"]], \"type\": \"heatmap\"}], \"heatmapgl\": [{\"colorbar\": {\"outlinewidth\": 0, \"ticks\": \"\"}, \"colorscale\": [[0.0, \"#0d0887\"], [0.1111111111111111, \"#46039f\"], [0.2222222222222222, \"#7201a8\"], [0.3333333333333333, \"#9c179e\"], [0.4444444444444444, \"#bd3786\"], [0.5555555555555556, \"#d8576b\"], [0.6666666666666666, \"#ed7953\"], [0.7777777777777778, \"#fb9f3a\"], [0.8888888888888888, \"#fdca26\"], [1.0, \"#f0f921\"]], \"type\": \"heatmapgl\"}], \"histogram\": [{\"marker\": {\"colorbar\": {\"outlinewidth\": 0, \"ticks\": \"\"}}, \"type\": \"histogram\"}], \"histogram2d\": [{\"colorbar\": {\"outlinewidth\": 0, \"ticks\": \"\"}, \"colorscale\": [[0.0, \"#0d0887\"], [0.1111111111111111, \"#46039f\"], [0.2222222222222222, \"#7201a8\"], [0.3333333333333333, \"#9c179e\"], [0.4444444444444444, \"#bd3786\"], [0.5555555555555556, \"#d8576b\"], [0.6666666666666666, \"#ed7953\"], [0.7777777777777778, \"#fb9f3a\"], [0.8888888888888888, \"#fdca26\"], [1.0, \"#f0f921\"]], \"type\": \"histogram2d\"}], \"histogram2dcontour\": [{\"colorbar\": {\"outlinewidth\": 0, \"ticks\": \"\"}, \"colorscale\": [[0.0, \"#0d0887\"], [0.1111111111111111, \"#46039f\"], [0.2222222222222222, \"#7201a8\"], [0.3333333333333333, \"#9c179e\"], [0.4444444444444444, \"#bd3786\"], [0.5555555555555556, \"#d8576b\"], [0.6666666666666666, \"#ed7953\"], [0.7777777777777778, \"#fb9f3a\"], [0.8888888888888888, \"#fdca26\"], [1.0, \"#f0f921\"]], \"type\": \"histogram2dcontour\"}], \"mesh3d\": [{\"colorbar\": {\"outlinewidth\": 0, \"ticks\": \"\"}, \"type\": \"mesh3d\"}], \"parcoords\": [{\"line\": {\"colorbar\": {\"outlinewidth\": 0, \"ticks\": \"\"}}, \"type\": \"parcoords\"}], \"pie\": [{\"automargin\": true, \"type\": \"pie\"}], \"scatter\": [{\"marker\": {\"colorbar\": {\"outlinewidth\": 0, \"ticks\": \"\"}}, \"type\": \"scatter\"}], \"scatter3d\": [{\"line\": {\"colorbar\": {\"outlinewidth\": 0, \"ticks\": \"\"}}, \"marker\": {\"colorbar\": {\"outlinewidth\": 0, \"ticks\": \"\"}}, \"type\": \"scatter3d\"}], \"scattercarpet\": [{\"marker\": {\"colorbar\": {\"outlinewidth\": 0, \"ticks\": \"\"}}, \"type\": \"scattercarpet\"}], \"scattergeo\": [{\"marker\": {\"colorbar\": {\"outlinewidth\": 0, \"ticks\": \"\"}}, \"type\": \"scattergeo\"}], \"scattergl\": [{\"marker\": {\"colorbar\": {\"outlinewidth\": 0, \"ticks\": \"\"}}, \"type\": \"scattergl\"}], \"scattermapbox\": [{\"marker\": {\"colorbar\": {\"outlinewidth\": 0, \"ticks\": \"\"}}, \"type\": \"scattermapbox\"}], \"scatterpolar\": [{\"marker\": {\"colorbar\": {\"outlinewidth\": 0, \"ticks\": \"\"}}, \"type\": \"scatterpolar\"}], \"scatterpolargl\": [{\"marker\": {\"colorbar\": {\"outlinewidth\": 0, \"ticks\": \"\"}}, \"type\": \"scatterpolargl\"}], \"scatterternary\": [{\"marker\": {\"colorbar\": {\"outlinewidth\": 0, \"ticks\": \"\"}}, \"type\": \"scatterternary\"}], \"surface\": [{\"colorbar\": {\"outlinewidth\": 0, \"ticks\": \"\"}, \"colorscale\": [[0.0, \"#0d0887\"], [0.1111111111111111, \"#46039f\"], [0.2222222222222222, \"#7201a8\"], [0.3333333333333333, \"#9c179e\"], [0.4444444444444444, \"#bd3786\"], [0.5555555555555556, \"#d8576b\"], [0.6666666666666666, \"#ed7953\"], [0.7777777777777778, \"#fb9f3a\"], [0.8888888888888888, \"#fdca26\"], [1.0, \"#f0f921\"]], \"type\": \"surface\"}], \"table\": [{\"cells\": {\"fill\": {\"color\": \"#EBF0F8\"}, \"line\": {\"color\": \"white\"}}, \"header\": {\"fill\": {\"color\": \"#C8D4E3\"}, \"line\": {\"color\": \"white\"}}, \"type\": \"table\"}]}, \"layout\": {\"annotationdefaults\": {\"arrowcolor\": \"#2a3f5f\", \"arrowhead\": 0, \"arrowwidth\": 1}, \"coloraxis\": {\"colorbar\": {\"outlinewidth\": 0, \"ticks\": \"\"}}, \"colorscale\": {\"diverging\": [[0, \"#8e0152\"], [0.1, \"#c51b7d\"], [0.2, \"#de77ae\"], [0.3, \"#f1b6da\"], [0.4, \"#fde0ef\"], [0.5, \"#f7f7f7\"], [0.6, \"#e6f5d0\"], [0.7, \"#b8e186\"], [0.8, \"#7fbc41\"], [0.9, \"#4d9221\"], [1, \"#276419\"]], \"sequential\": [[0.0, \"#0d0887\"], [0.1111111111111111, \"#46039f\"], [0.2222222222222222, \"#7201a8\"], [0.3333333333333333, \"#9c179e\"], [0.4444444444444444, \"#bd3786\"], [0.5555555555555556, \"#d8576b\"], [0.6666666666666666, \"#ed7953\"], [0.7777777777777778, \"#fb9f3a\"], [0.8888888888888888, \"#fdca26\"], [1.0, \"#f0f921\"]], \"sequentialminus\": [[0.0, \"#0d0887\"], [0.1111111111111111, \"#46039f\"], [0.2222222222222222, \"#7201a8\"], [0.3333333333333333, \"#9c179e\"], [0.4444444444444444, \"#bd3786\"], [0.5555555555555556, \"#d8576b\"], [0.6666666666666666, \"#ed7953\"], [0.7777777777777778, \"#fb9f3a\"], [0.8888888888888888, \"#fdca26\"], [1.0, \"#f0f921\"]]}, \"colorway\": [\"#636efa\", \"#EF553B\", \"#00cc96\", \"#ab63fa\", \"#FFA15A\", \"#19d3f3\", \"#FF6692\", \"#B6E880\", \"#FF97FF\", \"#FECB52\"], \"font\": {\"color\": \"#2a3f5f\"}, \"geo\": {\"bgcolor\": \"white\", \"lakecolor\": \"white\", \"landcolor\": \"#E5ECF6\", \"showlakes\": true, \"showland\": true, \"subunitcolor\": \"white\"}, \"hoverlabel\": {\"align\": \"left\"}, \"hovermode\": \"closest\", \"mapbox\": {\"style\": \"light\"}, \"paper_bgcolor\": \"white\", \"plot_bgcolor\": \"#E5ECF6\", \"polar\": {\"angularaxis\": {\"gridcolor\": \"white\", \"linecolor\": \"white\", \"ticks\": \"\"}, \"bgcolor\": \"#E5ECF6\", \"radialaxis\": {\"gridcolor\": \"white\", \"linecolor\": \"white\", \"ticks\": \"\"}}, \"scene\": {\"xaxis\": {\"backgroundcolor\": \"#E5ECF6\", \"gridcolor\": \"white\", \"gridwidth\": 2, \"linecolor\": \"white\", \"showbackground\": true, \"ticks\": \"\", \"zerolinecolor\": \"white\"}, \"yaxis\": {\"backgroundcolor\": \"#E5ECF6\", \"gridcolor\": \"white\", \"gridwidth\": 2, \"linecolor\": \"white\", \"showbackground\": true, \"ticks\": \"\", \"zerolinecolor\": \"white\"}, \"zaxis\": {\"backgroundcolor\": \"#E5ECF6\", \"gridcolor\": \"white\", \"gridwidth\": 2, \"linecolor\": \"white\", \"showbackground\": true, \"ticks\": \"\", \"zerolinecolor\": \"white\"}}, \"shapedefaults\": {\"line\": {\"color\": \"#2a3f5f\"}}, \"ternary\": {\"aaxis\": {\"gridcolor\": \"white\", \"linecolor\": \"white\", \"ticks\": \"\"}, \"baxis\": {\"gridcolor\": \"white\", \"linecolor\": \"white\", \"ticks\": \"\"}, \"bgcolor\": \"#E5ECF6\", \"caxis\": {\"gridcolor\": \"white\", \"linecolor\": \"white\", \"ticks\": \"\"}}, \"title\": {\"x\": 0.05}, \"xaxis\": {\"automargin\": true, \"gridcolor\": \"white\", \"linecolor\": \"white\", \"ticks\": \"\", \"title\": {\"standoff\": 15}, \"zerolinecolor\": \"white\", \"zerolinewidth\": 2}, \"yaxis\": {\"automargin\": true, \"gridcolor\": \"white\", \"linecolor\": \"white\", \"ticks\": \"\", \"title\": {\"standoff\": 15}, \"zerolinecolor\": \"white\", \"zerolinewidth\": 2}}}, \"title\": {\"font\": {\"color\": \"#4D5663\"}}, \"xaxis\": {\"gridcolor\": \"#E1E5ED\", \"showgrid\": true, \"tickfont\": {\"color\": \"#4D5663\"}, \"title\": {\"font\": {\"color\": \"#4D5663\"}, \"text\": \"\"}, \"zerolinecolor\": \"#E1E5ED\"}, \"yaxis\": {\"gridcolor\": \"#E1E5ED\", \"showgrid\": true, \"tickfont\": {\"color\": \"#4D5663\"}, \"title\": {\"font\": {\"color\": \"#4D5663\"}, \"text\": \"\"}, \"zerolinecolor\": \"#E1E5ED\"}},\n",
       "                        {\"showLink\": true, \"linkText\": \"Export to plot.ly\", \"plotlyServerURL\": \"https://plot.ly\", \"responsive\": true}\n",
       "                    ).then(function(){\n",
       "                            \n",
       "var gd = document.getElementById('4fd47a3d-1f87-46a8-8853-47eebbef1ca5');\n",
       "var x = new MutationObserver(function (mutations, observer) {{\n",
       "        var display = window.getComputedStyle(gd).display;\n",
       "        if (!display || display === 'none') {{\n",
       "            console.log([gd, 'removed!']);\n",
       "            Plotly.purge(gd);\n",
       "            observer.disconnect();\n",
       "        }}\n",
       "}});\n",
       "\n",
       "// Listen for the removal of the full notebook cells\n",
       "var notebookContainer = gd.closest('#notebook-container');\n",
       "if (notebookContainer) {{\n",
       "    x.observe(notebookContainer, {childList: true});\n",
       "}}\n",
       "\n",
       "// Listen for the clearing of the current output cell\n",
       "var outputEl = gd.closest('.output');\n",
       "if (outputEl) {{\n",
       "    x.observe(outputEl, {childList: true});\n",
       "}}\n",
       "\n",
       "                        })\n",
       "                };\n",
       "                });\n",
       "            </script>\n",
       "        </div>"
      ]
     },
     "metadata": {},
     "output_type": "display_data"
    }
   ],
   "source": [
    "df1.iplot(kind='bubble',x='A',y='B',size='C',colors='green')"
   ]
  },
  {
   "cell_type": "code",
   "execution_count": 37,
   "metadata": {},
   "outputs": [],
   "source": [
    "# This one look like pairplot in seaborn, but this one is hoverable"
   ]
  },
  {
   "cell_type": "code",
   "execution_count": 81,
   "metadata": {},
   "outputs": [
    {
     "data": {
      "application/vnd.plotly.v1+json": {
       "config": {
        "linkText": "Export to plot.ly",
        "plotlyServerURL": "https://plot.ly",
        "showLink": true
       },
       "data": [
        {
         "histfunc": "count",
         "histnorm": "",
         "marker": {
          "color": "rgba(255, 153, 51, 1.0)",
          "line": {
           "color": "#4D5663",
           "width": 1.3
          }
         },
         "name": "A",
         "nbinsx": 10,
         "opacity": 0.8,
         "orientation": "v",
         "type": "histogram",
         "x": [
          -0.11772897368311729,
          -0.533871526107039,
          0.46282102957446003,
          0.17704671607161943,
          -0.22514481280573914,
          1.0077127167213151,
          -0.43902733090004364,
          -2.641322783185602,
          0.12620115184579384,
          -0.6663722488414342,
          1.4606297568210536,
          -0.37255423146386346,
          -0.383110800373717,
          0.3391330095506838,
          -0.5733500505242811,
          -0.141599315756973,
          -0.738979900552547,
          -0.45779365111559306,
          -1.6359603899116615,
          0.39954915531710483,
          1.5377838539223083,
          -1.1440067932632123,
          -0.64765270889491,
          0.19897738994471825,
          1.5169806452492216,
          0.11550699837102808,
          -1.7432365527863287,
          0.47064984933718945,
          0.09993588843189898,
          1.2077133520168108,
          0.23801283659543684,
          -1.17813153393185,
          -1.416089110886164,
          1.5483028352919244,
          0.7447432123532974,
          -1.4130082806017559,
          -1.8323103345859806,
          1.314104415237608,
          -1.215758658659783,
          -1.289723333914404,
          0.1250192027850171,
          0.785632072181155,
          -0.5607245856806137,
          0.08712197627660075,
          -0.13944124583278467,
          0.5085637654193944,
          -0.26327471175700096,
          0.6616677101373818,
          1.0840118220174724,
          -0.20007606657368793,
          -0.16287758289409526,
          -2.1222925049735553,
          0.6679480557850784,
          -0.059009948146776334,
          -0.25989855287404157,
          -0.614240169961146,
          3.5264494843495444,
          -3.1773654445327337,
          0.5102405813630724,
          2.3784878564383436,
          -0.8941177702702027,
          1.7294737835142415,
          1.0908531113495692,
          -2.600368367654316,
          0.8481792011605757,
          0.6873057825531937,
          -0.13189894149393275,
          0.6808643558735855,
          -0.4586142690323789,
          1.2249728108842624,
          -0.12744918349329165,
          0.6606018421456373,
          -0.18151652305094346,
          0.6142901484241644,
          0.30530936915412654,
          0.6633064704233149,
          -1.01251360583096,
          -2.9539709554187414,
          0.16106834543734866,
          -1.7295211699003348,
          1.2008174731880432,
          0.10282652031461875,
          -0.47863540770189894,
          -0.5852211484211195,
          -0.14840713435264566,
          -1.2406689004473512,
          -0.02836699868960687,
          -2.2175044034675824,
          -0.7069107560571622,
          -0.7216697495558138,
          -0.3417257690530918,
          0.24893146203774258,
          1.1347613070213458,
          0.8894403559468214,
          -0.014451072860063092,
          -0.6807365486086413,
          -1.51281593418309,
          -0.03250217366365307,
          1.3747933188776915,
          0.44665306518104236
         ],
         "xaxis": "x",
         "yaxis": "y"
        },
        {
         "line": {
          "color": "rgba(128, 128, 128, 1.0)",
          "dash": "solid",
          "shape": "linear",
          "width": 1.3
         },
         "marker": {
          "size": 2,
          "symbol": "circle"
         },
         "mode": "markers",
         "name": "A",
         "text": "",
         "type": "scatter",
         "x": [
          0.556181465264592,
          1.021795579003633,
          0.34305198877282084,
          -0.782986867702327,
          0.5458775572441681,
          -0.9715858430258466,
          1.7059829955873331,
          0.28544152502108705,
          0.8133036806419416,
          1.8438761323874195,
          -1.6843689924306073,
          -0.6011669035135556,
          1.2057593289303659,
          0.5714837677350195,
          1.1974435004904707,
          0.5494457339453958,
          -0.583025114377226,
          -0.5760423117387118,
          -0.2267080831976598,
          -0.6517963472447632,
          1.7744629453539784,
          -0.18182311146547486,
          -0.9843449933267222,
          -0.2739598084609428,
          -3.2783716913462415,
          -0.2877715873394967,
          0.5784706223569512,
          0.3030365856133379,
          -1.2192810936302827,
          -0.3498140922462479,
          -0.32000531067556515,
          -0.031557344394759476,
          -1.3938528030386734,
          -0.6727776278372283,
          0.49258864594789825,
          -1.6427499421621758,
          -0.2775698317169973,
          0.15793051570381744,
          -0.9428742062412326,
          1.5963726684050736,
          1.34865383082596,
          1.3258852811549022,
          -0.34614794569627316,
          0.30023183003229426,
          0.3877903130816993,
          1.3133646083048698,
          -1.1552445211257694,
          -0.6700976350522939,
          -3.287095575211883,
          0.49097271151398014,
          -0.055777300990351594,
          0.6494178607025153,
          -0.37204261936690475,
          0.9448951923093842,
          -0.32298420592403887,
          1.312968573709209,
          2.1187381683403417,
          1.7203059238427028,
          0.15430651614390078,
          -0.9359327458917104,
          0.18582390724082196,
          0.38651808204428395,
          1.595646769306395,
          -0.18410778350683912,
          1.305522239456601,
          1.7566763799575875,
          -0.08039348481880718,
          -0.3543421040131263,
          0.5219203636451465,
          -0.5896112929306913,
          -0.3393041168634211,
          0.2829610171561076,
          0.6793200016345743,
          -1.6140029249633254,
          0.22523965436780735,
          -0.45268835808640734,
          -0.2732718549621978,
          -0.4761834808012976,
          0.7164367320172792,
          -0.9713979181899827,
          -0.12182758654723387,
          1.327902927622974,
          -0.7092892469961845,
          -2.0271293836609416,
          -0.7317919679679369,
          -0.7270314802520373,
          0.9305346356228754,
          0.11165713571383377,
          -0.9266581376799186,
          1.1287638359340197,
          -1.4830324294304336,
          0.6829320718060053,
          -0.7336805900485133,
          -0.37266086176840707,
          0.4650377956910324,
          0.6046779478448695,
          0.06478085892764522,
          0.7182424976179019,
          1.4522852983523278,
          -0.10746480113387966
         ],
         "xaxis": "x2",
         "y": [
          -0.11772897368311729,
          -0.533871526107039,
          0.46282102957446003,
          0.17704671607161943,
          -0.22514481280573914,
          1.0077127167213151,
          -0.43902733090004364,
          -2.641322783185602,
          0.12620115184579384,
          -0.6663722488414342,
          1.4606297568210536,
          -0.37255423146386346,
          -0.383110800373717,
          0.3391330095506838,
          -0.5733500505242811,
          -0.141599315756973,
          -0.738979900552547,
          -0.45779365111559306,
          -1.6359603899116615,
          0.39954915531710483,
          1.5377838539223083,
          -1.1440067932632123,
          -0.64765270889491,
          0.19897738994471825,
          1.5169806452492216,
          0.11550699837102808,
          -1.7432365527863287,
          0.47064984933718945,
          0.09993588843189898,
          1.2077133520168108,
          0.23801283659543684,
          -1.17813153393185,
          -1.416089110886164,
          1.5483028352919244,
          0.7447432123532974,
          -1.4130082806017559,
          -1.8323103345859806,
          1.314104415237608,
          -1.215758658659783,
          -1.289723333914404,
          0.1250192027850171,
          0.785632072181155,
          -0.5607245856806137,
          0.08712197627660075,
          -0.13944124583278467,
          0.5085637654193944,
          -0.26327471175700096,
          0.6616677101373818,
          1.0840118220174724,
          -0.20007606657368793,
          -0.16287758289409526,
          -2.1222925049735553,
          0.6679480557850784,
          -0.059009948146776334,
          -0.25989855287404157,
          -0.614240169961146,
          3.5264494843495444,
          -3.1773654445327337,
          0.5102405813630724,
          2.3784878564383436,
          -0.8941177702702027,
          1.7294737835142415,
          1.0908531113495692,
          -2.600368367654316,
          0.8481792011605757,
          0.6873057825531937,
          -0.13189894149393275,
          0.6808643558735855,
          -0.4586142690323789,
          1.2249728108842624,
          -0.12744918349329165,
          0.6606018421456373,
          -0.18151652305094346,
          0.6142901484241644,
          0.30530936915412654,
          0.6633064704233149,
          -1.01251360583096,
          -2.9539709554187414,
          0.16106834543734866,
          -1.7295211699003348,
          1.2008174731880432,
          0.10282652031461875,
          -0.47863540770189894,
          -0.5852211484211195,
          -0.14840713435264566,
          -1.2406689004473512,
          -0.02836699868960687,
          -2.2175044034675824,
          -0.7069107560571622,
          -0.7216697495558138,
          -0.3417257690530918,
          0.24893146203774258,
          1.1347613070213458,
          0.8894403559468214,
          -0.014451072860063092,
          -0.6807365486086413,
          -1.51281593418309,
          -0.03250217366365307,
          1.3747933188776915,
          0.44665306518104236
         ],
         "yaxis": "y2"
        },
        {
         "line": {
          "color": "rgba(128, 128, 128, 1.0)",
          "dash": "solid",
          "shape": "linear",
          "width": 1.3
         },
         "marker": {
          "size": 2,
          "symbol": "circle"
         },
         "mode": "markers",
         "name": "A",
         "text": "",
         "type": "scatter",
         "x": [
          1.8423457922317947,
          0.20240953416570504,
          -0.9525738852837822,
          1.39066122188408,
          -0.5758319347455517,
          -2.2248143413261285,
          -0.7131505795054817,
          -0.5087791560343012,
          2.1627130231224476,
          -0.307759373430411,
          0.4439998216781445,
          0.7429693946108744,
          0.866330459737981,
          0.1434047377515391,
          1.624144950650099,
          0.6434746690188269,
          0.5095909395993825,
          0.3357006342080557,
          0.4630718916971839,
          -0.9760195698420616,
          1.1039126345544499,
          -0.8652253649504862,
          1.8551271595279182,
          0.2627165887760841,
          0.06282208885516809,
          -0.4497543893190607,
          1.1940911756059924,
          1.1552520723225135,
          -0.5485747405662537,
          -0.11411452634528207,
          -0.5282393373038018,
          -1.327693787521095,
          -1.549489381787043,
          1.0027726151972014,
          -1.0941708236543997,
          0.12742932278184788,
          0.04220359654200365,
          -1.2567283631816193,
          -0.7937078956603784,
          2.440770066641173,
          -0.4920171049779494,
          0.11125643039292989,
          0.7723186482112306,
          0.9361909674591782,
          0.8648729687355279,
          -1.6298418614407943,
          0.25568286297490267,
          0.1394856981020013,
          -1.789616962623113,
          -0.04623076479099041,
          -1.9988418554174914,
          3.25417632938342,
          0.44952682023433227,
          -1.0073902817500062,
          0.4232792486547495,
          -0.7185189833476643,
          -2.2984620378640277,
          1.0522378759306052,
          -0.1491115721383713,
          -0.2572758716760549,
          0.48150221081239347,
          -0.8027624402476271,
          -1.2457373952879698,
          0.5617403563106325,
          0.3068661646974329,
          -0.6736939628947071,
          1.8484582468266417,
          -1.4078695029750796,
          1.6479183924240963,
          -1.6444615464525167,
          -0.37384325264027995,
          0.13099210580087112,
          2.21302552422313,
          1.8740958260260177,
          0.8370437702050992,
          -1.2615134075311947,
          -0.5065359023069691,
          -0.14660605485193431,
          -0.28315508223245717,
          -0.01971718335519795,
          1.4076687346106214,
          -1.7207671190761573,
          -0.048913624524071275,
          -1.285733271733305,
          0.743646254241991,
          -0.3364636737903639,
          0.037067626005797924,
          2.296033645140205,
          -0.17353928973261812,
          2.245012951254967,
          -0.4691387055287381,
          -1.3656723815702134,
          1.3431273529433994,
          -0.24603041122860111,
          -1.6277403162742727,
          1.2621719611727393,
          0.35443710511960824,
          -0.22833377574129124,
          -1.0062026808585642,
          0.022292426743457695
         ],
         "xaxis": "x3",
         "y": [
          -0.11772897368311729,
          -0.533871526107039,
          0.46282102957446003,
          0.17704671607161943,
          -0.22514481280573914,
          1.0077127167213151,
          -0.43902733090004364,
          -2.641322783185602,
          0.12620115184579384,
          -0.6663722488414342,
          1.4606297568210536,
          -0.37255423146386346,
          -0.383110800373717,
          0.3391330095506838,
          -0.5733500505242811,
          -0.141599315756973,
          -0.738979900552547,
          -0.45779365111559306,
          -1.6359603899116615,
          0.39954915531710483,
          1.5377838539223083,
          -1.1440067932632123,
          -0.64765270889491,
          0.19897738994471825,
          1.5169806452492216,
          0.11550699837102808,
          -1.7432365527863287,
          0.47064984933718945,
          0.09993588843189898,
          1.2077133520168108,
          0.23801283659543684,
          -1.17813153393185,
          -1.416089110886164,
          1.5483028352919244,
          0.7447432123532974,
          -1.4130082806017559,
          -1.8323103345859806,
          1.314104415237608,
          -1.215758658659783,
          -1.289723333914404,
          0.1250192027850171,
          0.785632072181155,
          -0.5607245856806137,
          0.08712197627660075,
          -0.13944124583278467,
          0.5085637654193944,
          -0.26327471175700096,
          0.6616677101373818,
          1.0840118220174724,
          -0.20007606657368793,
          -0.16287758289409526,
          -2.1222925049735553,
          0.6679480557850784,
          -0.059009948146776334,
          -0.25989855287404157,
          -0.614240169961146,
          3.5264494843495444,
          -3.1773654445327337,
          0.5102405813630724,
          2.3784878564383436,
          -0.8941177702702027,
          1.7294737835142415,
          1.0908531113495692,
          -2.600368367654316,
          0.8481792011605757,
          0.6873057825531937,
          -0.13189894149393275,
          0.6808643558735855,
          -0.4586142690323789,
          1.2249728108842624,
          -0.12744918349329165,
          0.6606018421456373,
          -0.18151652305094346,
          0.6142901484241644,
          0.30530936915412654,
          0.6633064704233149,
          -1.01251360583096,
          -2.9539709554187414,
          0.16106834543734866,
          -1.7295211699003348,
          1.2008174731880432,
          0.10282652031461875,
          -0.47863540770189894,
          -0.5852211484211195,
          -0.14840713435264566,
          -1.2406689004473512,
          -0.02836699868960687,
          -2.2175044034675824,
          -0.7069107560571622,
          -0.7216697495558138,
          -0.3417257690530918,
          0.24893146203774258,
          1.1347613070213458,
          0.8894403559468214,
          -0.014451072860063092,
          -0.6807365486086413,
          -1.51281593418309,
          -0.03250217366365307,
          1.3747933188776915,
          0.44665306518104236
         ],
         "yaxis": "y3"
        },
        {
         "line": {
          "color": "rgba(128, 128, 128, 1.0)",
          "dash": "solid",
          "shape": "linear",
          "width": 1.3
         },
         "marker": {
          "size": 2,
          "symbol": "circle"
         },
         "mode": "markers",
         "name": "A",
         "text": "",
         "type": "scatter",
         "x": [
          -0.13029775050345832,
          0.19573261702004144,
          -0.0849251457349376,
          -0.23880913887984828,
          -1.5781035965163253,
          0.8624912370517351,
          -0.4766178624860545,
          -0.8897540217320224,
          -0.6699055543981048,
          -0.06596624327345979,
          -0.13584076637280296,
          -0.08445357212174927,
          -0.9845017328420416,
          0.9647853473689881,
          0.893869187177583,
          2.883216445448747,
          -0.012931184479350528,
          0.5382116468686099,
          -0.17817702317167564,
          1.2252296319464155,
          -1.4138623257695828,
          -0.14978631055618855,
          0.2817851549568895,
          1.4107207793076861,
          0.3824054932592069,
          0.7607719097690818,
          -1.5622698969888633,
          0.915436993318037,
          -0.6957787290061421,
          0.7095587616205666,
          -1.0516014996850263,
          -0.8525350307110473,
          1.960251635125264,
          -0.7548885841877612,
          0.10833437701807601,
          -1.0213903039151238,
          2.54040561409652,
          0.06270296383361777,
          0.9006479345734872,
          -2.2499467411254233,
          -0.9367031680172341,
          0.34249765932323395,
          -0.8793225621766521,
          -0.5225802241904006,
          -1.3819882049509593,
          -0.6050242661030426,
          0.4735607586627363,
          -0.49571457151610504,
          0.1611963898643476,
          0.7210105493414507,
          0.276518321348237,
          1.2221581888680046,
          -0.33534827074426865,
          -1.7894834533147126,
          0.38651148029366106,
          0.2067116250993895,
          0.17643534693943186,
          -1.5411746600996836,
          0.9967579072628576,
          0.9760029762022033,
          -0.7047832424389892,
          0.598364509395858,
          0.18981165049636248,
          -0.6157862721974697,
          0.5007724942378763,
          -0.5243009686469143,
          -2.0621593177768367,
          -0.04573328162124815,
          -1.581064773513214,
          1.248525489175646,
          0.4022001502578853,
          -0.17671493444198852,
          0.11163554319569959,
          1.2977400187934724,
          2.3619753164570354,
          0.25287836754746973,
          0.399756811353929,
          -1.3397766456532445,
          -0.4463767202015796,
          0.2854797402498509,
          0.010305808003770294,
          -0.5891088327406014,
          0.0876277433750314,
          -0.5886525882541025,
          -1.2557607166320561,
          0.48840651045337974,
          -0.5322020873802618,
          1.5197623923863446,
          0.5068374330208252,
          -0.14534365535465493,
          -0.17274256420810255,
          1.1763090526034488,
          0.3146799380582341,
          -0.2947787597858762,
          -0.11431024363586058,
          -0.21117314581428073,
          -0.9200695165037043,
          -0.7570478560798554,
          -0.042357673942814714,
          0.9603130821155603
         ],
         "xaxis": "x4",
         "y": [
          -0.11772897368311729,
          -0.533871526107039,
          0.46282102957446003,
          0.17704671607161943,
          -0.22514481280573914,
          1.0077127167213151,
          -0.43902733090004364,
          -2.641322783185602,
          0.12620115184579384,
          -0.6663722488414342,
          1.4606297568210536,
          -0.37255423146386346,
          -0.383110800373717,
          0.3391330095506838,
          -0.5733500505242811,
          -0.141599315756973,
          -0.738979900552547,
          -0.45779365111559306,
          -1.6359603899116615,
          0.39954915531710483,
          1.5377838539223083,
          -1.1440067932632123,
          -0.64765270889491,
          0.19897738994471825,
          1.5169806452492216,
          0.11550699837102808,
          -1.7432365527863287,
          0.47064984933718945,
          0.09993588843189898,
          1.2077133520168108,
          0.23801283659543684,
          -1.17813153393185,
          -1.416089110886164,
          1.5483028352919244,
          0.7447432123532974,
          -1.4130082806017559,
          -1.8323103345859806,
          1.314104415237608,
          -1.215758658659783,
          -1.289723333914404,
          0.1250192027850171,
          0.785632072181155,
          -0.5607245856806137,
          0.08712197627660075,
          -0.13944124583278467,
          0.5085637654193944,
          -0.26327471175700096,
          0.6616677101373818,
          1.0840118220174724,
          -0.20007606657368793,
          -0.16287758289409526,
          -2.1222925049735553,
          0.6679480557850784,
          -0.059009948146776334,
          -0.25989855287404157,
          -0.614240169961146,
          3.5264494843495444,
          -3.1773654445327337,
          0.5102405813630724,
          2.3784878564383436,
          -0.8941177702702027,
          1.7294737835142415,
          1.0908531113495692,
          -2.600368367654316,
          0.8481792011605757,
          0.6873057825531937,
          -0.13189894149393275,
          0.6808643558735855,
          -0.4586142690323789,
          1.2249728108842624,
          -0.12744918349329165,
          0.6606018421456373,
          -0.18151652305094346,
          0.6142901484241644,
          0.30530936915412654,
          0.6633064704233149,
          -1.01251360583096,
          -2.9539709554187414,
          0.16106834543734866,
          -1.7295211699003348,
          1.2008174731880432,
          0.10282652031461875,
          -0.47863540770189894,
          -0.5852211484211195,
          -0.14840713435264566,
          -1.2406689004473512,
          -0.02836699868960687,
          -2.2175044034675824,
          -0.7069107560571622,
          -0.7216697495558138,
          -0.3417257690530918,
          0.24893146203774258,
          1.1347613070213458,
          0.8894403559468214,
          -0.014451072860063092,
          -0.6807365486086413,
          -1.51281593418309,
          -0.03250217366365307,
          1.3747933188776915,
          0.44665306518104236
         ],
         "yaxis": "y4"
        },
        {
         "line": {
          "color": "rgba(128, 128, 128, 1.0)",
          "dash": "solid",
          "shape": "linear",
          "width": 1.3
         },
         "marker": {
          "size": 2,
          "symbol": "circle"
         },
         "mode": "markers",
         "name": "B",
         "text": "",
         "type": "scatter",
         "x": [
          -0.11772897368311729,
          -0.533871526107039,
          0.46282102957446003,
          0.17704671607161943,
          -0.22514481280573914,
          1.0077127167213151,
          -0.43902733090004364,
          -2.641322783185602,
          0.12620115184579384,
          -0.6663722488414342,
          1.4606297568210536,
          -0.37255423146386346,
          -0.383110800373717,
          0.3391330095506838,
          -0.5733500505242811,
          -0.141599315756973,
          -0.738979900552547,
          -0.45779365111559306,
          -1.6359603899116615,
          0.39954915531710483,
          1.5377838539223083,
          -1.1440067932632123,
          -0.64765270889491,
          0.19897738994471825,
          1.5169806452492216,
          0.11550699837102808,
          -1.7432365527863287,
          0.47064984933718945,
          0.09993588843189898,
          1.2077133520168108,
          0.23801283659543684,
          -1.17813153393185,
          -1.416089110886164,
          1.5483028352919244,
          0.7447432123532974,
          -1.4130082806017559,
          -1.8323103345859806,
          1.314104415237608,
          -1.215758658659783,
          -1.289723333914404,
          0.1250192027850171,
          0.785632072181155,
          -0.5607245856806137,
          0.08712197627660075,
          -0.13944124583278467,
          0.5085637654193944,
          -0.26327471175700096,
          0.6616677101373818,
          1.0840118220174724,
          -0.20007606657368793,
          -0.16287758289409526,
          -2.1222925049735553,
          0.6679480557850784,
          -0.059009948146776334,
          -0.25989855287404157,
          -0.614240169961146,
          3.5264494843495444,
          -3.1773654445327337,
          0.5102405813630724,
          2.3784878564383436,
          -0.8941177702702027,
          1.7294737835142415,
          1.0908531113495692,
          -2.600368367654316,
          0.8481792011605757,
          0.6873057825531937,
          -0.13189894149393275,
          0.6808643558735855,
          -0.4586142690323789,
          1.2249728108842624,
          -0.12744918349329165,
          0.6606018421456373,
          -0.18151652305094346,
          0.6142901484241644,
          0.30530936915412654,
          0.6633064704233149,
          -1.01251360583096,
          -2.9539709554187414,
          0.16106834543734866,
          -1.7295211699003348,
          1.2008174731880432,
          0.10282652031461875,
          -0.47863540770189894,
          -0.5852211484211195,
          -0.14840713435264566,
          -1.2406689004473512,
          -0.02836699868960687,
          -2.2175044034675824,
          -0.7069107560571622,
          -0.7216697495558138,
          -0.3417257690530918,
          0.24893146203774258,
          1.1347613070213458,
          0.8894403559468214,
          -0.014451072860063092,
          -0.6807365486086413,
          -1.51281593418309,
          -0.03250217366365307,
          1.3747933188776915,
          0.44665306518104236
         ],
         "xaxis": "x5",
         "y": [
          0.556181465264592,
          1.021795579003633,
          0.34305198877282084,
          -0.782986867702327,
          0.5458775572441681,
          -0.9715858430258466,
          1.7059829955873331,
          0.28544152502108705,
          0.8133036806419416,
          1.8438761323874195,
          -1.6843689924306073,
          -0.6011669035135556,
          1.2057593289303659,
          0.5714837677350195,
          1.1974435004904707,
          0.5494457339453958,
          -0.583025114377226,
          -0.5760423117387118,
          -0.2267080831976598,
          -0.6517963472447632,
          1.7744629453539784,
          -0.18182311146547486,
          -0.9843449933267222,
          -0.2739598084609428,
          -3.2783716913462415,
          -0.2877715873394967,
          0.5784706223569512,
          0.3030365856133379,
          -1.2192810936302827,
          -0.3498140922462479,
          -0.32000531067556515,
          -0.031557344394759476,
          -1.3938528030386734,
          -0.6727776278372283,
          0.49258864594789825,
          -1.6427499421621758,
          -0.2775698317169973,
          0.15793051570381744,
          -0.9428742062412326,
          1.5963726684050736,
          1.34865383082596,
          1.3258852811549022,
          -0.34614794569627316,
          0.30023183003229426,
          0.3877903130816993,
          1.3133646083048698,
          -1.1552445211257694,
          -0.6700976350522939,
          -3.287095575211883,
          0.49097271151398014,
          -0.055777300990351594,
          0.6494178607025153,
          -0.37204261936690475,
          0.9448951923093842,
          -0.32298420592403887,
          1.312968573709209,
          2.1187381683403417,
          1.7203059238427028,
          0.15430651614390078,
          -0.9359327458917104,
          0.18582390724082196,
          0.38651808204428395,
          1.595646769306395,
          -0.18410778350683912,
          1.305522239456601,
          1.7566763799575875,
          -0.08039348481880718,
          -0.3543421040131263,
          0.5219203636451465,
          -0.5896112929306913,
          -0.3393041168634211,
          0.2829610171561076,
          0.6793200016345743,
          -1.6140029249633254,
          0.22523965436780735,
          -0.45268835808640734,
          -0.2732718549621978,
          -0.4761834808012976,
          0.7164367320172792,
          -0.9713979181899827,
          -0.12182758654723387,
          1.327902927622974,
          -0.7092892469961845,
          -2.0271293836609416,
          -0.7317919679679369,
          -0.7270314802520373,
          0.9305346356228754,
          0.11165713571383377,
          -0.9266581376799186,
          1.1287638359340197,
          -1.4830324294304336,
          0.6829320718060053,
          -0.7336805900485133,
          -0.37266086176840707,
          0.4650377956910324,
          0.6046779478448695,
          0.06478085892764522,
          0.7182424976179019,
          1.4522852983523278,
          -0.10746480113387966
         ],
         "yaxis": "y5"
        },
        {
         "histfunc": "count",
         "histnorm": "",
         "marker": {
          "color": "rgba(55, 128, 191, 1.0)",
          "line": {
           "color": "#4D5663",
           "width": 1.3
          }
         },
         "name": "B",
         "nbinsx": 10,
         "opacity": 0.8,
         "orientation": "v",
         "type": "histogram",
         "x": [
          0.556181465264592,
          1.021795579003633,
          0.34305198877282084,
          -0.782986867702327,
          0.5458775572441681,
          -0.9715858430258466,
          1.7059829955873331,
          0.28544152502108705,
          0.8133036806419416,
          1.8438761323874195,
          -1.6843689924306073,
          -0.6011669035135556,
          1.2057593289303659,
          0.5714837677350195,
          1.1974435004904707,
          0.5494457339453958,
          -0.583025114377226,
          -0.5760423117387118,
          -0.2267080831976598,
          -0.6517963472447632,
          1.7744629453539784,
          -0.18182311146547486,
          -0.9843449933267222,
          -0.2739598084609428,
          -3.2783716913462415,
          -0.2877715873394967,
          0.5784706223569512,
          0.3030365856133379,
          -1.2192810936302827,
          -0.3498140922462479,
          -0.32000531067556515,
          -0.031557344394759476,
          -1.3938528030386734,
          -0.6727776278372283,
          0.49258864594789825,
          -1.6427499421621758,
          -0.2775698317169973,
          0.15793051570381744,
          -0.9428742062412326,
          1.5963726684050736,
          1.34865383082596,
          1.3258852811549022,
          -0.34614794569627316,
          0.30023183003229426,
          0.3877903130816993,
          1.3133646083048698,
          -1.1552445211257694,
          -0.6700976350522939,
          -3.287095575211883,
          0.49097271151398014,
          -0.055777300990351594,
          0.6494178607025153,
          -0.37204261936690475,
          0.9448951923093842,
          -0.32298420592403887,
          1.312968573709209,
          2.1187381683403417,
          1.7203059238427028,
          0.15430651614390078,
          -0.9359327458917104,
          0.18582390724082196,
          0.38651808204428395,
          1.595646769306395,
          -0.18410778350683912,
          1.305522239456601,
          1.7566763799575875,
          -0.08039348481880718,
          -0.3543421040131263,
          0.5219203636451465,
          -0.5896112929306913,
          -0.3393041168634211,
          0.2829610171561076,
          0.6793200016345743,
          -1.6140029249633254,
          0.22523965436780735,
          -0.45268835808640734,
          -0.2732718549621978,
          -0.4761834808012976,
          0.7164367320172792,
          -0.9713979181899827,
          -0.12182758654723387,
          1.327902927622974,
          -0.7092892469961845,
          -2.0271293836609416,
          -0.7317919679679369,
          -0.7270314802520373,
          0.9305346356228754,
          0.11165713571383377,
          -0.9266581376799186,
          1.1287638359340197,
          -1.4830324294304336,
          0.6829320718060053,
          -0.7336805900485133,
          -0.37266086176840707,
          0.4650377956910324,
          0.6046779478448695,
          0.06478085892764522,
          0.7182424976179019,
          1.4522852983523278,
          -0.10746480113387966
         ],
         "xaxis": "x6",
         "yaxis": "y6"
        },
        {
         "line": {
          "color": "rgba(128, 128, 128, 1.0)",
          "dash": "solid",
          "shape": "linear",
          "width": 1.3
         },
         "marker": {
          "size": 2,
          "symbol": "circle"
         },
         "mode": "markers",
         "name": "B",
         "text": "",
         "type": "scatter",
         "x": [
          1.8423457922317947,
          0.20240953416570504,
          -0.9525738852837822,
          1.39066122188408,
          -0.5758319347455517,
          -2.2248143413261285,
          -0.7131505795054817,
          -0.5087791560343012,
          2.1627130231224476,
          -0.307759373430411,
          0.4439998216781445,
          0.7429693946108744,
          0.866330459737981,
          0.1434047377515391,
          1.624144950650099,
          0.6434746690188269,
          0.5095909395993825,
          0.3357006342080557,
          0.4630718916971839,
          -0.9760195698420616,
          1.1039126345544499,
          -0.8652253649504862,
          1.8551271595279182,
          0.2627165887760841,
          0.06282208885516809,
          -0.4497543893190607,
          1.1940911756059924,
          1.1552520723225135,
          -0.5485747405662537,
          -0.11411452634528207,
          -0.5282393373038018,
          -1.327693787521095,
          -1.549489381787043,
          1.0027726151972014,
          -1.0941708236543997,
          0.12742932278184788,
          0.04220359654200365,
          -1.2567283631816193,
          -0.7937078956603784,
          2.440770066641173,
          -0.4920171049779494,
          0.11125643039292989,
          0.7723186482112306,
          0.9361909674591782,
          0.8648729687355279,
          -1.6298418614407943,
          0.25568286297490267,
          0.1394856981020013,
          -1.789616962623113,
          -0.04623076479099041,
          -1.9988418554174914,
          3.25417632938342,
          0.44952682023433227,
          -1.0073902817500062,
          0.4232792486547495,
          -0.7185189833476643,
          -2.2984620378640277,
          1.0522378759306052,
          -0.1491115721383713,
          -0.2572758716760549,
          0.48150221081239347,
          -0.8027624402476271,
          -1.2457373952879698,
          0.5617403563106325,
          0.3068661646974329,
          -0.6736939628947071,
          1.8484582468266417,
          -1.4078695029750796,
          1.6479183924240963,
          -1.6444615464525167,
          -0.37384325264027995,
          0.13099210580087112,
          2.21302552422313,
          1.8740958260260177,
          0.8370437702050992,
          -1.2615134075311947,
          -0.5065359023069691,
          -0.14660605485193431,
          -0.28315508223245717,
          -0.01971718335519795,
          1.4076687346106214,
          -1.7207671190761573,
          -0.048913624524071275,
          -1.285733271733305,
          0.743646254241991,
          -0.3364636737903639,
          0.037067626005797924,
          2.296033645140205,
          -0.17353928973261812,
          2.245012951254967,
          -0.4691387055287381,
          -1.3656723815702134,
          1.3431273529433994,
          -0.24603041122860111,
          -1.6277403162742727,
          1.2621719611727393,
          0.35443710511960824,
          -0.22833377574129124,
          -1.0062026808585642,
          0.022292426743457695
         ],
         "xaxis": "x7",
         "y": [
          0.556181465264592,
          1.021795579003633,
          0.34305198877282084,
          -0.782986867702327,
          0.5458775572441681,
          -0.9715858430258466,
          1.7059829955873331,
          0.28544152502108705,
          0.8133036806419416,
          1.8438761323874195,
          -1.6843689924306073,
          -0.6011669035135556,
          1.2057593289303659,
          0.5714837677350195,
          1.1974435004904707,
          0.5494457339453958,
          -0.583025114377226,
          -0.5760423117387118,
          -0.2267080831976598,
          -0.6517963472447632,
          1.7744629453539784,
          -0.18182311146547486,
          -0.9843449933267222,
          -0.2739598084609428,
          -3.2783716913462415,
          -0.2877715873394967,
          0.5784706223569512,
          0.3030365856133379,
          -1.2192810936302827,
          -0.3498140922462479,
          -0.32000531067556515,
          -0.031557344394759476,
          -1.3938528030386734,
          -0.6727776278372283,
          0.49258864594789825,
          -1.6427499421621758,
          -0.2775698317169973,
          0.15793051570381744,
          -0.9428742062412326,
          1.5963726684050736,
          1.34865383082596,
          1.3258852811549022,
          -0.34614794569627316,
          0.30023183003229426,
          0.3877903130816993,
          1.3133646083048698,
          -1.1552445211257694,
          -0.6700976350522939,
          -3.287095575211883,
          0.49097271151398014,
          -0.055777300990351594,
          0.6494178607025153,
          -0.37204261936690475,
          0.9448951923093842,
          -0.32298420592403887,
          1.312968573709209,
          2.1187381683403417,
          1.7203059238427028,
          0.15430651614390078,
          -0.9359327458917104,
          0.18582390724082196,
          0.38651808204428395,
          1.595646769306395,
          -0.18410778350683912,
          1.305522239456601,
          1.7566763799575875,
          -0.08039348481880718,
          -0.3543421040131263,
          0.5219203636451465,
          -0.5896112929306913,
          -0.3393041168634211,
          0.2829610171561076,
          0.6793200016345743,
          -1.6140029249633254,
          0.22523965436780735,
          -0.45268835808640734,
          -0.2732718549621978,
          -0.4761834808012976,
          0.7164367320172792,
          -0.9713979181899827,
          -0.12182758654723387,
          1.327902927622974,
          -0.7092892469961845,
          -2.0271293836609416,
          -0.7317919679679369,
          -0.7270314802520373,
          0.9305346356228754,
          0.11165713571383377,
          -0.9266581376799186,
          1.1287638359340197,
          -1.4830324294304336,
          0.6829320718060053,
          -0.7336805900485133,
          -0.37266086176840707,
          0.4650377956910324,
          0.6046779478448695,
          0.06478085892764522,
          0.7182424976179019,
          1.4522852983523278,
          -0.10746480113387966
         ],
         "yaxis": "y7"
        },
        {
         "line": {
          "color": "rgba(128, 128, 128, 1.0)",
          "dash": "solid",
          "shape": "linear",
          "width": 1.3
         },
         "marker": {
          "size": 2,
          "symbol": "circle"
         },
         "mode": "markers",
         "name": "B",
         "text": "",
         "type": "scatter",
         "x": [
          -0.13029775050345832,
          0.19573261702004144,
          -0.0849251457349376,
          -0.23880913887984828,
          -1.5781035965163253,
          0.8624912370517351,
          -0.4766178624860545,
          -0.8897540217320224,
          -0.6699055543981048,
          -0.06596624327345979,
          -0.13584076637280296,
          -0.08445357212174927,
          -0.9845017328420416,
          0.9647853473689881,
          0.893869187177583,
          2.883216445448747,
          -0.012931184479350528,
          0.5382116468686099,
          -0.17817702317167564,
          1.2252296319464155,
          -1.4138623257695828,
          -0.14978631055618855,
          0.2817851549568895,
          1.4107207793076861,
          0.3824054932592069,
          0.7607719097690818,
          -1.5622698969888633,
          0.915436993318037,
          -0.6957787290061421,
          0.7095587616205666,
          -1.0516014996850263,
          -0.8525350307110473,
          1.960251635125264,
          -0.7548885841877612,
          0.10833437701807601,
          -1.0213903039151238,
          2.54040561409652,
          0.06270296383361777,
          0.9006479345734872,
          -2.2499467411254233,
          -0.9367031680172341,
          0.34249765932323395,
          -0.8793225621766521,
          -0.5225802241904006,
          -1.3819882049509593,
          -0.6050242661030426,
          0.4735607586627363,
          -0.49571457151610504,
          0.1611963898643476,
          0.7210105493414507,
          0.276518321348237,
          1.2221581888680046,
          -0.33534827074426865,
          -1.7894834533147126,
          0.38651148029366106,
          0.2067116250993895,
          0.17643534693943186,
          -1.5411746600996836,
          0.9967579072628576,
          0.9760029762022033,
          -0.7047832424389892,
          0.598364509395858,
          0.18981165049636248,
          -0.6157862721974697,
          0.5007724942378763,
          -0.5243009686469143,
          -2.0621593177768367,
          -0.04573328162124815,
          -1.581064773513214,
          1.248525489175646,
          0.4022001502578853,
          -0.17671493444198852,
          0.11163554319569959,
          1.2977400187934724,
          2.3619753164570354,
          0.25287836754746973,
          0.399756811353929,
          -1.3397766456532445,
          -0.4463767202015796,
          0.2854797402498509,
          0.010305808003770294,
          -0.5891088327406014,
          0.0876277433750314,
          -0.5886525882541025,
          -1.2557607166320561,
          0.48840651045337974,
          -0.5322020873802618,
          1.5197623923863446,
          0.5068374330208252,
          -0.14534365535465493,
          -0.17274256420810255,
          1.1763090526034488,
          0.3146799380582341,
          -0.2947787597858762,
          -0.11431024363586058,
          -0.21117314581428073,
          -0.9200695165037043,
          -0.7570478560798554,
          -0.042357673942814714,
          0.9603130821155603
         ],
         "xaxis": "x8",
         "y": [
          0.556181465264592,
          1.021795579003633,
          0.34305198877282084,
          -0.782986867702327,
          0.5458775572441681,
          -0.9715858430258466,
          1.7059829955873331,
          0.28544152502108705,
          0.8133036806419416,
          1.8438761323874195,
          -1.6843689924306073,
          -0.6011669035135556,
          1.2057593289303659,
          0.5714837677350195,
          1.1974435004904707,
          0.5494457339453958,
          -0.583025114377226,
          -0.5760423117387118,
          -0.2267080831976598,
          -0.6517963472447632,
          1.7744629453539784,
          -0.18182311146547486,
          -0.9843449933267222,
          -0.2739598084609428,
          -3.2783716913462415,
          -0.2877715873394967,
          0.5784706223569512,
          0.3030365856133379,
          -1.2192810936302827,
          -0.3498140922462479,
          -0.32000531067556515,
          -0.031557344394759476,
          -1.3938528030386734,
          -0.6727776278372283,
          0.49258864594789825,
          -1.6427499421621758,
          -0.2775698317169973,
          0.15793051570381744,
          -0.9428742062412326,
          1.5963726684050736,
          1.34865383082596,
          1.3258852811549022,
          -0.34614794569627316,
          0.30023183003229426,
          0.3877903130816993,
          1.3133646083048698,
          -1.1552445211257694,
          -0.6700976350522939,
          -3.287095575211883,
          0.49097271151398014,
          -0.055777300990351594,
          0.6494178607025153,
          -0.37204261936690475,
          0.9448951923093842,
          -0.32298420592403887,
          1.312968573709209,
          2.1187381683403417,
          1.7203059238427028,
          0.15430651614390078,
          -0.9359327458917104,
          0.18582390724082196,
          0.38651808204428395,
          1.595646769306395,
          -0.18410778350683912,
          1.305522239456601,
          1.7566763799575875,
          -0.08039348481880718,
          -0.3543421040131263,
          0.5219203636451465,
          -0.5896112929306913,
          -0.3393041168634211,
          0.2829610171561076,
          0.6793200016345743,
          -1.6140029249633254,
          0.22523965436780735,
          -0.45268835808640734,
          -0.2732718549621978,
          -0.4761834808012976,
          0.7164367320172792,
          -0.9713979181899827,
          -0.12182758654723387,
          1.327902927622974,
          -0.7092892469961845,
          -2.0271293836609416,
          -0.7317919679679369,
          -0.7270314802520373,
          0.9305346356228754,
          0.11165713571383377,
          -0.9266581376799186,
          1.1287638359340197,
          -1.4830324294304336,
          0.6829320718060053,
          -0.7336805900485133,
          -0.37266086176840707,
          0.4650377956910324,
          0.6046779478448695,
          0.06478085892764522,
          0.7182424976179019,
          1.4522852983523278,
          -0.10746480113387966
         ],
         "yaxis": "y8"
        },
        {
         "line": {
          "color": "rgba(128, 128, 128, 1.0)",
          "dash": "solid",
          "shape": "linear",
          "width": 1.3
         },
         "marker": {
          "size": 2,
          "symbol": "circle"
         },
         "mode": "markers",
         "name": "C",
         "text": "",
         "type": "scatter",
         "x": [
          -0.11772897368311729,
          -0.533871526107039,
          0.46282102957446003,
          0.17704671607161943,
          -0.22514481280573914,
          1.0077127167213151,
          -0.43902733090004364,
          -2.641322783185602,
          0.12620115184579384,
          -0.6663722488414342,
          1.4606297568210536,
          -0.37255423146386346,
          -0.383110800373717,
          0.3391330095506838,
          -0.5733500505242811,
          -0.141599315756973,
          -0.738979900552547,
          -0.45779365111559306,
          -1.6359603899116615,
          0.39954915531710483,
          1.5377838539223083,
          -1.1440067932632123,
          -0.64765270889491,
          0.19897738994471825,
          1.5169806452492216,
          0.11550699837102808,
          -1.7432365527863287,
          0.47064984933718945,
          0.09993588843189898,
          1.2077133520168108,
          0.23801283659543684,
          -1.17813153393185,
          -1.416089110886164,
          1.5483028352919244,
          0.7447432123532974,
          -1.4130082806017559,
          -1.8323103345859806,
          1.314104415237608,
          -1.215758658659783,
          -1.289723333914404,
          0.1250192027850171,
          0.785632072181155,
          -0.5607245856806137,
          0.08712197627660075,
          -0.13944124583278467,
          0.5085637654193944,
          -0.26327471175700096,
          0.6616677101373818,
          1.0840118220174724,
          -0.20007606657368793,
          -0.16287758289409526,
          -2.1222925049735553,
          0.6679480557850784,
          -0.059009948146776334,
          -0.25989855287404157,
          -0.614240169961146,
          3.5264494843495444,
          -3.1773654445327337,
          0.5102405813630724,
          2.3784878564383436,
          -0.8941177702702027,
          1.7294737835142415,
          1.0908531113495692,
          -2.600368367654316,
          0.8481792011605757,
          0.6873057825531937,
          -0.13189894149393275,
          0.6808643558735855,
          -0.4586142690323789,
          1.2249728108842624,
          -0.12744918349329165,
          0.6606018421456373,
          -0.18151652305094346,
          0.6142901484241644,
          0.30530936915412654,
          0.6633064704233149,
          -1.01251360583096,
          -2.9539709554187414,
          0.16106834543734866,
          -1.7295211699003348,
          1.2008174731880432,
          0.10282652031461875,
          -0.47863540770189894,
          -0.5852211484211195,
          -0.14840713435264566,
          -1.2406689004473512,
          -0.02836699868960687,
          -2.2175044034675824,
          -0.7069107560571622,
          -0.7216697495558138,
          -0.3417257690530918,
          0.24893146203774258,
          1.1347613070213458,
          0.8894403559468214,
          -0.014451072860063092,
          -0.6807365486086413,
          -1.51281593418309,
          -0.03250217366365307,
          1.3747933188776915,
          0.44665306518104236
         ],
         "xaxis": "x9",
         "y": [
          1.8423457922317947,
          0.20240953416570504,
          -0.9525738852837822,
          1.39066122188408,
          -0.5758319347455517,
          -2.2248143413261285,
          -0.7131505795054817,
          -0.5087791560343012,
          2.1627130231224476,
          -0.307759373430411,
          0.4439998216781445,
          0.7429693946108744,
          0.866330459737981,
          0.1434047377515391,
          1.624144950650099,
          0.6434746690188269,
          0.5095909395993825,
          0.3357006342080557,
          0.4630718916971839,
          -0.9760195698420616,
          1.1039126345544499,
          -0.8652253649504862,
          1.8551271595279182,
          0.2627165887760841,
          0.06282208885516809,
          -0.4497543893190607,
          1.1940911756059924,
          1.1552520723225135,
          -0.5485747405662537,
          -0.11411452634528207,
          -0.5282393373038018,
          -1.327693787521095,
          -1.549489381787043,
          1.0027726151972014,
          -1.0941708236543997,
          0.12742932278184788,
          0.04220359654200365,
          -1.2567283631816193,
          -0.7937078956603784,
          2.440770066641173,
          -0.4920171049779494,
          0.11125643039292989,
          0.7723186482112306,
          0.9361909674591782,
          0.8648729687355279,
          -1.6298418614407943,
          0.25568286297490267,
          0.1394856981020013,
          -1.789616962623113,
          -0.04623076479099041,
          -1.9988418554174914,
          3.25417632938342,
          0.44952682023433227,
          -1.0073902817500062,
          0.4232792486547495,
          -0.7185189833476643,
          -2.2984620378640277,
          1.0522378759306052,
          -0.1491115721383713,
          -0.2572758716760549,
          0.48150221081239347,
          -0.8027624402476271,
          -1.2457373952879698,
          0.5617403563106325,
          0.3068661646974329,
          -0.6736939628947071,
          1.8484582468266417,
          -1.4078695029750796,
          1.6479183924240963,
          -1.6444615464525167,
          -0.37384325264027995,
          0.13099210580087112,
          2.21302552422313,
          1.8740958260260177,
          0.8370437702050992,
          -1.2615134075311947,
          -0.5065359023069691,
          -0.14660605485193431,
          -0.28315508223245717,
          -0.01971718335519795,
          1.4076687346106214,
          -1.7207671190761573,
          -0.048913624524071275,
          -1.285733271733305,
          0.743646254241991,
          -0.3364636737903639,
          0.037067626005797924,
          2.296033645140205,
          -0.17353928973261812,
          2.245012951254967,
          -0.4691387055287381,
          -1.3656723815702134,
          1.3431273529433994,
          -0.24603041122860111,
          -1.6277403162742727,
          1.2621719611727393,
          0.35443710511960824,
          -0.22833377574129124,
          -1.0062026808585642,
          0.022292426743457695
         ],
         "yaxis": "y9"
        },
        {
         "line": {
          "color": "rgba(128, 128, 128, 1.0)",
          "dash": "solid",
          "shape": "linear",
          "width": 1.3
         },
         "marker": {
          "size": 2,
          "symbol": "circle"
         },
         "mode": "markers",
         "name": "C",
         "text": "",
         "type": "scatter",
         "x": [
          0.556181465264592,
          1.021795579003633,
          0.34305198877282084,
          -0.782986867702327,
          0.5458775572441681,
          -0.9715858430258466,
          1.7059829955873331,
          0.28544152502108705,
          0.8133036806419416,
          1.8438761323874195,
          -1.6843689924306073,
          -0.6011669035135556,
          1.2057593289303659,
          0.5714837677350195,
          1.1974435004904707,
          0.5494457339453958,
          -0.583025114377226,
          -0.5760423117387118,
          -0.2267080831976598,
          -0.6517963472447632,
          1.7744629453539784,
          -0.18182311146547486,
          -0.9843449933267222,
          -0.2739598084609428,
          -3.2783716913462415,
          -0.2877715873394967,
          0.5784706223569512,
          0.3030365856133379,
          -1.2192810936302827,
          -0.3498140922462479,
          -0.32000531067556515,
          -0.031557344394759476,
          -1.3938528030386734,
          -0.6727776278372283,
          0.49258864594789825,
          -1.6427499421621758,
          -0.2775698317169973,
          0.15793051570381744,
          -0.9428742062412326,
          1.5963726684050736,
          1.34865383082596,
          1.3258852811549022,
          -0.34614794569627316,
          0.30023183003229426,
          0.3877903130816993,
          1.3133646083048698,
          -1.1552445211257694,
          -0.6700976350522939,
          -3.287095575211883,
          0.49097271151398014,
          -0.055777300990351594,
          0.6494178607025153,
          -0.37204261936690475,
          0.9448951923093842,
          -0.32298420592403887,
          1.312968573709209,
          2.1187381683403417,
          1.7203059238427028,
          0.15430651614390078,
          -0.9359327458917104,
          0.18582390724082196,
          0.38651808204428395,
          1.595646769306395,
          -0.18410778350683912,
          1.305522239456601,
          1.7566763799575875,
          -0.08039348481880718,
          -0.3543421040131263,
          0.5219203636451465,
          -0.5896112929306913,
          -0.3393041168634211,
          0.2829610171561076,
          0.6793200016345743,
          -1.6140029249633254,
          0.22523965436780735,
          -0.45268835808640734,
          -0.2732718549621978,
          -0.4761834808012976,
          0.7164367320172792,
          -0.9713979181899827,
          -0.12182758654723387,
          1.327902927622974,
          -0.7092892469961845,
          -2.0271293836609416,
          -0.7317919679679369,
          -0.7270314802520373,
          0.9305346356228754,
          0.11165713571383377,
          -0.9266581376799186,
          1.1287638359340197,
          -1.4830324294304336,
          0.6829320718060053,
          -0.7336805900485133,
          -0.37266086176840707,
          0.4650377956910324,
          0.6046779478448695,
          0.06478085892764522,
          0.7182424976179019,
          1.4522852983523278,
          -0.10746480113387966
         ],
         "xaxis": "x10",
         "y": [
          1.8423457922317947,
          0.20240953416570504,
          -0.9525738852837822,
          1.39066122188408,
          -0.5758319347455517,
          -2.2248143413261285,
          -0.7131505795054817,
          -0.5087791560343012,
          2.1627130231224476,
          -0.307759373430411,
          0.4439998216781445,
          0.7429693946108744,
          0.866330459737981,
          0.1434047377515391,
          1.624144950650099,
          0.6434746690188269,
          0.5095909395993825,
          0.3357006342080557,
          0.4630718916971839,
          -0.9760195698420616,
          1.1039126345544499,
          -0.8652253649504862,
          1.8551271595279182,
          0.2627165887760841,
          0.06282208885516809,
          -0.4497543893190607,
          1.1940911756059924,
          1.1552520723225135,
          -0.5485747405662537,
          -0.11411452634528207,
          -0.5282393373038018,
          -1.327693787521095,
          -1.549489381787043,
          1.0027726151972014,
          -1.0941708236543997,
          0.12742932278184788,
          0.04220359654200365,
          -1.2567283631816193,
          -0.7937078956603784,
          2.440770066641173,
          -0.4920171049779494,
          0.11125643039292989,
          0.7723186482112306,
          0.9361909674591782,
          0.8648729687355279,
          -1.6298418614407943,
          0.25568286297490267,
          0.1394856981020013,
          -1.789616962623113,
          -0.04623076479099041,
          -1.9988418554174914,
          3.25417632938342,
          0.44952682023433227,
          -1.0073902817500062,
          0.4232792486547495,
          -0.7185189833476643,
          -2.2984620378640277,
          1.0522378759306052,
          -0.1491115721383713,
          -0.2572758716760549,
          0.48150221081239347,
          -0.8027624402476271,
          -1.2457373952879698,
          0.5617403563106325,
          0.3068661646974329,
          -0.6736939628947071,
          1.8484582468266417,
          -1.4078695029750796,
          1.6479183924240963,
          -1.6444615464525167,
          -0.37384325264027995,
          0.13099210580087112,
          2.21302552422313,
          1.8740958260260177,
          0.8370437702050992,
          -1.2615134075311947,
          -0.5065359023069691,
          -0.14660605485193431,
          -0.28315508223245717,
          -0.01971718335519795,
          1.4076687346106214,
          -1.7207671190761573,
          -0.048913624524071275,
          -1.285733271733305,
          0.743646254241991,
          -0.3364636737903639,
          0.037067626005797924,
          2.296033645140205,
          -0.17353928973261812,
          2.245012951254967,
          -0.4691387055287381,
          -1.3656723815702134,
          1.3431273529433994,
          -0.24603041122860111,
          -1.6277403162742727,
          1.2621719611727393,
          0.35443710511960824,
          -0.22833377574129124,
          -1.0062026808585642,
          0.022292426743457695
         ],
         "yaxis": "y10"
        },
        {
         "histfunc": "count",
         "histnorm": "",
         "marker": {
          "color": "rgba(50, 171, 96, 1.0)",
          "line": {
           "color": "#4D5663",
           "width": 1.3
          }
         },
         "name": "C",
         "nbinsx": 10,
         "opacity": 0.8,
         "orientation": "v",
         "type": "histogram",
         "x": [
          1.8423457922317947,
          0.20240953416570504,
          -0.9525738852837822,
          1.39066122188408,
          -0.5758319347455517,
          -2.2248143413261285,
          -0.7131505795054817,
          -0.5087791560343012,
          2.1627130231224476,
          -0.307759373430411,
          0.4439998216781445,
          0.7429693946108744,
          0.866330459737981,
          0.1434047377515391,
          1.624144950650099,
          0.6434746690188269,
          0.5095909395993825,
          0.3357006342080557,
          0.4630718916971839,
          -0.9760195698420616,
          1.1039126345544499,
          -0.8652253649504862,
          1.8551271595279182,
          0.2627165887760841,
          0.06282208885516809,
          -0.4497543893190607,
          1.1940911756059924,
          1.1552520723225135,
          -0.5485747405662537,
          -0.11411452634528207,
          -0.5282393373038018,
          -1.327693787521095,
          -1.549489381787043,
          1.0027726151972014,
          -1.0941708236543997,
          0.12742932278184788,
          0.04220359654200365,
          -1.2567283631816193,
          -0.7937078956603784,
          2.440770066641173,
          -0.4920171049779494,
          0.11125643039292989,
          0.7723186482112306,
          0.9361909674591782,
          0.8648729687355279,
          -1.6298418614407943,
          0.25568286297490267,
          0.1394856981020013,
          -1.789616962623113,
          -0.04623076479099041,
          -1.9988418554174914,
          3.25417632938342,
          0.44952682023433227,
          -1.0073902817500062,
          0.4232792486547495,
          -0.7185189833476643,
          -2.2984620378640277,
          1.0522378759306052,
          -0.1491115721383713,
          -0.2572758716760549,
          0.48150221081239347,
          -0.8027624402476271,
          -1.2457373952879698,
          0.5617403563106325,
          0.3068661646974329,
          -0.6736939628947071,
          1.8484582468266417,
          -1.4078695029750796,
          1.6479183924240963,
          -1.6444615464525167,
          -0.37384325264027995,
          0.13099210580087112,
          2.21302552422313,
          1.8740958260260177,
          0.8370437702050992,
          -1.2615134075311947,
          -0.5065359023069691,
          -0.14660605485193431,
          -0.28315508223245717,
          -0.01971718335519795,
          1.4076687346106214,
          -1.7207671190761573,
          -0.048913624524071275,
          -1.285733271733305,
          0.743646254241991,
          -0.3364636737903639,
          0.037067626005797924,
          2.296033645140205,
          -0.17353928973261812,
          2.245012951254967,
          -0.4691387055287381,
          -1.3656723815702134,
          1.3431273529433994,
          -0.24603041122860111,
          -1.6277403162742727,
          1.2621719611727393,
          0.35443710511960824,
          -0.22833377574129124,
          -1.0062026808585642,
          0.022292426743457695
         ],
         "xaxis": "x11",
         "yaxis": "y11"
        },
        {
         "line": {
          "color": "rgba(128, 128, 128, 1.0)",
          "dash": "solid",
          "shape": "linear",
          "width": 1.3
         },
         "marker": {
          "size": 2,
          "symbol": "circle"
         },
         "mode": "markers",
         "name": "C",
         "text": "",
         "type": "scatter",
         "x": [
          -0.13029775050345832,
          0.19573261702004144,
          -0.0849251457349376,
          -0.23880913887984828,
          -1.5781035965163253,
          0.8624912370517351,
          -0.4766178624860545,
          -0.8897540217320224,
          -0.6699055543981048,
          -0.06596624327345979,
          -0.13584076637280296,
          -0.08445357212174927,
          -0.9845017328420416,
          0.9647853473689881,
          0.893869187177583,
          2.883216445448747,
          -0.012931184479350528,
          0.5382116468686099,
          -0.17817702317167564,
          1.2252296319464155,
          -1.4138623257695828,
          -0.14978631055618855,
          0.2817851549568895,
          1.4107207793076861,
          0.3824054932592069,
          0.7607719097690818,
          -1.5622698969888633,
          0.915436993318037,
          -0.6957787290061421,
          0.7095587616205666,
          -1.0516014996850263,
          -0.8525350307110473,
          1.960251635125264,
          -0.7548885841877612,
          0.10833437701807601,
          -1.0213903039151238,
          2.54040561409652,
          0.06270296383361777,
          0.9006479345734872,
          -2.2499467411254233,
          -0.9367031680172341,
          0.34249765932323395,
          -0.8793225621766521,
          -0.5225802241904006,
          -1.3819882049509593,
          -0.6050242661030426,
          0.4735607586627363,
          -0.49571457151610504,
          0.1611963898643476,
          0.7210105493414507,
          0.276518321348237,
          1.2221581888680046,
          -0.33534827074426865,
          -1.7894834533147126,
          0.38651148029366106,
          0.2067116250993895,
          0.17643534693943186,
          -1.5411746600996836,
          0.9967579072628576,
          0.9760029762022033,
          -0.7047832424389892,
          0.598364509395858,
          0.18981165049636248,
          -0.6157862721974697,
          0.5007724942378763,
          -0.5243009686469143,
          -2.0621593177768367,
          -0.04573328162124815,
          -1.581064773513214,
          1.248525489175646,
          0.4022001502578853,
          -0.17671493444198852,
          0.11163554319569959,
          1.2977400187934724,
          2.3619753164570354,
          0.25287836754746973,
          0.399756811353929,
          -1.3397766456532445,
          -0.4463767202015796,
          0.2854797402498509,
          0.010305808003770294,
          -0.5891088327406014,
          0.0876277433750314,
          -0.5886525882541025,
          -1.2557607166320561,
          0.48840651045337974,
          -0.5322020873802618,
          1.5197623923863446,
          0.5068374330208252,
          -0.14534365535465493,
          -0.17274256420810255,
          1.1763090526034488,
          0.3146799380582341,
          -0.2947787597858762,
          -0.11431024363586058,
          -0.21117314581428073,
          -0.9200695165037043,
          -0.7570478560798554,
          -0.042357673942814714,
          0.9603130821155603
         ],
         "xaxis": "x12",
         "y": [
          1.8423457922317947,
          0.20240953416570504,
          -0.9525738852837822,
          1.39066122188408,
          -0.5758319347455517,
          -2.2248143413261285,
          -0.7131505795054817,
          -0.5087791560343012,
          2.1627130231224476,
          -0.307759373430411,
          0.4439998216781445,
          0.7429693946108744,
          0.866330459737981,
          0.1434047377515391,
          1.624144950650099,
          0.6434746690188269,
          0.5095909395993825,
          0.3357006342080557,
          0.4630718916971839,
          -0.9760195698420616,
          1.1039126345544499,
          -0.8652253649504862,
          1.8551271595279182,
          0.2627165887760841,
          0.06282208885516809,
          -0.4497543893190607,
          1.1940911756059924,
          1.1552520723225135,
          -0.5485747405662537,
          -0.11411452634528207,
          -0.5282393373038018,
          -1.327693787521095,
          -1.549489381787043,
          1.0027726151972014,
          -1.0941708236543997,
          0.12742932278184788,
          0.04220359654200365,
          -1.2567283631816193,
          -0.7937078956603784,
          2.440770066641173,
          -0.4920171049779494,
          0.11125643039292989,
          0.7723186482112306,
          0.9361909674591782,
          0.8648729687355279,
          -1.6298418614407943,
          0.25568286297490267,
          0.1394856981020013,
          -1.789616962623113,
          -0.04623076479099041,
          -1.9988418554174914,
          3.25417632938342,
          0.44952682023433227,
          -1.0073902817500062,
          0.4232792486547495,
          -0.7185189833476643,
          -2.2984620378640277,
          1.0522378759306052,
          -0.1491115721383713,
          -0.2572758716760549,
          0.48150221081239347,
          -0.8027624402476271,
          -1.2457373952879698,
          0.5617403563106325,
          0.3068661646974329,
          -0.6736939628947071,
          1.8484582468266417,
          -1.4078695029750796,
          1.6479183924240963,
          -1.6444615464525167,
          -0.37384325264027995,
          0.13099210580087112,
          2.21302552422313,
          1.8740958260260177,
          0.8370437702050992,
          -1.2615134075311947,
          -0.5065359023069691,
          -0.14660605485193431,
          -0.28315508223245717,
          -0.01971718335519795,
          1.4076687346106214,
          -1.7207671190761573,
          -0.048913624524071275,
          -1.285733271733305,
          0.743646254241991,
          -0.3364636737903639,
          0.037067626005797924,
          2.296033645140205,
          -0.17353928973261812,
          2.245012951254967,
          -0.4691387055287381,
          -1.3656723815702134,
          1.3431273529433994,
          -0.24603041122860111,
          -1.6277403162742727,
          1.2621719611727393,
          0.35443710511960824,
          -0.22833377574129124,
          -1.0062026808585642,
          0.022292426743457695
         ],
         "yaxis": "y12"
        },
        {
         "line": {
          "color": "rgba(128, 128, 128, 1.0)",
          "dash": "solid",
          "shape": "linear",
          "width": 1.3
         },
         "marker": {
          "size": 2,
          "symbol": "circle"
         },
         "mode": "markers",
         "name": "D",
         "text": "",
         "type": "scatter",
         "x": [
          -0.11772897368311729,
          -0.533871526107039,
          0.46282102957446003,
          0.17704671607161943,
          -0.22514481280573914,
          1.0077127167213151,
          -0.43902733090004364,
          -2.641322783185602,
          0.12620115184579384,
          -0.6663722488414342,
          1.4606297568210536,
          -0.37255423146386346,
          -0.383110800373717,
          0.3391330095506838,
          -0.5733500505242811,
          -0.141599315756973,
          -0.738979900552547,
          -0.45779365111559306,
          -1.6359603899116615,
          0.39954915531710483,
          1.5377838539223083,
          -1.1440067932632123,
          -0.64765270889491,
          0.19897738994471825,
          1.5169806452492216,
          0.11550699837102808,
          -1.7432365527863287,
          0.47064984933718945,
          0.09993588843189898,
          1.2077133520168108,
          0.23801283659543684,
          -1.17813153393185,
          -1.416089110886164,
          1.5483028352919244,
          0.7447432123532974,
          -1.4130082806017559,
          -1.8323103345859806,
          1.314104415237608,
          -1.215758658659783,
          -1.289723333914404,
          0.1250192027850171,
          0.785632072181155,
          -0.5607245856806137,
          0.08712197627660075,
          -0.13944124583278467,
          0.5085637654193944,
          -0.26327471175700096,
          0.6616677101373818,
          1.0840118220174724,
          -0.20007606657368793,
          -0.16287758289409526,
          -2.1222925049735553,
          0.6679480557850784,
          -0.059009948146776334,
          -0.25989855287404157,
          -0.614240169961146,
          3.5264494843495444,
          -3.1773654445327337,
          0.5102405813630724,
          2.3784878564383436,
          -0.8941177702702027,
          1.7294737835142415,
          1.0908531113495692,
          -2.600368367654316,
          0.8481792011605757,
          0.6873057825531937,
          -0.13189894149393275,
          0.6808643558735855,
          -0.4586142690323789,
          1.2249728108842624,
          -0.12744918349329165,
          0.6606018421456373,
          -0.18151652305094346,
          0.6142901484241644,
          0.30530936915412654,
          0.6633064704233149,
          -1.01251360583096,
          -2.9539709554187414,
          0.16106834543734866,
          -1.7295211699003348,
          1.2008174731880432,
          0.10282652031461875,
          -0.47863540770189894,
          -0.5852211484211195,
          -0.14840713435264566,
          -1.2406689004473512,
          -0.02836699868960687,
          -2.2175044034675824,
          -0.7069107560571622,
          -0.7216697495558138,
          -0.3417257690530918,
          0.24893146203774258,
          1.1347613070213458,
          0.8894403559468214,
          -0.014451072860063092,
          -0.6807365486086413,
          -1.51281593418309,
          -0.03250217366365307,
          1.3747933188776915,
          0.44665306518104236
         ],
         "xaxis": "x13",
         "y": [
          -0.13029775050345832,
          0.19573261702004144,
          -0.0849251457349376,
          -0.23880913887984828,
          -1.5781035965163253,
          0.8624912370517351,
          -0.4766178624860545,
          -0.8897540217320224,
          -0.6699055543981048,
          -0.06596624327345979,
          -0.13584076637280296,
          -0.08445357212174927,
          -0.9845017328420416,
          0.9647853473689881,
          0.893869187177583,
          2.883216445448747,
          -0.012931184479350528,
          0.5382116468686099,
          -0.17817702317167564,
          1.2252296319464155,
          -1.4138623257695828,
          -0.14978631055618855,
          0.2817851549568895,
          1.4107207793076861,
          0.3824054932592069,
          0.7607719097690818,
          -1.5622698969888633,
          0.915436993318037,
          -0.6957787290061421,
          0.7095587616205666,
          -1.0516014996850263,
          -0.8525350307110473,
          1.960251635125264,
          -0.7548885841877612,
          0.10833437701807601,
          -1.0213903039151238,
          2.54040561409652,
          0.06270296383361777,
          0.9006479345734872,
          -2.2499467411254233,
          -0.9367031680172341,
          0.34249765932323395,
          -0.8793225621766521,
          -0.5225802241904006,
          -1.3819882049509593,
          -0.6050242661030426,
          0.4735607586627363,
          -0.49571457151610504,
          0.1611963898643476,
          0.7210105493414507,
          0.276518321348237,
          1.2221581888680046,
          -0.33534827074426865,
          -1.7894834533147126,
          0.38651148029366106,
          0.2067116250993895,
          0.17643534693943186,
          -1.5411746600996836,
          0.9967579072628576,
          0.9760029762022033,
          -0.7047832424389892,
          0.598364509395858,
          0.18981165049636248,
          -0.6157862721974697,
          0.5007724942378763,
          -0.5243009686469143,
          -2.0621593177768367,
          -0.04573328162124815,
          -1.581064773513214,
          1.248525489175646,
          0.4022001502578853,
          -0.17671493444198852,
          0.11163554319569959,
          1.2977400187934724,
          2.3619753164570354,
          0.25287836754746973,
          0.399756811353929,
          -1.3397766456532445,
          -0.4463767202015796,
          0.2854797402498509,
          0.010305808003770294,
          -0.5891088327406014,
          0.0876277433750314,
          -0.5886525882541025,
          -1.2557607166320561,
          0.48840651045337974,
          -0.5322020873802618,
          1.5197623923863446,
          0.5068374330208252,
          -0.14534365535465493,
          -0.17274256420810255,
          1.1763090526034488,
          0.3146799380582341,
          -0.2947787597858762,
          -0.11431024363586058,
          -0.21117314581428073,
          -0.9200695165037043,
          -0.7570478560798554,
          -0.042357673942814714,
          0.9603130821155603
         ],
         "yaxis": "y13"
        },
        {
         "line": {
          "color": "rgba(128, 128, 128, 1.0)",
          "dash": "solid",
          "shape": "linear",
          "width": 1.3
         },
         "marker": {
          "size": 2,
          "symbol": "circle"
         },
         "mode": "markers",
         "name": "D",
         "text": "",
         "type": "scatter",
         "x": [
          0.556181465264592,
          1.021795579003633,
          0.34305198877282084,
          -0.782986867702327,
          0.5458775572441681,
          -0.9715858430258466,
          1.7059829955873331,
          0.28544152502108705,
          0.8133036806419416,
          1.8438761323874195,
          -1.6843689924306073,
          -0.6011669035135556,
          1.2057593289303659,
          0.5714837677350195,
          1.1974435004904707,
          0.5494457339453958,
          -0.583025114377226,
          -0.5760423117387118,
          -0.2267080831976598,
          -0.6517963472447632,
          1.7744629453539784,
          -0.18182311146547486,
          -0.9843449933267222,
          -0.2739598084609428,
          -3.2783716913462415,
          -0.2877715873394967,
          0.5784706223569512,
          0.3030365856133379,
          -1.2192810936302827,
          -0.3498140922462479,
          -0.32000531067556515,
          -0.031557344394759476,
          -1.3938528030386734,
          -0.6727776278372283,
          0.49258864594789825,
          -1.6427499421621758,
          -0.2775698317169973,
          0.15793051570381744,
          -0.9428742062412326,
          1.5963726684050736,
          1.34865383082596,
          1.3258852811549022,
          -0.34614794569627316,
          0.30023183003229426,
          0.3877903130816993,
          1.3133646083048698,
          -1.1552445211257694,
          -0.6700976350522939,
          -3.287095575211883,
          0.49097271151398014,
          -0.055777300990351594,
          0.6494178607025153,
          -0.37204261936690475,
          0.9448951923093842,
          -0.32298420592403887,
          1.312968573709209,
          2.1187381683403417,
          1.7203059238427028,
          0.15430651614390078,
          -0.9359327458917104,
          0.18582390724082196,
          0.38651808204428395,
          1.595646769306395,
          -0.18410778350683912,
          1.305522239456601,
          1.7566763799575875,
          -0.08039348481880718,
          -0.3543421040131263,
          0.5219203636451465,
          -0.5896112929306913,
          -0.3393041168634211,
          0.2829610171561076,
          0.6793200016345743,
          -1.6140029249633254,
          0.22523965436780735,
          -0.45268835808640734,
          -0.2732718549621978,
          -0.4761834808012976,
          0.7164367320172792,
          -0.9713979181899827,
          -0.12182758654723387,
          1.327902927622974,
          -0.7092892469961845,
          -2.0271293836609416,
          -0.7317919679679369,
          -0.7270314802520373,
          0.9305346356228754,
          0.11165713571383377,
          -0.9266581376799186,
          1.1287638359340197,
          -1.4830324294304336,
          0.6829320718060053,
          -0.7336805900485133,
          -0.37266086176840707,
          0.4650377956910324,
          0.6046779478448695,
          0.06478085892764522,
          0.7182424976179019,
          1.4522852983523278,
          -0.10746480113387966
         ],
         "xaxis": "x14",
         "y": [
          -0.13029775050345832,
          0.19573261702004144,
          -0.0849251457349376,
          -0.23880913887984828,
          -1.5781035965163253,
          0.8624912370517351,
          -0.4766178624860545,
          -0.8897540217320224,
          -0.6699055543981048,
          -0.06596624327345979,
          -0.13584076637280296,
          -0.08445357212174927,
          -0.9845017328420416,
          0.9647853473689881,
          0.893869187177583,
          2.883216445448747,
          -0.012931184479350528,
          0.5382116468686099,
          -0.17817702317167564,
          1.2252296319464155,
          -1.4138623257695828,
          -0.14978631055618855,
          0.2817851549568895,
          1.4107207793076861,
          0.3824054932592069,
          0.7607719097690818,
          -1.5622698969888633,
          0.915436993318037,
          -0.6957787290061421,
          0.7095587616205666,
          -1.0516014996850263,
          -0.8525350307110473,
          1.960251635125264,
          -0.7548885841877612,
          0.10833437701807601,
          -1.0213903039151238,
          2.54040561409652,
          0.06270296383361777,
          0.9006479345734872,
          -2.2499467411254233,
          -0.9367031680172341,
          0.34249765932323395,
          -0.8793225621766521,
          -0.5225802241904006,
          -1.3819882049509593,
          -0.6050242661030426,
          0.4735607586627363,
          -0.49571457151610504,
          0.1611963898643476,
          0.7210105493414507,
          0.276518321348237,
          1.2221581888680046,
          -0.33534827074426865,
          -1.7894834533147126,
          0.38651148029366106,
          0.2067116250993895,
          0.17643534693943186,
          -1.5411746600996836,
          0.9967579072628576,
          0.9760029762022033,
          -0.7047832424389892,
          0.598364509395858,
          0.18981165049636248,
          -0.6157862721974697,
          0.5007724942378763,
          -0.5243009686469143,
          -2.0621593177768367,
          -0.04573328162124815,
          -1.581064773513214,
          1.248525489175646,
          0.4022001502578853,
          -0.17671493444198852,
          0.11163554319569959,
          1.2977400187934724,
          2.3619753164570354,
          0.25287836754746973,
          0.399756811353929,
          -1.3397766456532445,
          -0.4463767202015796,
          0.2854797402498509,
          0.010305808003770294,
          -0.5891088327406014,
          0.0876277433750314,
          -0.5886525882541025,
          -1.2557607166320561,
          0.48840651045337974,
          -0.5322020873802618,
          1.5197623923863446,
          0.5068374330208252,
          -0.14534365535465493,
          -0.17274256420810255,
          1.1763090526034488,
          0.3146799380582341,
          -0.2947787597858762,
          -0.11431024363586058,
          -0.21117314581428073,
          -0.9200695165037043,
          -0.7570478560798554,
          -0.042357673942814714,
          0.9603130821155603
         ],
         "yaxis": "y14"
        },
        {
         "line": {
          "color": "rgba(128, 128, 128, 1.0)",
          "dash": "solid",
          "shape": "linear",
          "width": 1.3
         },
         "marker": {
          "size": 2,
          "symbol": "circle"
         },
         "mode": "markers",
         "name": "D",
         "text": "",
         "type": "scatter",
         "x": [
          1.8423457922317947,
          0.20240953416570504,
          -0.9525738852837822,
          1.39066122188408,
          -0.5758319347455517,
          -2.2248143413261285,
          -0.7131505795054817,
          -0.5087791560343012,
          2.1627130231224476,
          -0.307759373430411,
          0.4439998216781445,
          0.7429693946108744,
          0.866330459737981,
          0.1434047377515391,
          1.624144950650099,
          0.6434746690188269,
          0.5095909395993825,
          0.3357006342080557,
          0.4630718916971839,
          -0.9760195698420616,
          1.1039126345544499,
          -0.8652253649504862,
          1.8551271595279182,
          0.2627165887760841,
          0.06282208885516809,
          -0.4497543893190607,
          1.1940911756059924,
          1.1552520723225135,
          -0.5485747405662537,
          -0.11411452634528207,
          -0.5282393373038018,
          -1.327693787521095,
          -1.549489381787043,
          1.0027726151972014,
          -1.0941708236543997,
          0.12742932278184788,
          0.04220359654200365,
          -1.2567283631816193,
          -0.7937078956603784,
          2.440770066641173,
          -0.4920171049779494,
          0.11125643039292989,
          0.7723186482112306,
          0.9361909674591782,
          0.8648729687355279,
          -1.6298418614407943,
          0.25568286297490267,
          0.1394856981020013,
          -1.789616962623113,
          -0.04623076479099041,
          -1.9988418554174914,
          3.25417632938342,
          0.44952682023433227,
          -1.0073902817500062,
          0.4232792486547495,
          -0.7185189833476643,
          -2.2984620378640277,
          1.0522378759306052,
          -0.1491115721383713,
          -0.2572758716760549,
          0.48150221081239347,
          -0.8027624402476271,
          -1.2457373952879698,
          0.5617403563106325,
          0.3068661646974329,
          -0.6736939628947071,
          1.8484582468266417,
          -1.4078695029750796,
          1.6479183924240963,
          -1.6444615464525167,
          -0.37384325264027995,
          0.13099210580087112,
          2.21302552422313,
          1.8740958260260177,
          0.8370437702050992,
          -1.2615134075311947,
          -0.5065359023069691,
          -0.14660605485193431,
          -0.28315508223245717,
          -0.01971718335519795,
          1.4076687346106214,
          -1.7207671190761573,
          -0.048913624524071275,
          -1.285733271733305,
          0.743646254241991,
          -0.3364636737903639,
          0.037067626005797924,
          2.296033645140205,
          -0.17353928973261812,
          2.245012951254967,
          -0.4691387055287381,
          -1.3656723815702134,
          1.3431273529433994,
          -0.24603041122860111,
          -1.6277403162742727,
          1.2621719611727393,
          0.35443710511960824,
          -0.22833377574129124,
          -1.0062026808585642,
          0.022292426743457695
         ],
         "xaxis": "x15",
         "y": [
          -0.13029775050345832,
          0.19573261702004144,
          -0.0849251457349376,
          -0.23880913887984828,
          -1.5781035965163253,
          0.8624912370517351,
          -0.4766178624860545,
          -0.8897540217320224,
          -0.6699055543981048,
          -0.06596624327345979,
          -0.13584076637280296,
          -0.08445357212174927,
          -0.9845017328420416,
          0.9647853473689881,
          0.893869187177583,
          2.883216445448747,
          -0.012931184479350528,
          0.5382116468686099,
          -0.17817702317167564,
          1.2252296319464155,
          -1.4138623257695828,
          -0.14978631055618855,
          0.2817851549568895,
          1.4107207793076861,
          0.3824054932592069,
          0.7607719097690818,
          -1.5622698969888633,
          0.915436993318037,
          -0.6957787290061421,
          0.7095587616205666,
          -1.0516014996850263,
          -0.8525350307110473,
          1.960251635125264,
          -0.7548885841877612,
          0.10833437701807601,
          -1.0213903039151238,
          2.54040561409652,
          0.06270296383361777,
          0.9006479345734872,
          -2.2499467411254233,
          -0.9367031680172341,
          0.34249765932323395,
          -0.8793225621766521,
          -0.5225802241904006,
          -1.3819882049509593,
          -0.6050242661030426,
          0.4735607586627363,
          -0.49571457151610504,
          0.1611963898643476,
          0.7210105493414507,
          0.276518321348237,
          1.2221581888680046,
          -0.33534827074426865,
          -1.7894834533147126,
          0.38651148029366106,
          0.2067116250993895,
          0.17643534693943186,
          -1.5411746600996836,
          0.9967579072628576,
          0.9760029762022033,
          -0.7047832424389892,
          0.598364509395858,
          0.18981165049636248,
          -0.6157862721974697,
          0.5007724942378763,
          -0.5243009686469143,
          -2.0621593177768367,
          -0.04573328162124815,
          -1.581064773513214,
          1.248525489175646,
          0.4022001502578853,
          -0.17671493444198852,
          0.11163554319569959,
          1.2977400187934724,
          2.3619753164570354,
          0.25287836754746973,
          0.399756811353929,
          -1.3397766456532445,
          -0.4463767202015796,
          0.2854797402498509,
          0.010305808003770294,
          -0.5891088327406014,
          0.0876277433750314,
          -0.5886525882541025,
          -1.2557607166320561,
          0.48840651045337974,
          -0.5322020873802618,
          1.5197623923863446,
          0.5068374330208252,
          -0.14534365535465493,
          -0.17274256420810255,
          1.1763090526034488,
          0.3146799380582341,
          -0.2947787597858762,
          -0.11431024363586058,
          -0.21117314581428073,
          -0.9200695165037043,
          -0.7570478560798554,
          -0.042357673942814714,
          0.9603130821155603
         ],
         "yaxis": "y15"
        },
        {
         "histfunc": "count",
         "histnorm": "",
         "marker": {
          "color": "rgba(128, 0, 128, 1.0)",
          "line": {
           "color": "#4D5663",
           "width": 1.3
          }
         },
         "name": "D",
         "nbinsx": 10,
         "opacity": 0.8,
         "orientation": "v",
         "type": "histogram",
         "x": [
          -0.13029775050345832,
          0.19573261702004144,
          -0.0849251457349376,
          -0.23880913887984828,
          -1.5781035965163253,
          0.8624912370517351,
          -0.4766178624860545,
          -0.8897540217320224,
          -0.6699055543981048,
          -0.06596624327345979,
          -0.13584076637280296,
          -0.08445357212174927,
          -0.9845017328420416,
          0.9647853473689881,
          0.893869187177583,
          2.883216445448747,
          -0.012931184479350528,
          0.5382116468686099,
          -0.17817702317167564,
          1.2252296319464155,
          -1.4138623257695828,
          -0.14978631055618855,
          0.2817851549568895,
          1.4107207793076861,
          0.3824054932592069,
          0.7607719097690818,
          -1.5622698969888633,
          0.915436993318037,
          -0.6957787290061421,
          0.7095587616205666,
          -1.0516014996850263,
          -0.8525350307110473,
          1.960251635125264,
          -0.7548885841877612,
          0.10833437701807601,
          -1.0213903039151238,
          2.54040561409652,
          0.06270296383361777,
          0.9006479345734872,
          -2.2499467411254233,
          -0.9367031680172341,
          0.34249765932323395,
          -0.8793225621766521,
          -0.5225802241904006,
          -1.3819882049509593,
          -0.6050242661030426,
          0.4735607586627363,
          -0.49571457151610504,
          0.1611963898643476,
          0.7210105493414507,
          0.276518321348237,
          1.2221581888680046,
          -0.33534827074426865,
          -1.7894834533147126,
          0.38651148029366106,
          0.2067116250993895,
          0.17643534693943186,
          -1.5411746600996836,
          0.9967579072628576,
          0.9760029762022033,
          -0.7047832424389892,
          0.598364509395858,
          0.18981165049636248,
          -0.6157862721974697,
          0.5007724942378763,
          -0.5243009686469143,
          -2.0621593177768367,
          -0.04573328162124815,
          -1.581064773513214,
          1.248525489175646,
          0.4022001502578853,
          -0.17671493444198852,
          0.11163554319569959,
          1.2977400187934724,
          2.3619753164570354,
          0.25287836754746973,
          0.399756811353929,
          -1.3397766456532445,
          -0.4463767202015796,
          0.2854797402498509,
          0.010305808003770294,
          -0.5891088327406014,
          0.0876277433750314,
          -0.5886525882541025,
          -1.2557607166320561,
          0.48840651045337974,
          -0.5322020873802618,
          1.5197623923863446,
          0.5068374330208252,
          -0.14534365535465493,
          -0.17274256420810255,
          1.1763090526034488,
          0.3146799380582341,
          -0.2947787597858762,
          -0.11431024363586058,
          -0.21117314581428073,
          -0.9200695165037043,
          -0.7570478560798554,
          -0.042357673942814714,
          0.9603130821155603
         ],
         "xaxis": "x16",
         "yaxis": "y16"
        }
       ],
       "layout": {
        "bargap": 0.02,
        "legend": {
         "bgcolor": "#F5F6F9",
         "font": {
          "color": "#4D5663"
         }
        },
        "paper_bgcolor": "#F5F6F9",
        "plot_bgcolor": "#F5F6F9",
        "showlegend": false,
        "template": {
         "data": {
          "bar": [
           {
            "error_x": {
             "color": "#2a3f5f"
            },
            "error_y": {
             "color": "#2a3f5f"
            },
            "marker": {
             "line": {
              "color": "#E5ECF6",
              "width": 0.5
             }
            },
            "type": "bar"
           }
          ],
          "barpolar": [
           {
            "marker": {
             "line": {
              "color": "#E5ECF6",
              "width": 0.5
             }
            },
            "type": "barpolar"
           }
          ],
          "carpet": [
           {
            "aaxis": {
             "endlinecolor": "#2a3f5f",
             "gridcolor": "white",
             "linecolor": "white",
             "minorgridcolor": "white",
             "startlinecolor": "#2a3f5f"
            },
            "baxis": {
             "endlinecolor": "#2a3f5f",
             "gridcolor": "white",
             "linecolor": "white",
             "minorgridcolor": "white",
             "startlinecolor": "#2a3f5f"
            },
            "type": "carpet"
           }
          ],
          "choropleth": [
           {
            "colorbar": {
             "outlinewidth": 0,
             "ticks": ""
            },
            "type": "choropleth"
           }
          ],
          "contour": [
           {
            "colorbar": {
             "outlinewidth": 0,
             "ticks": ""
            },
            "colorscale": [
             [
              0,
              "#0d0887"
             ],
             [
              0.1111111111111111,
              "#46039f"
             ],
             [
              0.2222222222222222,
              "#7201a8"
             ],
             [
              0.3333333333333333,
              "#9c179e"
             ],
             [
              0.4444444444444444,
              "#bd3786"
             ],
             [
              0.5555555555555556,
              "#d8576b"
             ],
             [
              0.6666666666666666,
              "#ed7953"
             ],
             [
              0.7777777777777778,
              "#fb9f3a"
             ],
             [
              0.8888888888888888,
              "#fdca26"
             ],
             [
              1,
              "#f0f921"
             ]
            ],
            "type": "contour"
           }
          ],
          "contourcarpet": [
           {
            "colorbar": {
             "outlinewidth": 0,
             "ticks": ""
            },
            "type": "contourcarpet"
           }
          ],
          "heatmap": [
           {
            "colorbar": {
             "outlinewidth": 0,
             "ticks": ""
            },
            "colorscale": [
             [
              0,
              "#0d0887"
             ],
             [
              0.1111111111111111,
              "#46039f"
             ],
             [
              0.2222222222222222,
              "#7201a8"
             ],
             [
              0.3333333333333333,
              "#9c179e"
             ],
             [
              0.4444444444444444,
              "#bd3786"
             ],
             [
              0.5555555555555556,
              "#d8576b"
             ],
             [
              0.6666666666666666,
              "#ed7953"
             ],
             [
              0.7777777777777778,
              "#fb9f3a"
             ],
             [
              0.8888888888888888,
              "#fdca26"
             ],
             [
              1,
              "#f0f921"
             ]
            ],
            "type": "heatmap"
           }
          ],
          "heatmapgl": [
           {
            "colorbar": {
             "outlinewidth": 0,
             "ticks": ""
            },
            "colorscale": [
             [
              0,
              "#0d0887"
             ],
             [
              0.1111111111111111,
              "#46039f"
             ],
             [
              0.2222222222222222,
              "#7201a8"
             ],
             [
              0.3333333333333333,
              "#9c179e"
             ],
             [
              0.4444444444444444,
              "#bd3786"
             ],
             [
              0.5555555555555556,
              "#d8576b"
             ],
             [
              0.6666666666666666,
              "#ed7953"
             ],
             [
              0.7777777777777778,
              "#fb9f3a"
             ],
             [
              0.8888888888888888,
              "#fdca26"
             ],
             [
              1,
              "#f0f921"
             ]
            ],
            "type": "heatmapgl"
           }
          ],
          "histogram": [
           {
            "marker": {
             "colorbar": {
              "outlinewidth": 0,
              "ticks": ""
             }
            },
            "type": "histogram"
           }
          ],
          "histogram2d": [
           {
            "colorbar": {
             "outlinewidth": 0,
             "ticks": ""
            },
            "colorscale": [
             [
              0,
              "#0d0887"
             ],
             [
              0.1111111111111111,
              "#46039f"
             ],
             [
              0.2222222222222222,
              "#7201a8"
             ],
             [
              0.3333333333333333,
              "#9c179e"
             ],
             [
              0.4444444444444444,
              "#bd3786"
             ],
             [
              0.5555555555555556,
              "#d8576b"
             ],
             [
              0.6666666666666666,
              "#ed7953"
             ],
             [
              0.7777777777777778,
              "#fb9f3a"
             ],
             [
              0.8888888888888888,
              "#fdca26"
             ],
             [
              1,
              "#f0f921"
             ]
            ],
            "type": "histogram2d"
           }
          ],
          "histogram2dcontour": [
           {
            "colorbar": {
             "outlinewidth": 0,
             "ticks": ""
            },
            "colorscale": [
             [
              0,
              "#0d0887"
             ],
             [
              0.1111111111111111,
              "#46039f"
             ],
             [
              0.2222222222222222,
              "#7201a8"
             ],
             [
              0.3333333333333333,
              "#9c179e"
             ],
             [
              0.4444444444444444,
              "#bd3786"
             ],
             [
              0.5555555555555556,
              "#d8576b"
             ],
             [
              0.6666666666666666,
              "#ed7953"
             ],
             [
              0.7777777777777778,
              "#fb9f3a"
             ],
             [
              0.8888888888888888,
              "#fdca26"
             ],
             [
              1,
              "#f0f921"
             ]
            ],
            "type": "histogram2dcontour"
           }
          ],
          "mesh3d": [
           {
            "colorbar": {
             "outlinewidth": 0,
             "ticks": ""
            },
            "type": "mesh3d"
           }
          ],
          "parcoords": [
           {
            "line": {
             "colorbar": {
              "outlinewidth": 0,
              "ticks": ""
             }
            },
            "type": "parcoords"
           }
          ],
          "pie": [
           {
            "automargin": true,
            "type": "pie"
           }
          ],
          "scatter": [
           {
            "marker": {
             "colorbar": {
              "outlinewidth": 0,
              "ticks": ""
             }
            },
            "type": "scatter"
           }
          ],
          "scatter3d": [
           {
            "line": {
             "colorbar": {
              "outlinewidth": 0,
              "ticks": ""
             }
            },
            "marker": {
             "colorbar": {
              "outlinewidth": 0,
              "ticks": ""
             }
            },
            "type": "scatter3d"
           }
          ],
          "scattercarpet": [
           {
            "marker": {
             "colorbar": {
              "outlinewidth": 0,
              "ticks": ""
             }
            },
            "type": "scattercarpet"
           }
          ],
          "scattergeo": [
           {
            "marker": {
             "colorbar": {
              "outlinewidth": 0,
              "ticks": ""
             }
            },
            "type": "scattergeo"
           }
          ],
          "scattergl": [
           {
            "marker": {
             "colorbar": {
              "outlinewidth": 0,
              "ticks": ""
             }
            },
            "type": "scattergl"
           }
          ],
          "scattermapbox": [
           {
            "marker": {
             "colorbar": {
              "outlinewidth": 0,
              "ticks": ""
             }
            },
            "type": "scattermapbox"
           }
          ],
          "scatterpolar": [
           {
            "marker": {
             "colorbar": {
              "outlinewidth": 0,
              "ticks": ""
             }
            },
            "type": "scatterpolar"
           }
          ],
          "scatterpolargl": [
           {
            "marker": {
             "colorbar": {
              "outlinewidth": 0,
              "ticks": ""
             }
            },
            "type": "scatterpolargl"
           }
          ],
          "scatterternary": [
           {
            "marker": {
             "colorbar": {
              "outlinewidth": 0,
              "ticks": ""
             }
            },
            "type": "scatterternary"
           }
          ],
          "surface": [
           {
            "colorbar": {
             "outlinewidth": 0,
             "ticks": ""
            },
            "colorscale": [
             [
              0,
              "#0d0887"
             ],
             [
              0.1111111111111111,
              "#46039f"
             ],
             [
              0.2222222222222222,
              "#7201a8"
             ],
             [
              0.3333333333333333,
              "#9c179e"
             ],
             [
              0.4444444444444444,
              "#bd3786"
             ],
             [
              0.5555555555555556,
              "#d8576b"
             ],
             [
              0.6666666666666666,
              "#ed7953"
             ],
             [
              0.7777777777777778,
              "#fb9f3a"
             ],
             [
              0.8888888888888888,
              "#fdca26"
             ],
             [
              1,
              "#f0f921"
             ]
            ],
            "type": "surface"
           }
          ],
          "table": [
           {
            "cells": {
             "fill": {
              "color": "#EBF0F8"
             },
             "line": {
              "color": "white"
             }
            },
            "header": {
             "fill": {
              "color": "#C8D4E3"
             },
             "line": {
              "color": "white"
             }
            },
            "type": "table"
           }
          ]
         },
         "layout": {
          "annotationdefaults": {
           "arrowcolor": "#2a3f5f",
           "arrowhead": 0,
           "arrowwidth": 1
          },
          "coloraxis": {
           "colorbar": {
            "outlinewidth": 0,
            "ticks": ""
           }
          },
          "colorscale": {
           "diverging": [
            [
             0,
             "#8e0152"
            ],
            [
             0.1,
             "#c51b7d"
            ],
            [
             0.2,
             "#de77ae"
            ],
            [
             0.3,
             "#f1b6da"
            ],
            [
             0.4,
             "#fde0ef"
            ],
            [
             0.5,
             "#f7f7f7"
            ],
            [
             0.6,
             "#e6f5d0"
            ],
            [
             0.7,
             "#b8e186"
            ],
            [
             0.8,
             "#7fbc41"
            ],
            [
             0.9,
             "#4d9221"
            ],
            [
             1,
             "#276419"
            ]
           ],
           "sequential": [
            [
             0,
             "#0d0887"
            ],
            [
             0.1111111111111111,
             "#46039f"
            ],
            [
             0.2222222222222222,
             "#7201a8"
            ],
            [
             0.3333333333333333,
             "#9c179e"
            ],
            [
             0.4444444444444444,
             "#bd3786"
            ],
            [
             0.5555555555555556,
             "#d8576b"
            ],
            [
             0.6666666666666666,
             "#ed7953"
            ],
            [
             0.7777777777777778,
             "#fb9f3a"
            ],
            [
             0.8888888888888888,
             "#fdca26"
            ],
            [
             1,
             "#f0f921"
            ]
           ],
           "sequentialminus": [
            [
             0,
             "#0d0887"
            ],
            [
             0.1111111111111111,
             "#46039f"
            ],
            [
             0.2222222222222222,
             "#7201a8"
            ],
            [
             0.3333333333333333,
             "#9c179e"
            ],
            [
             0.4444444444444444,
             "#bd3786"
            ],
            [
             0.5555555555555556,
             "#d8576b"
            ],
            [
             0.6666666666666666,
             "#ed7953"
            ],
            [
             0.7777777777777778,
             "#fb9f3a"
            ],
            [
             0.8888888888888888,
             "#fdca26"
            ],
            [
             1,
             "#f0f921"
            ]
           ]
          },
          "colorway": [
           "#636efa",
           "#EF553B",
           "#00cc96",
           "#ab63fa",
           "#FFA15A",
           "#19d3f3",
           "#FF6692",
           "#B6E880",
           "#FF97FF",
           "#FECB52"
          ],
          "font": {
           "color": "#2a3f5f"
          },
          "geo": {
           "bgcolor": "white",
           "lakecolor": "white",
           "landcolor": "#E5ECF6",
           "showlakes": true,
           "showland": true,
           "subunitcolor": "white"
          },
          "hoverlabel": {
           "align": "left"
          },
          "hovermode": "closest",
          "mapbox": {
           "style": "light"
          },
          "paper_bgcolor": "white",
          "plot_bgcolor": "#E5ECF6",
          "polar": {
           "angularaxis": {
            "gridcolor": "white",
            "linecolor": "white",
            "ticks": ""
           },
           "bgcolor": "#E5ECF6",
           "radialaxis": {
            "gridcolor": "white",
            "linecolor": "white",
            "ticks": ""
           }
          },
          "scene": {
           "xaxis": {
            "backgroundcolor": "#E5ECF6",
            "gridcolor": "white",
            "gridwidth": 2,
            "linecolor": "white",
            "showbackground": true,
            "ticks": "",
            "zerolinecolor": "white"
           },
           "yaxis": {
            "backgroundcolor": "#E5ECF6",
            "gridcolor": "white",
            "gridwidth": 2,
            "linecolor": "white",
            "showbackground": true,
            "ticks": "",
            "zerolinecolor": "white"
           },
           "zaxis": {
            "backgroundcolor": "#E5ECF6",
            "gridcolor": "white",
            "gridwidth": 2,
            "linecolor": "white",
            "showbackground": true,
            "ticks": "",
            "zerolinecolor": "white"
           }
          },
          "shapedefaults": {
           "line": {
            "color": "#2a3f5f"
           }
          },
          "ternary": {
           "aaxis": {
            "gridcolor": "white",
            "linecolor": "white",
            "ticks": ""
           },
           "baxis": {
            "gridcolor": "white",
            "linecolor": "white",
            "ticks": ""
           },
           "bgcolor": "#E5ECF6",
           "caxis": {
            "gridcolor": "white",
            "linecolor": "white",
            "ticks": ""
           }
          },
          "title": {
           "x": 0.05
          },
          "xaxis": {
           "automargin": true,
           "gridcolor": "white",
           "linecolor": "white",
           "ticks": "",
           "title": {
            "standoff": 15
           },
           "zerolinecolor": "white",
           "zerolinewidth": 2
          },
          "yaxis": {
           "automargin": true,
           "gridcolor": "white",
           "linecolor": "white",
           "ticks": "",
           "title": {
            "standoff": 15
           },
           "zerolinecolor": "white",
           "zerolinewidth": 2
          }
         }
        },
        "title": {
         "font": {
          "color": "#4D5663"
         }
        },
        "xaxis": {
         "anchor": "y",
         "domain": [
          0,
          0.2125
         ],
         "gridcolor": "#E1E5ED",
         "showgrid": false,
         "tickfont": {
          "color": "#4D5663"
         },
         "title": {
          "font": {
           "color": "#4D5663"
          },
          "text": ""
         },
         "zerolinecolor": "#E1E5ED"
        },
        "xaxis10": {
         "anchor": "y10",
         "domain": [
          0.2625,
          0.475
         ],
         "gridcolor": "#E1E5ED",
         "showgrid": false,
         "tickfont": {
          "color": "#4D5663"
         },
         "title": {
          "font": {
           "color": "#4D5663"
          },
          "text": ""
         },
         "zerolinecolor": "#E1E5ED"
        },
        "xaxis11": {
         "anchor": "y11",
         "domain": [
          0.525,
          0.7375
         ],
         "gridcolor": "#E1E5ED",
         "showgrid": false,
         "tickfont": {
          "color": "#4D5663"
         },
         "title": {
          "font": {
           "color": "#4D5663"
          },
          "text": ""
         },
         "zerolinecolor": "#E1E5ED"
        },
        "xaxis12": {
         "anchor": "y12",
         "domain": [
          0.7875,
          1
         ],
         "gridcolor": "#E1E5ED",
         "showgrid": false,
         "tickfont": {
          "color": "#4D5663"
         },
         "title": {
          "font": {
           "color": "#4D5663"
          },
          "text": ""
         },
         "zerolinecolor": "#E1E5ED"
        },
        "xaxis13": {
         "anchor": "y13",
         "domain": [
          0,
          0.2125
         ],
         "gridcolor": "#E1E5ED",
         "showgrid": false,
         "tickfont": {
          "color": "#4D5663"
         },
         "title": {
          "font": {
           "color": "#4D5663"
          },
          "text": ""
         },
         "zerolinecolor": "#E1E5ED"
        },
        "xaxis14": {
         "anchor": "y14",
         "domain": [
          0.2625,
          0.475
         ],
         "gridcolor": "#E1E5ED",
         "showgrid": false,
         "tickfont": {
          "color": "#4D5663"
         },
         "title": {
          "font": {
           "color": "#4D5663"
          },
          "text": ""
         },
         "zerolinecolor": "#E1E5ED"
        },
        "xaxis15": {
         "anchor": "y15",
         "domain": [
          0.525,
          0.7375
         ],
         "gridcolor": "#E1E5ED",
         "showgrid": false,
         "tickfont": {
          "color": "#4D5663"
         },
         "title": {
          "font": {
           "color": "#4D5663"
          },
          "text": ""
         },
         "zerolinecolor": "#E1E5ED"
        },
        "xaxis16": {
         "anchor": "y16",
         "domain": [
          0.7875,
          1
         ],
         "gridcolor": "#E1E5ED",
         "showgrid": false,
         "tickfont": {
          "color": "#4D5663"
         },
         "title": {
          "font": {
           "color": "#4D5663"
          },
          "text": ""
         },
         "zerolinecolor": "#E1E5ED"
        },
        "xaxis2": {
         "anchor": "y2",
         "domain": [
          0.2625,
          0.475
         ],
         "gridcolor": "#E1E5ED",
         "showgrid": false,
         "tickfont": {
          "color": "#4D5663"
         },
         "title": {
          "font": {
           "color": "#4D5663"
          },
          "text": ""
         },
         "zerolinecolor": "#E1E5ED"
        },
        "xaxis3": {
         "anchor": "y3",
         "domain": [
          0.525,
          0.7375
         ],
         "gridcolor": "#E1E5ED",
         "showgrid": false,
         "tickfont": {
          "color": "#4D5663"
         },
         "title": {
          "font": {
           "color": "#4D5663"
          },
          "text": ""
         },
         "zerolinecolor": "#E1E5ED"
        },
        "xaxis4": {
         "anchor": "y4",
         "domain": [
          0.7875,
          1
         ],
         "gridcolor": "#E1E5ED",
         "showgrid": false,
         "tickfont": {
          "color": "#4D5663"
         },
         "title": {
          "font": {
           "color": "#4D5663"
          },
          "text": ""
         },
         "zerolinecolor": "#E1E5ED"
        },
        "xaxis5": {
         "anchor": "y5",
         "domain": [
          0,
          0.2125
         ],
         "gridcolor": "#E1E5ED",
         "showgrid": false,
         "tickfont": {
          "color": "#4D5663"
         },
         "title": {
          "font": {
           "color": "#4D5663"
          },
          "text": ""
         },
         "zerolinecolor": "#E1E5ED"
        },
        "xaxis6": {
         "anchor": "y6",
         "domain": [
          0.2625,
          0.475
         ],
         "gridcolor": "#E1E5ED",
         "showgrid": false,
         "tickfont": {
          "color": "#4D5663"
         },
         "title": {
          "font": {
           "color": "#4D5663"
          },
          "text": ""
         },
         "zerolinecolor": "#E1E5ED"
        },
        "xaxis7": {
         "anchor": "y7",
         "domain": [
          0.525,
          0.7375
         ],
         "gridcolor": "#E1E5ED",
         "showgrid": false,
         "tickfont": {
          "color": "#4D5663"
         },
         "title": {
          "font": {
           "color": "#4D5663"
          },
          "text": ""
         },
         "zerolinecolor": "#E1E5ED"
        },
        "xaxis8": {
         "anchor": "y8",
         "domain": [
          0.7875,
          1
         ],
         "gridcolor": "#E1E5ED",
         "showgrid": false,
         "tickfont": {
          "color": "#4D5663"
         },
         "title": {
          "font": {
           "color": "#4D5663"
          },
          "text": ""
         },
         "zerolinecolor": "#E1E5ED"
        },
        "xaxis9": {
         "anchor": "y9",
         "domain": [
          0,
          0.2125
         ],
         "gridcolor": "#E1E5ED",
         "showgrid": false,
         "tickfont": {
          "color": "#4D5663"
         },
         "title": {
          "font": {
           "color": "#4D5663"
          },
          "text": ""
         },
         "zerolinecolor": "#E1E5ED"
        },
        "yaxis": {
         "anchor": "x",
         "domain": [
          0.8025,
          1
         ],
         "gridcolor": "#E1E5ED",
         "showgrid": false,
         "tickfont": {
          "color": "#4D5663"
         },
         "title": {
          "font": {
           "color": "#4D5663"
          },
          "text": ""
         },
         "zerolinecolor": "#E1E5ED"
        },
        "yaxis10": {
         "anchor": "x10",
         "domain": [
          0.2675,
          0.465
         ],
         "gridcolor": "#E1E5ED",
         "showgrid": false,
         "tickfont": {
          "color": "#4D5663"
         },
         "title": {
          "font": {
           "color": "#4D5663"
          },
          "text": ""
         },
         "zerolinecolor": "#E1E5ED"
        },
        "yaxis11": {
         "anchor": "x11",
         "domain": [
          0.2675,
          0.465
         ],
         "gridcolor": "#E1E5ED",
         "showgrid": false,
         "tickfont": {
          "color": "#4D5663"
         },
         "title": {
          "font": {
           "color": "#4D5663"
          },
          "text": ""
         },
         "zerolinecolor": "#E1E5ED"
        },
        "yaxis12": {
         "anchor": "x12",
         "domain": [
          0.2675,
          0.465
         ],
         "gridcolor": "#E1E5ED",
         "showgrid": false,
         "tickfont": {
          "color": "#4D5663"
         },
         "title": {
          "font": {
           "color": "#4D5663"
          },
          "text": ""
         },
         "zerolinecolor": "#E1E5ED"
        },
        "yaxis13": {
         "anchor": "x13",
         "domain": [
          0,
          0.1975
         ],
         "gridcolor": "#E1E5ED",
         "showgrid": false,
         "tickfont": {
          "color": "#4D5663"
         },
         "title": {
          "font": {
           "color": "#4D5663"
          },
          "text": ""
         },
         "zerolinecolor": "#E1E5ED"
        },
        "yaxis14": {
         "anchor": "x14",
         "domain": [
          0,
          0.1975
         ],
         "gridcolor": "#E1E5ED",
         "showgrid": false,
         "tickfont": {
          "color": "#4D5663"
         },
         "title": {
          "font": {
           "color": "#4D5663"
          },
          "text": ""
         },
         "zerolinecolor": "#E1E5ED"
        },
        "yaxis15": {
         "anchor": "x15",
         "domain": [
          0,
          0.1975
         ],
         "gridcolor": "#E1E5ED",
         "showgrid": false,
         "tickfont": {
          "color": "#4D5663"
         },
         "title": {
          "font": {
           "color": "#4D5663"
          },
          "text": ""
         },
         "zerolinecolor": "#E1E5ED"
        },
        "yaxis16": {
         "anchor": "x16",
         "domain": [
          0,
          0.1975
         ],
         "gridcolor": "#E1E5ED",
         "showgrid": false,
         "tickfont": {
          "color": "#4D5663"
         },
         "title": {
          "font": {
           "color": "#4D5663"
          },
          "text": ""
         },
         "zerolinecolor": "#E1E5ED"
        },
        "yaxis2": {
         "anchor": "x2",
         "domain": [
          0.8025,
          1
         ],
         "gridcolor": "#E1E5ED",
         "showgrid": false,
         "tickfont": {
          "color": "#4D5663"
         },
         "title": {
          "font": {
           "color": "#4D5663"
          },
          "text": ""
         },
         "zerolinecolor": "#E1E5ED"
        },
        "yaxis3": {
         "anchor": "x3",
         "domain": [
          0.8025,
          1
         ],
         "gridcolor": "#E1E5ED",
         "showgrid": false,
         "tickfont": {
          "color": "#4D5663"
         },
         "title": {
          "font": {
           "color": "#4D5663"
          },
          "text": ""
         },
         "zerolinecolor": "#E1E5ED"
        },
        "yaxis4": {
         "anchor": "x4",
         "domain": [
          0.8025,
          1
         ],
         "gridcolor": "#E1E5ED",
         "showgrid": false,
         "tickfont": {
          "color": "#4D5663"
         },
         "title": {
          "font": {
           "color": "#4D5663"
          },
          "text": ""
         },
         "zerolinecolor": "#E1E5ED"
        },
        "yaxis5": {
         "anchor": "x5",
         "domain": [
          0.535,
          0.7325
         ],
         "gridcolor": "#E1E5ED",
         "showgrid": false,
         "tickfont": {
          "color": "#4D5663"
         },
         "title": {
          "font": {
           "color": "#4D5663"
          },
          "text": ""
         },
         "zerolinecolor": "#E1E5ED"
        },
        "yaxis6": {
         "anchor": "x6",
         "domain": [
          0.535,
          0.7325
         ],
         "gridcolor": "#E1E5ED",
         "showgrid": false,
         "tickfont": {
          "color": "#4D5663"
         },
         "title": {
          "font": {
           "color": "#4D5663"
          },
          "text": ""
         },
         "zerolinecolor": "#E1E5ED"
        },
        "yaxis7": {
         "anchor": "x7",
         "domain": [
          0.535,
          0.7325
         ],
         "gridcolor": "#E1E5ED",
         "showgrid": false,
         "tickfont": {
          "color": "#4D5663"
         },
         "title": {
          "font": {
           "color": "#4D5663"
          },
          "text": ""
         },
         "zerolinecolor": "#E1E5ED"
        },
        "yaxis8": {
         "anchor": "x8",
         "domain": [
          0.535,
          0.7325
         ],
         "gridcolor": "#E1E5ED",
         "showgrid": false,
         "tickfont": {
          "color": "#4D5663"
         },
         "title": {
          "font": {
           "color": "#4D5663"
          },
          "text": ""
         },
         "zerolinecolor": "#E1E5ED"
        },
        "yaxis9": {
         "anchor": "x9",
         "domain": [
          0.2675,
          0.465
         ],
         "gridcolor": "#E1E5ED",
         "showgrid": false,
         "tickfont": {
          "color": "#4D5663"
         },
         "title": {
          "font": {
           "color": "#4D5663"
          },
          "text": ""
         },
         "zerolinecolor": "#E1E5ED"
        }
       }
      },
      "text/html": [
       "<div>\n",
       "        \n",
       "        \n",
       "            <div id=\"7561c2fe-d237-4e7a-827e-cf128dcbb39a\" class=\"plotly-graph-div\" style=\"height:525px; width:100%;\"></div>\n",
       "            <script type=\"text/javascript\">\n",
       "                require([\"plotly\"], function(Plotly) {\n",
       "                    window.PLOTLYENV=window.PLOTLYENV || {};\n",
       "                    window.PLOTLYENV.BASE_URL='https://plot.ly';\n",
       "                    \n",
       "                if (document.getElementById(\"7561c2fe-d237-4e7a-827e-cf128dcbb39a\")) {\n",
       "                    Plotly.newPlot(\n",
       "                        '7561c2fe-d237-4e7a-827e-cf128dcbb39a',\n",
       "                        [{\"histfunc\": \"count\", \"histnorm\": \"\", \"marker\": {\"color\": \"rgba(255, 153, 51, 1.0)\", \"line\": {\"color\": \"#4D5663\", \"width\": 1.3}}, \"name\": \"A\", \"nbinsx\": 10, \"opacity\": 0.8, \"orientation\": \"v\", \"type\": \"histogram\", \"x\": [-0.11772897368311729, -0.533871526107039, 0.46282102957446003, 0.17704671607161943, -0.22514481280573914, 1.0077127167213151, -0.43902733090004364, -2.641322783185602, 0.12620115184579384, -0.6663722488414342, 1.4606297568210536, -0.37255423146386346, -0.383110800373717, 0.3391330095506838, -0.5733500505242811, -0.141599315756973, -0.738979900552547, -0.45779365111559306, -1.6359603899116615, 0.39954915531710483, 1.5377838539223083, -1.1440067932632123, -0.64765270889491, 0.19897738994471825, 1.5169806452492216, 0.11550699837102808, -1.7432365527863287, 0.47064984933718945, 0.09993588843189898, 1.2077133520168108, 0.23801283659543684, -1.17813153393185, -1.416089110886164, 1.5483028352919244, 0.7447432123532974, -1.4130082806017559, -1.8323103345859806, 1.314104415237608, -1.215758658659783, -1.289723333914404, 0.1250192027850171, 0.785632072181155, -0.5607245856806137, 0.08712197627660075, -0.13944124583278467, 0.5085637654193944, -0.26327471175700096, 0.6616677101373818, 1.0840118220174724, -0.20007606657368793, -0.16287758289409526, -2.1222925049735553, 0.6679480557850784, -0.059009948146776334, -0.25989855287404157, -0.614240169961146, 3.5264494843495444, -3.1773654445327337, 0.5102405813630724, 2.3784878564383436, -0.8941177702702027, 1.7294737835142415, 1.0908531113495692, -2.600368367654316, 0.8481792011605757, 0.6873057825531937, -0.13189894149393275, 0.6808643558735855, -0.4586142690323789, 1.2249728108842624, -0.12744918349329165, 0.6606018421456373, -0.18151652305094346, 0.6142901484241644, 0.30530936915412654, 0.6633064704233149, -1.01251360583096, -2.9539709554187414, 0.16106834543734866, -1.7295211699003348, 1.2008174731880432, 0.10282652031461875, -0.47863540770189894, -0.5852211484211195, -0.14840713435264566, -1.2406689004473512, -0.02836699868960687, -2.2175044034675824, -0.7069107560571622, -0.7216697495558138, -0.3417257690530918, 0.24893146203774258, 1.1347613070213458, 0.8894403559468214, -0.014451072860063092, -0.6807365486086413, -1.51281593418309, -0.03250217366365307, 1.3747933188776915, 0.44665306518104236], \"xaxis\": \"x\", \"yaxis\": \"y\"}, {\"line\": {\"color\": \"rgba(128, 128, 128, 1.0)\", \"dash\": \"solid\", \"shape\": \"linear\", \"width\": 1.3}, \"marker\": {\"size\": 2, \"symbol\": \"circle\"}, \"mode\": \"markers\", \"name\": \"A\", \"text\": \"\", \"type\": \"scatter\", \"x\": [0.556181465264592, 1.021795579003633, 0.34305198877282084, -0.782986867702327, 0.5458775572441681, -0.9715858430258466, 1.7059829955873331, 0.28544152502108705, 0.8133036806419416, 1.8438761323874195, -1.6843689924306073, -0.6011669035135556, 1.2057593289303659, 0.5714837677350195, 1.1974435004904707, 0.5494457339453958, -0.583025114377226, -0.5760423117387118, -0.2267080831976598, -0.6517963472447632, 1.7744629453539784, -0.18182311146547486, -0.9843449933267222, -0.2739598084609428, -3.2783716913462415, -0.2877715873394967, 0.5784706223569512, 0.3030365856133379, -1.2192810936302827, -0.3498140922462479, -0.32000531067556515, -0.031557344394759476, -1.3938528030386734, -0.6727776278372283, 0.49258864594789825, -1.6427499421621758, -0.2775698317169973, 0.15793051570381744, -0.9428742062412326, 1.5963726684050736, 1.34865383082596, 1.3258852811549022, -0.34614794569627316, 0.30023183003229426, 0.3877903130816993, 1.3133646083048698, -1.1552445211257694, -0.6700976350522939, -3.287095575211883, 0.49097271151398014, -0.055777300990351594, 0.6494178607025153, -0.37204261936690475, 0.9448951923093842, -0.32298420592403887, 1.312968573709209, 2.1187381683403417, 1.7203059238427028, 0.15430651614390078, -0.9359327458917104, 0.18582390724082196, 0.38651808204428395, 1.595646769306395, -0.18410778350683912, 1.305522239456601, 1.7566763799575875, -0.08039348481880718, -0.3543421040131263, 0.5219203636451465, -0.5896112929306913, -0.3393041168634211, 0.2829610171561076, 0.6793200016345743, -1.6140029249633254, 0.22523965436780735, -0.45268835808640734, -0.2732718549621978, -0.4761834808012976, 0.7164367320172792, -0.9713979181899827, -0.12182758654723387, 1.327902927622974, -0.7092892469961845, -2.0271293836609416, -0.7317919679679369, -0.7270314802520373, 0.9305346356228754, 0.11165713571383377, -0.9266581376799186, 1.1287638359340197, -1.4830324294304336, 0.6829320718060053, -0.7336805900485133, -0.37266086176840707, 0.4650377956910324, 0.6046779478448695, 0.06478085892764522, 0.7182424976179019, 1.4522852983523278, -0.10746480113387966], \"xaxis\": \"x2\", \"y\": [-0.11772897368311729, -0.533871526107039, 0.46282102957446003, 0.17704671607161943, -0.22514481280573914, 1.0077127167213151, -0.43902733090004364, -2.641322783185602, 0.12620115184579384, -0.6663722488414342, 1.4606297568210536, -0.37255423146386346, -0.383110800373717, 0.3391330095506838, -0.5733500505242811, -0.141599315756973, -0.738979900552547, -0.45779365111559306, -1.6359603899116615, 0.39954915531710483, 1.5377838539223083, -1.1440067932632123, -0.64765270889491, 0.19897738994471825, 1.5169806452492216, 0.11550699837102808, -1.7432365527863287, 0.47064984933718945, 0.09993588843189898, 1.2077133520168108, 0.23801283659543684, -1.17813153393185, -1.416089110886164, 1.5483028352919244, 0.7447432123532974, -1.4130082806017559, -1.8323103345859806, 1.314104415237608, -1.215758658659783, -1.289723333914404, 0.1250192027850171, 0.785632072181155, -0.5607245856806137, 0.08712197627660075, -0.13944124583278467, 0.5085637654193944, -0.26327471175700096, 0.6616677101373818, 1.0840118220174724, -0.20007606657368793, -0.16287758289409526, -2.1222925049735553, 0.6679480557850784, -0.059009948146776334, -0.25989855287404157, -0.614240169961146, 3.5264494843495444, -3.1773654445327337, 0.5102405813630724, 2.3784878564383436, -0.8941177702702027, 1.7294737835142415, 1.0908531113495692, -2.600368367654316, 0.8481792011605757, 0.6873057825531937, -0.13189894149393275, 0.6808643558735855, -0.4586142690323789, 1.2249728108842624, -0.12744918349329165, 0.6606018421456373, -0.18151652305094346, 0.6142901484241644, 0.30530936915412654, 0.6633064704233149, -1.01251360583096, -2.9539709554187414, 0.16106834543734866, -1.7295211699003348, 1.2008174731880432, 0.10282652031461875, -0.47863540770189894, -0.5852211484211195, -0.14840713435264566, -1.2406689004473512, -0.02836699868960687, -2.2175044034675824, -0.7069107560571622, -0.7216697495558138, -0.3417257690530918, 0.24893146203774258, 1.1347613070213458, 0.8894403559468214, -0.014451072860063092, -0.6807365486086413, -1.51281593418309, -0.03250217366365307, 1.3747933188776915, 0.44665306518104236], \"yaxis\": \"y2\"}, {\"line\": {\"color\": \"rgba(128, 128, 128, 1.0)\", \"dash\": \"solid\", \"shape\": \"linear\", \"width\": 1.3}, \"marker\": {\"size\": 2, \"symbol\": \"circle\"}, \"mode\": \"markers\", \"name\": \"A\", \"text\": \"\", \"type\": \"scatter\", \"x\": [1.8423457922317947, 0.20240953416570504, -0.9525738852837822, 1.39066122188408, -0.5758319347455517, -2.2248143413261285, -0.7131505795054817, -0.5087791560343012, 2.1627130231224476, -0.307759373430411, 0.4439998216781445, 0.7429693946108744, 0.866330459737981, 0.1434047377515391, 1.624144950650099, 0.6434746690188269, 0.5095909395993825, 0.3357006342080557, 0.4630718916971839, -0.9760195698420616, 1.1039126345544499, -0.8652253649504862, 1.8551271595279182, 0.2627165887760841, 0.06282208885516809, -0.4497543893190607, 1.1940911756059924, 1.1552520723225135, -0.5485747405662537, -0.11411452634528207, -0.5282393373038018, -1.327693787521095, -1.549489381787043, 1.0027726151972014, -1.0941708236543997, 0.12742932278184788, 0.04220359654200365, -1.2567283631816193, -0.7937078956603784, 2.440770066641173, -0.4920171049779494, 0.11125643039292989, 0.7723186482112306, 0.9361909674591782, 0.8648729687355279, -1.6298418614407943, 0.25568286297490267, 0.1394856981020013, -1.789616962623113, -0.04623076479099041, -1.9988418554174914, 3.25417632938342, 0.44952682023433227, -1.0073902817500062, 0.4232792486547495, -0.7185189833476643, -2.2984620378640277, 1.0522378759306052, -0.1491115721383713, -0.2572758716760549, 0.48150221081239347, -0.8027624402476271, -1.2457373952879698, 0.5617403563106325, 0.3068661646974329, -0.6736939628947071, 1.8484582468266417, -1.4078695029750796, 1.6479183924240963, -1.6444615464525167, -0.37384325264027995, 0.13099210580087112, 2.21302552422313, 1.8740958260260177, 0.8370437702050992, -1.2615134075311947, -0.5065359023069691, -0.14660605485193431, -0.28315508223245717, -0.01971718335519795, 1.4076687346106214, -1.7207671190761573, -0.048913624524071275, -1.285733271733305, 0.743646254241991, -0.3364636737903639, 0.037067626005797924, 2.296033645140205, -0.17353928973261812, 2.245012951254967, -0.4691387055287381, -1.3656723815702134, 1.3431273529433994, -0.24603041122860111, -1.6277403162742727, 1.2621719611727393, 0.35443710511960824, -0.22833377574129124, -1.0062026808585642, 0.022292426743457695], \"xaxis\": \"x3\", \"y\": [-0.11772897368311729, -0.533871526107039, 0.46282102957446003, 0.17704671607161943, -0.22514481280573914, 1.0077127167213151, -0.43902733090004364, -2.641322783185602, 0.12620115184579384, -0.6663722488414342, 1.4606297568210536, -0.37255423146386346, -0.383110800373717, 0.3391330095506838, -0.5733500505242811, -0.141599315756973, -0.738979900552547, -0.45779365111559306, -1.6359603899116615, 0.39954915531710483, 1.5377838539223083, -1.1440067932632123, -0.64765270889491, 0.19897738994471825, 1.5169806452492216, 0.11550699837102808, -1.7432365527863287, 0.47064984933718945, 0.09993588843189898, 1.2077133520168108, 0.23801283659543684, -1.17813153393185, -1.416089110886164, 1.5483028352919244, 0.7447432123532974, -1.4130082806017559, -1.8323103345859806, 1.314104415237608, -1.215758658659783, -1.289723333914404, 0.1250192027850171, 0.785632072181155, -0.5607245856806137, 0.08712197627660075, -0.13944124583278467, 0.5085637654193944, -0.26327471175700096, 0.6616677101373818, 1.0840118220174724, -0.20007606657368793, -0.16287758289409526, -2.1222925049735553, 0.6679480557850784, -0.059009948146776334, -0.25989855287404157, -0.614240169961146, 3.5264494843495444, -3.1773654445327337, 0.5102405813630724, 2.3784878564383436, -0.8941177702702027, 1.7294737835142415, 1.0908531113495692, -2.600368367654316, 0.8481792011605757, 0.6873057825531937, -0.13189894149393275, 0.6808643558735855, -0.4586142690323789, 1.2249728108842624, -0.12744918349329165, 0.6606018421456373, -0.18151652305094346, 0.6142901484241644, 0.30530936915412654, 0.6633064704233149, -1.01251360583096, -2.9539709554187414, 0.16106834543734866, -1.7295211699003348, 1.2008174731880432, 0.10282652031461875, -0.47863540770189894, -0.5852211484211195, -0.14840713435264566, -1.2406689004473512, -0.02836699868960687, -2.2175044034675824, -0.7069107560571622, -0.7216697495558138, -0.3417257690530918, 0.24893146203774258, 1.1347613070213458, 0.8894403559468214, -0.014451072860063092, -0.6807365486086413, -1.51281593418309, -0.03250217366365307, 1.3747933188776915, 0.44665306518104236], \"yaxis\": \"y3\"}, {\"line\": {\"color\": \"rgba(128, 128, 128, 1.0)\", \"dash\": \"solid\", \"shape\": \"linear\", \"width\": 1.3}, \"marker\": {\"size\": 2, \"symbol\": \"circle\"}, \"mode\": \"markers\", \"name\": \"A\", \"text\": \"\", \"type\": \"scatter\", \"x\": [-0.13029775050345832, 0.19573261702004144, -0.0849251457349376, -0.23880913887984828, -1.5781035965163253, 0.8624912370517351, -0.4766178624860545, -0.8897540217320224, -0.6699055543981048, -0.06596624327345979, -0.13584076637280296, -0.08445357212174927, -0.9845017328420416, 0.9647853473689881, 0.893869187177583, 2.883216445448747, -0.012931184479350528, 0.5382116468686099, -0.17817702317167564, 1.2252296319464155, -1.4138623257695828, -0.14978631055618855, 0.2817851549568895, 1.4107207793076861, 0.3824054932592069, 0.7607719097690818, -1.5622698969888633, 0.915436993318037, -0.6957787290061421, 0.7095587616205666, -1.0516014996850263, -0.8525350307110473, 1.960251635125264, -0.7548885841877612, 0.10833437701807601, -1.0213903039151238, 2.54040561409652, 0.06270296383361777, 0.9006479345734872, -2.2499467411254233, -0.9367031680172341, 0.34249765932323395, -0.8793225621766521, -0.5225802241904006, -1.3819882049509593, -0.6050242661030426, 0.4735607586627363, -0.49571457151610504, 0.1611963898643476, 0.7210105493414507, 0.276518321348237, 1.2221581888680046, -0.33534827074426865, -1.7894834533147126, 0.38651148029366106, 0.2067116250993895, 0.17643534693943186, -1.5411746600996836, 0.9967579072628576, 0.9760029762022033, -0.7047832424389892, 0.598364509395858, 0.18981165049636248, -0.6157862721974697, 0.5007724942378763, -0.5243009686469143, -2.0621593177768367, -0.04573328162124815, -1.581064773513214, 1.248525489175646, 0.4022001502578853, -0.17671493444198852, 0.11163554319569959, 1.2977400187934724, 2.3619753164570354, 0.25287836754746973, 0.399756811353929, -1.3397766456532445, -0.4463767202015796, 0.2854797402498509, 0.010305808003770294, -0.5891088327406014, 0.0876277433750314, -0.5886525882541025, -1.2557607166320561, 0.48840651045337974, -0.5322020873802618, 1.5197623923863446, 0.5068374330208252, -0.14534365535465493, -0.17274256420810255, 1.1763090526034488, 0.3146799380582341, -0.2947787597858762, -0.11431024363586058, -0.21117314581428073, -0.9200695165037043, -0.7570478560798554, -0.042357673942814714, 0.9603130821155603], \"xaxis\": \"x4\", \"y\": [-0.11772897368311729, -0.533871526107039, 0.46282102957446003, 0.17704671607161943, -0.22514481280573914, 1.0077127167213151, -0.43902733090004364, -2.641322783185602, 0.12620115184579384, -0.6663722488414342, 1.4606297568210536, -0.37255423146386346, -0.383110800373717, 0.3391330095506838, -0.5733500505242811, -0.141599315756973, -0.738979900552547, -0.45779365111559306, -1.6359603899116615, 0.39954915531710483, 1.5377838539223083, -1.1440067932632123, -0.64765270889491, 0.19897738994471825, 1.5169806452492216, 0.11550699837102808, -1.7432365527863287, 0.47064984933718945, 0.09993588843189898, 1.2077133520168108, 0.23801283659543684, -1.17813153393185, -1.416089110886164, 1.5483028352919244, 0.7447432123532974, -1.4130082806017559, -1.8323103345859806, 1.314104415237608, -1.215758658659783, -1.289723333914404, 0.1250192027850171, 0.785632072181155, -0.5607245856806137, 0.08712197627660075, -0.13944124583278467, 0.5085637654193944, -0.26327471175700096, 0.6616677101373818, 1.0840118220174724, -0.20007606657368793, -0.16287758289409526, -2.1222925049735553, 0.6679480557850784, -0.059009948146776334, -0.25989855287404157, -0.614240169961146, 3.5264494843495444, -3.1773654445327337, 0.5102405813630724, 2.3784878564383436, -0.8941177702702027, 1.7294737835142415, 1.0908531113495692, -2.600368367654316, 0.8481792011605757, 0.6873057825531937, -0.13189894149393275, 0.6808643558735855, -0.4586142690323789, 1.2249728108842624, -0.12744918349329165, 0.6606018421456373, -0.18151652305094346, 0.6142901484241644, 0.30530936915412654, 0.6633064704233149, -1.01251360583096, -2.9539709554187414, 0.16106834543734866, -1.7295211699003348, 1.2008174731880432, 0.10282652031461875, -0.47863540770189894, -0.5852211484211195, -0.14840713435264566, -1.2406689004473512, -0.02836699868960687, -2.2175044034675824, -0.7069107560571622, -0.7216697495558138, -0.3417257690530918, 0.24893146203774258, 1.1347613070213458, 0.8894403559468214, -0.014451072860063092, -0.6807365486086413, -1.51281593418309, -0.03250217366365307, 1.3747933188776915, 0.44665306518104236], \"yaxis\": \"y4\"}, {\"line\": {\"color\": \"rgba(128, 128, 128, 1.0)\", \"dash\": \"solid\", \"shape\": \"linear\", \"width\": 1.3}, \"marker\": {\"size\": 2, \"symbol\": \"circle\"}, \"mode\": \"markers\", \"name\": \"B\", \"text\": \"\", \"type\": \"scatter\", \"x\": [-0.11772897368311729, -0.533871526107039, 0.46282102957446003, 0.17704671607161943, -0.22514481280573914, 1.0077127167213151, -0.43902733090004364, -2.641322783185602, 0.12620115184579384, -0.6663722488414342, 1.4606297568210536, -0.37255423146386346, -0.383110800373717, 0.3391330095506838, -0.5733500505242811, -0.141599315756973, -0.738979900552547, -0.45779365111559306, -1.6359603899116615, 0.39954915531710483, 1.5377838539223083, -1.1440067932632123, -0.64765270889491, 0.19897738994471825, 1.5169806452492216, 0.11550699837102808, -1.7432365527863287, 0.47064984933718945, 0.09993588843189898, 1.2077133520168108, 0.23801283659543684, -1.17813153393185, -1.416089110886164, 1.5483028352919244, 0.7447432123532974, -1.4130082806017559, -1.8323103345859806, 1.314104415237608, -1.215758658659783, -1.289723333914404, 0.1250192027850171, 0.785632072181155, -0.5607245856806137, 0.08712197627660075, -0.13944124583278467, 0.5085637654193944, -0.26327471175700096, 0.6616677101373818, 1.0840118220174724, -0.20007606657368793, -0.16287758289409526, -2.1222925049735553, 0.6679480557850784, -0.059009948146776334, -0.25989855287404157, -0.614240169961146, 3.5264494843495444, -3.1773654445327337, 0.5102405813630724, 2.3784878564383436, -0.8941177702702027, 1.7294737835142415, 1.0908531113495692, -2.600368367654316, 0.8481792011605757, 0.6873057825531937, -0.13189894149393275, 0.6808643558735855, -0.4586142690323789, 1.2249728108842624, -0.12744918349329165, 0.6606018421456373, -0.18151652305094346, 0.6142901484241644, 0.30530936915412654, 0.6633064704233149, -1.01251360583096, -2.9539709554187414, 0.16106834543734866, -1.7295211699003348, 1.2008174731880432, 0.10282652031461875, -0.47863540770189894, -0.5852211484211195, -0.14840713435264566, -1.2406689004473512, -0.02836699868960687, -2.2175044034675824, -0.7069107560571622, -0.7216697495558138, -0.3417257690530918, 0.24893146203774258, 1.1347613070213458, 0.8894403559468214, -0.014451072860063092, -0.6807365486086413, -1.51281593418309, -0.03250217366365307, 1.3747933188776915, 0.44665306518104236], \"xaxis\": \"x5\", \"y\": [0.556181465264592, 1.021795579003633, 0.34305198877282084, -0.782986867702327, 0.5458775572441681, -0.9715858430258466, 1.7059829955873331, 0.28544152502108705, 0.8133036806419416, 1.8438761323874195, -1.6843689924306073, -0.6011669035135556, 1.2057593289303659, 0.5714837677350195, 1.1974435004904707, 0.5494457339453958, -0.583025114377226, -0.5760423117387118, -0.2267080831976598, -0.6517963472447632, 1.7744629453539784, -0.18182311146547486, -0.9843449933267222, -0.2739598084609428, -3.2783716913462415, -0.2877715873394967, 0.5784706223569512, 0.3030365856133379, -1.2192810936302827, -0.3498140922462479, -0.32000531067556515, -0.031557344394759476, -1.3938528030386734, -0.6727776278372283, 0.49258864594789825, -1.6427499421621758, -0.2775698317169973, 0.15793051570381744, -0.9428742062412326, 1.5963726684050736, 1.34865383082596, 1.3258852811549022, -0.34614794569627316, 0.30023183003229426, 0.3877903130816993, 1.3133646083048698, -1.1552445211257694, -0.6700976350522939, -3.287095575211883, 0.49097271151398014, -0.055777300990351594, 0.6494178607025153, -0.37204261936690475, 0.9448951923093842, -0.32298420592403887, 1.312968573709209, 2.1187381683403417, 1.7203059238427028, 0.15430651614390078, -0.9359327458917104, 0.18582390724082196, 0.38651808204428395, 1.595646769306395, -0.18410778350683912, 1.305522239456601, 1.7566763799575875, -0.08039348481880718, -0.3543421040131263, 0.5219203636451465, -0.5896112929306913, -0.3393041168634211, 0.2829610171561076, 0.6793200016345743, -1.6140029249633254, 0.22523965436780735, -0.45268835808640734, -0.2732718549621978, -0.4761834808012976, 0.7164367320172792, -0.9713979181899827, -0.12182758654723387, 1.327902927622974, -0.7092892469961845, -2.0271293836609416, -0.7317919679679369, -0.7270314802520373, 0.9305346356228754, 0.11165713571383377, -0.9266581376799186, 1.1287638359340197, -1.4830324294304336, 0.6829320718060053, -0.7336805900485133, -0.37266086176840707, 0.4650377956910324, 0.6046779478448695, 0.06478085892764522, 0.7182424976179019, 1.4522852983523278, -0.10746480113387966], \"yaxis\": \"y5\"}, {\"histfunc\": \"count\", \"histnorm\": \"\", \"marker\": {\"color\": \"rgba(55, 128, 191, 1.0)\", \"line\": {\"color\": \"#4D5663\", \"width\": 1.3}}, \"name\": \"B\", \"nbinsx\": 10, \"opacity\": 0.8, \"orientation\": \"v\", \"type\": \"histogram\", \"x\": [0.556181465264592, 1.021795579003633, 0.34305198877282084, -0.782986867702327, 0.5458775572441681, -0.9715858430258466, 1.7059829955873331, 0.28544152502108705, 0.8133036806419416, 1.8438761323874195, -1.6843689924306073, -0.6011669035135556, 1.2057593289303659, 0.5714837677350195, 1.1974435004904707, 0.5494457339453958, -0.583025114377226, -0.5760423117387118, -0.2267080831976598, -0.6517963472447632, 1.7744629453539784, -0.18182311146547486, -0.9843449933267222, -0.2739598084609428, -3.2783716913462415, -0.2877715873394967, 0.5784706223569512, 0.3030365856133379, -1.2192810936302827, -0.3498140922462479, -0.32000531067556515, -0.031557344394759476, -1.3938528030386734, -0.6727776278372283, 0.49258864594789825, -1.6427499421621758, -0.2775698317169973, 0.15793051570381744, -0.9428742062412326, 1.5963726684050736, 1.34865383082596, 1.3258852811549022, -0.34614794569627316, 0.30023183003229426, 0.3877903130816993, 1.3133646083048698, -1.1552445211257694, -0.6700976350522939, -3.287095575211883, 0.49097271151398014, -0.055777300990351594, 0.6494178607025153, -0.37204261936690475, 0.9448951923093842, -0.32298420592403887, 1.312968573709209, 2.1187381683403417, 1.7203059238427028, 0.15430651614390078, -0.9359327458917104, 0.18582390724082196, 0.38651808204428395, 1.595646769306395, -0.18410778350683912, 1.305522239456601, 1.7566763799575875, -0.08039348481880718, -0.3543421040131263, 0.5219203636451465, -0.5896112929306913, -0.3393041168634211, 0.2829610171561076, 0.6793200016345743, -1.6140029249633254, 0.22523965436780735, -0.45268835808640734, -0.2732718549621978, -0.4761834808012976, 0.7164367320172792, -0.9713979181899827, -0.12182758654723387, 1.327902927622974, -0.7092892469961845, -2.0271293836609416, -0.7317919679679369, -0.7270314802520373, 0.9305346356228754, 0.11165713571383377, -0.9266581376799186, 1.1287638359340197, -1.4830324294304336, 0.6829320718060053, -0.7336805900485133, -0.37266086176840707, 0.4650377956910324, 0.6046779478448695, 0.06478085892764522, 0.7182424976179019, 1.4522852983523278, -0.10746480113387966], \"xaxis\": \"x6\", \"yaxis\": \"y6\"}, {\"line\": {\"color\": \"rgba(128, 128, 128, 1.0)\", \"dash\": \"solid\", \"shape\": \"linear\", \"width\": 1.3}, \"marker\": {\"size\": 2, \"symbol\": \"circle\"}, \"mode\": \"markers\", \"name\": \"B\", \"text\": \"\", \"type\": \"scatter\", \"x\": [1.8423457922317947, 0.20240953416570504, -0.9525738852837822, 1.39066122188408, -0.5758319347455517, -2.2248143413261285, -0.7131505795054817, -0.5087791560343012, 2.1627130231224476, -0.307759373430411, 0.4439998216781445, 0.7429693946108744, 0.866330459737981, 0.1434047377515391, 1.624144950650099, 0.6434746690188269, 0.5095909395993825, 0.3357006342080557, 0.4630718916971839, -0.9760195698420616, 1.1039126345544499, -0.8652253649504862, 1.8551271595279182, 0.2627165887760841, 0.06282208885516809, -0.4497543893190607, 1.1940911756059924, 1.1552520723225135, -0.5485747405662537, -0.11411452634528207, -0.5282393373038018, -1.327693787521095, -1.549489381787043, 1.0027726151972014, -1.0941708236543997, 0.12742932278184788, 0.04220359654200365, -1.2567283631816193, -0.7937078956603784, 2.440770066641173, -0.4920171049779494, 0.11125643039292989, 0.7723186482112306, 0.9361909674591782, 0.8648729687355279, -1.6298418614407943, 0.25568286297490267, 0.1394856981020013, -1.789616962623113, -0.04623076479099041, -1.9988418554174914, 3.25417632938342, 0.44952682023433227, -1.0073902817500062, 0.4232792486547495, -0.7185189833476643, -2.2984620378640277, 1.0522378759306052, -0.1491115721383713, -0.2572758716760549, 0.48150221081239347, -0.8027624402476271, -1.2457373952879698, 0.5617403563106325, 0.3068661646974329, -0.6736939628947071, 1.8484582468266417, -1.4078695029750796, 1.6479183924240963, -1.6444615464525167, -0.37384325264027995, 0.13099210580087112, 2.21302552422313, 1.8740958260260177, 0.8370437702050992, -1.2615134075311947, -0.5065359023069691, -0.14660605485193431, -0.28315508223245717, -0.01971718335519795, 1.4076687346106214, -1.7207671190761573, -0.048913624524071275, -1.285733271733305, 0.743646254241991, -0.3364636737903639, 0.037067626005797924, 2.296033645140205, -0.17353928973261812, 2.245012951254967, -0.4691387055287381, -1.3656723815702134, 1.3431273529433994, -0.24603041122860111, -1.6277403162742727, 1.2621719611727393, 0.35443710511960824, -0.22833377574129124, -1.0062026808585642, 0.022292426743457695], \"xaxis\": \"x7\", \"y\": [0.556181465264592, 1.021795579003633, 0.34305198877282084, -0.782986867702327, 0.5458775572441681, -0.9715858430258466, 1.7059829955873331, 0.28544152502108705, 0.8133036806419416, 1.8438761323874195, -1.6843689924306073, -0.6011669035135556, 1.2057593289303659, 0.5714837677350195, 1.1974435004904707, 0.5494457339453958, -0.583025114377226, -0.5760423117387118, -0.2267080831976598, -0.6517963472447632, 1.7744629453539784, -0.18182311146547486, -0.9843449933267222, -0.2739598084609428, -3.2783716913462415, -0.2877715873394967, 0.5784706223569512, 0.3030365856133379, -1.2192810936302827, -0.3498140922462479, -0.32000531067556515, -0.031557344394759476, -1.3938528030386734, -0.6727776278372283, 0.49258864594789825, -1.6427499421621758, -0.2775698317169973, 0.15793051570381744, -0.9428742062412326, 1.5963726684050736, 1.34865383082596, 1.3258852811549022, -0.34614794569627316, 0.30023183003229426, 0.3877903130816993, 1.3133646083048698, -1.1552445211257694, -0.6700976350522939, -3.287095575211883, 0.49097271151398014, -0.055777300990351594, 0.6494178607025153, -0.37204261936690475, 0.9448951923093842, -0.32298420592403887, 1.312968573709209, 2.1187381683403417, 1.7203059238427028, 0.15430651614390078, -0.9359327458917104, 0.18582390724082196, 0.38651808204428395, 1.595646769306395, -0.18410778350683912, 1.305522239456601, 1.7566763799575875, -0.08039348481880718, -0.3543421040131263, 0.5219203636451465, -0.5896112929306913, -0.3393041168634211, 0.2829610171561076, 0.6793200016345743, -1.6140029249633254, 0.22523965436780735, -0.45268835808640734, -0.2732718549621978, -0.4761834808012976, 0.7164367320172792, -0.9713979181899827, -0.12182758654723387, 1.327902927622974, -0.7092892469961845, -2.0271293836609416, -0.7317919679679369, -0.7270314802520373, 0.9305346356228754, 0.11165713571383377, -0.9266581376799186, 1.1287638359340197, -1.4830324294304336, 0.6829320718060053, -0.7336805900485133, -0.37266086176840707, 0.4650377956910324, 0.6046779478448695, 0.06478085892764522, 0.7182424976179019, 1.4522852983523278, -0.10746480113387966], \"yaxis\": \"y7\"}, {\"line\": {\"color\": \"rgba(128, 128, 128, 1.0)\", \"dash\": \"solid\", \"shape\": \"linear\", \"width\": 1.3}, \"marker\": {\"size\": 2, \"symbol\": \"circle\"}, \"mode\": \"markers\", \"name\": \"B\", \"text\": \"\", \"type\": \"scatter\", \"x\": [-0.13029775050345832, 0.19573261702004144, -0.0849251457349376, -0.23880913887984828, -1.5781035965163253, 0.8624912370517351, -0.4766178624860545, -0.8897540217320224, -0.6699055543981048, -0.06596624327345979, -0.13584076637280296, -0.08445357212174927, -0.9845017328420416, 0.9647853473689881, 0.893869187177583, 2.883216445448747, -0.012931184479350528, 0.5382116468686099, -0.17817702317167564, 1.2252296319464155, -1.4138623257695828, -0.14978631055618855, 0.2817851549568895, 1.4107207793076861, 0.3824054932592069, 0.7607719097690818, -1.5622698969888633, 0.915436993318037, -0.6957787290061421, 0.7095587616205666, -1.0516014996850263, -0.8525350307110473, 1.960251635125264, -0.7548885841877612, 0.10833437701807601, -1.0213903039151238, 2.54040561409652, 0.06270296383361777, 0.9006479345734872, -2.2499467411254233, -0.9367031680172341, 0.34249765932323395, -0.8793225621766521, -0.5225802241904006, -1.3819882049509593, -0.6050242661030426, 0.4735607586627363, -0.49571457151610504, 0.1611963898643476, 0.7210105493414507, 0.276518321348237, 1.2221581888680046, -0.33534827074426865, -1.7894834533147126, 0.38651148029366106, 0.2067116250993895, 0.17643534693943186, -1.5411746600996836, 0.9967579072628576, 0.9760029762022033, -0.7047832424389892, 0.598364509395858, 0.18981165049636248, -0.6157862721974697, 0.5007724942378763, -0.5243009686469143, -2.0621593177768367, -0.04573328162124815, -1.581064773513214, 1.248525489175646, 0.4022001502578853, -0.17671493444198852, 0.11163554319569959, 1.2977400187934724, 2.3619753164570354, 0.25287836754746973, 0.399756811353929, -1.3397766456532445, -0.4463767202015796, 0.2854797402498509, 0.010305808003770294, -0.5891088327406014, 0.0876277433750314, -0.5886525882541025, -1.2557607166320561, 0.48840651045337974, -0.5322020873802618, 1.5197623923863446, 0.5068374330208252, -0.14534365535465493, -0.17274256420810255, 1.1763090526034488, 0.3146799380582341, -0.2947787597858762, -0.11431024363586058, -0.21117314581428073, -0.9200695165037043, -0.7570478560798554, -0.042357673942814714, 0.9603130821155603], \"xaxis\": \"x8\", \"y\": [0.556181465264592, 1.021795579003633, 0.34305198877282084, -0.782986867702327, 0.5458775572441681, -0.9715858430258466, 1.7059829955873331, 0.28544152502108705, 0.8133036806419416, 1.8438761323874195, -1.6843689924306073, -0.6011669035135556, 1.2057593289303659, 0.5714837677350195, 1.1974435004904707, 0.5494457339453958, -0.583025114377226, -0.5760423117387118, -0.2267080831976598, -0.6517963472447632, 1.7744629453539784, -0.18182311146547486, -0.9843449933267222, -0.2739598084609428, -3.2783716913462415, -0.2877715873394967, 0.5784706223569512, 0.3030365856133379, -1.2192810936302827, -0.3498140922462479, -0.32000531067556515, -0.031557344394759476, -1.3938528030386734, -0.6727776278372283, 0.49258864594789825, -1.6427499421621758, -0.2775698317169973, 0.15793051570381744, -0.9428742062412326, 1.5963726684050736, 1.34865383082596, 1.3258852811549022, -0.34614794569627316, 0.30023183003229426, 0.3877903130816993, 1.3133646083048698, -1.1552445211257694, -0.6700976350522939, -3.287095575211883, 0.49097271151398014, -0.055777300990351594, 0.6494178607025153, -0.37204261936690475, 0.9448951923093842, -0.32298420592403887, 1.312968573709209, 2.1187381683403417, 1.7203059238427028, 0.15430651614390078, -0.9359327458917104, 0.18582390724082196, 0.38651808204428395, 1.595646769306395, -0.18410778350683912, 1.305522239456601, 1.7566763799575875, -0.08039348481880718, -0.3543421040131263, 0.5219203636451465, -0.5896112929306913, -0.3393041168634211, 0.2829610171561076, 0.6793200016345743, -1.6140029249633254, 0.22523965436780735, -0.45268835808640734, -0.2732718549621978, -0.4761834808012976, 0.7164367320172792, -0.9713979181899827, -0.12182758654723387, 1.327902927622974, -0.7092892469961845, -2.0271293836609416, -0.7317919679679369, -0.7270314802520373, 0.9305346356228754, 0.11165713571383377, -0.9266581376799186, 1.1287638359340197, -1.4830324294304336, 0.6829320718060053, -0.7336805900485133, -0.37266086176840707, 0.4650377956910324, 0.6046779478448695, 0.06478085892764522, 0.7182424976179019, 1.4522852983523278, -0.10746480113387966], \"yaxis\": \"y8\"}, {\"line\": {\"color\": \"rgba(128, 128, 128, 1.0)\", \"dash\": \"solid\", \"shape\": \"linear\", \"width\": 1.3}, \"marker\": {\"size\": 2, \"symbol\": \"circle\"}, \"mode\": \"markers\", \"name\": \"C\", \"text\": \"\", \"type\": \"scatter\", \"x\": [-0.11772897368311729, -0.533871526107039, 0.46282102957446003, 0.17704671607161943, -0.22514481280573914, 1.0077127167213151, -0.43902733090004364, -2.641322783185602, 0.12620115184579384, -0.6663722488414342, 1.4606297568210536, -0.37255423146386346, -0.383110800373717, 0.3391330095506838, -0.5733500505242811, -0.141599315756973, -0.738979900552547, -0.45779365111559306, -1.6359603899116615, 0.39954915531710483, 1.5377838539223083, -1.1440067932632123, -0.64765270889491, 0.19897738994471825, 1.5169806452492216, 0.11550699837102808, -1.7432365527863287, 0.47064984933718945, 0.09993588843189898, 1.2077133520168108, 0.23801283659543684, -1.17813153393185, -1.416089110886164, 1.5483028352919244, 0.7447432123532974, -1.4130082806017559, -1.8323103345859806, 1.314104415237608, -1.215758658659783, -1.289723333914404, 0.1250192027850171, 0.785632072181155, -0.5607245856806137, 0.08712197627660075, -0.13944124583278467, 0.5085637654193944, -0.26327471175700096, 0.6616677101373818, 1.0840118220174724, -0.20007606657368793, -0.16287758289409526, -2.1222925049735553, 0.6679480557850784, -0.059009948146776334, -0.25989855287404157, -0.614240169961146, 3.5264494843495444, -3.1773654445327337, 0.5102405813630724, 2.3784878564383436, -0.8941177702702027, 1.7294737835142415, 1.0908531113495692, -2.600368367654316, 0.8481792011605757, 0.6873057825531937, -0.13189894149393275, 0.6808643558735855, -0.4586142690323789, 1.2249728108842624, -0.12744918349329165, 0.6606018421456373, -0.18151652305094346, 0.6142901484241644, 0.30530936915412654, 0.6633064704233149, -1.01251360583096, -2.9539709554187414, 0.16106834543734866, -1.7295211699003348, 1.2008174731880432, 0.10282652031461875, -0.47863540770189894, -0.5852211484211195, -0.14840713435264566, -1.2406689004473512, -0.02836699868960687, -2.2175044034675824, -0.7069107560571622, -0.7216697495558138, -0.3417257690530918, 0.24893146203774258, 1.1347613070213458, 0.8894403559468214, -0.014451072860063092, -0.6807365486086413, -1.51281593418309, -0.03250217366365307, 1.3747933188776915, 0.44665306518104236], \"xaxis\": \"x9\", \"y\": [1.8423457922317947, 0.20240953416570504, -0.9525738852837822, 1.39066122188408, -0.5758319347455517, -2.2248143413261285, -0.7131505795054817, -0.5087791560343012, 2.1627130231224476, -0.307759373430411, 0.4439998216781445, 0.7429693946108744, 0.866330459737981, 0.1434047377515391, 1.624144950650099, 0.6434746690188269, 0.5095909395993825, 0.3357006342080557, 0.4630718916971839, -0.9760195698420616, 1.1039126345544499, -0.8652253649504862, 1.8551271595279182, 0.2627165887760841, 0.06282208885516809, -0.4497543893190607, 1.1940911756059924, 1.1552520723225135, -0.5485747405662537, -0.11411452634528207, -0.5282393373038018, -1.327693787521095, -1.549489381787043, 1.0027726151972014, -1.0941708236543997, 0.12742932278184788, 0.04220359654200365, -1.2567283631816193, -0.7937078956603784, 2.440770066641173, -0.4920171049779494, 0.11125643039292989, 0.7723186482112306, 0.9361909674591782, 0.8648729687355279, -1.6298418614407943, 0.25568286297490267, 0.1394856981020013, -1.789616962623113, -0.04623076479099041, -1.9988418554174914, 3.25417632938342, 0.44952682023433227, -1.0073902817500062, 0.4232792486547495, -0.7185189833476643, -2.2984620378640277, 1.0522378759306052, -0.1491115721383713, -0.2572758716760549, 0.48150221081239347, -0.8027624402476271, -1.2457373952879698, 0.5617403563106325, 0.3068661646974329, -0.6736939628947071, 1.8484582468266417, -1.4078695029750796, 1.6479183924240963, -1.6444615464525167, -0.37384325264027995, 0.13099210580087112, 2.21302552422313, 1.8740958260260177, 0.8370437702050992, -1.2615134075311947, -0.5065359023069691, -0.14660605485193431, -0.28315508223245717, -0.01971718335519795, 1.4076687346106214, -1.7207671190761573, -0.048913624524071275, -1.285733271733305, 0.743646254241991, -0.3364636737903639, 0.037067626005797924, 2.296033645140205, -0.17353928973261812, 2.245012951254967, -0.4691387055287381, -1.3656723815702134, 1.3431273529433994, -0.24603041122860111, -1.6277403162742727, 1.2621719611727393, 0.35443710511960824, -0.22833377574129124, -1.0062026808585642, 0.022292426743457695], \"yaxis\": \"y9\"}, {\"line\": {\"color\": \"rgba(128, 128, 128, 1.0)\", \"dash\": \"solid\", \"shape\": \"linear\", \"width\": 1.3}, \"marker\": {\"size\": 2, \"symbol\": \"circle\"}, \"mode\": \"markers\", \"name\": \"C\", \"text\": \"\", \"type\": \"scatter\", \"x\": [0.556181465264592, 1.021795579003633, 0.34305198877282084, -0.782986867702327, 0.5458775572441681, -0.9715858430258466, 1.7059829955873331, 0.28544152502108705, 0.8133036806419416, 1.8438761323874195, -1.6843689924306073, -0.6011669035135556, 1.2057593289303659, 0.5714837677350195, 1.1974435004904707, 0.5494457339453958, -0.583025114377226, -0.5760423117387118, -0.2267080831976598, -0.6517963472447632, 1.7744629453539784, -0.18182311146547486, -0.9843449933267222, -0.2739598084609428, -3.2783716913462415, -0.2877715873394967, 0.5784706223569512, 0.3030365856133379, -1.2192810936302827, -0.3498140922462479, -0.32000531067556515, -0.031557344394759476, -1.3938528030386734, -0.6727776278372283, 0.49258864594789825, -1.6427499421621758, -0.2775698317169973, 0.15793051570381744, -0.9428742062412326, 1.5963726684050736, 1.34865383082596, 1.3258852811549022, -0.34614794569627316, 0.30023183003229426, 0.3877903130816993, 1.3133646083048698, -1.1552445211257694, -0.6700976350522939, -3.287095575211883, 0.49097271151398014, -0.055777300990351594, 0.6494178607025153, -0.37204261936690475, 0.9448951923093842, -0.32298420592403887, 1.312968573709209, 2.1187381683403417, 1.7203059238427028, 0.15430651614390078, -0.9359327458917104, 0.18582390724082196, 0.38651808204428395, 1.595646769306395, -0.18410778350683912, 1.305522239456601, 1.7566763799575875, -0.08039348481880718, -0.3543421040131263, 0.5219203636451465, -0.5896112929306913, -0.3393041168634211, 0.2829610171561076, 0.6793200016345743, -1.6140029249633254, 0.22523965436780735, -0.45268835808640734, -0.2732718549621978, -0.4761834808012976, 0.7164367320172792, -0.9713979181899827, -0.12182758654723387, 1.327902927622974, -0.7092892469961845, -2.0271293836609416, -0.7317919679679369, -0.7270314802520373, 0.9305346356228754, 0.11165713571383377, -0.9266581376799186, 1.1287638359340197, -1.4830324294304336, 0.6829320718060053, -0.7336805900485133, -0.37266086176840707, 0.4650377956910324, 0.6046779478448695, 0.06478085892764522, 0.7182424976179019, 1.4522852983523278, -0.10746480113387966], \"xaxis\": \"x10\", \"y\": [1.8423457922317947, 0.20240953416570504, -0.9525738852837822, 1.39066122188408, -0.5758319347455517, -2.2248143413261285, -0.7131505795054817, -0.5087791560343012, 2.1627130231224476, -0.307759373430411, 0.4439998216781445, 0.7429693946108744, 0.866330459737981, 0.1434047377515391, 1.624144950650099, 0.6434746690188269, 0.5095909395993825, 0.3357006342080557, 0.4630718916971839, -0.9760195698420616, 1.1039126345544499, -0.8652253649504862, 1.8551271595279182, 0.2627165887760841, 0.06282208885516809, -0.4497543893190607, 1.1940911756059924, 1.1552520723225135, -0.5485747405662537, -0.11411452634528207, -0.5282393373038018, -1.327693787521095, -1.549489381787043, 1.0027726151972014, -1.0941708236543997, 0.12742932278184788, 0.04220359654200365, -1.2567283631816193, -0.7937078956603784, 2.440770066641173, -0.4920171049779494, 0.11125643039292989, 0.7723186482112306, 0.9361909674591782, 0.8648729687355279, -1.6298418614407943, 0.25568286297490267, 0.1394856981020013, -1.789616962623113, -0.04623076479099041, -1.9988418554174914, 3.25417632938342, 0.44952682023433227, -1.0073902817500062, 0.4232792486547495, -0.7185189833476643, -2.2984620378640277, 1.0522378759306052, -0.1491115721383713, -0.2572758716760549, 0.48150221081239347, -0.8027624402476271, -1.2457373952879698, 0.5617403563106325, 0.3068661646974329, -0.6736939628947071, 1.8484582468266417, -1.4078695029750796, 1.6479183924240963, -1.6444615464525167, -0.37384325264027995, 0.13099210580087112, 2.21302552422313, 1.8740958260260177, 0.8370437702050992, -1.2615134075311947, -0.5065359023069691, -0.14660605485193431, -0.28315508223245717, -0.01971718335519795, 1.4076687346106214, -1.7207671190761573, -0.048913624524071275, -1.285733271733305, 0.743646254241991, -0.3364636737903639, 0.037067626005797924, 2.296033645140205, -0.17353928973261812, 2.245012951254967, -0.4691387055287381, -1.3656723815702134, 1.3431273529433994, -0.24603041122860111, -1.6277403162742727, 1.2621719611727393, 0.35443710511960824, -0.22833377574129124, -1.0062026808585642, 0.022292426743457695], \"yaxis\": \"y10\"}, {\"histfunc\": \"count\", \"histnorm\": \"\", \"marker\": {\"color\": \"rgba(50, 171, 96, 1.0)\", \"line\": {\"color\": \"#4D5663\", \"width\": 1.3}}, \"name\": \"C\", \"nbinsx\": 10, \"opacity\": 0.8, \"orientation\": \"v\", \"type\": \"histogram\", \"x\": [1.8423457922317947, 0.20240953416570504, -0.9525738852837822, 1.39066122188408, -0.5758319347455517, -2.2248143413261285, -0.7131505795054817, -0.5087791560343012, 2.1627130231224476, -0.307759373430411, 0.4439998216781445, 0.7429693946108744, 0.866330459737981, 0.1434047377515391, 1.624144950650099, 0.6434746690188269, 0.5095909395993825, 0.3357006342080557, 0.4630718916971839, -0.9760195698420616, 1.1039126345544499, -0.8652253649504862, 1.8551271595279182, 0.2627165887760841, 0.06282208885516809, -0.4497543893190607, 1.1940911756059924, 1.1552520723225135, -0.5485747405662537, -0.11411452634528207, -0.5282393373038018, -1.327693787521095, -1.549489381787043, 1.0027726151972014, -1.0941708236543997, 0.12742932278184788, 0.04220359654200365, -1.2567283631816193, -0.7937078956603784, 2.440770066641173, -0.4920171049779494, 0.11125643039292989, 0.7723186482112306, 0.9361909674591782, 0.8648729687355279, -1.6298418614407943, 0.25568286297490267, 0.1394856981020013, -1.789616962623113, -0.04623076479099041, -1.9988418554174914, 3.25417632938342, 0.44952682023433227, -1.0073902817500062, 0.4232792486547495, -0.7185189833476643, -2.2984620378640277, 1.0522378759306052, -0.1491115721383713, -0.2572758716760549, 0.48150221081239347, -0.8027624402476271, -1.2457373952879698, 0.5617403563106325, 0.3068661646974329, -0.6736939628947071, 1.8484582468266417, -1.4078695029750796, 1.6479183924240963, -1.6444615464525167, -0.37384325264027995, 0.13099210580087112, 2.21302552422313, 1.8740958260260177, 0.8370437702050992, -1.2615134075311947, -0.5065359023069691, -0.14660605485193431, -0.28315508223245717, -0.01971718335519795, 1.4076687346106214, -1.7207671190761573, -0.048913624524071275, -1.285733271733305, 0.743646254241991, -0.3364636737903639, 0.037067626005797924, 2.296033645140205, -0.17353928973261812, 2.245012951254967, -0.4691387055287381, -1.3656723815702134, 1.3431273529433994, -0.24603041122860111, -1.6277403162742727, 1.2621719611727393, 0.35443710511960824, -0.22833377574129124, -1.0062026808585642, 0.022292426743457695], \"xaxis\": \"x11\", \"yaxis\": \"y11\"}, {\"line\": {\"color\": \"rgba(128, 128, 128, 1.0)\", \"dash\": \"solid\", \"shape\": \"linear\", \"width\": 1.3}, \"marker\": {\"size\": 2, \"symbol\": \"circle\"}, \"mode\": \"markers\", \"name\": \"C\", \"text\": \"\", \"type\": \"scatter\", \"x\": [-0.13029775050345832, 0.19573261702004144, -0.0849251457349376, -0.23880913887984828, -1.5781035965163253, 0.8624912370517351, -0.4766178624860545, -0.8897540217320224, -0.6699055543981048, -0.06596624327345979, -0.13584076637280296, -0.08445357212174927, -0.9845017328420416, 0.9647853473689881, 0.893869187177583, 2.883216445448747, -0.012931184479350528, 0.5382116468686099, -0.17817702317167564, 1.2252296319464155, -1.4138623257695828, -0.14978631055618855, 0.2817851549568895, 1.4107207793076861, 0.3824054932592069, 0.7607719097690818, -1.5622698969888633, 0.915436993318037, -0.6957787290061421, 0.7095587616205666, -1.0516014996850263, -0.8525350307110473, 1.960251635125264, -0.7548885841877612, 0.10833437701807601, -1.0213903039151238, 2.54040561409652, 0.06270296383361777, 0.9006479345734872, -2.2499467411254233, -0.9367031680172341, 0.34249765932323395, -0.8793225621766521, -0.5225802241904006, -1.3819882049509593, -0.6050242661030426, 0.4735607586627363, -0.49571457151610504, 0.1611963898643476, 0.7210105493414507, 0.276518321348237, 1.2221581888680046, -0.33534827074426865, -1.7894834533147126, 0.38651148029366106, 0.2067116250993895, 0.17643534693943186, -1.5411746600996836, 0.9967579072628576, 0.9760029762022033, -0.7047832424389892, 0.598364509395858, 0.18981165049636248, -0.6157862721974697, 0.5007724942378763, -0.5243009686469143, -2.0621593177768367, -0.04573328162124815, -1.581064773513214, 1.248525489175646, 0.4022001502578853, -0.17671493444198852, 0.11163554319569959, 1.2977400187934724, 2.3619753164570354, 0.25287836754746973, 0.399756811353929, -1.3397766456532445, -0.4463767202015796, 0.2854797402498509, 0.010305808003770294, -0.5891088327406014, 0.0876277433750314, -0.5886525882541025, -1.2557607166320561, 0.48840651045337974, -0.5322020873802618, 1.5197623923863446, 0.5068374330208252, -0.14534365535465493, -0.17274256420810255, 1.1763090526034488, 0.3146799380582341, -0.2947787597858762, -0.11431024363586058, -0.21117314581428073, -0.9200695165037043, -0.7570478560798554, -0.042357673942814714, 0.9603130821155603], \"xaxis\": \"x12\", \"y\": [1.8423457922317947, 0.20240953416570504, -0.9525738852837822, 1.39066122188408, -0.5758319347455517, -2.2248143413261285, -0.7131505795054817, -0.5087791560343012, 2.1627130231224476, -0.307759373430411, 0.4439998216781445, 0.7429693946108744, 0.866330459737981, 0.1434047377515391, 1.624144950650099, 0.6434746690188269, 0.5095909395993825, 0.3357006342080557, 0.4630718916971839, -0.9760195698420616, 1.1039126345544499, -0.8652253649504862, 1.8551271595279182, 0.2627165887760841, 0.06282208885516809, -0.4497543893190607, 1.1940911756059924, 1.1552520723225135, -0.5485747405662537, -0.11411452634528207, -0.5282393373038018, -1.327693787521095, -1.549489381787043, 1.0027726151972014, -1.0941708236543997, 0.12742932278184788, 0.04220359654200365, -1.2567283631816193, -0.7937078956603784, 2.440770066641173, -0.4920171049779494, 0.11125643039292989, 0.7723186482112306, 0.9361909674591782, 0.8648729687355279, -1.6298418614407943, 0.25568286297490267, 0.1394856981020013, -1.789616962623113, -0.04623076479099041, -1.9988418554174914, 3.25417632938342, 0.44952682023433227, -1.0073902817500062, 0.4232792486547495, -0.7185189833476643, -2.2984620378640277, 1.0522378759306052, -0.1491115721383713, -0.2572758716760549, 0.48150221081239347, -0.8027624402476271, -1.2457373952879698, 0.5617403563106325, 0.3068661646974329, -0.6736939628947071, 1.8484582468266417, -1.4078695029750796, 1.6479183924240963, -1.6444615464525167, -0.37384325264027995, 0.13099210580087112, 2.21302552422313, 1.8740958260260177, 0.8370437702050992, -1.2615134075311947, -0.5065359023069691, -0.14660605485193431, -0.28315508223245717, -0.01971718335519795, 1.4076687346106214, -1.7207671190761573, -0.048913624524071275, -1.285733271733305, 0.743646254241991, -0.3364636737903639, 0.037067626005797924, 2.296033645140205, -0.17353928973261812, 2.245012951254967, -0.4691387055287381, -1.3656723815702134, 1.3431273529433994, -0.24603041122860111, -1.6277403162742727, 1.2621719611727393, 0.35443710511960824, -0.22833377574129124, -1.0062026808585642, 0.022292426743457695], \"yaxis\": \"y12\"}, {\"line\": {\"color\": \"rgba(128, 128, 128, 1.0)\", \"dash\": \"solid\", \"shape\": \"linear\", \"width\": 1.3}, \"marker\": {\"size\": 2, \"symbol\": \"circle\"}, \"mode\": \"markers\", \"name\": \"D\", \"text\": \"\", \"type\": \"scatter\", \"x\": [-0.11772897368311729, -0.533871526107039, 0.46282102957446003, 0.17704671607161943, -0.22514481280573914, 1.0077127167213151, -0.43902733090004364, -2.641322783185602, 0.12620115184579384, -0.6663722488414342, 1.4606297568210536, -0.37255423146386346, -0.383110800373717, 0.3391330095506838, -0.5733500505242811, -0.141599315756973, -0.738979900552547, -0.45779365111559306, -1.6359603899116615, 0.39954915531710483, 1.5377838539223083, -1.1440067932632123, -0.64765270889491, 0.19897738994471825, 1.5169806452492216, 0.11550699837102808, -1.7432365527863287, 0.47064984933718945, 0.09993588843189898, 1.2077133520168108, 0.23801283659543684, -1.17813153393185, -1.416089110886164, 1.5483028352919244, 0.7447432123532974, -1.4130082806017559, -1.8323103345859806, 1.314104415237608, -1.215758658659783, -1.289723333914404, 0.1250192027850171, 0.785632072181155, -0.5607245856806137, 0.08712197627660075, -0.13944124583278467, 0.5085637654193944, -0.26327471175700096, 0.6616677101373818, 1.0840118220174724, -0.20007606657368793, -0.16287758289409526, -2.1222925049735553, 0.6679480557850784, -0.059009948146776334, -0.25989855287404157, -0.614240169961146, 3.5264494843495444, -3.1773654445327337, 0.5102405813630724, 2.3784878564383436, -0.8941177702702027, 1.7294737835142415, 1.0908531113495692, -2.600368367654316, 0.8481792011605757, 0.6873057825531937, -0.13189894149393275, 0.6808643558735855, -0.4586142690323789, 1.2249728108842624, -0.12744918349329165, 0.6606018421456373, -0.18151652305094346, 0.6142901484241644, 0.30530936915412654, 0.6633064704233149, -1.01251360583096, -2.9539709554187414, 0.16106834543734866, -1.7295211699003348, 1.2008174731880432, 0.10282652031461875, -0.47863540770189894, -0.5852211484211195, -0.14840713435264566, -1.2406689004473512, -0.02836699868960687, -2.2175044034675824, -0.7069107560571622, -0.7216697495558138, -0.3417257690530918, 0.24893146203774258, 1.1347613070213458, 0.8894403559468214, -0.014451072860063092, -0.6807365486086413, -1.51281593418309, -0.03250217366365307, 1.3747933188776915, 0.44665306518104236], \"xaxis\": \"x13\", \"y\": [-0.13029775050345832, 0.19573261702004144, -0.0849251457349376, -0.23880913887984828, -1.5781035965163253, 0.8624912370517351, -0.4766178624860545, -0.8897540217320224, -0.6699055543981048, -0.06596624327345979, -0.13584076637280296, -0.08445357212174927, -0.9845017328420416, 0.9647853473689881, 0.893869187177583, 2.883216445448747, -0.012931184479350528, 0.5382116468686099, -0.17817702317167564, 1.2252296319464155, -1.4138623257695828, -0.14978631055618855, 0.2817851549568895, 1.4107207793076861, 0.3824054932592069, 0.7607719097690818, -1.5622698969888633, 0.915436993318037, -0.6957787290061421, 0.7095587616205666, -1.0516014996850263, -0.8525350307110473, 1.960251635125264, -0.7548885841877612, 0.10833437701807601, -1.0213903039151238, 2.54040561409652, 0.06270296383361777, 0.9006479345734872, -2.2499467411254233, -0.9367031680172341, 0.34249765932323395, -0.8793225621766521, -0.5225802241904006, -1.3819882049509593, -0.6050242661030426, 0.4735607586627363, -0.49571457151610504, 0.1611963898643476, 0.7210105493414507, 0.276518321348237, 1.2221581888680046, -0.33534827074426865, -1.7894834533147126, 0.38651148029366106, 0.2067116250993895, 0.17643534693943186, -1.5411746600996836, 0.9967579072628576, 0.9760029762022033, -0.7047832424389892, 0.598364509395858, 0.18981165049636248, -0.6157862721974697, 0.5007724942378763, -0.5243009686469143, -2.0621593177768367, -0.04573328162124815, -1.581064773513214, 1.248525489175646, 0.4022001502578853, -0.17671493444198852, 0.11163554319569959, 1.2977400187934724, 2.3619753164570354, 0.25287836754746973, 0.399756811353929, -1.3397766456532445, -0.4463767202015796, 0.2854797402498509, 0.010305808003770294, -0.5891088327406014, 0.0876277433750314, -0.5886525882541025, -1.2557607166320561, 0.48840651045337974, -0.5322020873802618, 1.5197623923863446, 0.5068374330208252, -0.14534365535465493, -0.17274256420810255, 1.1763090526034488, 0.3146799380582341, -0.2947787597858762, -0.11431024363586058, -0.21117314581428073, -0.9200695165037043, -0.7570478560798554, -0.042357673942814714, 0.9603130821155603], \"yaxis\": \"y13\"}, {\"line\": {\"color\": \"rgba(128, 128, 128, 1.0)\", \"dash\": \"solid\", \"shape\": \"linear\", \"width\": 1.3}, \"marker\": {\"size\": 2, \"symbol\": \"circle\"}, \"mode\": \"markers\", \"name\": \"D\", \"text\": \"\", \"type\": \"scatter\", \"x\": [0.556181465264592, 1.021795579003633, 0.34305198877282084, -0.782986867702327, 0.5458775572441681, -0.9715858430258466, 1.7059829955873331, 0.28544152502108705, 0.8133036806419416, 1.8438761323874195, -1.6843689924306073, -0.6011669035135556, 1.2057593289303659, 0.5714837677350195, 1.1974435004904707, 0.5494457339453958, -0.583025114377226, -0.5760423117387118, -0.2267080831976598, -0.6517963472447632, 1.7744629453539784, -0.18182311146547486, -0.9843449933267222, -0.2739598084609428, -3.2783716913462415, -0.2877715873394967, 0.5784706223569512, 0.3030365856133379, -1.2192810936302827, -0.3498140922462479, -0.32000531067556515, -0.031557344394759476, -1.3938528030386734, -0.6727776278372283, 0.49258864594789825, -1.6427499421621758, -0.2775698317169973, 0.15793051570381744, -0.9428742062412326, 1.5963726684050736, 1.34865383082596, 1.3258852811549022, -0.34614794569627316, 0.30023183003229426, 0.3877903130816993, 1.3133646083048698, -1.1552445211257694, -0.6700976350522939, -3.287095575211883, 0.49097271151398014, -0.055777300990351594, 0.6494178607025153, -0.37204261936690475, 0.9448951923093842, -0.32298420592403887, 1.312968573709209, 2.1187381683403417, 1.7203059238427028, 0.15430651614390078, -0.9359327458917104, 0.18582390724082196, 0.38651808204428395, 1.595646769306395, -0.18410778350683912, 1.305522239456601, 1.7566763799575875, -0.08039348481880718, -0.3543421040131263, 0.5219203636451465, -0.5896112929306913, -0.3393041168634211, 0.2829610171561076, 0.6793200016345743, -1.6140029249633254, 0.22523965436780735, -0.45268835808640734, -0.2732718549621978, -0.4761834808012976, 0.7164367320172792, -0.9713979181899827, -0.12182758654723387, 1.327902927622974, -0.7092892469961845, -2.0271293836609416, -0.7317919679679369, -0.7270314802520373, 0.9305346356228754, 0.11165713571383377, -0.9266581376799186, 1.1287638359340197, -1.4830324294304336, 0.6829320718060053, -0.7336805900485133, -0.37266086176840707, 0.4650377956910324, 0.6046779478448695, 0.06478085892764522, 0.7182424976179019, 1.4522852983523278, -0.10746480113387966], \"xaxis\": \"x14\", \"y\": [-0.13029775050345832, 0.19573261702004144, -0.0849251457349376, -0.23880913887984828, -1.5781035965163253, 0.8624912370517351, -0.4766178624860545, -0.8897540217320224, -0.6699055543981048, -0.06596624327345979, -0.13584076637280296, -0.08445357212174927, -0.9845017328420416, 0.9647853473689881, 0.893869187177583, 2.883216445448747, -0.012931184479350528, 0.5382116468686099, -0.17817702317167564, 1.2252296319464155, -1.4138623257695828, -0.14978631055618855, 0.2817851549568895, 1.4107207793076861, 0.3824054932592069, 0.7607719097690818, -1.5622698969888633, 0.915436993318037, -0.6957787290061421, 0.7095587616205666, -1.0516014996850263, -0.8525350307110473, 1.960251635125264, -0.7548885841877612, 0.10833437701807601, -1.0213903039151238, 2.54040561409652, 0.06270296383361777, 0.9006479345734872, -2.2499467411254233, -0.9367031680172341, 0.34249765932323395, -0.8793225621766521, -0.5225802241904006, -1.3819882049509593, -0.6050242661030426, 0.4735607586627363, -0.49571457151610504, 0.1611963898643476, 0.7210105493414507, 0.276518321348237, 1.2221581888680046, -0.33534827074426865, -1.7894834533147126, 0.38651148029366106, 0.2067116250993895, 0.17643534693943186, -1.5411746600996836, 0.9967579072628576, 0.9760029762022033, -0.7047832424389892, 0.598364509395858, 0.18981165049636248, -0.6157862721974697, 0.5007724942378763, -0.5243009686469143, -2.0621593177768367, -0.04573328162124815, -1.581064773513214, 1.248525489175646, 0.4022001502578853, -0.17671493444198852, 0.11163554319569959, 1.2977400187934724, 2.3619753164570354, 0.25287836754746973, 0.399756811353929, -1.3397766456532445, -0.4463767202015796, 0.2854797402498509, 0.010305808003770294, -0.5891088327406014, 0.0876277433750314, -0.5886525882541025, -1.2557607166320561, 0.48840651045337974, -0.5322020873802618, 1.5197623923863446, 0.5068374330208252, -0.14534365535465493, -0.17274256420810255, 1.1763090526034488, 0.3146799380582341, -0.2947787597858762, -0.11431024363586058, -0.21117314581428073, -0.9200695165037043, -0.7570478560798554, -0.042357673942814714, 0.9603130821155603], \"yaxis\": \"y14\"}, {\"line\": {\"color\": \"rgba(128, 128, 128, 1.0)\", \"dash\": \"solid\", \"shape\": \"linear\", \"width\": 1.3}, \"marker\": {\"size\": 2, \"symbol\": \"circle\"}, \"mode\": \"markers\", \"name\": \"D\", \"text\": \"\", \"type\": \"scatter\", \"x\": [1.8423457922317947, 0.20240953416570504, -0.9525738852837822, 1.39066122188408, -0.5758319347455517, -2.2248143413261285, -0.7131505795054817, -0.5087791560343012, 2.1627130231224476, -0.307759373430411, 0.4439998216781445, 0.7429693946108744, 0.866330459737981, 0.1434047377515391, 1.624144950650099, 0.6434746690188269, 0.5095909395993825, 0.3357006342080557, 0.4630718916971839, -0.9760195698420616, 1.1039126345544499, -0.8652253649504862, 1.8551271595279182, 0.2627165887760841, 0.06282208885516809, -0.4497543893190607, 1.1940911756059924, 1.1552520723225135, -0.5485747405662537, -0.11411452634528207, -0.5282393373038018, -1.327693787521095, -1.549489381787043, 1.0027726151972014, -1.0941708236543997, 0.12742932278184788, 0.04220359654200365, -1.2567283631816193, -0.7937078956603784, 2.440770066641173, -0.4920171049779494, 0.11125643039292989, 0.7723186482112306, 0.9361909674591782, 0.8648729687355279, -1.6298418614407943, 0.25568286297490267, 0.1394856981020013, -1.789616962623113, -0.04623076479099041, -1.9988418554174914, 3.25417632938342, 0.44952682023433227, -1.0073902817500062, 0.4232792486547495, -0.7185189833476643, -2.2984620378640277, 1.0522378759306052, -0.1491115721383713, -0.2572758716760549, 0.48150221081239347, -0.8027624402476271, -1.2457373952879698, 0.5617403563106325, 0.3068661646974329, -0.6736939628947071, 1.8484582468266417, -1.4078695029750796, 1.6479183924240963, -1.6444615464525167, -0.37384325264027995, 0.13099210580087112, 2.21302552422313, 1.8740958260260177, 0.8370437702050992, -1.2615134075311947, -0.5065359023069691, -0.14660605485193431, -0.28315508223245717, -0.01971718335519795, 1.4076687346106214, -1.7207671190761573, -0.048913624524071275, -1.285733271733305, 0.743646254241991, -0.3364636737903639, 0.037067626005797924, 2.296033645140205, -0.17353928973261812, 2.245012951254967, -0.4691387055287381, -1.3656723815702134, 1.3431273529433994, -0.24603041122860111, -1.6277403162742727, 1.2621719611727393, 0.35443710511960824, -0.22833377574129124, -1.0062026808585642, 0.022292426743457695], \"xaxis\": \"x15\", \"y\": [-0.13029775050345832, 0.19573261702004144, -0.0849251457349376, -0.23880913887984828, -1.5781035965163253, 0.8624912370517351, -0.4766178624860545, -0.8897540217320224, -0.6699055543981048, -0.06596624327345979, -0.13584076637280296, -0.08445357212174927, -0.9845017328420416, 0.9647853473689881, 0.893869187177583, 2.883216445448747, -0.012931184479350528, 0.5382116468686099, -0.17817702317167564, 1.2252296319464155, -1.4138623257695828, -0.14978631055618855, 0.2817851549568895, 1.4107207793076861, 0.3824054932592069, 0.7607719097690818, -1.5622698969888633, 0.915436993318037, -0.6957787290061421, 0.7095587616205666, -1.0516014996850263, -0.8525350307110473, 1.960251635125264, -0.7548885841877612, 0.10833437701807601, -1.0213903039151238, 2.54040561409652, 0.06270296383361777, 0.9006479345734872, -2.2499467411254233, -0.9367031680172341, 0.34249765932323395, -0.8793225621766521, -0.5225802241904006, -1.3819882049509593, -0.6050242661030426, 0.4735607586627363, -0.49571457151610504, 0.1611963898643476, 0.7210105493414507, 0.276518321348237, 1.2221581888680046, -0.33534827074426865, -1.7894834533147126, 0.38651148029366106, 0.2067116250993895, 0.17643534693943186, -1.5411746600996836, 0.9967579072628576, 0.9760029762022033, -0.7047832424389892, 0.598364509395858, 0.18981165049636248, -0.6157862721974697, 0.5007724942378763, -0.5243009686469143, -2.0621593177768367, -0.04573328162124815, -1.581064773513214, 1.248525489175646, 0.4022001502578853, -0.17671493444198852, 0.11163554319569959, 1.2977400187934724, 2.3619753164570354, 0.25287836754746973, 0.399756811353929, -1.3397766456532445, -0.4463767202015796, 0.2854797402498509, 0.010305808003770294, -0.5891088327406014, 0.0876277433750314, -0.5886525882541025, -1.2557607166320561, 0.48840651045337974, -0.5322020873802618, 1.5197623923863446, 0.5068374330208252, -0.14534365535465493, -0.17274256420810255, 1.1763090526034488, 0.3146799380582341, -0.2947787597858762, -0.11431024363586058, -0.21117314581428073, -0.9200695165037043, -0.7570478560798554, -0.042357673942814714, 0.9603130821155603], \"yaxis\": \"y15\"}, {\"histfunc\": \"count\", \"histnorm\": \"\", \"marker\": {\"color\": \"rgba(128, 0, 128, 1.0)\", \"line\": {\"color\": \"#4D5663\", \"width\": 1.3}}, \"name\": \"D\", \"nbinsx\": 10, \"opacity\": 0.8, \"orientation\": \"v\", \"type\": \"histogram\", \"x\": [-0.13029775050345832, 0.19573261702004144, -0.0849251457349376, -0.23880913887984828, -1.5781035965163253, 0.8624912370517351, -0.4766178624860545, -0.8897540217320224, -0.6699055543981048, -0.06596624327345979, -0.13584076637280296, -0.08445357212174927, -0.9845017328420416, 0.9647853473689881, 0.893869187177583, 2.883216445448747, -0.012931184479350528, 0.5382116468686099, -0.17817702317167564, 1.2252296319464155, -1.4138623257695828, -0.14978631055618855, 0.2817851549568895, 1.4107207793076861, 0.3824054932592069, 0.7607719097690818, -1.5622698969888633, 0.915436993318037, -0.6957787290061421, 0.7095587616205666, -1.0516014996850263, -0.8525350307110473, 1.960251635125264, -0.7548885841877612, 0.10833437701807601, -1.0213903039151238, 2.54040561409652, 0.06270296383361777, 0.9006479345734872, -2.2499467411254233, -0.9367031680172341, 0.34249765932323395, -0.8793225621766521, -0.5225802241904006, -1.3819882049509593, -0.6050242661030426, 0.4735607586627363, -0.49571457151610504, 0.1611963898643476, 0.7210105493414507, 0.276518321348237, 1.2221581888680046, -0.33534827074426865, -1.7894834533147126, 0.38651148029366106, 0.2067116250993895, 0.17643534693943186, -1.5411746600996836, 0.9967579072628576, 0.9760029762022033, -0.7047832424389892, 0.598364509395858, 0.18981165049636248, -0.6157862721974697, 0.5007724942378763, -0.5243009686469143, -2.0621593177768367, -0.04573328162124815, -1.581064773513214, 1.248525489175646, 0.4022001502578853, -0.17671493444198852, 0.11163554319569959, 1.2977400187934724, 2.3619753164570354, 0.25287836754746973, 0.399756811353929, -1.3397766456532445, -0.4463767202015796, 0.2854797402498509, 0.010305808003770294, -0.5891088327406014, 0.0876277433750314, -0.5886525882541025, -1.2557607166320561, 0.48840651045337974, -0.5322020873802618, 1.5197623923863446, 0.5068374330208252, -0.14534365535465493, -0.17274256420810255, 1.1763090526034488, 0.3146799380582341, -0.2947787597858762, -0.11431024363586058, -0.21117314581428073, -0.9200695165037043, -0.7570478560798554, -0.042357673942814714, 0.9603130821155603], \"xaxis\": \"x16\", \"yaxis\": \"y16\"}],\n",
       "                        {\"bargap\": 0.02, \"legend\": {\"bgcolor\": \"#F5F6F9\", \"font\": {\"color\": \"#4D5663\"}}, \"paper_bgcolor\": \"#F5F6F9\", \"plot_bgcolor\": \"#F5F6F9\", \"showlegend\": false, \"template\": {\"data\": {\"bar\": [{\"error_x\": {\"color\": \"#2a3f5f\"}, \"error_y\": {\"color\": \"#2a3f5f\"}, \"marker\": {\"line\": {\"color\": \"#E5ECF6\", \"width\": 0.5}}, \"type\": \"bar\"}], \"barpolar\": [{\"marker\": {\"line\": {\"color\": \"#E5ECF6\", \"width\": 0.5}}, \"type\": \"barpolar\"}], \"carpet\": [{\"aaxis\": {\"endlinecolor\": \"#2a3f5f\", \"gridcolor\": \"white\", \"linecolor\": \"white\", \"minorgridcolor\": \"white\", \"startlinecolor\": \"#2a3f5f\"}, \"baxis\": {\"endlinecolor\": \"#2a3f5f\", \"gridcolor\": \"white\", \"linecolor\": \"white\", \"minorgridcolor\": \"white\", \"startlinecolor\": \"#2a3f5f\"}, \"type\": \"carpet\"}], \"choropleth\": [{\"colorbar\": {\"outlinewidth\": 0, \"ticks\": \"\"}, \"type\": \"choropleth\"}], \"contour\": [{\"colorbar\": {\"outlinewidth\": 0, \"ticks\": \"\"}, \"colorscale\": [[0.0, \"#0d0887\"], [0.1111111111111111, \"#46039f\"], [0.2222222222222222, \"#7201a8\"], [0.3333333333333333, \"#9c179e\"], [0.4444444444444444, \"#bd3786\"], [0.5555555555555556, \"#d8576b\"], [0.6666666666666666, \"#ed7953\"], [0.7777777777777778, \"#fb9f3a\"], [0.8888888888888888, \"#fdca26\"], [1.0, \"#f0f921\"]], \"type\": \"contour\"}], \"contourcarpet\": [{\"colorbar\": {\"outlinewidth\": 0, \"ticks\": \"\"}, \"type\": \"contourcarpet\"}], \"heatmap\": [{\"colorbar\": {\"outlinewidth\": 0, \"ticks\": \"\"}, \"colorscale\": [[0.0, \"#0d0887\"], [0.1111111111111111, \"#46039f\"], [0.2222222222222222, \"#7201a8\"], [0.3333333333333333, \"#9c179e\"], [0.4444444444444444, \"#bd3786\"], [0.5555555555555556, \"#d8576b\"], [0.6666666666666666, \"#ed7953\"], [0.7777777777777778, \"#fb9f3a\"], [0.8888888888888888, \"#fdca26\"], [1.0, \"#f0f921\"]], \"type\": \"heatmap\"}], \"heatmapgl\": [{\"colorbar\": {\"outlinewidth\": 0, \"ticks\": \"\"}, \"colorscale\": [[0.0, \"#0d0887\"], [0.1111111111111111, \"#46039f\"], [0.2222222222222222, \"#7201a8\"], [0.3333333333333333, \"#9c179e\"], [0.4444444444444444, \"#bd3786\"], [0.5555555555555556, \"#d8576b\"], [0.6666666666666666, \"#ed7953\"], [0.7777777777777778, \"#fb9f3a\"], [0.8888888888888888, \"#fdca26\"], [1.0, \"#f0f921\"]], \"type\": \"heatmapgl\"}], \"histogram\": [{\"marker\": {\"colorbar\": {\"outlinewidth\": 0, \"ticks\": \"\"}}, \"type\": \"histogram\"}], \"histogram2d\": [{\"colorbar\": {\"outlinewidth\": 0, \"ticks\": \"\"}, \"colorscale\": [[0.0, \"#0d0887\"], [0.1111111111111111, \"#46039f\"], [0.2222222222222222, \"#7201a8\"], [0.3333333333333333, \"#9c179e\"], [0.4444444444444444, \"#bd3786\"], [0.5555555555555556, \"#d8576b\"], [0.6666666666666666, \"#ed7953\"], [0.7777777777777778, \"#fb9f3a\"], [0.8888888888888888, \"#fdca26\"], [1.0, \"#f0f921\"]], \"type\": \"histogram2d\"}], \"histogram2dcontour\": [{\"colorbar\": {\"outlinewidth\": 0, \"ticks\": \"\"}, \"colorscale\": [[0.0, \"#0d0887\"], [0.1111111111111111, \"#46039f\"], [0.2222222222222222, \"#7201a8\"], [0.3333333333333333, \"#9c179e\"], [0.4444444444444444, \"#bd3786\"], [0.5555555555555556, \"#d8576b\"], [0.6666666666666666, \"#ed7953\"], [0.7777777777777778, \"#fb9f3a\"], [0.8888888888888888, \"#fdca26\"], [1.0, \"#f0f921\"]], \"type\": \"histogram2dcontour\"}], \"mesh3d\": [{\"colorbar\": {\"outlinewidth\": 0, \"ticks\": \"\"}, \"type\": \"mesh3d\"}], \"parcoords\": [{\"line\": {\"colorbar\": {\"outlinewidth\": 0, \"ticks\": \"\"}}, \"type\": \"parcoords\"}], \"pie\": [{\"automargin\": true, \"type\": \"pie\"}], \"scatter\": [{\"marker\": {\"colorbar\": {\"outlinewidth\": 0, \"ticks\": \"\"}}, \"type\": \"scatter\"}], \"scatter3d\": [{\"line\": {\"colorbar\": {\"outlinewidth\": 0, \"ticks\": \"\"}}, \"marker\": {\"colorbar\": {\"outlinewidth\": 0, \"ticks\": \"\"}}, \"type\": \"scatter3d\"}], \"scattercarpet\": [{\"marker\": {\"colorbar\": {\"outlinewidth\": 0, \"ticks\": \"\"}}, \"type\": \"scattercarpet\"}], \"scattergeo\": [{\"marker\": {\"colorbar\": {\"outlinewidth\": 0, \"ticks\": \"\"}}, \"type\": \"scattergeo\"}], \"scattergl\": [{\"marker\": {\"colorbar\": {\"outlinewidth\": 0, \"ticks\": \"\"}}, \"type\": \"scattergl\"}], \"scattermapbox\": [{\"marker\": {\"colorbar\": {\"outlinewidth\": 0, \"ticks\": \"\"}}, \"type\": \"scattermapbox\"}], \"scatterpolar\": [{\"marker\": {\"colorbar\": {\"outlinewidth\": 0, \"ticks\": \"\"}}, \"type\": \"scatterpolar\"}], \"scatterpolargl\": [{\"marker\": {\"colorbar\": {\"outlinewidth\": 0, \"ticks\": \"\"}}, \"type\": \"scatterpolargl\"}], \"scatterternary\": [{\"marker\": {\"colorbar\": {\"outlinewidth\": 0, \"ticks\": \"\"}}, \"type\": \"scatterternary\"}], \"surface\": [{\"colorbar\": {\"outlinewidth\": 0, \"ticks\": \"\"}, \"colorscale\": [[0.0, \"#0d0887\"], [0.1111111111111111, \"#46039f\"], [0.2222222222222222, \"#7201a8\"], [0.3333333333333333, \"#9c179e\"], [0.4444444444444444, \"#bd3786\"], [0.5555555555555556, \"#d8576b\"], [0.6666666666666666, \"#ed7953\"], [0.7777777777777778, \"#fb9f3a\"], [0.8888888888888888, \"#fdca26\"], [1.0, \"#f0f921\"]], \"type\": \"surface\"}], \"table\": [{\"cells\": {\"fill\": {\"color\": \"#EBF0F8\"}, \"line\": {\"color\": \"white\"}}, \"header\": {\"fill\": {\"color\": \"#C8D4E3\"}, \"line\": {\"color\": \"white\"}}, \"type\": \"table\"}]}, \"layout\": {\"annotationdefaults\": {\"arrowcolor\": \"#2a3f5f\", \"arrowhead\": 0, \"arrowwidth\": 1}, \"coloraxis\": {\"colorbar\": {\"outlinewidth\": 0, \"ticks\": \"\"}}, \"colorscale\": {\"diverging\": [[0, \"#8e0152\"], [0.1, \"#c51b7d\"], [0.2, \"#de77ae\"], [0.3, \"#f1b6da\"], [0.4, \"#fde0ef\"], [0.5, \"#f7f7f7\"], [0.6, \"#e6f5d0\"], [0.7, \"#b8e186\"], [0.8, \"#7fbc41\"], [0.9, \"#4d9221\"], [1, \"#276419\"]], \"sequential\": [[0.0, \"#0d0887\"], [0.1111111111111111, \"#46039f\"], [0.2222222222222222, \"#7201a8\"], [0.3333333333333333, \"#9c179e\"], [0.4444444444444444, \"#bd3786\"], [0.5555555555555556, \"#d8576b\"], [0.6666666666666666, \"#ed7953\"], [0.7777777777777778, \"#fb9f3a\"], [0.8888888888888888, \"#fdca26\"], [1.0, \"#f0f921\"]], \"sequentialminus\": [[0.0, \"#0d0887\"], [0.1111111111111111, \"#46039f\"], [0.2222222222222222, \"#7201a8\"], [0.3333333333333333, \"#9c179e\"], [0.4444444444444444, \"#bd3786\"], [0.5555555555555556, \"#d8576b\"], [0.6666666666666666, \"#ed7953\"], [0.7777777777777778, \"#fb9f3a\"], [0.8888888888888888, \"#fdca26\"], [1.0, \"#f0f921\"]]}, \"colorway\": [\"#636efa\", \"#EF553B\", \"#00cc96\", \"#ab63fa\", \"#FFA15A\", \"#19d3f3\", \"#FF6692\", \"#B6E880\", \"#FF97FF\", \"#FECB52\"], \"font\": {\"color\": \"#2a3f5f\"}, \"geo\": {\"bgcolor\": \"white\", \"lakecolor\": \"white\", \"landcolor\": \"#E5ECF6\", \"showlakes\": true, \"showland\": true, \"subunitcolor\": \"white\"}, \"hoverlabel\": {\"align\": \"left\"}, \"hovermode\": \"closest\", \"mapbox\": {\"style\": \"light\"}, \"paper_bgcolor\": \"white\", \"plot_bgcolor\": \"#E5ECF6\", \"polar\": {\"angularaxis\": {\"gridcolor\": \"white\", \"linecolor\": \"white\", \"ticks\": \"\"}, \"bgcolor\": \"#E5ECF6\", \"radialaxis\": {\"gridcolor\": \"white\", \"linecolor\": \"white\", \"ticks\": \"\"}}, \"scene\": {\"xaxis\": {\"backgroundcolor\": \"#E5ECF6\", \"gridcolor\": \"white\", \"gridwidth\": 2, \"linecolor\": \"white\", \"showbackground\": true, \"ticks\": \"\", \"zerolinecolor\": \"white\"}, \"yaxis\": {\"backgroundcolor\": \"#E5ECF6\", \"gridcolor\": \"white\", \"gridwidth\": 2, \"linecolor\": \"white\", \"showbackground\": true, \"ticks\": \"\", \"zerolinecolor\": \"white\"}, \"zaxis\": {\"backgroundcolor\": \"#E5ECF6\", \"gridcolor\": \"white\", \"gridwidth\": 2, \"linecolor\": \"white\", \"showbackground\": true, \"ticks\": \"\", \"zerolinecolor\": \"white\"}}, \"shapedefaults\": {\"line\": {\"color\": \"#2a3f5f\"}}, \"ternary\": {\"aaxis\": {\"gridcolor\": \"white\", \"linecolor\": \"white\", \"ticks\": \"\"}, \"baxis\": {\"gridcolor\": \"white\", \"linecolor\": \"white\", \"ticks\": \"\"}, \"bgcolor\": \"#E5ECF6\", \"caxis\": {\"gridcolor\": \"white\", \"linecolor\": \"white\", \"ticks\": \"\"}}, \"title\": {\"x\": 0.05}, \"xaxis\": {\"automargin\": true, \"gridcolor\": \"white\", \"linecolor\": \"white\", \"ticks\": \"\", \"title\": {\"standoff\": 15}, \"zerolinecolor\": \"white\", \"zerolinewidth\": 2}, \"yaxis\": {\"automargin\": true, \"gridcolor\": \"white\", \"linecolor\": \"white\", \"ticks\": \"\", \"title\": {\"standoff\": 15}, \"zerolinecolor\": \"white\", \"zerolinewidth\": 2}}}, \"title\": {\"font\": {\"color\": \"#4D5663\"}}, \"xaxis\": {\"anchor\": \"y\", \"domain\": [0.0, 0.2125], \"gridcolor\": \"#E1E5ED\", \"showgrid\": false, \"tickfont\": {\"color\": \"#4D5663\"}, \"title\": {\"font\": {\"color\": \"#4D5663\"}, \"text\": \"\"}, \"zerolinecolor\": \"#E1E5ED\"}, \"xaxis10\": {\"anchor\": \"y10\", \"domain\": [0.2625, 0.475], \"gridcolor\": \"#E1E5ED\", \"showgrid\": false, \"tickfont\": {\"color\": \"#4D5663\"}, \"title\": {\"font\": {\"color\": \"#4D5663\"}, \"text\": \"\"}, \"zerolinecolor\": \"#E1E5ED\"}, \"xaxis11\": {\"anchor\": \"y11\", \"domain\": [0.525, 0.7375], \"gridcolor\": \"#E1E5ED\", \"showgrid\": false, \"tickfont\": {\"color\": \"#4D5663\"}, \"title\": {\"font\": {\"color\": \"#4D5663\"}, \"text\": \"\"}, \"zerolinecolor\": \"#E1E5ED\"}, \"xaxis12\": {\"anchor\": \"y12\", \"domain\": [0.7875, 1.0], \"gridcolor\": \"#E1E5ED\", \"showgrid\": false, \"tickfont\": {\"color\": \"#4D5663\"}, \"title\": {\"font\": {\"color\": \"#4D5663\"}, \"text\": \"\"}, \"zerolinecolor\": \"#E1E5ED\"}, \"xaxis13\": {\"anchor\": \"y13\", \"domain\": [0.0, 0.2125], \"gridcolor\": \"#E1E5ED\", \"showgrid\": false, \"tickfont\": {\"color\": \"#4D5663\"}, \"title\": {\"font\": {\"color\": \"#4D5663\"}, \"text\": \"\"}, \"zerolinecolor\": \"#E1E5ED\"}, \"xaxis14\": {\"anchor\": \"y14\", \"domain\": [0.2625, 0.475], \"gridcolor\": \"#E1E5ED\", \"showgrid\": false, \"tickfont\": {\"color\": \"#4D5663\"}, \"title\": {\"font\": {\"color\": \"#4D5663\"}, \"text\": \"\"}, \"zerolinecolor\": \"#E1E5ED\"}, \"xaxis15\": {\"anchor\": \"y15\", \"domain\": [0.525, 0.7375], \"gridcolor\": \"#E1E5ED\", \"showgrid\": false, \"tickfont\": {\"color\": \"#4D5663\"}, \"title\": {\"font\": {\"color\": \"#4D5663\"}, \"text\": \"\"}, \"zerolinecolor\": \"#E1E5ED\"}, \"xaxis16\": {\"anchor\": \"y16\", \"domain\": [0.7875, 1.0], \"gridcolor\": \"#E1E5ED\", \"showgrid\": false, \"tickfont\": {\"color\": \"#4D5663\"}, \"title\": {\"font\": {\"color\": \"#4D5663\"}, \"text\": \"\"}, \"zerolinecolor\": \"#E1E5ED\"}, \"xaxis2\": {\"anchor\": \"y2\", \"domain\": [0.2625, 0.475], \"gridcolor\": \"#E1E5ED\", \"showgrid\": false, \"tickfont\": {\"color\": \"#4D5663\"}, \"title\": {\"font\": {\"color\": \"#4D5663\"}, \"text\": \"\"}, \"zerolinecolor\": \"#E1E5ED\"}, \"xaxis3\": {\"anchor\": \"y3\", \"domain\": [0.525, 0.7375], \"gridcolor\": \"#E1E5ED\", \"showgrid\": false, \"tickfont\": {\"color\": \"#4D5663\"}, \"title\": {\"font\": {\"color\": \"#4D5663\"}, \"text\": \"\"}, \"zerolinecolor\": \"#E1E5ED\"}, \"xaxis4\": {\"anchor\": \"y4\", \"domain\": [0.7875, 1.0], \"gridcolor\": \"#E1E5ED\", \"showgrid\": false, \"tickfont\": {\"color\": \"#4D5663\"}, \"title\": {\"font\": {\"color\": \"#4D5663\"}, \"text\": \"\"}, \"zerolinecolor\": \"#E1E5ED\"}, \"xaxis5\": {\"anchor\": \"y5\", \"domain\": [0.0, 0.2125], \"gridcolor\": \"#E1E5ED\", \"showgrid\": false, \"tickfont\": {\"color\": \"#4D5663\"}, \"title\": {\"font\": {\"color\": \"#4D5663\"}, \"text\": \"\"}, \"zerolinecolor\": \"#E1E5ED\"}, \"xaxis6\": {\"anchor\": \"y6\", \"domain\": [0.2625, 0.475], \"gridcolor\": \"#E1E5ED\", \"showgrid\": false, \"tickfont\": {\"color\": \"#4D5663\"}, \"title\": {\"font\": {\"color\": \"#4D5663\"}, \"text\": \"\"}, \"zerolinecolor\": \"#E1E5ED\"}, \"xaxis7\": {\"anchor\": \"y7\", \"domain\": [0.525, 0.7375], \"gridcolor\": \"#E1E5ED\", \"showgrid\": false, \"tickfont\": {\"color\": \"#4D5663\"}, \"title\": {\"font\": {\"color\": \"#4D5663\"}, \"text\": \"\"}, \"zerolinecolor\": \"#E1E5ED\"}, \"xaxis8\": {\"anchor\": \"y8\", \"domain\": [0.7875, 1.0], \"gridcolor\": \"#E1E5ED\", \"showgrid\": false, \"tickfont\": {\"color\": \"#4D5663\"}, \"title\": {\"font\": {\"color\": \"#4D5663\"}, \"text\": \"\"}, \"zerolinecolor\": \"#E1E5ED\"}, \"xaxis9\": {\"anchor\": \"y9\", \"domain\": [0.0, 0.2125], \"gridcolor\": \"#E1E5ED\", \"showgrid\": false, \"tickfont\": {\"color\": \"#4D5663\"}, \"title\": {\"font\": {\"color\": \"#4D5663\"}, \"text\": \"\"}, \"zerolinecolor\": \"#E1E5ED\"}, \"yaxis\": {\"anchor\": \"x\", \"domain\": [0.8025, 1.0], \"gridcolor\": \"#E1E5ED\", \"showgrid\": false, \"tickfont\": {\"color\": \"#4D5663\"}, \"title\": {\"font\": {\"color\": \"#4D5663\"}, \"text\": \"\"}, \"zerolinecolor\": \"#E1E5ED\"}, \"yaxis10\": {\"anchor\": \"x10\", \"domain\": [0.2675, 0.465], \"gridcolor\": \"#E1E5ED\", \"showgrid\": false, \"tickfont\": {\"color\": \"#4D5663\"}, \"title\": {\"font\": {\"color\": \"#4D5663\"}, \"text\": \"\"}, \"zerolinecolor\": \"#E1E5ED\"}, \"yaxis11\": {\"anchor\": \"x11\", \"domain\": [0.2675, 0.465], \"gridcolor\": \"#E1E5ED\", \"showgrid\": false, \"tickfont\": {\"color\": \"#4D5663\"}, \"title\": {\"font\": {\"color\": \"#4D5663\"}, \"text\": \"\"}, \"zerolinecolor\": \"#E1E5ED\"}, \"yaxis12\": {\"anchor\": \"x12\", \"domain\": [0.2675, 0.465], \"gridcolor\": \"#E1E5ED\", \"showgrid\": false, \"tickfont\": {\"color\": \"#4D5663\"}, \"title\": {\"font\": {\"color\": \"#4D5663\"}, \"text\": \"\"}, \"zerolinecolor\": \"#E1E5ED\"}, \"yaxis13\": {\"anchor\": \"x13\", \"domain\": [0.0, 0.1975], \"gridcolor\": \"#E1E5ED\", \"showgrid\": false, \"tickfont\": {\"color\": \"#4D5663\"}, \"title\": {\"font\": {\"color\": \"#4D5663\"}, \"text\": \"\"}, \"zerolinecolor\": \"#E1E5ED\"}, \"yaxis14\": {\"anchor\": \"x14\", \"domain\": [0.0, 0.1975], \"gridcolor\": \"#E1E5ED\", \"showgrid\": false, \"tickfont\": {\"color\": \"#4D5663\"}, \"title\": {\"font\": {\"color\": \"#4D5663\"}, \"text\": \"\"}, \"zerolinecolor\": \"#E1E5ED\"}, \"yaxis15\": {\"anchor\": \"x15\", \"domain\": [0.0, 0.1975], \"gridcolor\": \"#E1E5ED\", \"showgrid\": false, \"tickfont\": {\"color\": \"#4D5663\"}, \"title\": {\"font\": {\"color\": \"#4D5663\"}, \"text\": \"\"}, \"zerolinecolor\": \"#E1E5ED\"}, \"yaxis16\": {\"anchor\": \"x16\", \"domain\": [0.0, 0.1975], \"gridcolor\": \"#E1E5ED\", \"showgrid\": false, \"tickfont\": {\"color\": \"#4D5663\"}, \"title\": {\"font\": {\"color\": \"#4D5663\"}, \"text\": \"\"}, \"zerolinecolor\": \"#E1E5ED\"}, \"yaxis2\": {\"anchor\": \"x2\", \"domain\": [0.8025, 1.0], \"gridcolor\": \"#E1E5ED\", \"showgrid\": false, \"tickfont\": {\"color\": \"#4D5663\"}, \"title\": {\"font\": {\"color\": \"#4D5663\"}, \"text\": \"\"}, \"zerolinecolor\": \"#E1E5ED\"}, \"yaxis3\": {\"anchor\": \"x3\", \"domain\": [0.8025, 1.0], \"gridcolor\": \"#E1E5ED\", \"showgrid\": false, \"tickfont\": {\"color\": \"#4D5663\"}, \"title\": {\"font\": {\"color\": \"#4D5663\"}, \"text\": \"\"}, \"zerolinecolor\": \"#E1E5ED\"}, \"yaxis4\": {\"anchor\": \"x4\", \"domain\": [0.8025, 1.0], \"gridcolor\": \"#E1E5ED\", \"showgrid\": false, \"tickfont\": {\"color\": \"#4D5663\"}, \"title\": {\"font\": {\"color\": \"#4D5663\"}, \"text\": \"\"}, \"zerolinecolor\": \"#E1E5ED\"}, \"yaxis5\": {\"anchor\": \"x5\", \"domain\": [0.535, 0.7325], \"gridcolor\": \"#E1E5ED\", \"showgrid\": false, \"tickfont\": {\"color\": \"#4D5663\"}, \"title\": {\"font\": {\"color\": \"#4D5663\"}, \"text\": \"\"}, \"zerolinecolor\": \"#E1E5ED\"}, \"yaxis6\": {\"anchor\": \"x6\", \"domain\": [0.535, 0.7325], \"gridcolor\": \"#E1E5ED\", \"showgrid\": false, \"tickfont\": {\"color\": \"#4D5663\"}, \"title\": {\"font\": {\"color\": \"#4D5663\"}, \"text\": \"\"}, \"zerolinecolor\": \"#E1E5ED\"}, \"yaxis7\": {\"anchor\": \"x7\", \"domain\": [0.535, 0.7325], \"gridcolor\": \"#E1E5ED\", \"showgrid\": false, \"tickfont\": {\"color\": \"#4D5663\"}, \"title\": {\"font\": {\"color\": \"#4D5663\"}, \"text\": \"\"}, \"zerolinecolor\": \"#E1E5ED\"}, \"yaxis8\": {\"anchor\": \"x8\", \"domain\": [0.535, 0.7325], \"gridcolor\": \"#E1E5ED\", \"showgrid\": false, \"tickfont\": {\"color\": \"#4D5663\"}, \"title\": {\"font\": {\"color\": \"#4D5663\"}, \"text\": \"\"}, \"zerolinecolor\": \"#E1E5ED\"}, \"yaxis9\": {\"anchor\": \"x9\", \"domain\": [0.2675, 0.465], \"gridcolor\": \"#E1E5ED\", \"showgrid\": false, \"tickfont\": {\"color\": \"#4D5663\"}, \"title\": {\"font\": {\"color\": \"#4D5663\"}, \"text\": \"\"}, \"zerolinecolor\": \"#E1E5ED\"}},\n",
       "                        {\"showLink\": true, \"linkText\": \"Export to plot.ly\", \"plotlyServerURL\": \"https://plot.ly\", \"responsive\": true}\n",
       "                    ).then(function(){\n",
       "                            \n",
       "var gd = document.getElementById('7561c2fe-d237-4e7a-827e-cf128dcbb39a');\n",
       "var x = new MutationObserver(function (mutations, observer) {{\n",
       "        var display = window.getComputedStyle(gd).display;\n",
       "        if (!display || display === 'none') {{\n",
       "            console.log([gd, 'removed!']);\n",
       "            Plotly.purge(gd);\n",
       "            observer.disconnect();\n",
       "        }}\n",
       "}});\n",
       "\n",
       "// Listen for the removal of the full notebook cells\n",
       "var notebookContainer = gd.closest('#notebook-container');\n",
       "if (notebookContainer) {{\n",
       "    x.observe(notebookContainer, {childList: true});\n",
       "}}\n",
       "\n",
       "// Listen for the clearing of the current output cell\n",
       "var outputEl = gd.closest('.output');\n",
       "if (outputEl) {{\n",
       "    x.observe(outputEl, {childList: true});\n",
       "}}\n",
       "\n",
       "                        })\n",
       "                };\n",
       "                });\n",
       "            </script>\n",
       "        </div>"
      ]
     },
     "metadata": {},
     "output_type": "display_data"
    }
   ],
   "source": [
    "df1.scatter_matrix()"
   ]
  },
  {
   "cell_type": "code",
   "execution_count": 38,
   "metadata": {},
   "outputs": [],
   "source": [
    "# Plotly and Cufflinks Project has finished"
   ]
  },
  {
   "cell_type": "code",
   "execution_count": null,
   "metadata": {},
   "outputs": [],
   "source": [
    "# FINISH"
   ]
  }
 ],
 "metadata": {
  "kernelspec": {
   "display_name": "Python 3",
   "language": "python",
   "name": "python3"
  },
  "language_info": {
   "codemirror_mode": {
    "name": "ipython",
    "version": 3
   },
   "file_extension": ".py",
   "mimetype": "text/x-python",
   "name": "python",
   "nbconvert_exporter": "python",
   "pygments_lexer": "ipython3",
   "version": "3.7.6"
  }
 },
 "nbformat": 4,
 "nbformat_minor": 4
}
